{
 "cells": [
  {
   "cell_type": "markdown",
   "id": "17594e81",
   "metadata": {},
   "source": [
    "# Advanced Dataframes"
   ]
  },
  {
   "cell_type": "markdown",
   "id": "a2bb8dc1",
   "metadata": {},
   "source": [
    "## Part 2 - Manipulate the dataframes\n",
    "- subsetting\n",
    "- indexing\n",
    "- aggregrating\n",
    "- combining dfs"
   ]
  },
  {
   "cell_type": "code",
   "execution_count": 1,
   "id": "d9018932",
   "metadata": {},
   "outputs": [],
   "source": [
    "import pandas as pd\n",
    "import numpy as np\n",
    "\n",
    "np.random.seed(1349)"
   ]
  },
  {
   "cell_type": "code",
   "execution_count": 2,
   "id": "e5d2d378",
   "metadata": {},
   "outputs": [
    {
     "data": {
      "text/html": [
       "<div>\n",
       "<style scoped>\n",
       "    .dataframe tbody tr th:only-of-type {\n",
       "        vertical-align: middle;\n",
       "    }\n",
       "\n",
       "    .dataframe tbody tr th {\n",
       "        vertical-align: top;\n",
       "    }\n",
       "\n",
       "    .dataframe thead th {\n",
       "        text-align: right;\n",
       "    }\n",
       "</style>\n",
       "<table border=\"1\" class=\"dataframe\">\n",
       "  <thead>\n",
       "    <tr style=\"text-align: right;\">\n",
       "      <th></th>\n",
       "      <th>name</th>\n",
       "      <th>math</th>\n",
       "      <th>reading</th>\n",
       "      <th>english</th>\n",
       "      <th>room</th>\n",
       "    </tr>\n",
       "  </thead>\n",
       "  <tbody>\n",
       "    <tr>\n",
       "      <th>0</th>\n",
       "      <td>Sally</td>\n",
       "      <td>78</td>\n",
       "      <td>73</td>\n",
       "      <td>84</td>\n",
       "      <td>B</td>\n",
       "    </tr>\n",
       "    <tr>\n",
       "      <th>1</th>\n",
       "      <td>Jane</td>\n",
       "      <td>77</td>\n",
       "      <td>98</td>\n",
       "      <td>79</td>\n",
       "      <td>B</td>\n",
       "    </tr>\n",
       "    <tr>\n",
       "      <th>2</th>\n",
       "      <td>Suzie</td>\n",
       "      <td>96</td>\n",
       "      <td>91</td>\n",
       "      <td>91</td>\n",
       "      <td>A</td>\n",
       "    </tr>\n",
       "    <tr>\n",
       "      <th>3</th>\n",
       "      <td>Billy</td>\n",
       "      <td>62</td>\n",
       "      <td>72</td>\n",
       "      <td>88</td>\n",
       "      <td>B</td>\n",
       "    </tr>\n",
       "    <tr>\n",
       "      <th>4</th>\n",
       "      <td>Ada</td>\n",
       "      <td>98</td>\n",
       "      <td>92</td>\n",
       "      <td>88</td>\n",
       "      <td>B</td>\n",
       "    </tr>\n",
       "    <tr>\n",
       "      <th>5</th>\n",
       "      <td>John</td>\n",
       "      <td>95</td>\n",
       "      <td>64</td>\n",
       "      <td>73</td>\n",
       "      <td>A</td>\n",
       "    </tr>\n",
       "    <tr>\n",
       "      <th>6</th>\n",
       "      <td>Thomas</td>\n",
       "      <td>87</td>\n",
       "      <td>82</td>\n",
       "      <td>80</td>\n",
       "      <td>A</td>\n",
       "    </tr>\n",
       "    <tr>\n",
       "      <th>7</th>\n",
       "      <td>Marie</td>\n",
       "      <td>99</td>\n",
       "      <td>94</td>\n",
       "      <td>85</td>\n",
       "      <td>A</td>\n",
       "    </tr>\n",
       "    <tr>\n",
       "      <th>8</th>\n",
       "      <td>Albert</td>\n",
       "      <td>91</td>\n",
       "      <td>87</td>\n",
       "      <td>77</td>\n",
       "      <td>B</td>\n",
       "    </tr>\n",
       "    <tr>\n",
       "      <th>9</th>\n",
       "      <td>Richard</td>\n",
       "      <td>84</td>\n",
       "      <td>94</td>\n",
       "      <td>61</td>\n",
       "      <td>A</td>\n",
       "    </tr>\n",
       "    <tr>\n",
       "      <th>10</th>\n",
       "      <td>Isaac</td>\n",
       "      <td>77</td>\n",
       "      <td>93</td>\n",
       "      <td>91</td>\n",
       "      <td>A</td>\n",
       "    </tr>\n",
       "    <tr>\n",
       "      <th>11</th>\n",
       "      <td>Alan</td>\n",
       "      <td>83</td>\n",
       "      <td>60</td>\n",
       "      <td>87</td>\n",
       "      <td>B</td>\n",
       "    </tr>\n",
       "  </tbody>\n",
       "</table>\n",
       "</div>"
      ],
      "text/plain": [
       "       name  math  reading  english room\n",
       "0     Sally    78       73       84    B\n",
       "1      Jane    77       98       79    B\n",
       "2     Suzie    96       91       91    A\n",
       "3     Billy    62       72       88    B\n",
       "4       Ada    98       92       88    B\n",
       "5      John    95       64       73    A\n",
       "6    Thomas    87       82       80    A\n",
       "7     Marie    99       94       85    A\n",
       "8    Albert    91       87       77    B\n",
       "9   Richard    84       94       61    A\n",
       "10    Isaac    77       93       91    A\n",
       "11     Alan    83       60       87    B"
      ]
     },
     "execution_count": 2,
     "metadata": {},
     "output_type": "execute_result"
    }
   ],
   "source": [
    "# Create list of values for names column.\n",
    "students = ['Sally', \n",
    "            'Jane', \n",
    "            'Suzie', \n",
    "            'Billy', \n",
    "            'Ada', \n",
    "            'John', \n",
    "            'Thomas',\n",
    "            'Marie', \n",
    "            'Albert', \n",
    "            'Richard', \n",
    "            'Isaac', \n",
    "            'Alan']\n",
    "# Randomly generate arrays of scores for each student for each subject.\n",
    "# Note that all the values need to have the same length here.\n",
    "math_grades = np.random.randint(low=60, high=100, size=len(students))\n",
    "english_grades = np.random.randint(low=60, high=100, size=len(students))\n",
    "reading_grades = np.random.randint(low=60, high=100, size=len(students))\n",
    "\n",
    "# Randomly generate if a student is in classroom A or classroom B\n",
    "classroom = np.random.choice(['A', 'B'], len(students))\n",
    "\n",
    "df = pd.DataFrame({'name':students,\n",
    "                   'math':math_grades,\n",
    "                   'reading':reading_grades,\n",
    "                   'english':english_grades,\n",
    "                   'room':classroom})\n",
    "df"
   ]
  },
  {
   "cell_type": "markdown",
   "id": "d02b6513",
   "metadata": {},
   "source": [
    "### Subsetting"
   ]
  },
  {
   "cell_type": "markdown",
   "id": "36ad7e5e",
   "metadata": {},
   "source": [
    "Aka pull back a subset of the dataframe "
   ]
  },
  {
   "cell_type": "markdown",
   "id": "dc1e3753",
   "metadata": {},
   "source": [
    "#### pull back one column"
   ]
  },
  {
   "cell_type": "code",
   "execution_count": 3,
   "id": "82b6e609-d597-46f8-addb-80081c7d9a51",
   "metadata": {},
   "outputs": [
    {
     "data": {
      "text/plain": [
       "0     84\n",
       "1     79\n",
       "2     91\n",
       "3     88\n",
       "4     88\n",
       "5     73\n",
       "6     80\n",
       "7     85\n",
       "8     77\n",
       "9     61\n",
       "10    91\n",
       "11    87\n",
       "Name: english, dtype: int64"
      ]
     },
     "execution_count": 3,
     "metadata": {},
     "output_type": "execute_result"
    }
   ],
   "source": [
    "# basic single bracket notation:\n",
    "# returns back to us from the df dataframe,\n",
    "# a single Series object\n",
    "df['english']"
   ]
  },
  {
   "cell_type": "markdown",
   "id": "91f1197e",
   "metadata": {
    "tags": []
   },
   "source": [
    "#### pull back TWO columns"
   ]
  },
  {
   "cell_type": "code",
   "execution_count": 4,
   "id": "982dfed1-af44-42df-9d35-e3f0f6bb33a2",
   "metadata": {},
   "outputs": [
    {
     "data": {
      "text/html": [
       "<div>\n",
       "<style scoped>\n",
       "    .dataframe tbody tr th:only-of-type {\n",
       "        vertical-align: middle;\n",
       "    }\n",
       "\n",
       "    .dataframe tbody tr th {\n",
       "        vertical-align: top;\n",
       "    }\n",
       "\n",
       "    .dataframe thead th {\n",
       "        text-align: right;\n",
       "    }\n",
       "</style>\n",
       "<table border=\"1\" class=\"dataframe\">\n",
       "  <thead>\n",
       "    <tr style=\"text-align: right;\">\n",
       "      <th></th>\n",
       "      <th>english</th>\n",
       "      <th>reading</th>\n",
       "    </tr>\n",
       "  </thead>\n",
       "  <tbody>\n",
       "    <tr>\n",
       "      <th>0</th>\n",
       "      <td>84</td>\n",
       "      <td>73</td>\n",
       "    </tr>\n",
       "    <tr>\n",
       "      <th>1</th>\n",
       "      <td>79</td>\n",
       "      <td>98</td>\n",
       "    </tr>\n",
       "    <tr>\n",
       "      <th>2</th>\n",
       "      <td>91</td>\n",
       "      <td>91</td>\n",
       "    </tr>\n",
       "    <tr>\n",
       "      <th>3</th>\n",
       "      <td>88</td>\n",
       "      <td>72</td>\n",
       "    </tr>\n",
       "    <tr>\n",
       "      <th>4</th>\n",
       "      <td>88</td>\n",
       "      <td>92</td>\n",
       "    </tr>\n",
       "    <tr>\n",
       "      <th>5</th>\n",
       "      <td>73</td>\n",
       "      <td>64</td>\n",
       "    </tr>\n",
       "    <tr>\n",
       "      <th>6</th>\n",
       "      <td>80</td>\n",
       "      <td>82</td>\n",
       "    </tr>\n",
       "    <tr>\n",
       "      <th>7</th>\n",
       "      <td>85</td>\n",
       "      <td>94</td>\n",
       "    </tr>\n",
       "    <tr>\n",
       "      <th>8</th>\n",
       "      <td>77</td>\n",
       "      <td>87</td>\n",
       "    </tr>\n",
       "    <tr>\n",
       "      <th>9</th>\n",
       "      <td>61</td>\n",
       "      <td>94</td>\n",
       "    </tr>\n",
       "    <tr>\n",
       "      <th>10</th>\n",
       "      <td>91</td>\n",
       "      <td>93</td>\n",
       "    </tr>\n",
       "    <tr>\n",
       "      <th>11</th>\n",
       "      <td>87</td>\n",
       "      <td>60</td>\n",
       "    </tr>\n",
       "  </tbody>\n",
       "</table>\n",
       "</div>"
      ],
      "text/plain": [
       "    english  reading\n",
       "0        84       73\n",
       "1        79       98\n",
       "2        91       91\n",
       "3        88       72\n",
       "4        88       92\n",
       "5        73       64\n",
       "6        80       82\n",
       "7        85       94\n",
       "8        77       87\n",
       "9        61       94\n",
       "10       91       93\n",
       "11       87       60"
      ]
     },
     "execution_count": 4,
     "metadata": {},
     "output_type": "execute_result"
    }
   ],
   "source": [
    "# two columns,\n",
    "# same bracket notation,\n",
    "# but we pass a list\n",
    "df[['english', 'reading']] # returns a DataFrame"
   ]
  },
  {
   "cell_type": "markdown",
   "id": "9ab6fc33",
   "metadata": {},
   "source": [
    "#### What's the difference between the two following outputs?"
   ]
  },
  {
   "cell_type": "code",
   "execution_count": 7,
   "id": "e6c28eb6-9d9e-41ff-b4d0-131946faf0cd",
   "metadata": {},
   "outputs": [
    {
     "data": {
      "text/html": [
       "<div>\n",
       "<style scoped>\n",
       "    .dataframe tbody tr th:only-of-type {\n",
       "        vertical-align: middle;\n",
       "    }\n",
       "\n",
       "    .dataframe tbody tr th {\n",
       "        vertical-align: top;\n",
       "    }\n",
       "\n",
       "    .dataframe thead th {\n",
       "        text-align: right;\n",
       "    }\n",
       "</style>\n",
       "<table border=\"1\" class=\"dataframe\">\n",
       "  <thead>\n",
       "    <tr style=\"text-align: right;\">\n",
       "      <th></th>\n",
       "      <th>english</th>\n",
       "    </tr>\n",
       "  </thead>\n",
       "  <tbody>\n",
       "    <tr>\n",
       "      <th>0</th>\n",
       "      <td>84</td>\n",
       "    </tr>\n",
       "    <tr>\n",
       "      <th>1</th>\n",
       "      <td>79</td>\n",
       "    </tr>\n",
       "  </tbody>\n",
       "</table>\n",
       "</div>"
      ],
      "text/plain": [
       "   english\n",
       "0       84\n",
       "1       79"
      ]
     },
     "execution_count": 7,
     "metadata": {},
     "output_type": "execute_result"
    }
   ],
   "source": [
    "df[['english']].head(2)"
   ]
  },
  {
   "cell_type": "code",
   "execution_count": 6,
   "id": "512e3c3c-76cd-46bc-8096-e1d3a50efbdc",
   "metadata": {},
   "outputs": [
    {
     "data": {
      "text/plain": [
       "0    84\n",
       "1    79\n",
       "Name: english, dtype: int64"
      ]
     },
     "execution_count": 6,
     "metadata": {},
     "output_type": "execute_result"
    }
   ],
   "source": [
    "df['english'].head(2)"
   ]
  },
  {
   "cell_type": "markdown",
   "id": "6cd1e18e",
   "metadata": {},
   "source": [
    "### Subsetting using boolean masking"
   ]
  },
  {
   "cell_type": "markdown",
   "id": "5b54920a",
   "metadata": {},
   "source": [
    "we love boolean masking! \n",
    "\n",
    "1. select SINGLE column to perform conditional statment\n",
    "2. perform conditional statement (should result in series of booleans!)\n",
    "3. save mask\n",
    "4. apply back to dataframe"
   ]
  },
  {
   "cell_type": "markdown",
   "id": "6bb110a4",
   "metadata": {
    "tags": []
   },
   "source": [
    "#### pull back a subset of the dataframe with everyone in room B\n",
    "\n",
    "1. select room column\n",
    "2. find all rooms that are B\n",
    "3. mask = all rooms that are B\n",
    "4. df [mask]"
   ]
  },
  {
   "cell_type": "code",
   "execution_count": 9,
   "id": "2b32b6f7-f053-4698-8293-680ffa8c68ea",
   "metadata": {},
   "outputs": [
    {
     "data": {
      "text/plain": [
       "Index(['name', 'math', 'reading', 'english', 'room'], dtype='object')"
      ]
     },
     "execution_count": 9,
     "metadata": {},
     "output_type": "execute_result"
    }
   ],
   "source": [
    "df.columns"
   ]
  },
  {
   "cell_type": "code",
   "execution_count": 11,
   "id": "f28c9b4c-2397-4b23-9d1c-4fbb48430b96",
   "metadata": {},
   "outputs": [],
   "source": [
    "# series of bools: df.room == 'B'"
   ]
  },
  {
   "cell_type": "code",
   "execution_count": 12,
   "id": "0eda363b-4d94-424a-bf77-b4b486e5fb78",
   "metadata": {},
   "outputs": [],
   "source": [
    "# df where all rooms are b\n",
    "mask = (df.room == 'B')"
   ]
  },
  {
   "cell_type": "code",
   "execution_count": 14,
   "id": "039cbfa6-58cc-46e4-9d4d-4fef98efa97e",
   "metadata": {},
   "outputs": [
    {
     "data": {
      "text/html": [
       "<div>\n",
       "<style scoped>\n",
       "    .dataframe tbody tr th:only-of-type {\n",
       "        vertical-align: middle;\n",
       "    }\n",
       "\n",
       "    .dataframe tbody tr th {\n",
       "        vertical-align: top;\n",
       "    }\n",
       "\n",
       "    .dataframe thead th {\n",
       "        text-align: right;\n",
       "    }\n",
       "</style>\n",
       "<table border=\"1\" class=\"dataframe\">\n",
       "  <thead>\n",
       "    <tr style=\"text-align: right;\">\n",
       "      <th></th>\n",
       "      <th>math</th>\n",
       "      <th>reading</th>\n",
       "      <th>english</th>\n",
       "    </tr>\n",
       "  </thead>\n",
       "  <tbody>\n",
       "    <tr>\n",
       "      <th>count</th>\n",
       "      <td>6.000000</td>\n",
       "      <td>6.000000</td>\n",
       "      <td>6.000000</td>\n",
       "    </tr>\n",
       "    <tr>\n",
       "      <th>mean</th>\n",
       "      <td>81.500000</td>\n",
       "      <td>80.333333</td>\n",
       "      <td>83.833333</td>\n",
       "    </tr>\n",
       "    <tr>\n",
       "      <th>std</th>\n",
       "      <td>12.469964</td>\n",
       "      <td>14.348054</td>\n",
       "      <td>4.792355</td>\n",
       "    </tr>\n",
       "    <tr>\n",
       "      <th>min</th>\n",
       "      <td>62.000000</td>\n",
       "      <td>60.000000</td>\n",
       "      <td>77.000000</td>\n",
       "    </tr>\n",
       "    <tr>\n",
       "      <th>25%</th>\n",
       "      <td>77.250000</td>\n",
       "      <td>72.250000</td>\n",
       "      <td>80.250000</td>\n",
       "    </tr>\n",
       "    <tr>\n",
       "      <th>50%</th>\n",
       "      <td>80.500000</td>\n",
       "      <td>80.000000</td>\n",
       "      <td>85.500000</td>\n",
       "    </tr>\n",
       "    <tr>\n",
       "      <th>75%</th>\n",
       "      <td>89.000000</td>\n",
       "      <td>90.750000</td>\n",
       "      <td>87.750000</td>\n",
       "    </tr>\n",
       "    <tr>\n",
       "      <th>max</th>\n",
       "      <td>98.000000</td>\n",
       "      <td>98.000000</td>\n",
       "      <td>88.000000</td>\n",
       "    </tr>\n",
       "  </tbody>\n",
       "</table>\n",
       "</div>"
      ],
      "text/plain": [
       "            math    reading    english\n",
       "count   6.000000   6.000000   6.000000\n",
       "mean   81.500000  80.333333  83.833333\n",
       "std    12.469964  14.348054   4.792355\n",
       "min    62.000000  60.000000  77.000000\n",
       "25%    77.250000  72.250000  80.250000\n",
       "50%    80.500000  80.000000  85.500000\n",
       "75%    89.000000  90.750000  87.750000\n",
       "max    98.000000  98.000000  88.000000"
      ]
     },
     "execution_count": 14,
     "metadata": {},
     "output_type": "execute_result"
    }
   ],
   "source": [
    "df[mask].describe()"
   ]
  },
  {
   "cell_type": "markdown",
   "id": "cb8fd229",
   "metadata": {},
   "source": [
    "#### pull back a subset of the dataframe with everyone who is passing math"
   ]
  },
  {
   "cell_type": "markdown",
   "id": "d8cb236b",
   "metadata": {},
   "source": [
    "### using `np.where`"
   ]
  },
  {
   "cell_type": "markdown",
   "id": "af72258f",
   "metadata": {},
   "source": [
    "Return an array based on a condition\n",
    "- format: `np.where(condition, output_if_TRUE, output_if_FALSE)`"
   ]
  },
  {
   "cell_type": "markdown",
   "id": "f6b13415",
   "metadata": {},
   "source": [
    "#### pull back a subset of the dataframe with everyone who is passing math using `np.where`\n",
    "1. create array using condition\n",
    "2. attach array to df as column\n",
    "3. filter on new column"
   ]
  },
  {
   "cell_type": "code",
   "execution_count": 15,
   "id": "c06894d5-8023-491a-b456-8a5380c00c5e",
   "metadata": {},
   "outputs": [],
   "source": [
    "passing_english = df.english > 70"
   ]
  },
  {
   "cell_type": "code",
   "execution_count": 17,
   "id": "20e66ea3-023e-4e3e-8426-7cfdcbe3e577",
   "metadata": {},
   "outputs": [],
   "source": [
    "# what if we want passing_english to have a label?"
   ]
  },
  {
   "cell_type": "code",
   "execution_count": 18,
   "id": "9f6e9381",
   "metadata": {},
   "outputs": [
    {
     "data": {
      "text/plain": [
       "array(['passing', 'passing', 'passing', 'passing', 'passing', 'passing',\n",
       "       'passing', 'passing', 'passing', 'failing', 'passing', 'passing'],\n",
       "      dtype='<U7')"
      ]
     },
     "execution_count": 18,
     "metadata": {},
     "output_type": "execute_result"
    }
   ],
   "source": [
    "# create array based on condition\n",
    "# np.where(condition, output_if_TRUE, output_if_FALSE)\n",
    "np.where(df.english > 70,\n",
    "         'passing',\n",
    "         'failing')"
   ]
  },
  {
   "cell_type": "code",
   "execution_count": 19,
   "id": "037e27e1",
   "metadata": {},
   "outputs": [],
   "source": [
    "#attach to df\n",
    "passing_english = np.where(df.english > 70,\n",
    "         'passing',\n",
    "         'failing')"
   ]
  },
  {
   "cell_type": "code",
   "execution_count": 20,
   "id": "7c7c4da8",
   "metadata": {},
   "outputs": [],
   "source": [
    "df = df.assign(english_status = passing_english)"
   ]
  },
  {
   "cell_type": "code",
   "execution_count": 23,
   "id": "e6bbe7bb-edcd-42be-93e3-46a648191d00",
   "metadata": {},
   "outputs": [],
   "source": [
    "df['passing_math'] = np.where(\n",
    "    df['math'] > 70,\n",
    "    'passing',\n",
    "    'failing')"
   ]
  },
  {
   "cell_type": "code",
   "execution_count": 25,
   "id": "3ce321b0-6188-437e-9738-7d7034f3b684",
   "metadata": {},
   "outputs": [
    {
     "data": {
      "text/plain": [
       "(array([0]),)"
      ]
     },
     "execution_count": 25,
     "metadata": {},
     "output_type": "execute_result"
    }
   ],
   "source": [
    "# make sure the condition you pass is a truth series output!\n",
    "np.where(df['room'].max())"
   ]
  },
  {
   "cell_type": "code",
   "execution_count": 28,
   "id": "c0142a98-5e93-4fef-b404-60a183348425",
   "metadata": {},
   "outputs": [],
   "source": [
    "# df['room'] == df['room'].max()"
   ]
  },
  {
   "cell_type": "code",
   "execution_count": 22,
   "id": "79631a59",
   "metadata": {},
   "outputs": [
    {
     "data": {
      "text/html": [
       "<div>\n",
       "<style scoped>\n",
       "    .dataframe tbody tr th:only-of-type {\n",
       "        vertical-align: middle;\n",
       "    }\n",
       "\n",
       "    .dataframe tbody tr th {\n",
       "        vertical-align: top;\n",
       "    }\n",
       "\n",
       "    .dataframe thead th {\n",
       "        text-align: right;\n",
       "    }\n",
       "</style>\n",
       "<table border=\"1\" class=\"dataframe\">\n",
       "  <thead>\n",
       "    <tr style=\"text-align: right;\">\n",
       "      <th></th>\n",
       "      <th>name</th>\n",
       "      <th>math</th>\n",
       "      <th>reading</th>\n",
       "      <th>english</th>\n",
       "      <th>room</th>\n",
       "      <th>english_status</th>\n",
       "    </tr>\n",
       "  </thead>\n",
       "  <tbody>\n",
       "    <tr>\n",
       "      <th>0</th>\n",
       "      <td>Sally</td>\n",
       "      <td>78</td>\n",
       "      <td>73</td>\n",
       "      <td>84</td>\n",
       "      <td>B</td>\n",
       "      <td>passing</td>\n",
       "    </tr>\n",
       "    <tr>\n",
       "      <th>1</th>\n",
       "      <td>Jane</td>\n",
       "      <td>77</td>\n",
       "      <td>98</td>\n",
       "      <td>79</td>\n",
       "      <td>B</td>\n",
       "      <td>passing</td>\n",
       "    </tr>\n",
       "    <tr>\n",
       "      <th>2</th>\n",
       "      <td>Suzie</td>\n",
       "      <td>96</td>\n",
       "      <td>91</td>\n",
       "      <td>91</td>\n",
       "      <td>A</td>\n",
       "      <td>passing</td>\n",
       "    </tr>\n",
       "    <tr>\n",
       "      <th>3</th>\n",
       "      <td>Billy</td>\n",
       "      <td>62</td>\n",
       "      <td>72</td>\n",
       "      <td>88</td>\n",
       "      <td>B</td>\n",
       "      <td>passing</td>\n",
       "    </tr>\n",
       "    <tr>\n",
       "      <th>4</th>\n",
       "      <td>Ada</td>\n",
       "      <td>98</td>\n",
       "      <td>92</td>\n",
       "      <td>88</td>\n",
       "      <td>B</td>\n",
       "      <td>passing</td>\n",
       "    </tr>\n",
       "    <tr>\n",
       "      <th>5</th>\n",
       "      <td>John</td>\n",
       "      <td>95</td>\n",
       "      <td>64</td>\n",
       "      <td>73</td>\n",
       "      <td>A</td>\n",
       "      <td>passing</td>\n",
       "    </tr>\n",
       "    <tr>\n",
       "      <th>6</th>\n",
       "      <td>Thomas</td>\n",
       "      <td>87</td>\n",
       "      <td>82</td>\n",
       "      <td>80</td>\n",
       "      <td>A</td>\n",
       "      <td>passing</td>\n",
       "    </tr>\n",
       "    <tr>\n",
       "      <th>7</th>\n",
       "      <td>Marie</td>\n",
       "      <td>99</td>\n",
       "      <td>94</td>\n",
       "      <td>85</td>\n",
       "      <td>A</td>\n",
       "      <td>passing</td>\n",
       "    </tr>\n",
       "    <tr>\n",
       "      <th>8</th>\n",
       "      <td>Albert</td>\n",
       "      <td>91</td>\n",
       "      <td>87</td>\n",
       "      <td>77</td>\n",
       "      <td>B</td>\n",
       "      <td>passing</td>\n",
       "    </tr>\n",
       "    <tr>\n",
       "      <th>10</th>\n",
       "      <td>Isaac</td>\n",
       "      <td>77</td>\n",
       "      <td>93</td>\n",
       "      <td>91</td>\n",
       "      <td>A</td>\n",
       "      <td>passing</td>\n",
       "    </tr>\n",
       "    <tr>\n",
       "      <th>11</th>\n",
       "      <td>Alan</td>\n",
       "      <td>83</td>\n",
       "      <td>60</td>\n",
       "      <td>87</td>\n",
       "      <td>B</td>\n",
       "      <td>passing</td>\n",
       "    </tr>\n",
       "  </tbody>\n",
       "</table>\n",
       "</div>"
      ],
      "text/plain": [
       "      name  math  reading  english room english_status\n",
       "0    Sally    78       73       84    B        passing\n",
       "1     Jane    77       98       79    B        passing\n",
       "2    Suzie    96       91       91    A        passing\n",
       "3    Billy    62       72       88    B        passing\n",
       "4      Ada    98       92       88    B        passing\n",
       "5     John    95       64       73    A        passing\n",
       "6   Thomas    87       82       80    A        passing\n",
       "7    Marie    99       94       85    A        passing\n",
       "8   Albert    91       87       77    B        passing\n",
       "10   Isaac    77       93       91    A        passing\n",
       "11    Alan    83       60       87    B        passing"
      ]
     },
     "execution_count": 22,
     "metadata": {},
     "output_type": "execute_result"
    }
   ],
   "source": [
    "#filter on new column\n",
    "df[df.english_status == 'passing']"
   ]
  },
  {
   "cell_type": "markdown",
   "id": "fce811f1",
   "metadata": {},
   "source": [
    "## Drop passing math column"
   ]
  },
  {
   "cell_type": "code",
   "execution_count": 30,
   "id": "5f9d03a5-2e8d-4936-ae9a-b0a9a21416a0",
   "metadata": {},
   "outputs": [
    {
     "data": {
      "text/plain": [
       "Index(['name', 'math', 'reading', 'english', 'room', 'english_status',\n",
       "       'passing_math'],\n",
       "      dtype='object')"
      ]
     },
     "execution_count": 30,
     "metadata": {},
     "output_type": "execute_result"
    }
   ],
   "source": [
    "df.columns"
   ]
  },
  {
   "cell_type": "code",
   "execution_count": 31,
   "id": "c418e7db-fb48-4752-8de3-86fa7bcdc6d2",
   "metadata": {},
   "outputs": [],
   "source": [
    "df = df.drop(columns=['passing_math', 'english_status'])"
   ]
  },
  {
   "cell_type": "markdown",
   "id": "5a38c628",
   "metadata": {},
   "source": [
    "## Indexing"
   ]
  },
  {
   "cell_type": "markdown",
   "id": "9cdb09bd",
   "metadata": {},
   "source": [
    "Pull back a subset of the dataframe using indexing"
   ]
  },
  {
   "cell_type": "markdown",
   "id": "fc268628",
   "metadata": {},
   "source": [
    "### Indexing using .loc\n",
    "\n",
    "Using the **NAME** of the index and columns, pull back subset\n",
    "\n",
    "- format: `df.loc[row_indexer_NAME, column_indexer_NAME]`"
   ]
  },
  {
   "cell_type": "markdown",
   "id": "0167ac14",
   "metadata": {},
   "source": [
    "#### pull back row with index named `1` and column named `math`"
   ]
  },
  {
   "cell_type": "code",
   "execution_count": 32,
   "id": "255c198e-80ce-4212-bddf-cf7478589f4d",
   "metadata": {},
   "outputs": [
    {
     "data": {
      "text/html": [
       "<div>\n",
       "<style scoped>\n",
       "    .dataframe tbody tr th:only-of-type {\n",
       "        vertical-align: middle;\n",
       "    }\n",
       "\n",
       "    .dataframe tbody tr th {\n",
       "        vertical-align: top;\n",
       "    }\n",
       "\n",
       "    .dataframe thead th {\n",
       "        text-align: right;\n",
       "    }\n",
       "</style>\n",
       "<table border=\"1\" class=\"dataframe\">\n",
       "  <thead>\n",
       "    <tr style=\"text-align: right;\">\n",
       "      <th></th>\n",
       "      <th>name</th>\n",
       "      <th>math</th>\n",
       "      <th>reading</th>\n",
       "      <th>english</th>\n",
       "      <th>room</th>\n",
       "    </tr>\n",
       "  </thead>\n",
       "  <tbody>\n",
       "    <tr>\n",
       "      <th>0</th>\n",
       "      <td>Sally</td>\n",
       "      <td>78</td>\n",
       "      <td>73</td>\n",
       "      <td>84</td>\n",
       "      <td>B</td>\n",
       "    </tr>\n",
       "  </tbody>\n",
       "</table>\n",
       "</div>"
      ],
      "text/plain": [
       "    name  math  reading  english room\n",
       "0  Sally    78       73       84    B"
      ]
     },
     "execution_count": 32,
     "metadata": {},
     "output_type": "execute_result"
    }
   ],
   "source": [
    "df.head(1)"
   ]
  },
  {
   "cell_type": "code",
   "execution_count": 35,
   "id": "aa13c391-e514-4f93-bd19-30dcedee3bd8",
   "metadata": {},
   "outputs": [],
   "source": [
    "# df.loc will take in two things:\n",
    "# row, column\n",
    "# it is inclusive of both!!!\n",
    "# the last element is included and not exclusive\n",
    "# like basically all other python indexing\n",
    "df.loc[1:4,'reading':'english']"
   ]
  },
  {
   "cell_type": "code",
   "execution_count": null,
   "id": "88488983",
   "metadata": {},
   "outputs": [],
   "source": [
    "#[row,column]"
   ]
  },
  {
   "cell_type": "code",
   "execution_count": 39,
   "id": "eadcd00b-51b1-4c26-9bda-d7de5cac202b",
   "metadata": {},
   "outputs": [
    {
     "data": {
      "text/html": [
       "<div>\n",
       "<style scoped>\n",
       "    .dataframe tbody tr th:only-of-type {\n",
       "        vertical-align: middle;\n",
       "    }\n",
       "\n",
       "    .dataframe tbody tr th {\n",
       "        vertical-align: top;\n",
       "    }\n",
       "\n",
       "    .dataframe thead th {\n",
       "        text-align: right;\n",
       "    }\n",
       "</style>\n",
       "<table border=\"1\" class=\"dataframe\">\n",
       "  <thead>\n",
       "    <tr style=\"text-align: right;\">\n",
       "      <th></th>\n",
       "    </tr>\n",
       "  </thead>\n",
       "  <tbody>\n",
       "    <tr>\n",
       "      <th>0</th>\n",
       "    </tr>\n",
       "    <tr>\n",
       "      <th>1</th>\n",
       "    </tr>\n",
       "    <tr>\n",
       "      <th>2</th>\n",
       "    </tr>\n",
       "    <tr>\n",
       "      <th>3</th>\n",
       "    </tr>\n",
       "    <tr>\n",
       "      <th>4</th>\n",
       "    </tr>\n",
       "    <tr>\n",
       "      <th>5</th>\n",
       "    </tr>\n",
       "    <tr>\n",
       "      <th>6</th>\n",
       "    </tr>\n",
       "    <tr>\n",
       "      <th>7</th>\n",
       "    </tr>\n",
       "    <tr>\n",
       "      <th>8</th>\n",
       "    </tr>\n",
       "    <tr>\n",
       "      <th>9</th>\n",
       "    </tr>\n",
       "    <tr>\n",
       "      <th>10</th>\n",
       "    </tr>\n",
       "    <tr>\n",
       "      <th>11</th>\n",
       "    </tr>\n",
       "  </tbody>\n",
       "</table>\n",
       "</div>"
      ],
      "text/plain": [
       "Empty DataFrame\n",
       "Columns: []\n",
       "Index: [0, 1, 2, 3, 4, 5, 6, 7, 8, 9, 10, 11]"
      ]
     },
     "execution_count": 39,
     "metadata": {},
     "output_type": "execute_result"
    }
   ],
   "source": [
    "# ineffective: df.loc[:,'english':'name']"
   ]
  },
  {
   "cell_type": "code",
   "execution_count": 40,
   "id": "447a9eff-d575-41c4-8a7c-40e79a58c318",
   "metadata": {},
   "outputs": [
    {
     "data": {
      "text/html": [
       "<div>\n",
       "<style scoped>\n",
       "    .dataframe tbody tr th:only-of-type {\n",
       "        vertical-align: middle;\n",
       "    }\n",
       "\n",
       "    .dataframe tbody tr th {\n",
       "        vertical-align: top;\n",
       "    }\n",
       "\n",
       "    .dataframe thead th {\n",
       "        text-align: right;\n",
       "    }\n",
       "</style>\n",
       "<table border=\"1\" class=\"dataframe\">\n",
       "  <thead>\n",
       "    <tr style=\"text-align: right;\">\n",
       "      <th></th>\n",
       "      <th>english</th>\n",
       "      <th>reading</th>\n",
       "    </tr>\n",
       "  </thead>\n",
       "  <tbody>\n",
       "    <tr>\n",
       "      <th>1</th>\n",
       "      <td>79</td>\n",
       "      <td>98</td>\n",
       "    </tr>\n",
       "    <tr>\n",
       "      <th>2</th>\n",
       "      <td>91</td>\n",
       "      <td>91</td>\n",
       "    </tr>\n",
       "    <tr>\n",
       "      <th>3</th>\n",
       "      <td>88</td>\n",
       "      <td>72</td>\n",
       "    </tr>\n",
       "    <tr>\n",
       "      <th>4</th>\n",
       "      <td>88</td>\n",
       "      <td>92</td>\n",
       "    </tr>\n",
       "  </tbody>\n",
       "</table>\n",
       "</div>"
      ],
      "text/plain": [
       "   english  reading\n",
       "1       79       98\n",
       "2       91       91\n",
       "3       88       72\n",
       "4       88       92"
      ]
     },
     "execution_count": 40,
     "metadata": {},
     "output_type": "execute_result"
    }
   ],
   "source": [
    "# OK:\n",
    "df.loc[1:4,['english','reading']]"
   ]
  },
  {
   "cell_type": "markdown",
   "id": "1dfaf0ed",
   "metadata": {},
   "source": [
    "#### pull back row `10` and column `name`"
   ]
  },
  {
   "cell_type": "code",
   "execution_count": 41,
   "id": "a9a05842",
   "metadata": {},
   "outputs": [
    {
     "data": {
      "text/plain": [
       "'Isaac'"
      ]
     },
     "execution_count": 41,
     "metadata": {},
     "output_type": "execute_result"
    }
   ],
   "source": [
    "#[row,column]\n",
    "df.loc[10, 'name']\n"
   ]
  },
  {
   "cell_type": "markdown",
   "id": "7de28eb3",
   "metadata": {},
   "source": [
    "#### pull back just row `9`"
   ]
  },
  {
   "cell_type": "code",
   "execution_count": 42,
   "id": "818f9e36",
   "metadata": {},
   "outputs": [
    {
     "data": {
      "text/plain": [
       "name       Richard\n",
       "math            84\n",
       "reading         94\n",
       "english         61\n",
       "room             A\n",
       "Name: 9, dtype: object"
      ]
     },
     "execution_count": 42,
     "metadata": {},
     "output_type": "execute_result"
    }
   ],
   "source": [
    "#column name is optional\n",
    "#[row]\n",
    "df.loc[9]"
   ]
  },
  {
   "cell_type": "markdown",
   "id": "33e9694b",
   "metadata": {},
   "source": [
    "#### pull back row `5` and all rows after"
   ]
  },
  {
   "cell_type": "code",
   "execution_count": 43,
   "id": "e6185f0d",
   "metadata": {},
   "outputs": [
    {
     "data": {
      "text/html": [
       "<div>\n",
       "<style scoped>\n",
       "    .dataframe tbody tr th:only-of-type {\n",
       "        vertical-align: middle;\n",
       "    }\n",
       "\n",
       "    .dataframe tbody tr th {\n",
       "        vertical-align: top;\n",
       "    }\n",
       "\n",
       "    .dataframe thead th {\n",
       "        text-align: right;\n",
       "    }\n",
       "</style>\n",
       "<table border=\"1\" class=\"dataframe\">\n",
       "  <thead>\n",
       "    <tr style=\"text-align: right;\">\n",
       "      <th></th>\n",
       "      <th>name</th>\n",
       "      <th>math</th>\n",
       "      <th>reading</th>\n",
       "      <th>english</th>\n",
       "      <th>room</th>\n",
       "    </tr>\n",
       "  </thead>\n",
       "  <tbody>\n",
       "    <tr>\n",
       "      <th>5</th>\n",
       "      <td>John</td>\n",
       "      <td>95</td>\n",
       "      <td>64</td>\n",
       "      <td>73</td>\n",
       "      <td>A</td>\n",
       "    </tr>\n",
       "    <tr>\n",
       "      <th>6</th>\n",
       "      <td>Thomas</td>\n",
       "      <td>87</td>\n",
       "      <td>82</td>\n",
       "      <td>80</td>\n",
       "      <td>A</td>\n",
       "    </tr>\n",
       "    <tr>\n",
       "      <th>7</th>\n",
       "      <td>Marie</td>\n",
       "      <td>99</td>\n",
       "      <td>94</td>\n",
       "      <td>85</td>\n",
       "      <td>A</td>\n",
       "    </tr>\n",
       "    <tr>\n",
       "      <th>8</th>\n",
       "      <td>Albert</td>\n",
       "      <td>91</td>\n",
       "      <td>87</td>\n",
       "      <td>77</td>\n",
       "      <td>B</td>\n",
       "    </tr>\n",
       "    <tr>\n",
       "      <th>9</th>\n",
       "      <td>Richard</td>\n",
       "      <td>84</td>\n",
       "      <td>94</td>\n",
       "      <td>61</td>\n",
       "      <td>A</td>\n",
       "    </tr>\n",
       "    <tr>\n",
       "      <th>10</th>\n",
       "      <td>Isaac</td>\n",
       "      <td>77</td>\n",
       "      <td>93</td>\n",
       "      <td>91</td>\n",
       "      <td>A</td>\n",
       "    </tr>\n",
       "    <tr>\n",
       "      <th>11</th>\n",
       "      <td>Alan</td>\n",
       "      <td>83</td>\n",
       "      <td>60</td>\n",
       "      <td>87</td>\n",
       "      <td>B</td>\n",
       "    </tr>\n",
       "  </tbody>\n",
       "</table>\n",
       "</div>"
      ],
      "text/plain": [
       "       name  math  reading  english room\n",
       "5      John    95       64       73    A\n",
       "6    Thomas    87       82       80    A\n",
       "7     Marie    99       94       85    A\n",
       "8    Albert    91       87       77    B\n",
       "9   Richard    84       94       61    A\n",
       "10    Isaac    77       93       91    A\n",
       "11     Alan    83       60       87    B"
      ]
     },
     "execution_count": 43,
     "metadata": {},
     "output_type": "execute_result"
    }
   ],
   "source": [
    "#range of rows\n",
    "#[row:]\n",
    "df.loc[5:]"
   ]
  },
  {
   "cell_type": "markdown",
   "id": "29a54a1b",
   "metadata": {},
   "source": [
    "#### pull back row `5` to row `10`"
   ]
  },
  {
   "cell_type": "code",
   "execution_count": 44,
   "id": "dd55bbc2",
   "metadata": {},
   "outputs": [
    {
     "data": {
      "text/html": [
       "<div>\n",
       "<style scoped>\n",
       "    .dataframe tbody tr th:only-of-type {\n",
       "        vertical-align: middle;\n",
       "    }\n",
       "\n",
       "    .dataframe tbody tr th {\n",
       "        vertical-align: top;\n",
       "    }\n",
       "\n",
       "    .dataframe thead th {\n",
       "        text-align: right;\n",
       "    }\n",
       "</style>\n",
       "<table border=\"1\" class=\"dataframe\">\n",
       "  <thead>\n",
       "    <tr style=\"text-align: right;\">\n",
       "      <th></th>\n",
       "      <th>name</th>\n",
       "      <th>math</th>\n",
       "      <th>reading</th>\n",
       "      <th>english</th>\n",
       "      <th>room</th>\n",
       "    </tr>\n",
       "  </thead>\n",
       "  <tbody>\n",
       "    <tr>\n",
       "      <th>5</th>\n",
       "      <td>John</td>\n",
       "      <td>95</td>\n",
       "      <td>64</td>\n",
       "      <td>73</td>\n",
       "      <td>A</td>\n",
       "    </tr>\n",
       "    <tr>\n",
       "      <th>6</th>\n",
       "      <td>Thomas</td>\n",
       "      <td>87</td>\n",
       "      <td>82</td>\n",
       "      <td>80</td>\n",
       "      <td>A</td>\n",
       "    </tr>\n",
       "    <tr>\n",
       "      <th>7</th>\n",
       "      <td>Marie</td>\n",
       "      <td>99</td>\n",
       "      <td>94</td>\n",
       "      <td>85</td>\n",
       "      <td>A</td>\n",
       "    </tr>\n",
       "    <tr>\n",
       "      <th>8</th>\n",
       "      <td>Albert</td>\n",
       "      <td>91</td>\n",
       "      <td>87</td>\n",
       "      <td>77</td>\n",
       "      <td>B</td>\n",
       "    </tr>\n",
       "    <tr>\n",
       "      <th>9</th>\n",
       "      <td>Richard</td>\n",
       "      <td>84</td>\n",
       "      <td>94</td>\n",
       "      <td>61</td>\n",
       "      <td>A</td>\n",
       "    </tr>\n",
       "    <tr>\n",
       "      <th>10</th>\n",
       "      <td>Isaac</td>\n",
       "      <td>77</td>\n",
       "      <td>93</td>\n",
       "      <td>91</td>\n",
       "      <td>A</td>\n",
       "    </tr>\n",
       "  </tbody>\n",
       "</table>\n",
       "</div>"
      ],
      "text/plain": [
       "       name  math  reading  english room\n",
       "5      John    95       64       73    A\n",
       "6    Thomas    87       82       80    A\n",
       "7     Marie    99       94       85    A\n",
       "8    Albert    91       87       77    B\n",
       "9   Richard    84       94       61    A\n",
       "10    Isaac    77       93       91    A"
      ]
     },
     "execution_count": 44,
     "metadata": {},
     "output_type": "execute_result"
    }
   ],
   "source": [
    "df.loc[5:10]"
   ]
  },
  {
   "cell_type": "markdown",
   "id": "0a241c77",
   "metadata": {},
   "source": [
    "#### pull back columns `math` to `english`"
   ]
  },
  {
   "cell_type": "code",
   "execution_count": null,
   "id": "8f47c13c",
   "metadata": {},
   "outputs": [],
   "source": [
    "#range of columns\n",
    "#must use comma to indicate you're pulling back columns\n",
    "#[row,column]\n",
    "#[:,column]"
   ]
  },
  {
   "cell_type": "markdown",
   "id": "8283755a",
   "metadata": {},
   "source": [
    "#### pull back subset using a range in `loc` on both the rows and columns"
   ]
  },
  {
   "cell_type": "code",
   "execution_count": null,
   "id": "90ccec13",
   "metadata": {},
   "outputs": [],
   "source": [
    "#[row:row, column:column]"
   ]
  },
  {
   "cell_type": "markdown",
   "id": "0ad780ba",
   "metadata": {},
   "source": [
    "### Indexing using .iloc\n",
    "\n",
    "Using the **POSITION** of the index and columns, pull back subset\n",
    "\n",
    "- format: `df.iloc[row_indexer_POSITION, column_indexer_POSITION]`"
   ]
  },
  {
   "cell_type": "markdown",
   "id": "be3f6141",
   "metadata": {},
   "source": [
    "#### pull back subset skipping the first row"
   ]
  },
  {
   "cell_type": "code",
   "execution_count": 46,
   "id": "1767aac2-8089-4af0-8254-41a12b087192",
   "metadata": {},
   "outputs": [
    {
     "data": {
      "text/plain": [
       "Index(['name', 'math', 'reading', 'english', 'room'], dtype='object')"
      ]
     },
     "execution_count": 46,
     "metadata": {},
     "output_type": "execute_result"
    }
   ],
   "source": [
    "df.columns"
   ]
  },
  {
   "cell_type": "code",
   "execution_count": 45,
   "id": "c4dae6b8",
   "metadata": {},
   "outputs": [
    {
     "data": {
      "text/html": [
       "<div>\n",
       "<style scoped>\n",
       "    .dataframe tbody tr th:only-of-type {\n",
       "        vertical-align: middle;\n",
       "    }\n",
       "\n",
       "    .dataframe tbody tr th {\n",
       "        vertical-align: top;\n",
       "    }\n",
       "\n",
       "    .dataframe thead th {\n",
       "        text-align: right;\n",
       "    }\n",
       "</style>\n",
       "<table border=\"1\" class=\"dataframe\">\n",
       "  <thead>\n",
       "    <tr style=\"text-align: right;\">\n",
       "      <th></th>\n",
       "      <th>math</th>\n",
       "      <th>reading</th>\n",
       "    </tr>\n",
       "  </thead>\n",
       "  <tbody>\n",
       "    <tr>\n",
       "      <th>3</th>\n",
       "      <td>62</td>\n",
       "      <td>72</td>\n",
       "    </tr>\n",
       "    <tr>\n",
       "      <th>4</th>\n",
       "      <td>98</td>\n",
       "      <td>92</td>\n",
       "    </tr>\n",
       "    <tr>\n",
       "      <th>5</th>\n",
       "      <td>95</td>\n",
       "      <td>64</td>\n",
       "    </tr>\n",
       "    <tr>\n",
       "      <th>6</th>\n",
       "      <td>87</td>\n",
       "      <td>82</td>\n",
       "    </tr>\n",
       "    <tr>\n",
       "      <th>7</th>\n",
       "      <td>99</td>\n",
       "      <td>94</td>\n",
       "    </tr>\n",
       "    <tr>\n",
       "      <th>8</th>\n",
       "      <td>91</td>\n",
       "      <td>87</td>\n",
       "    </tr>\n",
       "    <tr>\n",
       "      <th>9</th>\n",
       "      <td>84</td>\n",
       "      <td>94</td>\n",
       "    </tr>\n",
       "  </tbody>\n",
       "</table>\n",
       "</div>"
      ],
      "text/plain": [
       "   math  reading\n",
       "3    62       72\n",
       "4    98       92\n",
       "5    95       64\n",
       "6    87       82\n",
       "7    99       94\n",
       "8    91       87\n",
       "9    84       94"
      ]
     },
     "execution_count": 45,
     "metadata": {},
     "output_type": "execute_result"
    }
   ],
   "source": [
    "df.iloc[3:10, 1:3]"
   ]
  },
  {
   "cell_type": "code",
   "execution_count": 47,
   "id": "f6b1bda2",
   "metadata": {},
   "outputs": [
    {
     "data": {
      "text/plain": [
       "name       Richard\n",
       "math            84\n",
       "reading         94\n",
       "english         61\n",
       "room             A\n",
       "Name: 9, dtype: object"
      ]
     },
     "execution_count": 47,
     "metadata": {},
     "output_type": "execute_result"
    }
   ],
   "source": [
    "#[row]\n",
    "df.iloc[9]"
   ]
  },
  {
   "cell_type": "markdown",
   "id": "7279766e",
   "metadata": {},
   "source": [
    "#### pull back subset skipping the first column"
   ]
  },
  {
   "cell_type": "code",
   "execution_count": 48,
   "id": "33757ee3",
   "metadata": {},
   "outputs": [
    {
     "data": {
      "text/plain": [
       "0     84\n",
       "1     79\n",
       "2     91\n",
       "3     88\n",
       "4     88\n",
       "5     73\n",
       "6     80\n",
       "7     85\n",
       "8     77\n",
       "9     61\n",
       "10    91\n",
       "11    87\n",
       "Name: english, dtype: int64"
      ]
     },
     "execution_count": 48,
     "metadata": {},
     "output_type": "execute_result"
    }
   ],
   "source": [
    "#[:,column]\n",
    "df.iloc[:,3]"
   ]
  },
  {
   "cell_type": "markdown",
   "id": "a9a7508c",
   "metadata": {},
   "source": [
    "#### pull back subset using a range in `iloc` on both the rows and columns"
   ]
  },
  {
   "cell_type": "code",
   "execution_count": null,
   "id": "019c476f",
   "metadata": {},
   "outputs": [],
   "source": [
    "#[row:row,column:column]"
   ]
  },
  {
   "cell_type": "markdown",
   "id": "0c0eac19",
   "metadata": {},
   "source": [
    "#### pull back first column using iloc"
   ]
  },
  {
   "cell_type": "code",
   "execution_count": 49,
   "id": "c16698e7",
   "metadata": {},
   "outputs": [
    {
     "data": {
      "text/plain": [
       "0       Sally\n",
       "1        Jane\n",
       "2       Suzie\n",
       "3       Billy\n",
       "4         Ada\n",
       "5        John\n",
       "6      Thomas\n",
       "7       Marie\n",
       "8      Albert\n",
       "9     Richard\n",
       "10      Isaac\n",
       "11       Alan\n",
       "Name: name, dtype: object"
      ]
     },
     "execution_count": 49,
     "metadata": {},
     "output_type": "execute_result"
    }
   ],
   "source": [
    "df.iloc[:,0]"
   ]
  },
  {
   "cell_type": "markdown",
   "id": "2e621a1b",
   "metadata": {},
   "source": [
    "### summary of `.loc` and `.iloc`"
   ]
  },
  {
   "cell_type": "markdown",
   "id": "f5c39fe0",
   "metadata": {},
   "source": [
    "- `.loc`: takes the NAME of the row and column index\n",
    "- `.iloc`: takes the POSITION of the row and column index\n",
    "\n",
    "\n",
    "- both format: `[row:row, column:column]`"
   ]
  },
  {
   "cell_type": "markdown",
   "id": "23b3f863",
   "metadata": {},
   "source": [
    "## Aggregating"
   ]
  },
  {
   "cell_type": "markdown",
   "id": "8a71d0a0",
   "metadata": {},
   "source": [
    "### `.agg` method "
   ]
  },
  {
   "cell_type": "markdown",
   "id": "7f979221",
   "metadata": {},
   "source": [
    "- lets us specify a way to aggregate a series of numerical values"
   ]
  },
  {
   "cell_type": "code",
   "execution_count": 50,
   "id": "244bf81a",
   "metadata": {},
   "outputs": [
    {
     "data": {
      "text/plain": [
       "name       Thomas\n",
       "math           99\n",
       "reading        98\n",
       "english        91\n",
       "room            B\n",
       "dtype: object"
      ]
     },
     "execution_count": 50,
     "metadata": {},
     "output_type": "execute_result"
    }
   ],
   "source": [
    "df.agg('max')"
   ]
  },
  {
   "cell_type": "markdown",
   "id": "dc13df07",
   "metadata": {},
   "source": [
    "#### find the min math score"
   ]
  },
  {
   "cell_type": "code",
   "execution_count": 51,
   "id": "fda99d81",
   "metadata": {},
   "outputs": [
    {
     "data": {
      "text/plain": [
       "62"
      ]
     },
     "execution_count": 51,
     "metadata": {},
     "output_type": "execute_result"
    }
   ],
   "source": [
    "df.math.agg('min')"
   ]
  },
  {
   "cell_type": "markdown",
   "id": "63e1ffb5",
   "metadata": {},
   "source": [
    "#### find the min and max math score"
   ]
  },
  {
   "cell_type": "code",
   "execution_count": 52,
   "id": "f88e3372",
   "metadata": {},
   "outputs": [
    {
     "data": {
      "text/plain": [
       "min    62\n",
       "max    99\n",
       "Name: math, dtype: int64"
      ]
     },
     "execution_count": 52,
     "metadata": {},
     "output_type": "execute_result"
    }
   ],
   "source": [
    "df.math.agg(['min','max'])"
   ]
  },
  {
   "cell_type": "code",
   "execution_count": 54,
   "id": "51e0cd0e",
   "metadata": {},
   "outputs": [
    {
     "ename": "TypeError",
     "evalue": "Could not convert SallyJaneSuzieBillyAdaJohnThomasMarieAlbertRichardIsaacAlan to numeric",
     "output_type": "error",
     "traceback": [
      "\u001b[0;31m---------------------------------------------------------------------------\u001b[0m",
      "\u001b[0;31mValueError\u001b[0m                                Traceback (most recent call last)",
      "File \u001b[0;32m~/miniconda3/envs/homebase/lib/python3.11/site-packages/pandas/core/nanops.py:1692\u001b[0m, in \u001b[0;36m_ensure_numeric\u001b[0;34m(x)\u001b[0m\n\u001b[1;32m   1691\u001b[0m \u001b[38;5;28;01mtry\u001b[39;00m:\n\u001b[0;32m-> 1692\u001b[0m     x \u001b[38;5;241m=\u001b[39m \u001b[38;5;28mfloat\u001b[39m(x)\n\u001b[1;32m   1693\u001b[0m \u001b[38;5;28;01mexcept\u001b[39;00m (\u001b[38;5;167;01mTypeError\u001b[39;00m, \u001b[38;5;167;01mValueError\u001b[39;00m):\n\u001b[1;32m   1694\u001b[0m     \u001b[38;5;66;03m# e.g. \"1+1j\" or \"foo\"\u001b[39;00m\n",
      "\u001b[0;31mValueError\u001b[0m: could not convert string to float: 'SallyJaneSuzieBillyAdaJohnThomasMarieAlbertRichardIsaacAlan'",
      "\nDuring handling of the above exception, another exception occurred:\n",
      "\u001b[0;31mValueError\u001b[0m                                Traceback (most recent call last)",
      "File \u001b[0;32m~/miniconda3/envs/homebase/lib/python3.11/site-packages/pandas/core/nanops.py:1696\u001b[0m, in \u001b[0;36m_ensure_numeric\u001b[0;34m(x)\u001b[0m\n\u001b[1;32m   1695\u001b[0m \u001b[38;5;28;01mtry\u001b[39;00m:\n\u001b[0;32m-> 1696\u001b[0m     x \u001b[38;5;241m=\u001b[39m \u001b[38;5;28mcomplex\u001b[39m(x)\n\u001b[1;32m   1697\u001b[0m \u001b[38;5;28;01mexcept\u001b[39;00m \u001b[38;5;167;01mValueError\u001b[39;00m \u001b[38;5;28;01mas\u001b[39;00m err:\n\u001b[1;32m   1698\u001b[0m     \u001b[38;5;66;03m# e.g. \"foo\"\u001b[39;00m\n",
      "\u001b[0;31mValueError\u001b[0m: complex() arg is a malformed string",
      "\nThe above exception was the direct cause of the following exception:\n",
      "\u001b[0;31mTypeError\u001b[0m                                 Traceback (most recent call last)",
      "Cell \u001b[0;32mIn[54], line 2\u001b[0m\n\u001b[1;32m      1\u001b[0m \u001b[38;5;66;03m#contain multiple agg functions in a list\u001b[39;00m\n\u001b[0;32m----> 2\u001b[0m df\u001b[38;5;241m.\u001b[39magg([\u001b[38;5;124m'\u001b[39m\u001b[38;5;124mmin\u001b[39m\u001b[38;5;124m'\u001b[39m,\u001b[38;5;124m'\u001b[39m\u001b[38;5;124mmax\u001b[39m\u001b[38;5;124m'\u001b[39m,\u001b[38;5;124m'\u001b[39m\u001b[38;5;124mmean\u001b[39m\u001b[38;5;124m'\u001b[39m])\n",
      "File \u001b[0;32m~/miniconda3/envs/homebase/lib/python3.11/site-packages/pandas/core/frame.py:9196\u001b[0m, in \u001b[0;36mDataFrame.aggregate\u001b[0;34m(self, func, axis, *args, **kwargs)\u001b[0m\n\u001b[1;32m   9193\u001b[0m relabeling, func, columns, order \u001b[38;5;241m=\u001b[39m reconstruct_func(func, \u001b[38;5;241m*\u001b[39m\u001b[38;5;241m*\u001b[39mkwargs)\n\u001b[1;32m   9195\u001b[0m op \u001b[38;5;241m=\u001b[39m frame_apply(\u001b[38;5;28mself\u001b[39m, func\u001b[38;5;241m=\u001b[39mfunc, axis\u001b[38;5;241m=\u001b[39maxis, args\u001b[38;5;241m=\u001b[39margs, kwargs\u001b[38;5;241m=\u001b[39mkwargs)\n\u001b[0;32m-> 9196\u001b[0m result \u001b[38;5;241m=\u001b[39m op\u001b[38;5;241m.\u001b[39magg()\n\u001b[1;32m   9198\u001b[0m \u001b[38;5;28;01mif\u001b[39;00m relabeling:\n\u001b[1;32m   9199\u001b[0m     \u001b[38;5;66;03m# This is to keep the order to columns occurrence unchanged, and also\u001b[39;00m\n\u001b[1;32m   9200\u001b[0m     \u001b[38;5;66;03m# keep the order of new columns occurrence unchanged\u001b[39;00m\n\u001b[1;32m   9201\u001b[0m \n\u001b[1;32m   9202\u001b[0m     \u001b[38;5;66;03m# For the return values of reconstruct_func, if relabeling is\u001b[39;00m\n\u001b[1;32m   9203\u001b[0m     \u001b[38;5;66;03m# False, columns and order will be None.\u001b[39;00m\n\u001b[1;32m   9204\u001b[0m     \u001b[38;5;28;01massert\u001b[39;00m columns \u001b[38;5;129;01mis\u001b[39;00m \u001b[38;5;129;01mnot\u001b[39;00m \u001b[38;5;28;01mNone\u001b[39;00m\n",
      "File \u001b[0;32m~/miniconda3/envs/homebase/lib/python3.11/site-packages/pandas/core/apply.py:690\u001b[0m, in \u001b[0;36mFrameApply.agg\u001b[0;34m(self)\u001b[0m\n\u001b[1;32m    688\u001b[0m result \u001b[38;5;241m=\u001b[39m \u001b[38;5;28;01mNone\u001b[39;00m\n\u001b[1;32m    689\u001b[0m \u001b[38;5;28;01mtry\u001b[39;00m:\n\u001b[0;32m--> 690\u001b[0m     result \u001b[38;5;241m=\u001b[39m \u001b[38;5;28msuper\u001b[39m()\u001b[38;5;241m.\u001b[39magg()\n\u001b[1;32m    691\u001b[0m \u001b[38;5;28;01mfinally\u001b[39;00m:\n\u001b[1;32m    692\u001b[0m     \u001b[38;5;28mself\u001b[39m\u001b[38;5;241m.\u001b[39mobj \u001b[38;5;241m=\u001b[39m obj\n",
      "File \u001b[0;32m~/miniconda3/envs/homebase/lib/python3.11/site-packages/pandas/core/apply.py:166\u001b[0m, in \u001b[0;36mApply.agg\u001b[0;34m(self)\u001b[0m\n\u001b[1;32m    163\u001b[0m     \u001b[38;5;28;01mreturn\u001b[39;00m \u001b[38;5;28mself\u001b[39m\u001b[38;5;241m.\u001b[39magg_dict_like()\n\u001b[1;32m    164\u001b[0m \u001b[38;5;28;01melif\u001b[39;00m is_list_like(arg):\n\u001b[1;32m    165\u001b[0m     \u001b[38;5;66;03m# we require a list, but not a 'str'\u001b[39;00m\n\u001b[0;32m--> 166\u001b[0m     \u001b[38;5;28;01mreturn\u001b[39;00m \u001b[38;5;28mself\u001b[39m\u001b[38;5;241m.\u001b[39magg_list_like()\n\u001b[1;32m    168\u001b[0m \u001b[38;5;28;01mif\u001b[39;00m \u001b[38;5;28mcallable\u001b[39m(arg):\n\u001b[1;32m    169\u001b[0m     f \u001b[38;5;241m=\u001b[39m com\u001b[38;5;241m.\u001b[39mget_cython_func(arg)\n",
      "File \u001b[0;32m~/miniconda3/envs/homebase/lib/python3.11/site-packages/pandas/core/apply.py:351\u001b[0m, in \u001b[0;36mApply.agg_list_like\u001b[0;34m(self)\u001b[0m\n\u001b[1;32m    349\u001b[0m colg \u001b[38;5;241m=\u001b[39m obj\u001b[38;5;241m.\u001b[39m_gotitem(col, ndim\u001b[38;5;241m=\u001b[39m\u001b[38;5;241m1\u001b[39m, subset\u001b[38;5;241m=\u001b[39mselected_obj\u001b[38;5;241m.\u001b[39miloc[:, index])\n\u001b[1;32m    350\u001b[0m \u001b[38;5;28;01mif\u001b[39;00m \u001b[38;5;28misinstance\u001b[39m(colg, (ABCSeries, ABCDataFrame)):\n\u001b[0;32m--> 351\u001b[0m     new_res \u001b[38;5;241m=\u001b[39m colg\u001b[38;5;241m.\u001b[39maggregate(\n\u001b[1;32m    352\u001b[0m         arg, \u001b[38;5;28mself\u001b[39m\u001b[38;5;241m.\u001b[39maxis, \u001b[38;5;241m*\u001b[39m\u001b[38;5;28mself\u001b[39m\u001b[38;5;241m.\u001b[39margs, \u001b[38;5;241m*\u001b[39m\u001b[38;5;241m*\u001b[39m\u001b[38;5;28mself\u001b[39m\u001b[38;5;241m.\u001b[39mkwargs\n\u001b[1;32m    353\u001b[0m     )\n\u001b[1;32m    354\u001b[0m \u001b[38;5;28;01melse\u001b[39;00m:\n\u001b[1;32m    355\u001b[0m     new_res \u001b[38;5;241m=\u001b[39m colg\u001b[38;5;241m.\u001b[39maggregate(arg, \u001b[38;5;241m*\u001b[39m\u001b[38;5;28mself\u001b[39m\u001b[38;5;241m.\u001b[39margs, \u001b[38;5;241m*\u001b[39m\u001b[38;5;241m*\u001b[39m\u001b[38;5;28mself\u001b[39m\u001b[38;5;241m.\u001b[39mkwargs)\n",
      "File \u001b[0;32m~/miniconda3/envs/homebase/lib/python3.11/site-packages/pandas/core/series.py:4463\u001b[0m, in \u001b[0;36mSeries.aggregate\u001b[0;34m(self, func, axis, *args, **kwargs)\u001b[0m\n\u001b[1;32m   4460\u001b[0m     func \u001b[38;5;241m=\u001b[39m \u001b[38;5;28mdict\u001b[39m(kwargs\u001b[38;5;241m.\u001b[39mitems())\n\u001b[1;32m   4462\u001b[0m op \u001b[38;5;241m=\u001b[39m SeriesApply(\u001b[38;5;28mself\u001b[39m, func, convert_dtype\u001b[38;5;241m=\u001b[39m\u001b[38;5;28;01mFalse\u001b[39;00m, args\u001b[38;5;241m=\u001b[39margs, kwargs\u001b[38;5;241m=\u001b[39mkwargs)\n\u001b[0;32m-> 4463\u001b[0m result \u001b[38;5;241m=\u001b[39m op\u001b[38;5;241m.\u001b[39magg()\n\u001b[1;32m   4464\u001b[0m \u001b[38;5;28;01mreturn\u001b[39;00m result\n",
      "File \u001b[0;32m~/miniconda3/envs/homebase/lib/python3.11/site-packages/pandas/core/apply.py:1028\u001b[0m, in \u001b[0;36mSeriesApply.agg\u001b[0;34m(self)\u001b[0m\n\u001b[1;32m   1027\u001b[0m \u001b[38;5;28;01mdef\u001b[39;00m \u001b[38;5;21magg\u001b[39m(\u001b[38;5;28mself\u001b[39m):\n\u001b[0;32m-> 1028\u001b[0m     result \u001b[38;5;241m=\u001b[39m \u001b[38;5;28msuper\u001b[39m()\u001b[38;5;241m.\u001b[39magg()\n\u001b[1;32m   1029\u001b[0m     \u001b[38;5;28;01mif\u001b[39;00m result \u001b[38;5;129;01mis\u001b[39;00m \u001b[38;5;28;01mNone\u001b[39;00m:\n\u001b[1;32m   1030\u001b[0m         f \u001b[38;5;241m=\u001b[39m \u001b[38;5;28mself\u001b[39m\u001b[38;5;241m.\u001b[39mf\n",
      "File \u001b[0;32m~/miniconda3/envs/homebase/lib/python3.11/site-packages/pandas/core/apply.py:166\u001b[0m, in \u001b[0;36mApply.agg\u001b[0;34m(self)\u001b[0m\n\u001b[1;32m    163\u001b[0m     \u001b[38;5;28;01mreturn\u001b[39;00m \u001b[38;5;28mself\u001b[39m\u001b[38;5;241m.\u001b[39magg_dict_like()\n\u001b[1;32m    164\u001b[0m \u001b[38;5;28;01melif\u001b[39;00m is_list_like(arg):\n\u001b[1;32m    165\u001b[0m     \u001b[38;5;66;03m# we require a list, but not a 'str'\u001b[39;00m\n\u001b[0;32m--> 166\u001b[0m     \u001b[38;5;28;01mreturn\u001b[39;00m \u001b[38;5;28mself\u001b[39m\u001b[38;5;241m.\u001b[39magg_list_like()\n\u001b[1;32m    168\u001b[0m \u001b[38;5;28;01mif\u001b[39;00m \u001b[38;5;28mcallable\u001b[39m(arg):\n\u001b[1;32m    169\u001b[0m     f \u001b[38;5;241m=\u001b[39m com\u001b[38;5;241m.\u001b[39mget_cython_func(arg)\n",
      "File \u001b[0;32m~/miniconda3/envs/homebase/lib/python3.11/site-packages/pandas/core/apply.py:335\u001b[0m, in \u001b[0;36mApply.agg_list_like\u001b[0;34m(self)\u001b[0m\n\u001b[1;32m    333\u001b[0m colg \u001b[38;5;241m=\u001b[39m obj\u001b[38;5;241m.\u001b[39m_gotitem(selected_obj\u001b[38;5;241m.\u001b[39mname, ndim\u001b[38;5;241m=\u001b[39m\u001b[38;5;241m1\u001b[39m, subset\u001b[38;5;241m=\u001b[39mselected_obj)\n\u001b[1;32m    334\u001b[0m \u001b[38;5;28;01mif\u001b[39;00m \u001b[38;5;28misinstance\u001b[39m(colg, (ABCSeries, ABCDataFrame)):\n\u001b[0;32m--> 335\u001b[0m     new_res \u001b[38;5;241m=\u001b[39m colg\u001b[38;5;241m.\u001b[39maggregate(\n\u001b[1;32m    336\u001b[0m         a, \u001b[38;5;28mself\u001b[39m\u001b[38;5;241m.\u001b[39maxis, \u001b[38;5;241m*\u001b[39m\u001b[38;5;28mself\u001b[39m\u001b[38;5;241m.\u001b[39margs, \u001b[38;5;241m*\u001b[39m\u001b[38;5;241m*\u001b[39m\u001b[38;5;28mself\u001b[39m\u001b[38;5;241m.\u001b[39mkwargs\n\u001b[1;32m    337\u001b[0m     )\n\u001b[1;32m    338\u001b[0m \u001b[38;5;28;01melse\u001b[39;00m:\n\u001b[1;32m    339\u001b[0m     new_res \u001b[38;5;241m=\u001b[39m colg\u001b[38;5;241m.\u001b[39maggregate(a, \u001b[38;5;241m*\u001b[39m\u001b[38;5;28mself\u001b[39m\u001b[38;5;241m.\u001b[39margs, \u001b[38;5;241m*\u001b[39m\u001b[38;5;241m*\u001b[39m\u001b[38;5;28mself\u001b[39m\u001b[38;5;241m.\u001b[39mkwargs)\n",
      "File \u001b[0;32m~/miniconda3/envs/homebase/lib/python3.11/site-packages/pandas/core/series.py:4463\u001b[0m, in \u001b[0;36mSeries.aggregate\u001b[0;34m(self, func, axis, *args, **kwargs)\u001b[0m\n\u001b[1;32m   4460\u001b[0m     func \u001b[38;5;241m=\u001b[39m \u001b[38;5;28mdict\u001b[39m(kwargs\u001b[38;5;241m.\u001b[39mitems())\n\u001b[1;32m   4462\u001b[0m op \u001b[38;5;241m=\u001b[39m SeriesApply(\u001b[38;5;28mself\u001b[39m, func, convert_dtype\u001b[38;5;241m=\u001b[39m\u001b[38;5;28;01mFalse\u001b[39;00m, args\u001b[38;5;241m=\u001b[39margs, kwargs\u001b[38;5;241m=\u001b[39mkwargs)\n\u001b[0;32m-> 4463\u001b[0m result \u001b[38;5;241m=\u001b[39m op\u001b[38;5;241m.\u001b[39magg()\n\u001b[1;32m   4464\u001b[0m \u001b[38;5;28;01mreturn\u001b[39;00m result\n",
      "File \u001b[0;32m~/miniconda3/envs/homebase/lib/python3.11/site-packages/pandas/core/apply.py:1028\u001b[0m, in \u001b[0;36mSeriesApply.agg\u001b[0;34m(self)\u001b[0m\n\u001b[1;32m   1027\u001b[0m \u001b[38;5;28;01mdef\u001b[39;00m \u001b[38;5;21magg\u001b[39m(\u001b[38;5;28mself\u001b[39m):\n\u001b[0;32m-> 1028\u001b[0m     result \u001b[38;5;241m=\u001b[39m \u001b[38;5;28msuper\u001b[39m()\u001b[38;5;241m.\u001b[39magg()\n\u001b[1;32m   1029\u001b[0m     \u001b[38;5;28;01mif\u001b[39;00m result \u001b[38;5;129;01mis\u001b[39;00m \u001b[38;5;28;01mNone\u001b[39;00m:\n\u001b[1;32m   1030\u001b[0m         f \u001b[38;5;241m=\u001b[39m \u001b[38;5;28mself\u001b[39m\u001b[38;5;241m.\u001b[39mf\n",
      "File \u001b[0;32m~/miniconda3/envs/homebase/lib/python3.11/site-packages/pandas/core/apply.py:160\u001b[0m, in \u001b[0;36mApply.agg\u001b[0;34m(self)\u001b[0m\n\u001b[1;32m    157\u001b[0m kwargs \u001b[38;5;241m=\u001b[39m \u001b[38;5;28mself\u001b[39m\u001b[38;5;241m.\u001b[39mkwargs\n\u001b[1;32m    159\u001b[0m \u001b[38;5;28;01mif\u001b[39;00m \u001b[38;5;28misinstance\u001b[39m(arg, \u001b[38;5;28mstr\u001b[39m):\n\u001b[0;32m--> 160\u001b[0m     \u001b[38;5;28;01mreturn\u001b[39;00m \u001b[38;5;28mself\u001b[39m\u001b[38;5;241m.\u001b[39mapply_str()\n\u001b[1;32m    162\u001b[0m \u001b[38;5;28;01mif\u001b[39;00m is_dict_like(arg):\n\u001b[1;32m    163\u001b[0m     \u001b[38;5;28;01mreturn\u001b[39;00m \u001b[38;5;28mself\u001b[39m\u001b[38;5;241m.\u001b[39magg_dict_like()\n",
      "File \u001b[0;32m~/miniconda3/envs/homebase/lib/python3.11/site-packages/pandas/core/apply.py:496\u001b[0m, in \u001b[0;36mApply.apply_str\u001b[0;34m(self)\u001b[0m\n\u001b[1;32m    494\u001b[0m     \u001b[38;5;28;01mif\u001b[39;00m \u001b[38;5;124m\"\u001b[39m\u001b[38;5;124maxis\u001b[39m\u001b[38;5;124m\"\u001b[39m \u001b[38;5;129;01min\u001b[39;00m arg_names:\n\u001b[1;32m    495\u001b[0m         \u001b[38;5;28mself\u001b[39m\u001b[38;5;241m.\u001b[39mkwargs[\u001b[38;5;124m\"\u001b[39m\u001b[38;5;124maxis\u001b[39m\u001b[38;5;124m\"\u001b[39m] \u001b[38;5;241m=\u001b[39m \u001b[38;5;28mself\u001b[39m\u001b[38;5;241m.\u001b[39maxis\n\u001b[0;32m--> 496\u001b[0m \u001b[38;5;28;01mreturn\u001b[39;00m \u001b[38;5;28mself\u001b[39m\u001b[38;5;241m.\u001b[39m_try_aggregate_string_function(obj, f, \u001b[38;5;241m*\u001b[39m\u001b[38;5;28mself\u001b[39m\u001b[38;5;241m.\u001b[39margs, \u001b[38;5;241m*\u001b[39m\u001b[38;5;241m*\u001b[39m\u001b[38;5;28mself\u001b[39m\u001b[38;5;241m.\u001b[39mkwargs)\n",
      "File \u001b[0;32m~/miniconda3/envs/homebase/lib/python3.11/site-packages/pandas/core/apply.py:565\u001b[0m, in \u001b[0;36mApply._try_aggregate_string_function\u001b[0;34m(self, obj, arg, *args, **kwargs)\u001b[0m\n\u001b[1;32m    563\u001b[0m \u001b[38;5;28;01mif\u001b[39;00m f \u001b[38;5;129;01mis\u001b[39;00m \u001b[38;5;129;01mnot\u001b[39;00m \u001b[38;5;28;01mNone\u001b[39;00m:\n\u001b[1;32m    564\u001b[0m     \u001b[38;5;28;01mif\u001b[39;00m \u001b[38;5;28mcallable\u001b[39m(f):\n\u001b[0;32m--> 565\u001b[0m         \u001b[38;5;28;01mreturn\u001b[39;00m f(\u001b[38;5;241m*\u001b[39margs, \u001b[38;5;241m*\u001b[39m\u001b[38;5;241m*\u001b[39mkwargs)\n\u001b[1;32m    567\u001b[0m     \u001b[38;5;66;03m# people may try to aggregate on a non-callable attribute\u001b[39;00m\n\u001b[1;32m    568\u001b[0m     \u001b[38;5;66;03m# but don't let them think they can pass args to it\u001b[39;00m\n\u001b[1;32m    569\u001b[0m     \u001b[38;5;28;01massert\u001b[39;00m \u001b[38;5;28mlen\u001b[39m(args) \u001b[38;5;241m==\u001b[39m \u001b[38;5;241m0\u001b[39m\n",
      "File \u001b[0;32m~/miniconda3/envs/homebase/lib/python3.11/site-packages/pandas/core/generic.py:11556\u001b[0m, in \u001b[0;36mNDFrame._add_numeric_operations.<locals>.mean\u001b[0;34m(self, axis, skipna, numeric_only, **kwargs)\u001b[0m\n\u001b[1;32m  11539\u001b[0m \u001b[38;5;129m@doc\u001b[39m(\n\u001b[1;32m  11540\u001b[0m     _num_doc,\n\u001b[1;32m  11541\u001b[0m     desc\u001b[38;5;241m=\u001b[39m\u001b[38;5;124m\"\u001b[39m\u001b[38;5;124mReturn the mean of the values over the requested axis.\u001b[39m\u001b[38;5;124m\"\u001b[39m,\n\u001b[0;32m   (...)\u001b[0m\n\u001b[1;32m  11554\u001b[0m     \u001b[38;5;241m*\u001b[39m\u001b[38;5;241m*\u001b[39mkwargs,\n\u001b[1;32m  11555\u001b[0m ):\n\u001b[0;32m> 11556\u001b[0m     \u001b[38;5;28;01mreturn\u001b[39;00m NDFrame\u001b[38;5;241m.\u001b[39mmean(\u001b[38;5;28mself\u001b[39m, axis, skipna, numeric_only, \u001b[38;5;241m*\u001b[39m\u001b[38;5;241m*\u001b[39mkwargs)\n",
      "File \u001b[0;32m~/miniconda3/envs/homebase/lib/python3.11/site-packages/pandas/core/generic.py:11201\u001b[0m, in \u001b[0;36mNDFrame.mean\u001b[0;34m(self, axis, skipna, numeric_only, **kwargs)\u001b[0m\n\u001b[1;32m  11194\u001b[0m \u001b[38;5;28;01mdef\u001b[39;00m \u001b[38;5;21mmean\u001b[39m(\n\u001b[1;32m  11195\u001b[0m     \u001b[38;5;28mself\u001b[39m,\n\u001b[1;32m  11196\u001b[0m     axis: Axis \u001b[38;5;241m|\u001b[39m \u001b[38;5;28;01mNone\u001b[39;00m \u001b[38;5;241m=\u001b[39m \u001b[38;5;241m0\u001b[39m,\n\u001b[0;32m   (...)\u001b[0m\n\u001b[1;32m  11199\u001b[0m     \u001b[38;5;241m*\u001b[39m\u001b[38;5;241m*\u001b[39mkwargs,\n\u001b[1;32m  11200\u001b[0m ) \u001b[38;5;241m-\u001b[39m\u001b[38;5;241m>\u001b[39m Series \u001b[38;5;241m|\u001b[39m \u001b[38;5;28mfloat\u001b[39m:\n\u001b[0;32m> 11201\u001b[0m     \u001b[38;5;28;01mreturn\u001b[39;00m \u001b[38;5;28mself\u001b[39m\u001b[38;5;241m.\u001b[39m_stat_function(\n\u001b[1;32m  11202\u001b[0m         \u001b[38;5;124m\"\u001b[39m\u001b[38;5;124mmean\u001b[39m\u001b[38;5;124m\"\u001b[39m, nanops\u001b[38;5;241m.\u001b[39mnanmean, axis, skipna, numeric_only, \u001b[38;5;241m*\u001b[39m\u001b[38;5;241m*\u001b[39mkwargs\n\u001b[1;32m  11203\u001b[0m     )\n",
      "File \u001b[0;32m~/miniconda3/envs/homebase/lib/python3.11/site-packages/pandas/core/generic.py:11158\u001b[0m, in \u001b[0;36mNDFrame._stat_function\u001b[0;34m(self, name, func, axis, skipna, numeric_only, **kwargs)\u001b[0m\n\u001b[1;32m  11154\u001b[0m     nv\u001b[38;5;241m.\u001b[39mvalidate_stat_func((), kwargs, fname\u001b[38;5;241m=\u001b[39mname)\n\u001b[1;32m  11156\u001b[0m validate_bool_kwarg(skipna, \u001b[38;5;124m\"\u001b[39m\u001b[38;5;124mskipna\u001b[39m\u001b[38;5;124m\"\u001b[39m, none_allowed\u001b[38;5;241m=\u001b[39m\u001b[38;5;28;01mFalse\u001b[39;00m)\n\u001b[0;32m> 11158\u001b[0m \u001b[38;5;28;01mreturn\u001b[39;00m \u001b[38;5;28mself\u001b[39m\u001b[38;5;241m.\u001b[39m_reduce(\n\u001b[1;32m  11159\u001b[0m     func, name\u001b[38;5;241m=\u001b[39mname, axis\u001b[38;5;241m=\u001b[39maxis, skipna\u001b[38;5;241m=\u001b[39mskipna, numeric_only\u001b[38;5;241m=\u001b[39mnumeric_only\n\u001b[1;32m  11160\u001b[0m )\n",
      "File \u001b[0;32m~/miniconda3/envs/homebase/lib/python3.11/site-packages/pandas/core/series.py:4670\u001b[0m, in \u001b[0;36mSeries._reduce\u001b[0;34m(self, op, name, axis, skipna, numeric_only, filter_type, **kwds)\u001b[0m\n\u001b[1;32m   4665\u001b[0m     \u001b[38;5;28;01mraise\u001b[39;00m \u001b[38;5;167;01mTypeError\u001b[39;00m(\n\u001b[1;32m   4666\u001b[0m         \u001b[38;5;124mf\u001b[39m\u001b[38;5;124m\"\u001b[39m\u001b[38;5;124mSeries.\u001b[39m\u001b[38;5;132;01m{\u001b[39;00mname\u001b[38;5;132;01m}\u001b[39;00m\u001b[38;5;124m does not allow \u001b[39m\u001b[38;5;132;01m{\u001b[39;00mkwd_name\u001b[38;5;132;01m}\u001b[39;00m\u001b[38;5;124m=\u001b[39m\u001b[38;5;132;01m{\u001b[39;00mnumeric_only\u001b[38;5;132;01m}\u001b[39;00m\u001b[38;5;124m \u001b[39m\u001b[38;5;124m\"\u001b[39m\n\u001b[1;32m   4667\u001b[0m         \u001b[38;5;124m\"\u001b[39m\u001b[38;5;124mwith non-numeric dtypes.\u001b[39m\u001b[38;5;124m\"\u001b[39m\n\u001b[1;32m   4668\u001b[0m     )\n\u001b[1;32m   4669\u001b[0m \u001b[38;5;28;01mwith\u001b[39;00m np\u001b[38;5;241m.\u001b[39merrstate(\u001b[38;5;28mall\u001b[39m\u001b[38;5;241m=\u001b[39m\u001b[38;5;124m\"\u001b[39m\u001b[38;5;124mignore\u001b[39m\u001b[38;5;124m\"\u001b[39m):\n\u001b[0;32m-> 4670\u001b[0m     \u001b[38;5;28;01mreturn\u001b[39;00m op(delegate, skipna\u001b[38;5;241m=\u001b[39mskipna, \u001b[38;5;241m*\u001b[39m\u001b[38;5;241m*\u001b[39mkwds)\n",
      "File \u001b[0;32m~/miniconda3/envs/homebase/lib/python3.11/site-packages/pandas/core/nanops.py:96\u001b[0m, in \u001b[0;36mdisallow.__call__.<locals>._f\u001b[0;34m(*args, **kwargs)\u001b[0m\n\u001b[1;32m     94\u001b[0m \u001b[38;5;28;01mtry\u001b[39;00m:\n\u001b[1;32m     95\u001b[0m     \u001b[38;5;28;01mwith\u001b[39;00m np\u001b[38;5;241m.\u001b[39merrstate(invalid\u001b[38;5;241m=\u001b[39m\u001b[38;5;124m\"\u001b[39m\u001b[38;5;124mignore\u001b[39m\u001b[38;5;124m\"\u001b[39m):\n\u001b[0;32m---> 96\u001b[0m         \u001b[38;5;28;01mreturn\u001b[39;00m f(\u001b[38;5;241m*\u001b[39margs, \u001b[38;5;241m*\u001b[39m\u001b[38;5;241m*\u001b[39mkwargs)\n\u001b[1;32m     97\u001b[0m \u001b[38;5;28;01mexcept\u001b[39;00m \u001b[38;5;167;01mValueError\u001b[39;00m \u001b[38;5;28;01mas\u001b[39;00m e:\n\u001b[1;32m     98\u001b[0m     \u001b[38;5;66;03m# we want to transform an object array\u001b[39;00m\n\u001b[1;32m     99\u001b[0m     \u001b[38;5;66;03m# ValueError message to the more typical TypeError\u001b[39;00m\n\u001b[1;32m    100\u001b[0m     \u001b[38;5;66;03m# e.g. this is normally a disallowed function on\u001b[39;00m\n\u001b[1;32m    101\u001b[0m     \u001b[38;5;66;03m# object arrays that contain strings\u001b[39;00m\n\u001b[1;32m    102\u001b[0m     \u001b[38;5;28;01mif\u001b[39;00m is_object_dtype(args[\u001b[38;5;241m0\u001b[39m]):\n",
      "File \u001b[0;32m~/miniconda3/envs/homebase/lib/python3.11/site-packages/pandas/core/nanops.py:158\u001b[0m, in \u001b[0;36mbottleneck_switch.__call__.<locals>.f\u001b[0;34m(values, axis, skipna, **kwds)\u001b[0m\n\u001b[1;32m    156\u001b[0m         result \u001b[38;5;241m=\u001b[39m alt(values, axis\u001b[38;5;241m=\u001b[39maxis, skipna\u001b[38;5;241m=\u001b[39mskipna, \u001b[38;5;241m*\u001b[39m\u001b[38;5;241m*\u001b[39mkwds)\n\u001b[1;32m    157\u001b[0m \u001b[38;5;28;01melse\u001b[39;00m:\n\u001b[0;32m--> 158\u001b[0m     result \u001b[38;5;241m=\u001b[39m alt(values, axis\u001b[38;5;241m=\u001b[39maxis, skipna\u001b[38;5;241m=\u001b[39mskipna, \u001b[38;5;241m*\u001b[39m\u001b[38;5;241m*\u001b[39mkwds)\n\u001b[1;32m    160\u001b[0m \u001b[38;5;28;01mreturn\u001b[39;00m result\n",
      "File \u001b[0;32m~/miniconda3/envs/homebase/lib/python3.11/site-packages/pandas/core/nanops.py:421\u001b[0m, in \u001b[0;36m_datetimelike_compat.<locals>.new_func\u001b[0;34m(values, axis, skipna, mask, **kwargs)\u001b[0m\n\u001b[1;32m    418\u001b[0m \u001b[38;5;28;01mif\u001b[39;00m datetimelike \u001b[38;5;129;01mand\u001b[39;00m mask \u001b[38;5;129;01mis\u001b[39;00m \u001b[38;5;28;01mNone\u001b[39;00m:\n\u001b[1;32m    419\u001b[0m     mask \u001b[38;5;241m=\u001b[39m isna(values)\n\u001b[0;32m--> 421\u001b[0m result \u001b[38;5;241m=\u001b[39m func(values, axis\u001b[38;5;241m=\u001b[39maxis, skipna\u001b[38;5;241m=\u001b[39mskipna, mask\u001b[38;5;241m=\u001b[39mmask, \u001b[38;5;241m*\u001b[39m\u001b[38;5;241m*\u001b[39mkwargs)\n\u001b[1;32m    423\u001b[0m \u001b[38;5;28;01mif\u001b[39;00m datetimelike:\n\u001b[1;32m    424\u001b[0m     result \u001b[38;5;241m=\u001b[39m _wrap_results(result, orig_values\u001b[38;5;241m.\u001b[39mdtype, fill_value\u001b[38;5;241m=\u001b[39miNaT)\n",
      "File \u001b[0;32m~/miniconda3/envs/homebase/lib/python3.11/site-packages/pandas/core/nanops.py:727\u001b[0m, in \u001b[0;36mnanmean\u001b[0;34m(values, axis, skipna, mask)\u001b[0m\n\u001b[1;32m    724\u001b[0m     dtype_count \u001b[38;5;241m=\u001b[39m dtype\n\u001b[1;32m    726\u001b[0m count \u001b[38;5;241m=\u001b[39m _get_counts(values\u001b[38;5;241m.\u001b[39mshape, mask, axis, dtype\u001b[38;5;241m=\u001b[39mdtype_count)\n\u001b[0;32m--> 727\u001b[0m the_sum \u001b[38;5;241m=\u001b[39m _ensure_numeric(values\u001b[38;5;241m.\u001b[39msum(axis, dtype\u001b[38;5;241m=\u001b[39mdtype_sum))\n\u001b[1;32m    729\u001b[0m \u001b[38;5;28;01mif\u001b[39;00m axis \u001b[38;5;129;01mis\u001b[39;00m \u001b[38;5;129;01mnot\u001b[39;00m \u001b[38;5;28;01mNone\u001b[39;00m \u001b[38;5;129;01mand\u001b[39;00m \u001b[38;5;28mgetattr\u001b[39m(the_sum, \u001b[38;5;124m\"\u001b[39m\u001b[38;5;124mndim\u001b[39m\u001b[38;5;124m\"\u001b[39m, \u001b[38;5;28;01mFalse\u001b[39;00m):\n\u001b[1;32m    730\u001b[0m     count \u001b[38;5;241m=\u001b[39m cast(np\u001b[38;5;241m.\u001b[39mndarray, count)\n",
      "File \u001b[0;32m~/miniconda3/envs/homebase/lib/python3.11/site-packages/pandas/core/nanops.py:1699\u001b[0m, in \u001b[0;36m_ensure_numeric\u001b[0;34m(x)\u001b[0m\n\u001b[1;32m   1696\u001b[0m             x \u001b[38;5;241m=\u001b[39m \u001b[38;5;28mcomplex\u001b[39m(x)\n\u001b[1;32m   1697\u001b[0m         \u001b[38;5;28;01mexcept\u001b[39;00m \u001b[38;5;167;01mValueError\u001b[39;00m \u001b[38;5;28;01mas\u001b[39;00m err:\n\u001b[1;32m   1698\u001b[0m             \u001b[38;5;66;03m# e.g. \"foo\"\u001b[39;00m\n\u001b[0;32m-> 1699\u001b[0m             \u001b[38;5;28;01mraise\u001b[39;00m \u001b[38;5;167;01mTypeError\u001b[39;00m(\u001b[38;5;124mf\u001b[39m\u001b[38;5;124m\"\u001b[39m\u001b[38;5;124mCould not convert \u001b[39m\u001b[38;5;132;01m{\u001b[39;00mx\u001b[38;5;132;01m}\u001b[39;00m\u001b[38;5;124m to numeric\u001b[39m\u001b[38;5;124m\"\u001b[39m) \u001b[38;5;28;01mfrom\u001b[39;00m \u001b[38;5;21;01merr\u001b[39;00m\n\u001b[1;32m   1700\u001b[0m \u001b[38;5;28;01mreturn\u001b[39;00m x\n",
      "\u001b[0;31mTypeError\u001b[0m: Could not convert SallyJaneSuzieBillyAdaJohnThomasMarieAlbertRichardIsaacAlan to numeric"
     ]
    }
   ],
   "source": [
    "#contain multiple agg functions in a list\n",
    "df.agg(['min','max','mean'])"
   ]
  },
  {
   "cell_type": "markdown",
   "id": "4db80f29",
   "metadata": {},
   "source": [
    "#### find the min, max, and average scores of all subjects"
   ]
  },
  {
   "cell_type": "code",
   "execution_count": 55,
   "id": "df5f91f9",
   "metadata": {},
   "outputs": [
    {
     "data": {
      "text/html": [
       "<div>\n",
       "<style scoped>\n",
       "    .dataframe tbody tr th:only-of-type {\n",
       "        vertical-align: middle;\n",
       "    }\n",
       "\n",
       "    .dataframe tbody tr th {\n",
       "        vertical-align: top;\n",
       "    }\n",
       "\n",
       "    .dataframe thead th {\n",
       "        text-align: right;\n",
       "    }\n",
       "</style>\n",
       "<table border=\"1\" class=\"dataframe\">\n",
       "  <thead>\n",
       "    <tr style=\"text-align: right;\">\n",
       "      <th></th>\n",
       "      <th>math</th>\n",
       "      <th>reading</th>\n",
       "      <th>english</th>\n",
       "    </tr>\n",
       "  </thead>\n",
       "  <tbody>\n",
       "    <tr>\n",
       "      <th>mean</th>\n",
       "      <td>85.583333</td>\n",
       "      <td>83.333333</td>\n",
       "      <td>82.0</td>\n",
       "    </tr>\n",
       "    <tr>\n",
       "      <th>min</th>\n",
       "      <td>62.000000</td>\n",
       "      <td>60.000000</td>\n",
       "      <td>61.0</td>\n",
       "    </tr>\n",
       "    <tr>\n",
       "      <th>max</th>\n",
       "      <td>99.000000</td>\n",
       "      <td>98.000000</td>\n",
       "      <td>91.0</td>\n",
       "    </tr>\n",
       "  </tbody>\n",
       "</table>\n",
       "</div>"
      ],
      "text/plain": [
       "           math    reading  english\n",
       "mean  85.583333  83.333333     82.0\n",
       "min   62.000000  60.000000     61.0\n",
       "max   99.000000  98.000000     91.0"
      ]
     },
     "execution_count": 55,
     "metadata": {},
     "output_type": "execute_result"
    }
   ],
   "source": [
    "df[['math','reading','english']].agg([\n",
    "    'mean', 'min', 'max'])"
   ]
  },
  {
   "cell_type": "code",
   "execution_count": 56,
   "id": "21c1002e",
   "metadata": {},
   "outputs": [
    {
     "data": {
      "text/html": [
       "<div>\n",
       "<style scoped>\n",
       "    .dataframe tbody tr th:only-of-type {\n",
       "        vertical-align: middle;\n",
       "    }\n",
       "\n",
       "    .dataframe tbody tr th {\n",
       "        vertical-align: top;\n",
       "    }\n",
       "\n",
       "    .dataframe thead th {\n",
       "        text-align: right;\n",
       "    }\n",
       "</style>\n",
       "<table border=\"1\" class=\"dataframe\">\n",
       "  <thead>\n",
       "    <tr style=\"text-align: right;\">\n",
       "      <th></th>\n",
       "      <th>math</th>\n",
       "      <th>reading</th>\n",
       "      <th>english</th>\n",
       "    </tr>\n",
       "  </thead>\n",
       "  <tbody>\n",
       "    <tr>\n",
       "      <th>count</th>\n",
       "      <td>12.000000</td>\n",
       "      <td>12.000000</td>\n",
       "      <td>12.000000</td>\n",
       "    </tr>\n",
       "    <tr>\n",
       "      <th>mean</th>\n",
       "      <td>85.583333</td>\n",
       "      <td>83.333333</td>\n",
       "      <td>82.000000</td>\n",
       "    </tr>\n",
       "    <tr>\n",
       "      <th>std</th>\n",
       "      <td>11.007917</td>\n",
       "      <td>12.928709</td>\n",
       "      <td>8.696917</td>\n",
       "    </tr>\n",
       "    <tr>\n",
       "      <th>min</th>\n",
       "      <td>62.000000</td>\n",
       "      <td>60.000000</td>\n",
       "      <td>61.000000</td>\n",
       "    </tr>\n",
       "    <tr>\n",
       "      <th>25%</th>\n",
       "      <td>77.750000</td>\n",
       "      <td>72.750000</td>\n",
       "      <td>78.500000</td>\n",
       "    </tr>\n",
       "    <tr>\n",
       "      <th>50%</th>\n",
       "      <td>85.500000</td>\n",
       "      <td>89.000000</td>\n",
       "      <td>84.500000</td>\n",
       "    </tr>\n",
       "    <tr>\n",
       "      <th>75%</th>\n",
       "      <td>95.250000</td>\n",
       "      <td>93.250000</td>\n",
       "      <td>88.000000</td>\n",
       "    </tr>\n",
       "    <tr>\n",
       "      <th>max</th>\n",
       "      <td>99.000000</td>\n",
       "      <td>98.000000</td>\n",
       "      <td>91.000000</td>\n",
       "    </tr>\n",
       "  </tbody>\n",
       "</table>\n",
       "</div>"
      ],
      "text/plain": [
       "            math    reading    english\n",
       "count  12.000000  12.000000  12.000000\n",
       "mean   85.583333  83.333333  82.000000\n",
       "std    11.007917  12.928709   8.696917\n",
       "min    62.000000  60.000000  61.000000\n",
       "25%    77.750000  72.750000  78.500000\n",
       "50%    85.500000  89.000000  84.500000\n",
       "75%    95.250000  93.250000  88.000000\n",
       "max    99.000000  98.000000  91.000000"
      ]
     },
     "execution_count": 56,
     "metadata": {},
     "output_type": "execute_result"
    }
   ],
   "source": [
    "df.describe()"
   ]
  },
  {
   "cell_type": "markdown",
   "id": "b5eba38a",
   "metadata": {},
   "source": [
    "### `.groupby` function\n",
    "- used for grouping the data according to the categories and apply a function to the categories"
   ]
  },
  {
   "cell_type": "code",
   "execution_count": 59,
   "id": "d3918240",
   "metadata": {},
   "outputs": [
    {
     "data": {
      "text/html": [
       "<div>\n",
       "<style scoped>\n",
       "    .dataframe tbody tr th:only-of-type {\n",
       "        vertical-align: middle;\n",
       "    }\n",
       "\n",
       "    .dataframe tbody tr th {\n",
       "        vertical-align: top;\n",
       "    }\n",
       "\n",
       "    .dataframe thead tr th {\n",
       "        text-align: left;\n",
       "    }\n",
       "\n",
       "    .dataframe thead tr:last-of-type th {\n",
       "        text-align: right;\n",
       "    }\n",
       "</style>\n",
       "<table border=\"1\" class=\"dataframe\">\n",
       "  <thead>\n",
       "    <tr>\n",
       "      <th></th>\n",
       "      <th colspan=\"2\" halign=\"left\">name</th>\n",
       "      <th colspan=\"2\" halign=\"left\">math</th>\n",
       "      <th colspan=\"2\" halign=\"left\">reading</th>\n",
       "      <th colspan=\"2\" halign=\"left\">english</th>\n",
       "    </tr>\n",
       "    <tr>\n",
       "      <th></th>\n",
       "      <th>min</th>\n",
       "      <th>max</th>\n",
       "      <th>min</th>\n",
       "      <th>max</th>\n",
       "      <th>min</th>\n",
       "      <th>max</th>\n",
       "      <th>min</th>\n",
       "      <th>max</th>\n",
       "    </tr>\n",
       "    <tr>\n",
       "      <th>room</th>\n",
       "      <th></th>\n",
       "      <th></th>\n",
       "      <th></th>\n",
       "      <th></th>\n",
       "      <th></th>\n",
       "      <th></th>\n",
       "      <th></th>\n",
       "      <th></th>\n",
       "    </tr>\n",
       "  </thead>\n",
       "  <tbody>\n",
       "    <tr>\n",
       "      <th>A</th>\n",
       "      <td>Isaac</td>\n",
       "      <td>Thomas</td>\n",
       "      <td>77</td>\n",
       "      <td>99</td>\n",
       "      <td>64</td>\n",
       "      <td>94</td>\n",
       "      <td>61</td>\n",
       "      <td>91</td>\n",
       "    </tr>\n",
       "    <tr>\n",
       "      <th>B</th>\n",
       "      <td>Ada</td>\n",
       "      <td>Sally</td>\n",
       "      <td>62</td>\n",
       "      <td>98</td>\n",
       "      <td>60</td>\n",
       "      <td>98</td>\n",
       "      <td>77</td>\n",
       "      <td>88</td>\n",
       "    </tr>\n",
       "  </tbody>\n",
       "</table>\n",
       "</div>"
      ],
      "text/plain": [
       "       name         math     reading     english    \n",
       "        min     max  min max     min max     min max\n",
       "room                                                \n",
       "A     Isaac  Thomas   77  99      64  94      61  91\n",
       "B       Ada   Sally   62  98      60  98      77  88"
      ]
     },
     "execution_count": 59,
     "metadata": {},
     "output_type": "execute_result"
    }
   ],
   "source": [
    "df.groupby('room').agg(['min','max'])"
   ]
  },
  {
   "cell_type": "code",
   "execution_count": 61,
   "id": "0c72d83c-8399-4f2d-bec3-3f71042a5c48",
   "metadata": {},
   "outputs": [
    {
     "data": {
      "text/html": [
       "<div>\n",
       "<style scoped>\n",
       "    .dataframe tbody tr th:only-of-type {\n",
       "        vertical-align: middle;\n",
       "    }\n",
       "\n",
       "    .dataframe tbody tr th {\n",
       "        vertical-align: top;\n",
       "    }\n",
       "\n",
       "    .dataframe thead th {\n",
       "        text-align: right;\n",
       "    }\n",
       "</style>\n",
       "<table border=\"1\" class=\"dataframe\">\n",
       "  <thead>\n",
       "    <tr style=\"text-align: right;\">\n",
       "      <th></th>\n",
       "      <th>room</th>\n",
       "      <th>A</th>\n",
       "      <th>B</th>\n",
       "    </tr>\n",
       "  </thead>\n",
       "  <tbody>\n",
       "    <tr>\n",
       "      <th rowspan=\"8\" valign=\"top\">math</th>\n",
       "      <th>count</th>\n",
       "      <td>6.000000</td>\n",
       "      <td>6.000000</td>\n",
       "    </tr>\n",
       "    <tr>\n",
       "      <th>mean</th>\n",
       "      <td>89.666667</td>\n",
       "      <td>81.500000</td>\n",
       "    </tr>\n",
       "    <tr>\n",
       "      <th>std</th>\n",
       "      <td>8.430105</td>\n",
       "      <td>12.469964</td>\n",
       "    </tr>\n",
       "    <tr>\n",
       "      <th>min</th>\n",
       "      <td>77.000000</td>\n",
       "      <td>62.000000</td>\n",
       "    </tr>\n",
       "    <tr>\n",
       "      <th>25%</th>\n",
       "      <td>84.750000</td>\n",
       "      <td>77.250000</td>\n",
       "    </tr>\n",
       "    <tr>\n",
       "      <th>50%</th>\n",
       "      <td>91.000000</td>\n",
       "      <td>80.500000</td>\n",
       "    </tr>\n",
       "    <tr>\n",
       "      <th>75%</th>\n",
       "      <td>95.750000</td>\n",
       "      <td>89.000000</td>\n",
       "    </tr>\n",
       "    <tr>\n",
       "      <th>max</th>\n",
       "      <td>99.000000</td>\n",
       "      <td>98.000000</td>\n",
       "    </tr>\n",
       "    <tr>\n",
       "      <th rowspan=\"8\" valign=\"top\">reading</th>\n",
       "      <th>count</th>\n",
       "      <td>6.000000</td>\n",
       "      <td>6.000000</td>\n",
       "    </tr>\n",
       "    <tr>\n",
       "      <th>mean</th>\n",
       "      <td>86.333333</td>\n",
       "      <td>80.333333</td>\n",
       "    </tr>\n",
       "    <tr>\n",
       "      <th>std</th>\n",
       "      <td>11.843423</td>\n",
       "      <td>14.348054</td>\n",
       "    </tr>\n",
       "    <tr>\n",
       "      <th>min</th>\n",
       "      <td>64.000000</td>\n",
       "      <td>60.000000</td>\n",
       "    </tr>\n",
       "    <tr>\n",
       "      <th>25%</th>\n",
       "      <td>84.250000</td>\n",
       "      <td>72.250000</td>\n",
       "    </tr>\n",
       "    <tr>\n",
       "      <th>50%</th>\n",
       "      <td>92.000000</td>\n",
       "      <td>80.000000</td>\n",
       "    </tr>\n",
       "    <tr>\n",
       "      <th>75%</th>\n",
       "      <td>93.750000</td>\n",
       "      <td>90.750000</td>\n",
       "    </tr>\n",
       "    <tr>\n",
       "      <th>max</th>\n",
       "      <td>94.000000</td>\n",
       "      <td>98.000000</td>\n",
       "    </tr>\n",
       "    <tr>\n",
       "      <th rowspan=\"8\" valign=\"top\">english</th>\n",
       "      <th>count</th>\n",
       "      <td>6.000000</td>\n",
       "      <td>6.000000</td>\n",
       "    </tr>\n",
       "    <tr>\n",
       "      <th>mean</th>\n",
       "      <td>80.166667</td>\n",
       "      <td>83.833333</td>\n",
       "    </tr>\n",
       "    <tr>\n",
       "      <th>std</th>\n",
       "      <td>11.634718</td>\n",
       "      <td>4.792355</td>\n",
       "    </tr>\n",
       "    <tr>\n",
       "      <th>min</th>\n",
       "      <td>61.000000</td>\n",
       "      <td>77.000000</td>\n",
       "    </tr>\n",
       "    <tr>\n",
       "      <th>25%</th>\n",
       "      <td>74.750000</td>\n",
       "      <td>80.250000</td>\n",
       "    </tr>\n",
       "    <tr>\n",
       "      <th>50%</th>\n",
       "      <td>82.500000</td>\n",
       "      <td>85.500000</td>\n",
       "    </tr>\n",
       "    <tr>\n",
       "      <th>75%</th>\n",
       "      <td>89.500000</td>\n",
       "      <td>87.750000</td>\n",
       "    </tr>\n",
       "    <tr>\n",
       "      <th>max</th>\n",
       "      <td>91.000000</td>\n",
       "      <td>88.000000</td>\n",
       "    </tr>\n",
       "  </tbody>\n",
       "</table>\n",
       "</div>"
      ],
      "text/plain": [
       "room                   A          B\n",
       "math    count   6.000000   6.000000\n",
       "        mean   89.666667  81.500000\n",
       "        std     8.430105  12.469964\n",
       "        min    77.000000  62.000000\n",
       "        25%    84.750000  77.250000\n",
       "        50%    91.000000  80.500000\n",
       "        75%    95.750000  89.000000\n",
       "        max    99.000000  98.000000\n",
       "reading count   6.000000   6.000000\n",
       "        mean   86.333333  80.333333\n",
       "        std    11.843423  14.348054\n",
       "        min    64.000000  60.000000\n",
       "        25%    84.250000  72.250000\n",
       "        50%    92.000000  80.000000\n",
       "        75%    93.750000  90.750000\n",
       "        max    94.000000  98.000000\n",
       "english count   6.000000   6.000000\n",
       "        mean   80.166667  83.833333\n",
       "        std    11.634718   4.792355\n",
       "        min    61.000000  77.000000\n",
       "        25%    74.750000  80.250000\n",
       "        50%    82.500000  85.500000\n",
       "        75%    89.500000  87.750000\n",
       "        max    91.000000  88.000000"
      ]
     },
     "execution_count": 61,
     "metadata": {},
     "output_type": "execute_result"
    }
   ],
   "source": [
    "df.groupby('room').describe().T"
   ]
  },
  {
   "cell_type": "markdown",
   "id": "43f732a8",
   "metadata": {},
   "source": [
    "#### `groupby` room column"
   ]
  },
  {
   "cell_type": "markdown",
   "id": "ff4b4e37",
   "metadata": {},
   "source": [
    "> what does this output mean?"
   ]
  },
  {
   "cell_type": "markdown",
   "id": "5e95e9d0",
   "metadata": {},
   "source": [
    "#### find max scores by room using `groupby`"
   ]
  },
  {
   "cell_type": "markdown",
   "id": "e283c6d9",
   "metadata": {},
   "source": [
    "format: `df.groupby('column_name').agg_function()`"
   ]
  },
  {
   "cell_type": "markdown",
   "id": "b4eef459-e619-48c0-80f8-3d0a1844a589",
   "metadata": {},
   "source": [
    "#### specifiy subjects only"
   ]
  },
  {
   "cell_type": "code",
   "execution_count": 62,
   "id": "b478f046",
   "metadata": {},
   "outputs": [
    {
     "data": {
      "text/html": [
       "<div>\n",
       "<style scoped>\n",
       "    .dataframe tbody tr th:only-of-type {\n",
       "        vertical-align: middle;\n",
       "    }\n",
       "\n",
       "    .dataframe tbody tr th {\n",
       "        vertical-align: top;\n",
       "    }\n",
       "\n",
       "    .dataframe thead th {\n",
       "        text-align: right;\n",
       "    }\n",
       "</style>\n",
       "<table border=\"1\" class=\"dataframe\">\n",
       "  <thead>\n",
       "    <tr style=\"text-align: right;\">\n",
       "      <th></th>\n",
       "      <th>reading</th>\n",
       "      <th>english</th>\n",
       "    </tr>\n",
       "    <tr>\n",
       "      <th>room</th>\n",
       "      <th></th>\n",
       "      <th></th>\n",
       "    </tr>\n",
       "  </thead>\n",
       "  <tbody>\n",
       "    <tr>\n",
       "      <th>A</th>\n",
       "      <td>94</td>\n",
       "      <td>91</td>\n",
       "    </tr>\n",
       "    <tr>\n",
       "      <th>B</th>\n",
       "      <td>98</td>\n",
       "      <td>88</td>\n",
       "    </tr>\n",
       "  </tbody>\n",
       "</table>\n",
       "</div>"
      ],
      "text/plain": [
       "      reading  english\n",
       "room                  \n",
       "A          94       91\n",
       "B          98       88"
      ]
     },
     "execution_count": 62,
     "metadata": {},
     "output_type": "execute_result"
    }
   ],
   "source": [
    "# i can specify multiple fields by\n",
    "# passing a list of fields into brackets like\n",
    "# i was doing previously.\n",
    "# i can then chain a max, agg, or whatever function\n",
    "# that works in conjunction with the aggregate\n",
    "df.groupby('room')[['reading','english']].max()"
   ]
  },
  {
   "cell_type": "markdown",
   "id": "f53cd82a",
   "metadata": {},
   "source": [
    "#### can also combine with `agg` "
   ]
  },
  {
   "cell_type": "code",
   "execution_count": 63,
   "id": "df70b047",
   "metadata": {},
   "outputs": [
    {
     "data": {
      "text/html": [
       "<div>\n",
       "<style scoped>\n",
       "    .dataframe tbody tr th:only-of-type {\n",
       "        vertical-align: middle;\n",
       "    }\n",
       "\n",
       "    .dataframe tbody tr th {\n",
       "        vertical-align: top;\n",
       "    }\n",
       "\n",
       "    .dataframe thead tr th {\n",
       "        text-align: left;\n",
       "    }\n",
       "\n",
       "    .dataframe thead tr:last-of-type th {\n",
       "        text-align: right;\n",
       "    }\n",
       "</style>\n",
       "<table border=\"1\" class=\"dataframe\">\n",
       "  <thead>\n",
       "    <tr>\n",
       "      <th></th>\n",
       "      <th colspan=\"3\" halign=\"left\">reading</th>\n",
       "      <th colspan=\"3\" halign=\"left\">english</th>\n",
       "    </tr>\n",
       "    <tr>\n",
       "      <th></th>\n",
       "      <th>max</th>\n",
       "      <th>mean</th>\n",
       "      <th>min</th>\n",
       "      <th>max</th>\n",
       "      <th>mean</th>\n",
       "      <th>min</th>\n",
       "    </tr>\n",
       "    <tr>\n",
       "      <th>room</th>\n",
       "      <th></th>\n",
       "      <th></th>\n",
       "      <th></th>\n",
       "      <th></th>\n",
       "      <th></th>\n",
       "      <th></th>\n",
       "    </tr>\n",
       "  </thead>\n",
       "  <tbody>\n",
       "    <tr>\n",
       "      <th>A</th>\n",
       "      <td>94</td>\n",
       "      <td>86.333333</td>\n",
       "      <td>64</td>\n",
       "      <td>91</td>\n",
       "      <td>80.166667</td>\n",
       "      <td>61</td>\n",
       "    </tr>\n",
       "    <tr>\n",
       "      <th>B</th>\n",
       "      <td>98</td>\n",
       "      <td>80.333333</td>\n",
       "      <td>60</td>\n",
       "      <td>88</td>\n",
       "      <td>83.833333</td>\n",
       "      <td>77</td>\n",
       "    </tr>\n",
       "  </tbody>\n",
       "</table>\n",
       "</div>"
      ],
      "text/plain": [
       "     reading                english               \n",
       "         max       mean min     max       mean min\n",
       "room                                              \n",
       "A         94  86.333333  64      91  80.166667  61\n",
       "B         98  80.333333  60      88  83.833333  77"
      ]
     },
     "execution_count": 63,
     "metadata": {},
     "output_type": "execute_result"
    }
   ],
   "source": [
    "df.groupby('room')[['reading','english']].agg(\n",
    "    ['max', 'mean', 'min'])"
   ]
  },
  {
   "cell_type": "code",
   "execution_count": 88,
   "id": "4f4180be",
   "metadata": {},
   "outputs": [
    {
     "data": {
      "text/html": [
       "<div>\n",
       "<style scoped>\n",
       "    .dataframe tbody tr th:only-of-type {\n",
       "        vertical-align: middle;\n",
       "    }\n",
       "\n",
       "    .dataframe tbody tr th {\n",
       "        vertical-align: top;\n",
       "    }\n",
       "\n",
       "    .dataframe thead tr th {\n",
       "        text-align: left;\n",
       "    }\n",
       "\n",
       "    .dataframe thead tr:last-of-type th {\n",
       "        text-align: right;\n",
       "    }\n",
       "</style>\n",
       "<table border=\"1\" class=\"dataframe\">\n",
       "  <thead>\n",
       "    <tr>\n",
       "      <th></th>\n",
       "      <th colspan=\"3\" halign=\"left\">reading</th>\n",
       "      <th colspan=\"3\" halign=\"left\">english</th>\n",
       "    </tr>\n",
       "    <tr>\n",
       "      <th></th>\n",
       "      <th>max</th>\n",
       "      <th>mean</th>\n",
       "      <th>min</th>\n",
       "      <th>max</th>\n",
       "      <th>mean</th>\n",
       "      <th>min</th>\n",
       "    </tr>\n",
       "    <tr>\n",
       "      <th>room</th>\n",
       "      <th></th>\n",
       "      <th></th>\n",
       "      <th></th>\n",
       "      <th></th>\n",
       "      <th></th>\n",
       "      <th></th>\n",
       "    </tr>\n",
       "  </thead>\n",
       "  <tbody>\n",
       "    <tr>\n",
       "      <th>A</th>\n",
       "      <td>94</td>\n",
       "      <td>86.333333</td>\n",
       "      <td>64</td>\n",
       "      <td>91</td>\n",
       "      <td>80.166667</td>\n",
       "      <td>61</td>\n",
       "    </tr>\n",
       "    <tr>\n",
       "      <th>B</th>\n",
       "      <td>98</td>\n",
       "      <td>80.333333</td>\n",
       "      <td>60</td>\n",
       "      <td>88</td>\n",
       "      <td>83.833333</td>\n",
       "      <td>77</td>\n",
       "    </tr>\n",
       "  </tbody>\n",
       "</table>\n",
       "</div>"
      ],
      "text/plain": [
       "     reading                english               \n",
       "         max       mean min     max       mean min\n",
       "room                                              \n",
       "A         94  86.333333  64      91  80.166667  61\n",
       "B         98  80.333333  60      88  83.833333  77"
      ]
     },
     "execution_count": 88,
     "metadata": {},
     "output_type": "execute_result"
    }
   ],
   "source": [
    "df.groupby('room')[['reading','english']].agg(\n",
    "    ['max', 'mean', 'min'])"
   ]
  },
  {
   "cell_type": "code",
   "execution_count": 91,
   "id": "a7920e2b-5192-4e2d-bc0e-96d0b6a974a0",
   "metadata": {},
   "outputs": [],
   "source": [
    "# pd.DataFrame.transform?"
   ]
  },
  {
   "cell_type": "code",
   "execution_count": 95,
   "id": "9b64ada3-ab0f-4a0c-a70b-5788bb7af5ab",
   "metadata": {},
   "outputs": [
    {
     "data": {
      "text/plain": [
       "12"
      ]
     },
     "execution_count": 95,
     "metadata": {},
     "output_type": "execute_result"
    }
   ],
   "source": [
    "len(df.groupby('room').math.transform('mean'))"
   ]
  },
  {
   "cell_type": "code",
   "execution_count": 97,
   "id": "01587781-5ba7-4d2f-be3d-1d578b857dc4",
   "metadata": {},
   "outputs": [
    {
     "data": {
      "text/plain": [
       "0     81.500000\n",
       "1     81.500000\n",
       "2     89.666667\n",
       "3     81.500000\n",
       "4     81.500000\n",
       "5     89.666667\n",
       "6     89.666667\n",
       "7     89.666667\n",
       "8     81.500000\n",
       "9     89.666667\n",
       "10    89.666667\n",
       "11    81.500000\n",
       "Name: math, dtype: float64"
      ]
     },
     "execution_count": 97,
     "metadata": {},
     "output_type": "execute_result"
    }
   ],
   "source": [
    "df.groupby('room').math.transform('mean')"
   ]
  },
  {
   "cell_type": "code",
   "execution_count": 103,
   "id": "a34eeb31-e896-4f6e-93d9-999e26643657",
   "metadata": {},
   "outputs": [
    {
     "data": {
      "text/html": [
       "<div>\n",
       "<style scoped>\n",
       "    .dataframe tbody tr th:only-of-type {\n",
       "        vertical-align: middle;\n",
       "    }\n",
       "\n",
       "    .dataframe tbody tr th {\n",
       "        vertical-align: top;\n",
       "    }\n",
       "\n",
       "    .dataframe thead th {\n",
       "        text-align: right;\n",
       "    }\n",
       "</style>\n",
       "<table border=\"1\" class=\"dataframe\">\n",
       "  <thead>\n",
       "    <tr style=\"text-align: right;\">\n",
       "      <th></th>\n",
       "      <th>math_avg</th>\n",
       "      <th>reading_avg</th>\n",
       "    </tr>\n",
       "  </thead>\n",
       "  <tbody>\n",
       "    <tr>\n",
       "      <th>0</th>\n",
       "      <td>81.500000</td>\n",
       "      <td>80.333333</td>\n",
       "    </tr>\n",
       "    <tr>\n",
       "      <th>1</th>\n",
       "      <td>81.500000</td>\n",
       "      <td>80.333333</td>\n",
       "    </tr>\n",
       "    <tr>\n",
       "      <th>2</th>\n",
       "      <td>89.666667</td>\n",
       "      <td>86.333333</td>\n",
       "    </tr>\n",
       "    <tr>\n",
       "      <th>3</th>\n",
       "      <td>81.500000</td>\n",
       "      <td>80.333333</td>\n",
       "    </tr>\n",
       "    <tr>\n",
       "      <th>4</th>\n",
       "      <td>81.500000</td>\n",
       "      <td>80.333333</td>\n",
       "    </tr>\n",
       "    <tr>\n",
       "      <th>5</th>\n",
       "      <td>89.666667</td>\n",
       "      <td>86.333333</td>\n",
       "    </tr>\n",
       "    <tr>\n",
       "      <th>6</th>\n",
       "      <td>89.666667</td>\n",
       "      <td>86.333333</td>\n",
       "    </tr>\n",
       "    <tr>\n",
       "      <th>7</th>\n",
       "      <td>89.666667</td>\n",
       "      <td>86.333333</td>\n",
       "    </tr>\n",
       "    <tr>\n",
       "      <th>8</th>\n",
       "      <td>81.500000</td>\n",
       "      <td>80.333333</td>\n",
       "    </tr>\n",
       "    <tr>\n",
       "      <th>9</th>\n",
       "      <td>89.666667</td>\n",
       "      <td>86.333333</td>\n",
       "    </tr>\n",
       "    <tr>\n",
       "      <th>10</th>\n",
       "      <td>89.666667</td>\n",
       "      <td>86.333333</td>\n",
       "    </tr>\n",
       "    <tr>\n",
       "      <th>11</th>\n",
       "      <td>81.500000</td>\n",
       "      <td>80.333333</td>\n",
       "    </tr>\n",
       "  </tbody>\n",
       "</table>\n",
       "</div>"
      ],
      "text/plain": [
       "     math_avg  reading_avg\n",
       "0   81.500000    80.333333\n",
       "1   81.500000    80.333333\n",
       "2   89.666667    86.333333\n",
       "3   81.500000    80.333333\n",
       "4   81.500000    80.333333\n",
       "5   89.666667    86.333333\n",
       "6   89.666667    86.333333\n",
       "7   89.666667    86.333333\n",
       "8   81.500000    80.333333\n",
       "9   89.666667    86.333333\n",
       "10  89.666667    86.333333\n",
       "11  81.500000    80.333333"
      ]
     },
     "execution_count": 103,
     "metadata": {},
     "output_type": "execute_result"
    }
   ],
   "source": [
    "df.groupby('room'\n",
    "          )[\n",
    "    ['math', 'reading']\n",
    "].transform('mean'\n",
    "           ).rename(\n",
    "    columns={'math':'math_avg',\n",
    "             'reading':'reading_avg'}\n",
    ")"
   ]
  },
  {
   "cell_type": "code",
   "execution_count": 97,
   "id": "ce909572-91b6-4d9f-a0de-77d4e7bf3e95",
   "metadata": {},
   "outputs": [
    {
     "data": {
      "text/plain": [
       "0     81.500000\n",
       "1     81.500000\n",
       "2     89.666667\n",
       "3     81.500000\n",
       "4     81.500000\n",
       "5     89.666667\n",
       "6     89.666667\n",
       "7     89.666667\n",
       "8     81.500000\n",
       "9     89.666667\n",
       "10    89.666667\n",
       "11    81.500000\n",
       "Name: math, dtype: float64"
      ]
     },
     "execution_count": 97,
     "metadata": {},
     "output_type": "execute_result"
    }
   ],
   "source": [
    "df.groupby('room').math.transform('mean')"
   ]
  },
  {
   "cell_type": "code",
   "execution_count": null,
   "id": "0ffcb406-b085-4328-a0dd-d092993685bc",
   "metadata": {},
   "outputs": [],
   "source": [
    "# how would I use this to calculate the difference\n",
    "# between each students current math grade and the average \n",
    "# math grade?"
   ]
  },
  {
   "cell_type": "code",
   "execution_count": null,
   "id": "03312dea-e9db-41f8-ac12-bd357b2ac460",
   "metadata": {},
   "outputs": [],
   "source": []
  },
  {
   "cell_type": "code",
   "execution_count": 99,
   "id": "ed652dc8-dd6a-4919-a7e0-a62a90c6adb4",
   "metadata": {},
   "outputs": [],
   "source": [
    "df['math_diff_from_avg'] = \\\n",
    "df['math'] - df.groupby('room').math.transform('mean')"
   ]
  },
  {
   "cell_type": "code",
   "execution_count": 100,
   "id": "18524116-60de-494c-bd26-fc312571f507",
   "metadata": {},
   "outputs": [
    {
     "data": {
      "text/plain": [
       "0     -7.583333\n",
       "1     -8.583333\n",
       "2     10.416667\n",
       "3    -23.583333\n",
       "4     12.416667\n",
       "5      9.416667\n",
       "6      1.416667\n",
       "7     13.416667\n",
       "8      5.416667\n",
       "9     -1.583333\n",
       "10    -8.583333\n",
       "11    -2.583333\n",
       "Name: math, dtype: float64"
      ]
     },
     "execution_count": 100,
     "metadata": {},
     "output_type": "execute_result"
    }
   ],
   "source": [
    "# this method works if we want to compare for overall\n",
    "# but does not account for comparing students\n",
    "# against their specific classroom peers!\n",
    "df['math'] - df.math.mean()"
   ]
  },
  {
   "cell_type": "code",
   "execution_count": 96,
   "id": "410d2144-33bd-4acb-ac18-90d49d2727ee",
   "metadata": {},
   "outputs": [
    {
     "data": {
      "text/plain": [
       "room\n",
       "A    89.666667\n",
       "B    81.500000\n",
       "Name: math, dtype: float64"
      ]
     },
     "execution_count": 96,
     "metadata": {},
     "output_type": "execute_result"
    }
   ],
   "source": [
    "df.groupby('room').math.agg('mean')"
   ]
  },
  {
   "cell_type": "markdown",
   "id": "c01e8ba4",
   "metadata": {},
   "source": [
    "## Combining dataframes\n",
    "\n",
    "How we combine dataframes together"
   ]
  },
  {
   "cell_type": "markdown",
   "id": "5fe59061",
   "metadata": {},
   "source": [
    "### `pd.concat`\n",
    "\n",
    "- adds two dataframes\n",
    "- adds them along either axis\n",
    "    - row-wise (axis=0) aka on top of each other \n",
    "    - column-wise (axis=1) aka next to each other\n",
    "- intial dataframes are completely intact afterwards\n",
    "    \n",
    " \n",
    "format: `pd.concat([df1,df2], axis=#)`"
   ]
  },
  {
   "attachments": {
    "image.png": {
     "image/png": "[encoded data removed]"
    }
   },
   "cell_type": "markdown",
   "id": "803e2f05",
   "metadata": {},
   "source": [
    "![image.png](attachment:image.png)"
   ]
  },
  {
   "cell_type": "code",
   "execution_count": 76,
   "id": "acf0f3bf",
   "metadata": {},
   "outputs": [
    {
     "data": {
      "text/html": [
       "<div>\n",
       "<style scoped>\n",
       "    .dataframe tbody tr th:only-of-type {\n",
       "        vertical-align: middle;\n",
       "    }\n",
       "\n",
       "    .dataframe tbody tr th {\n",
       "        vertical-align: top;\n",
       "    }\n",
       "\n",
       "    .dataframe thead th {\n",
       "        text-align: right;\n",
       "    }\n",
       "</style>\n",
       "<table border=\"1\" class=\"dataframe\">\n",
       "  <thead>\n",
       "    <tr style=\"text-align: right;\">\n",
       "      <th></th>\n",
       "      <th>col1</th>\n",
       "      <th>col2</th>\n",
       "    </tr>\n",
       "  </thead>\n",
       "  <tbody>\n",
       "    <tr>\n",
       "      <th>0</th>\n",
       "      <td>1</td>\n",
       "      <td>6</td>\n",
       "    </tr>\n",
       "    <tr>\n",
       "      <th>1</th>\n",
       "      <td>6</td>\n",
       "      <td>9</td>\n",
       "    </tr>\n",
       "    <tr>\n",
       "      <th>2</th>\n",
       "      <td>3</td>\n",
       "      <td>20</td>\n",
       "    </tr>\n",
       "  </tbody>\n",
       "</table>\n",
       "</div>"
      ],
      "text/plain": [
       "   col1  col2\n",
       "0     1     6\n",
       "1     6     9\n",
       "2     3    20"
      ]
     },
     "execution_count": 76,
     "metadata": {},
     "output_type": "execute_result"
    }
   ],
   "source": [
    "df1 = pd.DataFrame({'col1': [1, 6, 3], 'col2': [6, 9, 20]})\n",
    "df1"
   ]
  },
  {
   "cell_type": "code",
   "execution_count": 77,
   "id": "17a57504",
   "metadata": {},
   "outputs": [
    {
     "data": {
      "text/html": [
       "<div>\n",
       "<style scoped>\n",
       "    .dataframe tbody tr th:only-of-type {\n",
       "        vertical-align: middle;\n",
       "    }\n",
       "\n",
       "    .dataframe tbody tr th {\n",
       "        vertical-align: top;\n",
       "    }\n",
       "\n",
       "    .dataframe thead th {\n",
       "        text-align: right;\n",
       "    }\n",
       "</style>\n",
       "<table border=\"1\" class=\"dataframe\">\n",
       "  <thead>\n",
       "    <tr style=\"text-align: right;\">\n",
       "      <th></th>\n",
       "      <th>col1</th>\n",
       "      <th>col2</th>\n",
       "    </tr>\n",
       "  </thead>\n",
       "  <tbody>\n",
       "    <tr>\n",
       "      <th>0</th>\n",
       "      <td>89</td>\n",
       "      <td>110111</td>\n",
       "    </tr>\n",
       "    <tr>\n",
       "      <th>1</th>\n",
       "      <td>76</td>\n",
       "      <td>11101</td>\n",
       "    </tr>\n",
       "    <tr>\n",
       "      <th>2</th>\n",
       "      <td>24</td>\n",
       "      <td>10900</td>\n",
       "    </tr>\n",
       "  </tbody>\n",
       "</table>\n",
       "</div>"
      ],
      "text/plain": [
       "   col1    col2\n",
       "0    89  110111\n",
       "1    76   11101\n",
       "2    24   10900"
      ]
     },
     "execution_count": 77,
     "metadata": {},
     "output_type": "execute_result"
    }
   ],
   "source": [
    "df2 = pd.DataFrame({'col1': [89, 76, 24], 'col2': [110111, 11101, 10900]})\n",
    "df2"
   ]
  },
  {
   "cell_type": "markdown",
   "id": "12227540",
   "metadata": {},
   "source": [
    "#### concat two dfs row-wise (keep all the rows)"
   ]
  },
  {
   "cell_type": "code",
   "execution_count": 71,
   "id": "72059e28",
   "metadata": {},
   "outputs": [
    {
     "data": {
      "text/html": [
       "<div>\n",
       "<style scoped>\n",
       "    .dataframe tbody tr th:only-of-type {\n",
       "        vertical-align: middle;\n",
       "    }\n",
       "\n",
       "    .dataframe tbody tr th {\n",
       "        vertical-align: top;\n",
       "    }\n",
       "\n",
       "    .dataframe thead th {\n",
       "        text-align: right;\n",
       "    }\n",
       "</style>\n",
       "<table border=\"1\" class=\"dataframe\">\n",
       "  <thead>\n",
       "    <tr style=\"text-align: right;\">\n",
       "      <th></th>\n",
       "      <th>col1</th>\n",
       "      <th>col2</th>\n",
       "    </tr>\n",
       "  </thead>\n",
       "  <tbody>\n",
       "    <tr>\n",
       "      <th>0</th>\n",
       "      <td>1</td>\n",
       "      <td>6</td>\n",
       "    </tr>\n",
       "    <tr>\n",
       "      <th>1</th>\n",
       "      <td>6</td>\n",
       "      <td>9</td>\n",
       "    </tr>\n",
       "    <tr>\n",
       "      <th>2</th>\n",
       "      <td>3</td>\n",
       "      <td>20</td>\n",
       "    </tr>\n",
       "    <tr>\n",
       "      <th>0</th>\n",
       "      <td>89</td>\n",
       "      <td>110111</td>\n",
       "    </tr>\n",
       "    <tr>\n",
       "      <th>1</th>\n",
       "      <td>76</td>\n",
       "      <td>11101</td>\n",
       "    </tr>\n",
       "    <tr>\n",
       "      <th>2</th>\n",
       "      <td>24</td>\n",
       "      <td>10900</td>\n",
       "    </tr>\n",
       "  </tbody>\n",
       "</table>\n",
       "</div>"
      ],
      "text/plain": [
       "   col1    col2\n",
       "0     1       6\n",
       "1     6       9\n",
       "2     3      20\n",
       "0    89  110111\n",
       "1    76   11101\n",
       "2    24   10900"
      ]
     },
     "execution_count": 71,
     "metadata": {},
     "output_type": "execute_result"
    }
   ],
   "source": [
    "pd.concat([df1,df2], axis=0)"
   ]
  },
  {
   "cell_type": "code",
   "execution_count": null,
   "id": "828e3a9a",
   "metadata": {},
   "outputs": [],
   "source": []
  },
  {
   "cell_type": "code",
   "execution_count": 67,
   "id": "8eaaaa77-8daa-4f24-bf63-3579f3c8cf61",
   "metadata": {},
   "outputs": [
    {
     "data": {
      "text/html": [
       "<div>\n",
       "<style scoped>\n",
       "    .dataframe tbody tr th:only-of-type {\n",
       "        vertical-align: middle;\n",
       "    }\n",
       "\n",
       "    .dataframe tbody tr th {\n",
       "        vertical-align: top;\n",
       "    }\n",
       "\n",
       "    .dataframe thead th {\n",
       "        text-align: right;\n",
       "    }\n",
       "</style>\n",
       "<table border=\"1\" class=\"dataframe\">\n",
       "  <thead>\n",
       "    <tr style=\"text-align: right;\">\n",
       "      <th></th>\n",
       "      <th>col1</th>\n",
       "      <th>col2</th>\n",
       "    </tr>\n",
       "  </thead>\n",
       "  <tbody>\n",
       "    <tr>\n",
       "      <th>0</th>\n",
       "      <td>1</td>\n",
       "      <td>6</td>\n",
       "    </tr>\n",
       "    <tr>\n",
       "      <th>1</th>\n",
       "      <td>6</td>\n",
       "      <td>9</td>\n",
       "    </tr>\n",
       "    <tr>\n",
       "      <th>2</th>\n",
       "      <td>3</td>\n",
       "      <td>20</td>\n",
       "    </tr>\n",
       "    <tr>\n",
       "      <th>3</th>\n",
       "      <td>89</td>\n",
       "      <td>110111</td>\n",
       "    </tr>\n",
       "    <tr>\n",
       "      <th>4</th>\n",
       "      <td>76</td>\n",
       "      <td>11101</td>\n",
       "    </tr>\n",
       "    <tr>\n",
       "      <th>5</th>\n",
       "      <td>24</td>\n",
       "      <td>10900</td>\n",
       "    </tr>\n",
       "  </tbody>\n",
       "</table>\n",
       "</div>"
      ],
      "text/plain": [
       "   col1    col2\n",
       "0     1       6\n",
       "1     6       9\n",
       "2     3      20\n",
       "3    89  110111\n",
       "4    76   11101\n",
       "5    24   10900"
      ]
     },
     "execution_count": 67,
     "metadata": {},
     "output_type": "execute_result"
    }
   ],
   "source": [
    "pd.concat([df1,df2], axis=0, ignore_index=True)"
   ]
  },
  {
   "cell_type": "markdown",
   "id": "194c35ea",
   "metadata": {},
   "source": [
    "#### concat two dfs column-wise (keep all the columns)"
   ]
  },
  {
   "cell_type": "code",
   "execution_count": 74,
   "id": "73b2307d",
   "metadata": {},
   "outputs": [
    {
     "data": {
      "text/html": [
       "<div>\n",
       "<style scoped>\n",
       "    .dataframe tbody tr th:only-of-type {\n",
       "        vertical-align: middle;\n",
       "    }\n",
       "\n",
       "    .dataframe tbody tr th {\n",
       "        vertical-align: top;\n",
       "    }\n",
       "\n",
       "    .dataframe thead th {\n",
       "        text-align: right;\n",
       "    }\n",
       "</style>\n",
       "<table border=\"1\" class=\"dataframe\">\n",
       "  <thead>\n",
       "    <tr style=\"text-align: right;\">\n",
       "      <th></th>\n",
       "      <th>col1</th>\n",
       "      <th>col2</th>\n",
       "      <th>col1</th>\n",
       "      <th>col2</th>\n",
       "    </tr>\n",
       "  </thead>\n",
       "  <tbody>\n",
       "    <tr>\n",
       "      <th>0</th>\n",
       "      <td>1</td>\n",
       "      <td>6</td>\n",
       "      <td>89</td>\n",
       "      <td>110111</td>\n",
       "    </tr>\n",
       "    <tr>\n",
       "      <th>1</th>\n",
       "      <td>6</td>\n",
       "      <td>9</td>\n",
       "      <td>76</td>\n",
       "      <td>11101</td>\n",
       "    </tr>\n",
       "    <tr>\n",
       "      <th>2</th>\n",
       "      <td>3</td>\n",
       "      <td>20</td>\n",
       "      <td>24</td>\n",
       "      <td>10900</td>\n",
       "    </tr>\n",
       "  </tbody>\n",
       "</table>\n",
       "</div>"
      ],
      "text/plain": [
       "   col1  col2  col1    col2\n",
       "0     1     6    89  110111\n",
       "1     6     9    76   11101\n",
       "2     3    20    24   10900"
      ]
     },
     "execution_count": 74,
     "metadata": {},
     "output_type": "execute_result"
    }
   ],
   "source": [
    "# note that we have repeated column names here\n",
    "pd.concat([df1,df2], axis=1)"
   ]
  },
  {
   "cell_type": "code",
   "execution_count": null,
   "id": "f676543a-d6d8-40d0-a1f1-307ac5d6655b",
   "metadata": {},
   "outputs": [],
   "source": [
    "# rows: r0ws, cols: co1s"
   ]
  },
  {
   "cell_type": "code",
   "execution_count": 104,
   "id": "51cb854f-c44b-4c11-8bed-db0a1b88fa2f",
   "metadata": {},
   "outputs": [],
   "source": [
    "math_and_reading_by_classroom = df.groupby('room'\n",
    "          )[\n",
    "    ['math', 'reading']\n",
    "].transform('mean'\n",
    "           ).rename(\n",
    "    columns={'math':'math_avg',\n",
    "             'reading':'reading_avg'}\n",
    ")"
   ]
  },
  {
   "cell_type": "code",
   "execution_count": 105,
   "id": "e0c7d599-bc3a-42e9-84a4-4d208b251f87",
   "metadata": {},
   "outputs": [
    {
     "data": {
      "text/html": [
       "<div>\n",
       "<style scoped>\n",
       "    .dataframe tbody tr th:only-of-type {\n",
       "        vertical-align: middle;\n",
       "    }\n",
       "\n",
       "    .dataframe tbody tr th {\n",
       "        vertical-align: top;\n",
       "    }\n",
       "\n",
       "    .dataframe thead th {\n",
       "        text-align: right;\n",
       "    }\n",
       "</style>\n",
       "<table border=\"1\" class=\"dataframe\">\n",
       "  <thead>\n",
       "    <tr style=\"text-align: right;\">\n",
       "      <th></th>\n",
       "      <th>name</th>\n",
       "      <th>math</th>\n",
       "      <th>reading</th>\n",
       "      <th>english</th>\n",
       "      <th>room</th>\n",
       "      <th>math_diff_from_avg</th>\n",
       "      <th>math_avg</th>\n",
       "      <th>reading_avg</th>\n",
       "    </tr>\n",
       "  </thead>\n",
       "  <tbody>\n",
       "    <tr>\n",
       "      <th>0</th>\n",
       "      <td>Sally</td>\n",
       "      <td>78</td>\n",
       "      <td>73</td>\n",
       "      <td>84</td>\n",
       "      <td>B</td>\n",
       "      <td>-3.500000</td>\n",
       "      <td>81.500000</td>\n",
       "      <td>80.333333</td>\n",
       "    </tr>\n",
       "    <tr>\n",
       "      <th>1</th>\n",
       "      <td>Jane</td>\n",
       "      <td>77</td>\n",
       "      <td>98</td>\n",
       "      <td>79</td>\n",
       "      <td>B</td>\n",
       "      <td>-4.500000</td>\n",
       "      <td>81.500000</td>\n",
       "      <td>80.333333</td>\n",
       "    </tr>\n",
       "    <tr>\n",
       "      <th>2</th>\n",
       "      <td>Suzie</td>\n",
       "      <td>96</td>\n",
       "      <td>91</td>\n",
       "      <td>91</td>\n",
       "      <td>A</td>\n",
       "      <td>6.333333</td>\n",
       "      <td>89.666667</td>\n",
       "      <td>86.333333</td>\n",
       "    </tr>\n",
       "    <tr>\n",
       "      <th>3</th>\n",
       "      <td>Billy</td>\n",
       "      <td>62</td>\n",
       "      <td>72</td>\n",
       "      <td>88</td>\n",
       "      <td>B</td>\n",
       "      <td>-19.500000</td>\n",
       "      <td>81.500000</td>\n",
       "      <td>80.333333</td>\n",
       "    </tr>\n",
       "    <tr>\n",
       "      <th>4</th>\n",
       "      <td>Ada</td>\n",
       "      <td>98</td>\n",
       "      <td>92</td>\n",
       "      <td>88</td>\n",
       "      <td>B</td>\n",
       "      <td>16.500000</td>\n",
       "      <td>81.500000</td>\n",
       "      <td>80.333333</td>\n",
       "    </tr>\n",
       "    <tr>\n",
       "      <th>5</th>\n",
       "      <td>John</td>\n",
       "      <td>95</td>\n",
       "      <td>64</td>\n",
       "      <td>73</td>\n",
       "      <td>A</td>\n",
       "      <td>5.333333</td>\n",
       "      <td>89.666667</td>\n",
       "      <td>86.333333</td>\n",
       "    </tr>\n",
       "    <tr>\n",
       "      <th>6</th>\n",
       "      <td>Thomas</td>\n",
       "      <td>87</td>\n",
       "      <td>82</td>\n",
       "      <td>80</td>\n",
       "      <td>A</td>\n",
       "      <td>-2.666667</td>\n",
       "      <td>89.666667</td>\n",
       "      <td>86.333333</td>\n",
       "    </tr>\n",
       "    <tr>\n",
       "      <th>7</th>\n",
       "      <td>Marie</td>\n",
       "      <td>99</td>\n",
       "      <td>94</td>\n",
       "      <td>85</td>\n",
       "      <td>A</td>\n",
       "      <td>9.333333</td>\n",
       "      <td>89.666667</td>\n",
       "      <td>86.333333</td>\n",
       "    </tr>\n",
       "    <tr>\n",
       "      <th>8</th>\n",
       "      <td>Albert</td>\n",
       "      <td>91</td>\n",
       "      <td>87</td>\n",
       "      <td>77</td>\n",
       "      <td>B</td>\n",
       "      <td>9.500000</td>\n",
       "      <td>81.500000</td>\n",
       "      <td>80.333333</td>\n",
       "    </tr>\n",
       "    <tr>\n",
       "      <th>9</th>\n",
       "      <td>Richard</td>\n",
       "      <td>84</td>\n",
       "      <td>94</td>\n",
       "      <td>61</td>\n",
       "      <td>A</td>\n",
       "      <td>-5.666667</td>\n",
       "      <td>89.666667</td>\n",
       "      <td>86.333333</td>\n",
       "    </tr>\n",
       "    <tr>\n",
       "      <th>10</th>\n",
       "      <td>Isaac</td>\n",
       "      <td>77</td>\n",
       "      <td>93</td>\n",
       "      <td>91</td>\n",
       "      <td>A</td>\n",
       "      <td>-12.666667</td>\n",
       "      <td>89.666667</td>\n",
       "      <td>86.333333</td>\n",
       "    </tr>\n",
       "    <tr>\n",
       "      <th>11</th>\n",
       "      <td>Alan</td>\n",
       "      <td>83</td>\n",
       "      <td>60</td>\n",
       "      <td>87</td>\n",
       "      <td>B</td>\n",
       "      <td>1.500000</td>\n",
       "      <td>81.500000</td>\n",
       "      <td>80.333333</td>\n",
       "    </tr>\n",
       "  </tbody>\n",
       "</table>\n",
       "</div>"
      ],
      "text/plain": [
       "       name  math  reading  english room  math_diff_from_avg   math_avg  \\\n",
       "0     Sally    78       73       84    B           -3.500000  81.500000   \n",
       "1      Jane    77       98       79    B           -4.500000  81.500000   \n",
       "2     Suzie    96       91       91    A            6.333333  89.666667   \n",
       "3     Billy    62       72       88    B          -19.500000  81.500000   \n",
       "4       Ada    98       92       88    B           16.500000  81.500000   \n",
       "5      John    95       64       73    A            5.333333  89.666667   \n",
       "6    Thomas    87       82       80    A           -2.666667  89.666667   \n",
       "7     Marie    99       94       85    A            9.333333  89.666667   \n",
       "8    Albert    91       87       77    B            9.500000  81.500000   \n",
       "9   Richard    84       94       61    A           -5.666667  89.666667   \n",
       "10    Isaac    77       93       91    A          -12.666667  89.666667   \n",
       "11     Alan    83       60       87    B            1.500000  81.500000   \n",
       "\n",
       "    reading_avg  \n",
       "0     80.333333  \n",
       "1     80.333333  \n",
       "2     86.333333  \n",
       "3     80.333333  \n",
       "4     80.333333  \n",
       "5     86.333333  \n",
       "6     86.333333  \n",
       "7     86.333333  \n",
       "8     80.333333  \n",
       "9     86.333333  \n",
       "10    86.333333  \n",
       "11    80.333333  "
      ]
     },
     "execution_count": 105,
     "metadata": {},
     "output_type": "execute_result"
    }
   ],
   "source": [
    "pd.concat(\n",
    "    [df, math_and_reading_by_classroom]\n",
    "    , axis=1)"
   ]
  },
  {
   "cell_type": "code",
   "execution_count": null,
   "id": "0c809dc8-61ba-4182-b983-aafb045faf88",
   "metadata": {},
   "outputs": [],
   "source": []
  },
  {
   "cell_type": "markdown",
   "id": "c8215e02",
   "metadata": {},
   "source": [
    "### `pd.merge`\n",
    "\n",
    "- combines two dataframes like a SQL join    \n",
    " \n",
    "format: `pd.merge(df1,df2, how='', on='column_name')`"
   ]
  },
  {
   "cell_type": "code",
   "execution_count": 80,
   "id": "a707a332-549b-4410-8ee7-badd27876962",
   "metadata": {},
   "outputs": [],
   "source": [
    "# pd.DataFrame.merge?"
   ]
  },
  {
   "cell_type": "code",
   "execution_count": 81,
   "id": "ae1d15a8-cef7-49c0-8b20-b1de9bde3380",
   "metadata": {},
   "outputs": [],
   "source": [
    "# pd.merge?"
   ]
  },
  {
   "attachments": {
    "image.png": {
     "image/png": "[encoded data removed]"
    }
   },
   "cell_type": "markdown",
   "id": "d88195a5",
   "metadata": {},
   "source": [
    "![image.png](attachment:image.png)"
   ]
  },
  {
   "cell_type": "code",
   "execution_count": 82,
   "id": "70feff02",
   "metadata": {},
   "outputs": [
    {
     "data": {
      "text/html": [
       "<div>\n",
       "<style scoped>\n",
       "    .dataframe tbody tr th:only-of-type {\n",
       "        vertical-align: middle;\n",
       "    }\n",
       "\n",
       "    .dataframe tbody tr th {\n",
       "        vertical-align: top;\n",
       "    }\n",
       "\n",
       "    .dataframe thead th {\n",
       "        text-align: right;\n",
       "    }\n",
       "</style>\n",
       "<table border=\"1\" class=\"dataframe\">\n",
       "  <thead>\n",
       "    <tr style=\"text-align: right;\">\n",
       "      <th></th>\n",
       "      <th>id</th>\n",
       "      <th>name</th>\n",
       "      <th>role_id</th>\n",
       "    </tr>\n",
       "  </thead>\n",
       "  <tbody>\n",
       "    <tr>\n",
       "      <th>0</th>\n",
       "      <td>1</td>\n",
       "      <td>bob</td>\n",
       "      <td>1.0</td>\n",
       "    </tr>\n",
       "    <tr>\n",
       "      <th>1</th>\n",
       "      <td>2</td>\n",
       "      <td>joe</td>\n",
       "      <td>2.0</td>\n",
       "    </tr>\n",
       "    <tr>\n",
       "      <th>2</th>\n",
       "      <td>3</td>\n",
       "      <td>sally</td>\n",
       "      <td>3.0</td>\n",
       "    </tr>\n",
       "    <tr>\n",
       "      <th>3</th>\n",
       "      <td>4</td>\n",
       "      <td>adam</td>\n",
       "      <td>3.0</td>\n",
       "    </tr>\n",
       "    <tr>\n",
       "      <th>4</th>\n",
       "      <td>5</td>\n",
       "      <td>jane</td>\n",
       "      <td>NaN</td>\n",
       "    </tr>\n",
       "    <tr>\n",
       "      <th>5</th>\n",
       "      <td>6</td>\n",
       "      <td>mike</td>\n",
       "      <td>NaN</td>\n",
       "    </tr>\n",
       "  </tbody>\n",
       "</table>\n",
       "</div>"
      ],
      "text/plain": [
       "   id   name  role_id\n",
       "0   1    bob      1.0\n",
       "1   2    joe      2.0\n",
       "2   3  sally      3.0\n",
       "3   4   adam      3.0\n",
       "4   5   jane      NaN\n",
       "5   6   mike      NaN"
      ]
     },
     "execution_count": 82,
     "metadata": {},
     "output_type": "execute_result"
    }
   ],
   "source": [
    "# Create the users DataFrame\n",
    "users = pd.DataFrame({\n",
    "    'id': [1, 2, 3, 4, 5, 6],\n",
    "    'name': ['bob', 'joe', 'sally', 'adam', 'jane', 'mike'],\n",
    "    'role_id': [1, 2, 3, 3, np.nan, np.nan]\n",
    "})\n",
    "users"
   ]
  },
  {
   "cell_type": "code",
   "execution_count": 83,
   "id": "ea464bf7",
   "metadata": {},
   "outputs": [
    {
     "data": {
      "text/html": [
       "<div>\n",
       "<style scoped>\n",
       "    .dataframe tbody tr th:only-of-type {\n",
       "        vertical-align: middle;\n",
       "    }\n",
       "\n",
       "    .dataframe tbody tr th {\n",
       "        vertical-align: top;\n",
       "    }\n",
       "\n",
       "    .dataframe thead th {\n",
       "        text-align: right;\n",
       "    }\n",
       "</style>\n",
       "<table border=\"1\" class=\"dataframe\">\n",
       "  <thead>\n",
       "    <tr style=\"text-align: right;\">\n",
       "      <th></th>\n",
       "      <th>id</th>\n",
       "      <th>name</th>\n",
       "    </tr>\n",
       "  </thead>\n",
       "  <tbody>\n",
       "    <tr>\n",
       "      <th>0</th>\n",
       "      <td>1</td>\n",
       "      <td>admin</td>\n",
       "    </tr>\n",
       "    <tr>\n",
       "      <th>1</th>\n",
       "      <td>2</td>\n",
       "      <td>author</td>\n",
       "    </tr>\n",
       "    <tr>\n",
       "      <th>2</th>\n",
       "      <td>3</td>\n",
       "      <td>reviewer</td>\n",
       "    </tr>\n",
       "    <tr>\n",
       "      <th>3</th>\n",
       "      <td>4</td>\n",
       "      <td>commenter</td>\n",
       "    </tr>\n",
       "  </tbody>\n",
       "</table>\n",
       "</div>"
      ],
      "text/plain": [
       "   id       name\n",
       "0   1      admin\n",
       "1   2     author\n",
       "2   3   reviewer\n",
       "3   4  commenter"
      ]
     },
     "execution_count": 83,
     "metadata": {},
     "output_type": "execute_result"
    }
   ],
   "source": [
    "# Create the roles DataFrame\n",
    "roles = pd.DataFrame({\n",
    "    'id': [1, 2, 3, 4],\n",
    "    'name': ['admin', 'author', 'reviewer', 'commenter']\n",
    "})\n",
    "roles"
   ]
  },
  {
   "cell_type": "markdown",
   "id": "71ca3806",
   "metadata": {},
   "source": [
    "#### merge dfs on the role id"
   ]
  },
  {
   "cell_type": "code",
   "execution_count": 84,
   "id": "4548fa76",
   "metadata": {},
   "outputs": [
    {
     "data": {
      "text/html": [
       "<div>\n",
       "<style scoped>\n",
       "    .dataframe tbody tr th:only-of-type {\n",
       "        vertical-align: middle;\n",
       "    }\n",
       "\n",
       "    .dataframe tbody tr th {\n",
       "        vertical-align: top;\n",
       "    }\n",
       "\n",
       "    .dataframe thead th {\n",
       "        text-align: right;\n",
       "    }\n",
       "</style>\n",
       "<table border=\"1\" class=\"dataframe\">\n",
       "  <thead>\n",
       "    <tr style=\"text-align: right;\">\n",
       "      <th></th>\n",
       "      <th>key_0</th>\n",
       "      <th>id_x</th>\n",
       "      <th>name_x</th>\n",
       "      <th>role_id</th>\n",
       "      <th>id_y</th>\n",
       "      <th>name_y</th>\n",
       "    </tr>\n",
       "  </thead>\n",
       "  <tbody>\n",
       "    <tr>\n",
       "      <th>0</th>\n",
       "      <td>1.0</td>\n",
       "      <td>1</td>\n",
       "      <td>bob</td>\n",
       "      <td>1.0</td>\n",
       "      <td>1</td>\n",
       "      <td>admin</td>\n",
       "    </tr>\n",
       "    <tr>\n",
       "      <th>1</th>\n",
       "      <td>2.0</td>\n",
       "      <td>2</td>\n",
       "      <td>joe</td>\n",
       "      <td>2.0</td>\n",
       "      <td>2</td>\n",
       "      <td>author</td>\n",
       "    </tr>\n",
       "    <tr>\n",
       "      <th>2</th>\n",
       "      <td>3.0</td>\n",
       "      <td>3</td>\n",
       "      <td>sally</td>\n",
       "      <td>3.0</td>\n",
       "      <td>3</td>\n",
       "      <td>reviewer</td>\n",
       "    </tr>\n",
       "    <tr>\n",
       "      <th>3</th>\n",
       "      <td>3.0</td>\n",
       "      <td>4</td>\n",
       "      <td>adam</td>\n",
       "      <td>3.0</td>\n",
       "      <td>3</td>\n",
       "      <td>reviewer</td>\n",
       "    </tr>\n",
       "  </tbody>\n",
       "</table>\n",
       "</div>"
      ],
      "text/plain": [
       "   key_0  id_x name_x  role_id  id_y    name_y\n",
       "0    1.0     1    bob      1.0     1     admin\n",
       "1    2.0     2    joe      2.0     2    author\n",
       "2    3.0     3  sally      3.0     3  reviewer\n",
       "3    3.0     4   adam      3.0     3  reviewer"
      ]
     },
     "execution_count": 84,
     "metadata": {},
     "output_type": "execute_result"
    }
   ],
   "source": [
    "# pd.merge(df1,df2, how='', on='column_name')\n",
    "pd.merge(users,\n",
    "         roles,\n",
    "         how='inner',\n",
    "         left_on=users.role_id,\n",
    "         right_on=roles.id)"
   ]
  },
  {
   "cell_type": "code",
   "execution_count": 106,
   "id": "771ec80c-452e-4815-9d3b-6271e4719093",
   "metadata": {},
   "outputs": [
    {
     "data": {
      "text/plain": [
       "\u001b[0;31mSignature:\u001b[0m\n",
       "\u001b[0mpd\u001b[0m\u001b[0;34m.\u001b[0m\u001b[0mmerge\u001b[0m\u001b[0;34m(\u001b[0m\u001b[0;34m\u001b[0m\n",
       "\u001b[0;34m\u001b[0m    \u001b[0mleft\u001b[0m\u001b[0;34m:\u001b[0m \u001b[0;34m'DataFrame | Series'\u001b[0m\u001b[0;34m,\u001b[0m\u001b[0;34m\u001b[0m\n",
       "\u001b[0;34m\u001b[0m    \u001b[0mright\u001b[0m\u001b[0;34m:\u001b[0m \u001b[0;34m'DataFrame | Series'\u001b[0m\u001b[0;34m,\u001b[0m\u001b[0;34m\u001b[0m\n",
       "\u001b[0;34m\u001b[0m    \u001b[0mhow\u001b[0m\u001b[0;34m:\u001b[0m \u001b[0;34m'MergeHow'\u001b[0m \u001b[0;34m=\u001b[0m \u001b[0;34m'inner'\u001b[0m\u001b[0;34m,\u001b[0m\u001b[0;34m\u001b[0m\n",
       "\u001b[0;34m\u001b[0m    \u001b[0mon\u001b[0m\u001b[0;34m:\u001b[0m \u001b[0;34m'IndexLabel | None'\u001b[0m \u001b[0;34m=\u001b[0m \u001b[0;32mNone\u001b[0m\u001b[0;34m,\u001b[0m\u001b[0;34m\u001b[0m\n",
       "\u001b[0;34m\u001b[0m    \u001b[0mleft_on\u001b[0m\u001b[0;34m:\u001b[0m \u001b[0;34m'IndexLabel | None'\u001b[0m \u001b[0;34m=\u001b[0m \u001b[0;32mNone\u001b[0m\u001b[0;34m,\u001b[0m\u001b[0;34m\u001b[0m\n",
       "\u001b[0;34m\u001b[0m    \u001b[0mright_on\u001b[0m\u001b[0;34m:\u001b[0m \u001b[0;34m'IndexLabel | None'\u001b[0m \u001b[0;34m=\u001b[0m \u001b[0;32mNone\u001b[0m\u001b[0;34m,\u001b[0m\u001b[0;34m\u001b[0m\n",
       "\u001b[0;34m\u001b[0m    \u001b[0mleft_index\u001b[0m\u001b[0;34m:\u001b[0m \u001b[0;34m'bool'\u001b[0m \u001b[0;34m=\u001b[0m \u001b[0;32mFalse\u001b[0m\u001b[0;34m,\u001b[0m\u001b[0;34m\u001b[0m\n",
       "\u001b[0;34m\u001b[0m    \u001b[0mright_index\u001b[0m\u001b[0;34m:\u001b[0m \u001b[0;34m'bool'\u001b[0m \u001b[0;34m=\u001b[0m \u001b[0;32mFalse\u001b[0m\u001b[0;34m,\u001b[0m\u001b[0;34m\u001b[0m\n",
       "\u001b[0;34m\u001b[0m    \u001b[0msort\u001b[0m\u001b[0;34m:\u001b[0m \u001b[0;34m'bool'\u001b[0m \u001b[0;34m=\u001b[0m \u001b[0;32mFalse\u001b[0m\u001b[0;34m,\u001b[0m\u001b[0;34m\u001b[0m\n",
       "\u001b[0;34m\u001b[0m    \u001b[0msuffixes\u001b[0m\u001b[0;34m:\u001b[0m \u001b[0;34m'Suffixes'\u001b[0m \u001b[0;34m=\u001b[0m \u001b[0;34m(\u001b[0m\u001b[0;34m'_x'\u001b[0m\u001b[0;34m,\u001b[0m \u001b[0;34m'_y'\u001b[0m\u001b[0;34m)\u001b[0m\u001b[0;34m,\u001b[0m\u001b[0;34m\u001b[0m\n",
       "\u001b[0;34m\u001b[0m    \u001b[0mcopy\u001b[0m\u001b[0;34m:\u001b[0m \u001b[0;34m'bool | None'\u001b[0m \u001b[0;34m=\u001b[0m \u001b[0;32mNone\u001b[0m\u001b[0;34m,\u001b[0m\u001b[0;34m\u001b[0m\n",
       "\u001b[0;34m\u001b[0m    \u001b[0mindicator\u001b[0m\u001b[0;34m:\u001b[0m \u001b[0;34m'str | bool'\u001b[0m \u001b[0;34m=\u001b[0m \u001b[0;32mFalse\u001b[0m\u001b[0;34m,\u001b[0m\u001b[0;34m\u001b[0m\n",
       "\u001b[0;34m\u001b[0m    \u001b[0mvalidate\u001b[0m\u001b[0;34m:\u001b[0m \u001b[0;34m'str | None'\u001b[0m \u001b[0;34m=\u001b[0m \u001b[0;32mNone\u001b[0m\u001b[0;34m,\u001b[0m\u001b[0;34m\u001b[0m\n",
       "\u001b[0;34m\u001b[0m\u001b[0;34m)\u001b[0m \u001b[0;34m->\u001b[0m \u001b[0;34m'DataFrame'\u001b[0m\u001b[0;34m\u001b[0m\u001b[0;34m\u001b[0m\u001b[0m\n",
       "\u001b[0;31mDocstring:\u001b[0m\n",
       "Merge DataFrame or named Series objects with a database-style join.\n",
       "\n",
       "A named Series object is treated as a DataFrame with a single named column.\n",
       "\n",
       "The join is done on columns or indexes. If joining columns on\n",
       "columns, the DataFrame indexes *will be ignored*. Otherwise if joining indexes\n",
       "on indexes or indexes on a column or columns, the index will be passed on.\n",
       "When performing a cross merge, no column specifications to merge on are\n",
       "allowed.\n",
       "\n",
       ".. warning::\n",
       "\n",
       "    If both key columns contain rows where the key is a null value, those\n",
       "    rows will be matched against each other. This is different from usual SQL\n",
       "    join behaviour and can lead to unexpected results.\n",
       "\n",
       "Parameters\n",
       "----------\n",
       "left : DataFrame or named Series\n",
       "right : DataFrame or named Series\n",
       "    Object to merge with.\n",
       "how : {'left', 'right', 'outer', 'inner', 'cross'}, default 'inner'\n",
       "    Type of merge to be performed.\n",
       "\n",
       "    * left: use only keys from left frame, similar to a SQL left outer join;\n",
       "      preserve key order.\n",
       "    * right: use only keys from right frame, similar to a SQL right outer join;\n",
       "      preserve key order.\n",
       "    * outer: use union of keys from both frames, similar to a SQL full outer\n",
       "      join; sort keys lexicographically.\n",
       "    * inner: use intersection of keys from both frames, similar to a SQL inner\n",
       "      join; preserve the order of the left keys.\n",
       "    * cross: creates the cartesian product from both frames, preserves the order\n",
       "      of the left keys.\n",
       "\n",
       "      .. versionadded:: 1.2.0\n",
       "\n",
       "on : label or list\n",
       "    Column or index level names to join on. These must be found in both\n",
       "    DataFrames. If `on` is None and not merging on indexes then this defaults\n",
       "    to the intersection of the columns in both DataFrames.\n",
       "left_on : label or list, or array-like\n",
       "    Column or index level names to join on in the left DataFrame. Can also\n",
       "    be an array or list of arrays of the length of the left DataFrame.\n",
       "    These arrays are treated as if they are columns.\n",
       "right_on : label or list, or array-like\n",
       "    Column or index level names to join on in the right DataFrame. Can also\n",
       "    be an array or list of arrays of the length of the right DataFrame.\n",
       "    These arrays are treated as if they are columns.\n",
       "left_index : bool, default False\n",
       "    Use the index from the left DataFrame as the join key(s). If it is a\n",
       "    MultiIndex, the number of keys in the other DataFrame (either the index\n",
       "    or a number of columns) must match the number of levels.\n",
       "right_index : bool, default False\n",
       "    Use the index from the right DataFrame as the join key. Same caveats as\n",
       "    left_index.\n",
       "sort : bool, default False\n",
       "    Sort the join keys lexicographically in the result DataFrame. If False,\n",
       "    the order of the join keys depends on the join type (how keyword).\n",
       "suffixes : list-like, default is (\"_x\", \"_y\")\n",
       "    A length-2 sequence where each element is optionally a string\n",
       "    indicating the suffix to add to overlapping column names in\n",
       "    `left` and `right` respectively. Pass a value of `None` instead\n",
       "    of a string to indicate that the column name from `left` or\n",
       "    `right` should be left as-is, with no suffix. At least one of the\n",
       "    values must not be None.\n",
       "copy : bool, default True\n",
       "    If False, avoid copy if possible.\n",
       "indicator : bool or str, default False\n",
       "    If True, adds a column to the output DataFrame called \"_merge\" with\n",
       "    information on the source of each row. The column can be given a different\n",
       "    name by providing a string argument. The column will have a Categorical\n",
       "    type with the value of \"left_only\" for observations whose merge key only\n",
       "    appears in the left DataFrame, \"right_only\" for observations\n",
       "    whose merge key only appears in the right DataFrame, and \"both\"\n",
       "    if the observation's merge key is found in both DataFrames.\n",
       "\n",
       "validate : str, optional\n",
       "    If specified, checks if merge is of specified type.\n",
       "\n",
       "    * \"one_to_one\" or \"1:1\": check if merge keys are unique in both\n",
       "      left and right datasets.\n",
       "    * \"one_to_many\" or \"1:m\": check if merge keys are unique in left\n",
       "      dataset.\n",
       "    * \"many_to_one\" or \"m:1\": check if merge keys are unique in right\n",
       "      dataset.\n",
       "    * \"many_to_many\" or \"m:m\": allowed, but does not result in checks.\n",
       "\n",
       "Returns\n",
       "-------\n",
       "DataFrame\n",
       "    A DataFrame of the two merged objects.\n",
       "\n",
       "See Also\n",
       "--------\n",
       "merge_ordered : Merge with optional filling/interpolation.\n",
       "merge_asof : Merge on nearest keys.\n",
       "DataFrame.join : Similar method using indices.\n",
       "\n",
       "Notes\n",
       "-----\n",
       "Support for specifying index levels as the `on`, `left_on`, and\n",
       "`right_on` parameters was added in version 0.23.0\n",
       "Support for merging named Series objects was added in version 0.24.0\n",
       "\n",
       "Examples\n",
       "--------\n",
       ">>> df1 = pd.DataFrame({'lkey': ['foo', 'bar', 'baz', 'foo'],\n",
       "...                     'value': [1, 2, 3, 5]})\n",
       ">>> df2 = pd.DataFrame({'rkey': ['foo', 'bar', 'baz', 'foo'],\n",
       "...                     'value': [5, 6, 7, 8]})\n",
       ">>> df1\n",
       "    lkey value\n",
       "0   foo      1\n",
       "1   bar      2\n",
       "2   baz      3\n",
       "3   foo      5\n",
       ">>> df2\n",
       "    rkey value\n",
       "0   foo      5\n",
       "1   bar      6\n",
       "2   baz      7\n",
       "3   foo      8\n",
       "\n",
       "Merge df1 and df2 on the lkey and rkey columns. The value columns have\n",
       "the default suffixes, _x and _y, appended.\n",
       "\n",
       ">>> df1.merge(df2, left_on='lkey', right_on='rkey')\n",
       "  lkey  value_x rkey  value_y\n",
       "0  foo        1  foo        5\n",
       "1  foo        1  foo        8\n",
       "2  foo        5  foo        5\n",
       "3  foo        5  foo        8\n",
       "4  bar        2  bar        6\n",
       "5  baz        3  baz        7\n",
       "\n",
       "Merge DataFrames df1 and df2 with specified left and right suffixes\n",
       "appended to any overlapping columns.\n",
       "\n",
       ">>> df1.merge(df2, left_on='lkey', right_on='rkey',\n",
       "...           suffixes=('_left', '_right'))\n",
       "  lkey  value_left rkey  value_right\n",
       "0  foo           1  foo            5\n",
       "1  foo           1  foo            8\n",
       "2  foo           5  foo            5\n",
       "3  foo           5  foo            8\n",
       "4  bar           2  bar            6\n",
       "5  baz           3  baz            7\n",
       "\n",
       "Merge DataFrames df1 and df2, but raise an exception if the DataFrames have\n",
       "any overlapping columns.\n",
       "\n",
       ">>> df1.merge(df2, left_on='lkey', right_on='rkey', suffixes=(False, False))\n",
       "Traceback (most recent call last):\n",
       "...\n",
       "ValueError: columns overlap but no suffix specified:\n",
       "    Index(['value'], dtype='object')\n",
       "\n",
       ">>> df1 = pd.DataFrame({'a': ['foo', 'bar'], 'b': [1, 2]})\n",
       ">>> df2 = pd.DataFrame({'a': ['foo', 'baz'], 'c': [3, 4]})\n",
       ">>> df1\n",
       "      a  b\n",
       "0   foo  1\n",
       "1   bar  2\n",
       ">>> df2\n",
       "      a  c\n",
       "0   foo  3\n",
       "1   baz  4\n",
       "\n",
       ">>> df1.merge(df2, how='inner', on='a')\n",
       "      a  b  c\n",
       "0   foo  1  3\n",
       "\n",
       ">>> df1.merge(df2, how='left', on='a')\n",
       "      a  b  c\n",
       "0   foo  1  3.0\n",
       "1   bar  2  NaN\n",
       "\n",
       ">>> df1 = pd.DataFrame({'left': ['foo', 'bar']})\n",
       ">>> df2 = pd.DataFrame({'right': [7, 8]})\n",
       ">>> df1\n",
       "    left\n",
       "0   foo\n",
       "1   bar\n",
       ">>> df2\n",
       "    right\n",
       "0   7\n",
       "1   8\n",
       "\n",
       ">>> df1.merge(df2, how='cross')\n",
       "   left  right\n",
       "0   foo      7\n",
       "1   foo      8\n",
       "2   bar      7\n",
       "3   bar      8\n",
       "\u001b[0;31mFile:\u001b[0m      ~/miniconda3/envs/homebase/lib/python3.11/site-packages/pandas/core/reshape/merge.py\n",
       "\u001b[0;31mType:\u001b[0m      function"
      ]
     },
     "metadata": {},
     "output_type": "display_data"
    }
   ],
   "source": [
    "pd.merge?"
   ]
  },
  {
   "cell_type": "code",
   "execution_count": 86,
   "id": "276fb2e2",
   "metadata": {},
   "outputs": [
    {
     "data": {
      "text/html": [
       "<div>\n",
       "<style scoped>\n",
       "    .dataframe tbody tr th:only-of-type {\n",
       "        vertical-align: middle;\n",
       "    }\n",
       "\n",
       "    .dataframe tbody tr th {\n",
       "        vertical-align: top;\n",
       "    }\n",
       "\n",
       "    .dataframe thead th {\n",
       "        text-align: right;\n",
       "    }\n",
       "</style>\n",
       "<table border=\"1\" class=\"dataframe\">\n",
       "  <thead>\n",
       "    <tr style=\"text-align: right;\">\n",
       "      <th></th>\n",
       "      <th>key_0</th>\n",
       "      <th>id_x</th>\n",
       "      <th>name_x</th>\n",
       "      <th>role_id</th>\n",
       "      <th>id_y</th>\n",
       "      <th>name_y</th>\n",
       "      <th>_merge</th>\n",
       "    </tr>\n",
       "  </thead>\n",
       "  <tbody>\n",
       "    <tr>\n",
       "      <th>0</th>\n",
       "      <td>1.0</td>\n",
       "      <td>1.0</td>\n",
       "      <td>bob</td>\n",
       "      <td>1.0</td>\n",
       "      <td>1.0</td>\n",
       "      <td>admin</td>\n",
       "      <td>both</td>\n",
       "    </tr>\n",
       "    <tr>\n",
       "      <th>1</th>\n",
       "      <td>2.0</td>\n",
       "      <td>2.0</td>\n",
       "      <td>joe</td>\n",
       "      <td>2.0</td>\n",
       "      <td>2.0</td>\n",
       "      <td>author</td>\n",
       "      <td>both</td>\n",
       "    </tr>\n",
       "    <tr>\n",
       "      <th>2</th>\n",
       "      <td>3.0</td>\n",
       "      <td>3.0</td>\n",
       "      <td>sally</td>\n",
       "      <td>3.0</td>\n",
       "      <td>3.0</td>\n",
       "      <td>reviewer</td>\n",
       "      <td>both</td>\n",
       "    </tr>\n",
       "    <tr>\n",
       "      <th>3</th>\n",
       "      <td>3.0</td>\n",
       "      <td>4.0</td>\n",
       "      <td>adam</td>\n",
       "      <td>3.0</td>\n",
       "      <td>3.0</td>\n",
       "      <td>reviewer</td>\n",
       "      <td>both</td>\n",
       "    </tr>\n",
       "    <tr>\n",
       "      <th>4</th>\n",
       "      <td>NaN</td>\n",
       "      <td>5.0</td>\n",
       "      <td>jane</td>\n",
       "      <td>NaN</td>\n",
       "      <td>NaN</td>\n",
       "      <td>NaN</td>\n",
       "      <td>left_only</td>\n",
       "    </tr>\n",
       "    <tr>\n",
       "      <th>5</th>\n",
       "      <td>NaN</td>\n",
       "      <td>6.0</td>\n",
       "      <td>mike</td>\n",
       "      <td>NaN</td>\n",
       "      <td>NaN</td>\n",
       "      <td>NaN</td>\n",
       "      <td>left_only</td>\n",
       "    </tr>\n",
       "    <tr>\n",
       "      <th>6</th>\n",
       "      <td>4.0</td>\n",
       "      <td>NaN</td>\n",
       "      <td>NaN</td>\n",
       "      <td>NaN</td>\n",
       "      <td>4.0</td>\n",
       "      <td>commenter</td>\n",
       "      <td>right_only</td>\n",
       "    </tr>\n",
       "  </tbody>\n",
       "</table>\n",
       "</div>"
      ],
      "text/plain": [
       "   key_0  id_x name_x  role_id  id_y     name_y      _merge\n",
       "0    1.0   1.0    bob      1.0   1.0      admin        both\n",
       "1    2.0   2.0    joe      2.0   2.0     author        both\n",
       "2    3.0   3.0  sally      3.0   3.0   reviewer        both\n",
       "3    3.0   4.0   adam      3.0   3.0   reviewer        both\n",
       "4    NaN   5.0   jane      NaN   NaN        NaN   left_only\n",
       "5    NaN   6.0   mike      NaN   NaN        NaN   left_only\n",
       "6    4.0   NaN    NaN      NaN   4.0  commenter  right_only"
      ]
     },
     "execution_count": 86,
     "metadata": {},
     "output_type": "execute_result"
    }
   ],
   "source": [
    "#indicator argument shows where the data is coming from in merge\n",
    "pd.merge(users,\n",
    "         roles,\n",
    "         how='outer',\n",
    "         left_on=users.role_id,\n",
    "         right_on=roles.id,\n",
    "        indicator=True,\n",
    ")"
   ]
  },
  {
   "cell_type": "markdown",
   "id": "cce14adf",
   "metadata": {},
   "source": [
    "#### merge again dfs on the role id"
   ]
  },
  {
   "cell_type": "code",
   "execution_count": 87,
   "id": "fe11f241",
   "metadata": {},
   "outputs": [
    {
     "data": {
      "text/html": [
       "<div>\n",
       "<style scoped>\n",
       "    .dataframe tbody tr th:only-of-type {\n",
       "        vertical-align: middle;\n",
       "    }\n",
       "\n",
       "    .dataframe tbody tr th {\n",
       "        vertical-align: top;\n",
       "    }\n",
       "\n",
       "    .dataframe thead th {\n",
       "        text-align: right;\n",
       "    }\n",
       "</style>\n",
       "<table border=\"1\" class=\"dataframe\">\n",
       "  <thead>\n",
       "    <tr style=\"text-align: right;\">\n",
       "      <th></th>\n",
       "      <th>key_0</th>\n",
       "      <th>id_x</th>\n",
       "      <th>name_x</th>\n",
       "      <th>role_id</th>\n",
       "      <th>id_y</th>\n",
       "      <th>name_y</th>\n",
       "    </tr>\n",
       "  </thead>\n",
       "  <tbody>\n",
       "    <tr>\n",
       "      <th>0</th>\n",
       "      <td>1.0</td>\n",
       "      <td>1</td>\n",
       "      <td>bob</td>\n",
       "      <td>1.0</td>\n",
       "      <td>1.0</td>\n",
       "      <td>admin</td>\n",
       "    </tr>\n",
       "    <tr>\n",
       "      <th>1</th>\n",
       "      <td>2.0</td>\n",
       "      <td>2</td>\n",
       "      <td>joe</td>\n",
       "      <td>2.0</td>\n",
       "      <td>2.0</td>\n",
       "      <td>author</td>\n",
       "    </tr>\n",
       "    <tr>\n",
       "      <th>2</th>\n",
       "      <td>3.0</td>\n",
       "      <td>3</td>\n",
       "      <td>sally</td>\n",
       "      <td>3.0</td>\n",
       "      <td>3.0</td>\n",
       "      <td>reviewer</td>\n",
       "    </tr>\n",
       "    <tr>\n",
       "      <th>3</th>\n",
       "      <td>3.0</td>\n",
       "      <td>4</td>\n",
       "      <td>adam</td>\n",
       "      <td>3.0</td>\n",
       "      <td>3.0</td>\n",
       "      <td>reviewer</td>\n",
       "    </tr>\n",
       "    <tr>\n",
       "      <th>4</th>\n",
       "      <td>NaN</td>\n",
       "      <td>5</td>\n",
       "      <td>jane</td>\n",
       "      <td>NaN</td>\n",
       "      <td>NaN</td>\n",
       "      <td>NaN</td>\n",
       "    </tr>\n",
       "    <tr>\n",
       "      <th>5</th>\n",
       "      <td>NaN</td>\n",
       "      <td>6</td>\n",
       "      <td>mike</td>\n",
       "      <td>NaN</td>\n",
       "      <td>NaN</td>\n",
       "      <td>NaN</td>\n",
       "    </tr>\n",
       "  </tbody>\n",
       "</table>\n",
       "</div>"
      ],
      "text/plain": [
       "   key_0  id_x name_x  role_id  id_y    name_y\n",
       "0    1.0     1    bob      1.0   1.0     admin\n",
       "1    2.0     2    joe      2.0   2.0    author\n",
       "2    3.0     3  sally      3.0   3.0  reviewer\n",
       "3    3.0     4   adam      3.0   3.0  reviewer\n",
       "4    NaN     5   jane      NaN   NaN       NaN\n",
       "5    NaN     6   mike      NaN   NaN       NaN"
      ]
     },
     "execution_count": 87,
     "metadata": {},
     "output_type": "execute_result"
    }
   ],
   "source": [
    "users.merge(roles,\n",
    "            left_on=users.role_id,\n",
    "            right_on=roles.id,\n",
    "            how='left')"
   ]
  },
  {
   "cell_type": "markdown",
   "id": "2f35a8d5",
   "metadata": {},
   "source": [
    "**note:** use pd.merge() over df.join(), because pd.merge() has more capabilities"
   ]
  },
  {
   "cell_type": "code",
   "execution_count": null,
   "id": "f420ffc4",
   "metadata": {},
   "outputs": [],
   "source": []
  }
 ],
 "metadata": {
  "kernelspec": {
   "display_name": "Python 3 (ipykernel)",
   "language": "python",
   "name": "python3"
  },
  "language_info": {
   "codemirror_mode": {
    "name": "ipython",
    "version": 3
   },
   "file_extension": ".py",
   "mimetype": "text/x-python",
   "name": "python",
   "nbconvert_exporter": "python",
   "pygments_lexer": "ipython3",
   "version": "3.11.2"
  }
 },
 "nbformat": 4,
 "nbformat_minor": 5
}
