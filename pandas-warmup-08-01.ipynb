{
 "cells": [
  {
   "cell_type": "code",
   "execution_count": 1,
   "id": "1c47781a-8745-4d6c-a6f9-90472e6231b9",
   "metadata": {},
   "outputs": [],
   "source": [
    "import pandas as pd\n",
    "\n",
    "df = pd.read_csv('https://gist.githubusercontent.com/armgilles/194bcff35001e7eb53a2a8b441e8b2c6/raw/92200bc0a673d5ce2110aaad4544ed6c4010f687/pokemon.csv')"
   ]
  },
  {
   "cell_type": "markdown",
   "id": "f3bc1e2f-19f5-4851-b4aa-32975e80cbac",
   "metadata": {},
   "source": [
    "10. Change all the column names\n",
    "\n",
    "      - lowercase letters\n",
    "      - remove whitespace"
   ]
  },
  {
   "cell_type": "markdown",
   "id": "15738b22-b386-4101-955a-c00c7515de88",
   "metadata": {},
   "source": [
    "11. Rename Sp. Attack to special-attack"
   ]
  },
  {
   "cell_type": "markdown",
   "id": "5272a916-122a-448a-bccd-03f167783968",
   "metadata": {},
   "source": [
    "12. Rename Sp. Def to special-defense"
   ]
  },
  {
   "cell_type": "markdown",
   "id": "cf93a154-2cd1-4730-8510-af2862421e87",
   "metadata": {},
   "source": [
    "    \n",
    "13. Which Pokemon has/have the greatest difference in: \n",
    "\n",
    "    - Attack and Defense points\n",
    "    - Special Attack and Special Defense\n",
    "  "
   ]
  },
  {
   "cell_type": "markdown",
   "id": "0a676f16-4b08-469a-9a12-7ec922db2ac0",
   "metadata": {},
   "source": [
    "14. How many Pokemon are of Type 1 Rock and Type 2 Fairy?"
   ]
  },
  {
   "cell_type": "markdown",
   "id": "eb48fafb-8c0f-45b4-9421-2914ec82b504",
   "metadata": {},
   "source": [
    "15. Which Fire Pokemon appears last alphabetically?\n",
    "\n",
    "    - Create a function named last_pokemon\n",
    "    - Use the loaded dataframe as an argument"
   ]
  },
  {
   "cell_type": "markdown",
   "id": "be2ae8ae-d100-4106-b334-4f59d510dab3",
   "metadata": {},
   "source": [
    "---\n",
    "### Bonus \n",
    "\n",
    "\n",
    "1. Find the average speed by Generation\n",
    "\n",
    "2. Create a function which acccepts: \n",
    "\n",
    "- a dataframe\n",
    "- two different Pokemon stats e.g. Attack and Defense\n",
    "\n",
    "\n",
    "The function will:\n",
    "\n",
    "- Calculate difference between the two given Pokemon stats \n",
    "\n",
    "- Create a column which contains the difference of the two given Pokemon stats named stats-diff"
   ]
  }
 ],
 "metadata": {
  "kernelspec": {
   "display_name": "Python 3 (ipykernel)",
   "language": "python",
   "name": "python3"
  },
  "language_info": {
   "codemirror_mode": {
    "name": "ipython",
    "version": 3
   },
   "file_extension": ".py",
   "mimetype": "text/x-python",
   "name": "python",
   "nbconvert_exporter": "python",
   "pygments_lexer": "ipython3",
   "version": "3.11.2"
  }
 },
 "nbformat": 4,
 "nbformat_minor": 5
}
