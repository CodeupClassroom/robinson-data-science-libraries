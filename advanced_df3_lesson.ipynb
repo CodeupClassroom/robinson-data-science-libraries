{
 "cells": [
  {
   "cell_type": "markdown",
   "id": "c64ba79b",
   "metadata": {},
   "source": [
    "# Advanced Dataframes"
   ]
  },
  {
   "cell_type": "markdown",
   "id": "85e19d31",
   "metadata": {},
   "source": [
    "## Part 3 - Reshaping\n",
    "- crosstab\n",
    "- pivot_table"
   ]
  },
  {
   "cell_type": "code",
   "execution_count": 1,
   "id": "18d808a6",
   "metadata": {},
   "outputs": [],
   "source": [
    "#standard imports\n",
    "import pandas as pd\n",
    "import numpy as np\n",
    "\n",
    "np.random.seed(1349)"
   ]
  },
  {
   "cell_type": "code",
   "execution_count": 2,
   "id": "f8fd799e",
   "metadata": {},
   "outputs": [
    {
     "data": {
      "text/html": [
       "<div>\n",
       "<style scoped>\n",
       "    .dataframe tbody tr th:only-of-type {\n",
       "        vertical-align: middle;\n",
       "    }\n",
       "\n",
       "    .dataframe tbody tr th {\n",
       "        vertical-align: top;\n",
       "    }\n",
       "\n",
       "    .dataframe thead th {\n",
       "        text-align: right;\n",
       "    }\n",
       "</style>\n",
       "<table border=\"1\" class=\"dataframe\">\n",
       "  <thead>\n",
       "    <tr style=\"text-align: right;\">\n",
       "      <th></th>\n",
       "      <th>name</th>\n",
       "      <th>math</th>\n",
       "      <th>reading</th>\n",
       "      <th>english</th>\n",
       "      <th>room</th>\n",
       "      <th>overall_grade</th>\n",
       "      <th>letter_standing</th>\n",
       "    </tr>\n",
       "  </thead>\n",
       "  <tbody>\n",
       "    <tr>\n",
       "      <th>0</th>\n",
       "      <td>Sally</td>\n",
       "      <td>78</td>\n",
       "      <td>73</td>\n",
       "      <td>84</td>\n",
       "      <td>B</td>\n",
       "      <td>78.3</td>\n",
       "      <td>C</td>\n",
       "    </tr>\n",
       "    <tr>\n",
       "      <th>1</th>\n",
       "      <td>Jane</td>\n",
       "      <td>77</td>\n",
       "      <td>98</td>\n",
       "      <td>79</td>\n",
       "      <td>B</td>\n",
       "      <td>84.7</td>\n",
       "      <td>B</td>\n",
       "    </tr>\n",
       "    <tr>\n",
       "      <th>2</th>\n",
       "      <td>Suzie</td>\n",
       "      <td>96</td>\n",
       "      <td>91</td>\n",
       "      <td>91</td>\n",
       "      <td>A</td>\n",
       "      <td>92.7</td>\n",
       "      <td>A</td>\n",
       "    </tr>\n",
       "    <tr>\n",
       "      <th>3</th>\n",
       "      <td>Billy</td>\n",
       "      <td>62</td>\n",
       "      <td>72</td>\n",
       "      <td>88</td>\n",
       "      <td>B</td>\n",
       "      <td>74.0</td>\n",
       "      <td>C</td>\n",
       "    </tr>\n",
       "    <tr>\n",
       "      <th>4</th>\n",
       "      <td>Ada</td>\n",
       "      <td>98</td>\n",
       "      <td>92</td>\n",
       "      <td>88</td>\n",
       "      <td>B</td>\n",
       "      <td>92.7</td>\n",
       "      <td>A</td>\n",
       "    </tr>\n",
       "    <tr>\n",
       "      <th>5</th>\n",
       "      <td>John</td>\n",
       "      <td>95</td>\n",
       "      <td>64</td>\n",
       "      <td>73</td>\n",
       "      <td>A</td>\n",
       "      <td>77.3</td>\n",
       "      <td>C</td>\n",
       "    </tr>\n",
       "    <tr>\n",
       "      <th>6</th>\n",
       "      <td>Thomas</td>\n",
       "      <td>87</td>\n",
       "      <td>82</td>\n",
       "      <td>80</td>\n",
       "      <td>A</td>\n",
       "      <td>83.0</td>\n",
       "      <td>B</td>\n",
       "    </tr>\n",
       "    <tr>\n",
       "      <th>7</th>\n",
       "      <td>Marie</td>\n",
       "      <td>99</td>\n",
       "      <td>94</td>\n",
       "      <td>85</td>\n",
       "      <td>A</td>\n",
       "      <td>92.7</td>\n",
       "      <td>A</td>\n",
       "    </tr>\n",
       "    <tr>\n",
       "      <th>8</th>\n",
       "      <td>Albert</td>\n",
       "      <td>91</td>\n",
       "      <td>87</td>\n",
       "      <td>77</td>\n",
       "      <td>B</td>\n",
       "      <td>85.0</td>\n",
       "      <td>B</td>\n",
       "    </tr>\n",
       "    <tr>\n",
       "      <th>9</th>\n",
       "      <td>Richard</td>\n",
       "      <td>84</td>\n",
       "      <td>94</td>\n",
       "      <td>61</td>\n",
       "      <td>A</td>\n",
       "      <td>79.7</td>\n",
       "      <td>C</td>\n",
       "    </tr>\n",
       "    <tr>\n",
       "      <th>10</th>\n",
       "      <td>Isaac</td>\n",
       "      <td>77</td>\n",
       "      <td>93</td>\n",
       "      <td>91</td>\n",
       "      <td>A</td>\n",
       "      <td>87.0</td>\n",
       "      <td>B</td>\n",
       "    </tr>\n",
       "    <tr>\n",
       "      <th>11</th>\n",
       "      <td>Alan</td>\n",
       "      <td>83</td>\n",
       "      <td>60</td>\n",
       "      <td>87</td>\n",
       "      <td>B</td>\n",
       "      <td>76.7</td>\n",
       "      <td>C</td>\n",
       "    </tr>\n",
       "  </tbody>\n",
       "</table>\n",
       "</div>"
      ],
      "text/plain": [
       "       name  math  reading  english room  overall_grade letter_standing\n",
       "0     Sally    78       73       84    B           78.3               C\n",
       "1      Jane    77       98       79    B           84.7               B\n",
       "2     Suzie    96       91       91    A           92.7               A\n",
       "3     Billy    62       72       88    B           74.0               C\n",
       "4       Ada    98       92       88    B           92.7               A\n",
       "5      John    95       64       73    A           77.3               C\n",
       "6    Thomas    87       82       80    A           83.0               B\n",
       "7     Marie    99       94       85    A           92.7               A\n",
       "8    Albert    91       87       77    B           85.0               B\n",
       "9   Richard    84       94       61    A           79.7               C\n",
       "10    Isaac    77       93       91    A           87.0               B\n",
       "11     Alan    83       60       87    B           76.7               C"
      ]
     },
     "execution_count": 2,
     "metadata": {},
     "output_type": "execute_result"
    }
   ],
   "source": [
    "# Create list of values for names column.\n",
    "students = ['Sally', 'Jane', 'Suzie', 'Billy', 'Ada', 'John', 'Thomas',\n",
    "            'Marie', 'Albert', 'Richard', 'Isaac', 'Alan']\n",
    "\n",
    "# Randomly generate arrays of scores for each student for each subject.\n",
    "# Note that all the values need to have the same length here.\n",
    "math_grades = np.random.randint(low=60, high=100, size=len(students))\n",
    "english_grades = np.random.randint(low=60, high=100, size=len(students))\n",
    "reading_grades = np.random.randint(low=60, high=100, size=len(students))\n",
    "\n",
    "# Randomly generate if a student is in classroom A or classroom B\n",
    "classroom = np.random.choice(['A', 'B'], len(students))\n",
    "\n",
    "df = pd.DataFrame({'name':students,\n",
    "                   'math':math_grades,\n",
    "                   'reading':reading_grades,\n",
    "                   'english':english_grades,\n",
    "                   'room':classroom})\n",
    "\n",
    "#calculated overall grade and letter\n",
    "df['overall_grade'] = df[['math','reading','english']].mean(axis=1).round(1)\n",
    "\n",
    "#np.where(condition, output if true, output if false)\n",
    "df['letter_standing'] = np.where(df.overall_grade >= 90, 'A', \n",
    "                                np.where(df.overall_grade >= 80, 'B','C'))\n",
    "\n",
    "df"
   ]
  },
  {
   "cell_type": "code",
   "execution_count": null,
   "id": "a579c827-ee08-4cbd-8158-9155d4ed2a91",
   "metadata": {},
   "outputs": [],
   "source": [
    "# two layer groupby:\n",
    "# how many students have a standing grade\n",
    "# of A and are in classroom B?"
   ]
  },
  {
   "cell_type": "code",
   "execution_count": 4,
   "id": "983ab23a-e8c1-4b1d-a99c-4da2636a5355",
   "metadata": {},
   "outputs": [
    {
     "data": {
      "text/plain": [
       "1"
      ]
     },
     "execution_count": 4,
     "metadata": {},
     "output_type": "execute_result"
    }
   ],
   "source": [
    "# df, where df.room is B, \n",
    "# and df.letter_standing is A\n",
    "df[\n",
    "    (df.room == 'B') \n",
    "    & \n",
    "    (df.letter_standing == 'A')\n",
    "].shape[0]"
   ]
  },
  {
   "cell_type": "code",
   "execution_count": 6,
   "id": "f808d2eb-c688-46da-a849-ac6fff5c1ddd",
   "metadata": {},
   "outputs": [
    {
     "data": {
      "text/plain": [
       "room  letter_standing\n",
       "A     A                  2\n",
       "      B                  2\n",
       "      C                  2\n",
       "B     A                  1\n",
       "      B                  2\n",
       "      C                  3\n",
       "Name: name, dtype: int64"
      ]
     },
     "execution_count": 6,
     "metadata": {},
     "output_type": "execute_result"
    }
   ],
   "source": [
    "df.groupby(\n",
    "    ['room',\n",
    "     'letter_standing'])['name'].count()"
   ]
  },
  {
   "cell_type": "markdown",
   "id": "38102089",
   "metadata": {},
   "source": [
    "## Using `.crosstab`\n",
    "count the number of occurances between each subgroup\n",
    "- format: `pd.crosstab(index=_, column=_)`"
   ]
  },
  {
   "cell_type": "markdown",
   "id": "2e76f716",
   "metadata": {},
   "source": [
    "#### find all counts of the room and overall letter grade"
   ]
  },
  {
   "cell_type": "code",
   "execution_count": 8,
   "id": "cc20a5c4",
   "metadata": {},
   "outputs": [],
   "source": [
    "# pd.crosstab?"
   ]
  },
  {
   "cell_type": "code",
   "execution_count": 10,
   "id": "52232107-8c6f-4d5e-902d-9619ca3d0d44",
   "metadata": {},
   "outputs": [
    {
     "data": {
      "text/html": [
       "<div>\n",
       "<style scoped>\n",
       "    .dataframe tbody tr th:only-of-type {\n",
       "        vertical-align: middle;\n",
       "    }\n",
       "\n",
       "    .dataframe tbody tr th {\n",
       "        vertical-align: top;\n",
       "    }\n",
       "\n",
       "    .dataframe thead th {\n",
       "        text-align: right;\n",
       "    }\n",
       "</style>\n",
       "<table border=\"1\" class=\"dataframe\">\n",
       "  <thead>\n",
       "    <tr style=\"text-align: right;\">\n",
       "      <th>letter_standing</th>\n",
       "      <th>A</th>\n",
       "      <th>B</th>\n",
       "      <th>C</th>\n",
       "    </tr>\n",
       "    <tr>\n",
       "      <th>room</th>\n",
       "      <th></th>\n",
       "      <th></th>\n",
       "      <th></th>\n",
       "    </tr>\n",
       "  </thead>\n",
       "  <tbody>\n",
       "    <tr>\n",
       "      <th>A</th>\n",
       "      <td>2</td>\n",
       "      <td>2</td>\n",
       "      <td>2</td>\n",
       "    </tr>\n",
       "    <tr>\n",
       "      <th>B</th>\n",
       "      <td>1</td>\n",
       "      <td>2</td>\n",
       "      <td>3</td>\n",
       "    </tr>\n",
       "  </tbody>\n",
       "</table>\n",
       "</div>"
      ],
      "text/plain": [
       "letter_standing  A  B  C\n",
       "room                    \n",
       "A                2  2  2\n",
       "B                1  2  3"
      ]
     },
     "execution_count": 10,
     "metadata": {},
     "output_type": "execute_result"
    }
   ],
   "source": [
    "# pd.crosstab(\n",
    "# series 1,\n",
    "# series 2,)\n",
    "pd.crosstab(df.room, df.letter_standing)"
   ]
  },
  {
   "cell_type": "markdown",
   "id": "53760f5b",
   "metadata": {},
   "source": [
    "#### add total counts"
   ]
  },
  {
   "cell_type": "code",
   "execution_count": 11,
   "id": "f0a8d675",
   "metadata": {},
   "outputs": [
    {
     "data": {
      "text/html": [
       "<div>\n",
       "<style scoped>\n",
       "    .dataframe tbody tr th:only-of-type {\n",
       "        vertical-align: middle;\n",
       "    }\n",
       "\n",
       "    .dataframe tbody tr th {\n",
       "        vertical-align: top;\n",
       "    }\n",
       "\n",
       "    .dataframe thead th {\n",
       "        text-align: right;\n",
       "    }\n",
       "</style>\n",
       "<table border=\"1\" class=\"dataframe\">\n",
       "  <thead>\n",
       "    <tr style=\"text-align: right;\">\n",
       "      <th>letter_standing</th>\n",
       "      <th>A</th>\n",
       "      <th>B</th>\n",
       "      <th>C</th>\n",
       "      <th>All</th>\n",
       "    </tr>\n",
       "    <tr>\n",
       "      <th>room</th>\n",
       "      <th></th>\n",
       "      <th></th>\n",
       "      <th></th>\n",
       "      <th></th>\n",
       "    </tr>\n",
       "  </thead>\n",
       "  <tbody>\n",
       "    <tr>\n",
       "      <th>A</th>\n",
       "      <td>2</td>\n",
       "      <td>2</td>\n",
       "      <td>2</td>\n",
       "      <td>6</td>\n",
       "    </tr>\n",
       "    <tr>\n",
       "      <th>B</th>\n",
       "      <td>1</td>\n",
       "      <td>2</td>\n",
       "      <td>3</td>\n",
       "      <td>6</td>\n",
       "    </tr>\n",
       "    <tr>\n",
       "      <th>All</th>\n",
       "      <td>3</td>\n",
       "      <td>4</td>\n",
       "      <td>5</td>\n",
       "      <td>12</td>\n",
       "    </tr>\n",
       "  </tbody>\n",
       "</table>\n",
       "</div>"
      ],
      "text/plain": [
       "letter_standing  A  B  C  All\n",
       "room                         \n",
       "A                2  2  2    6\n",
       "B                1  2  3    6\n",
       "All              3  4  5   12"
      ]
     },
     "execution_count": 11,
     "metadata": {},
     "output_type": "execute_result"
    }
   ],
   "source": [
    "#margins\n",
    "pd.crosstab(df.room, \n",
    "            df.letter_standing,\n",
    "           margins=True)"
   ]
  },
  {
   "cell_type": "markdown",
   "id": "4958c78d",
   "metadata": {},
   "source": [
    "#### give percentages instead of counts"
   ]
  },
  {
   "cell_type": "code",
   "execution_count": 13,
   "id": "b3ff6cbc-b8fd-41c0-9a52-b185d1ba43dd",
   "metadata": {},
   "outputs": [
    {
     "data": {
      "text/plain": [
       "room\n",
       "B    0.5\n",
       "A    0.5\n",
       "Name: proportion, dtype: float64"
      ]
     },
     "execution_count": 13,
     "metadata": {},
     "output_type": "execute_result"
    }
   ],
   "source": [
    "df.room.value_counts(normalize=True)"
   ]
  },
  {
   "cell_type": "code",
   "execution_count": 15,
   "id": "369634c8",
   "metadata": {},
   "outputs": [
    {
     "data": {
      "text/html": [
       "<div>\n",
       "<style scoped>\n",
       "    .dataframe tbody tr th:only-of-type {\n",
       "        vertical-align: middle;\n",
       "    }\n",
       "\n",
       "    .dataframe tbody tr th {\n",
       "        vertical-align: top;\n",
       "    }\n",
       "\n",
       "    .dataframe thead th {\n",
       "        text-align: right;\n",
       "    }\n",
       "</style>\n",
       "<table border=\"1\" class=\"dataframe\">\n",
       "  <thead>\n",
       "    <tr style=\"text-align: right;\">\n",
       "      <th>letter_standing</th>\n",
       "      <th>A</th>\n",
       "      <th>B</th>\n",
       "      <th>C</th>\n",
       "      <th>All</th>\n",
       "    </tr>\n",
       "    <tr>\n",
       "      <th>room</th>\n",
       "      <th></th>\n",
       "      <th></th>\n",
       "      <th></th>\n",
       "      <th></th>\n",
       "    </tr>\n",
       "  </thead>\n",
       "  <tbody>\n",
       "    <tr>\n",
       "      <th>A</th>\n",
       "      <td>0.166667</td>\n",
       "      <td>0.166667</td>\n",
       "      <td>0.166667</td>\n",
       "      <td>0.5</td>\n",
       "    </tr>\n",
       "    <tr>\n",
       "      <th>B</th>\n",
       "      <td>0.083333</td>\n",
       "      <td>0.166667</td>\n",
       "      <td>0.250000</td>\n",
       "      <td>0.5</td>\n",
       "    </tr>\n",
       "    <tr>\n",
       "      <th>All</th>\n",
       "      <td>0.250000</td>\n",
       "      <td>0.333333</td>\n",
       "      <td>0.416667</td>\n",
       "      <td>1.0</td>\n",
       "    </tr>\n",
       "  </tbody>\n",
       "</table>\n",
       "</div>"
      ],
      "text/plain": [
       "letter_standing         A         B         C  All\n",
       "room                                              \n",
       "A                0.166667  0.166667  0.166667  0.5\n",
       "B                0.083333  0.166667  0.250000  0.5\n",
       "All              0.250000  0.333333  0.416667  1.0"
      ]
     },
     "execution_count": 15,
     "metadata": {},
     "output_type": "execute_result"
    }
   ],
   "source": [
    "#normalize\n",
    "pd.crosstab(\n",
    "    df.room, \n",
    "    df.letter_standing,\n",
    "normalize=True,\n",
    "margins=True)"
   ]
  },
  {
   "cell_type": "code",
   "execution_count": 16,
   "id": "3e2063c5",
   "metadata": {},
   "outputs": [
    {
     "data": {
      "text/html": [
       "<div>\n",
       "<style scoped>\n",
       "    .dataframe tbody tr th:only-of-type {\n",
       "        vertical-align: middle;\n",
       "    }\n",
       "\n",
       "    .dataframe tbody tr th {\n",
       "        vertical-align: top;\n",
       "    }\n",
       "\n",
       "    .dataframe thead th {\n",
       "        text-align: right;\n",
       "    }\n",
       "</style>\n",
       "<table border=\"1\" class=\"dataframe\">\n",
       "  <thead>\n",
       "    <tr style=\"text-align: right;\">\n",
       "      <th>letter_standing</th>\n",
       "      <th>A</th>\n",
       "      <th>B</th>\n",
       "      <th>C</th>\n",
       "    </tr>\n",
       "    <tr>\n",
       "      <th>room</th>\n",
       "      <th></th>\n",
       "      <th></th>\n",
       "      <th></th>\n",
       "    </tr>\n",
       "  </thead>\n",
       "  <tbody>\n",
       "    <tr>\n",
       "      <th>A</th>\n",
       "      <td>0.333333</td>\n",
       "      <td>0.333333</td>\n",
       "      <td>0.333333</td>\n",
       "    </tr>\n",
       "    <tr>\n",
       "      <th>B</th>\n",
       "      <td>0.166667</td>\n",
       "      <td>0.333333</td>\n",
       "      <td>0.500000</td>\n",
       "    </tr>\n",
       "  </tbody>\n",
       "</table>\n",
       "</div>"
      ],
      "text/plain": [
       "letter_standing         A         B         C\n",
       "room                                         \n",
       "A                0.333333  0.333333  0.333333\n",
       "B                0.166667  0.333333  0.500000"
      ]
     },
     "execution_count": 16,
     "metadata": {},
     "output_type": "execute_result"
    }
   ],
   "source": [
    "#normalize\n",
    "pd.crosstab(\n",
    "    df.room, \n",
    "    df.letter_standing,\n",
    "normalize='index')"
   ]
  },
  {
   "cell_type": "code",
   "execution_count": 17,
   "id": "3ada6f60",
   "metadata": {},
   "outputs": [
    {
     "data": {
      "text/html": [
       "<div>\n",
       "<style scoped>\n",
       "    .dataframe tbody tr th:only-of-type {\n",
       "        vertical-align: middle;\n",
       "    }\n",
       "\n",
       "    .dataframe tbody tr th {\n",
       "        vertical-align: top;\n",
       "    }\n",
       "\n",
       "    .dataframe thead th {\n",
       "        text-align: right;\n",
       "    }\n",
       "</style>\n",
       "<table border=\"1\" class=\"dataframe\">\n",
       "  <thead>\n",
       "    <tr style=\"text-align: right;\">\n",
       "      <th>letter_standing</th>\n",
       "      <th>A</th>\n",
       "      <th>B</th>\n",
       "      <th>C</th>\n",
       "    </tr>\n",
       "    <tr>\n",
       "      <th>room</th>\n",
       "      <th></th>\n",
       "      <th></th>\n",
       "      <th></th>\n",
       "    </tr>\n",
       "  </thead>\n",
       "  <tbody>\n",
       "    <tr>\n",
       "      <th>A</th>\n",
       "      <td>0.666667</td>\n",
       "      <td>0.5</td>\n",
       "      <td>0.4</td>\n",
       "    </tr>\n",
       "    <tr>\n",
       "      <th>B</th>\n",
       "      <td>0.333333</td>\n",
       "      <td>0.5</td>\n",
       "      <td>0.6</td>\n",
       "    </tr>\n",
       "  </tbody>\n",
       "</table>\n",
       "</div>"
      ],
      "text/plain": [
       "letter_standing         A    B    C\n",
       "room                               \n",
       "A                0.666667  0.5  0.4\n",
       "B                0.333333  0.5  0.6"
      ]
     },
     "execution_count": 17,
     "metadata": {},
     "output_type": "execute_result"
    }
   ],
   "source": [
    "#normalize\n",
    "pd.crosstab(\n",
    "    df.room, \n",
    "    df.letter_standing,\n",
    "normalize='columns')"
   ]
  },
  {
   "cell_type": "markdown",
   "id": "0133459d",
   "metadata": {},
   "source": [
    "### Using `.pivot_table`"
   ]
  },
  {
   "cell_type": "markdown",
   "id": "fa170601",
   "metadata": {},
   "source": [
    "creates a summary table similar to excel pivot table \n",
    "\n",
    "need to include 3 of the following:\n",
    "- which values will make up the rows (the index)\n",
    "- which values will make up the columns\n",
    "- the values we are aggregating\n",
    "- an aggregation method (aggfunc); if we can omit this, and mean will be used by default\n",
    "\n",
    "format: `pd.pivot_table(data=_, index=_, columns=_, values=_, aggfunc=_)`"
   ]
  },
  {
   "cell_type": "markdown",
   "id": "e0055dc9",
   "metadata": {},
   "source": [
    "#### show the average math grade by overall letter grade and room"
   ]
  },
  {
   "cell_type": "code",
   "execution_count": 21,
   "id": "9ce3edec",
   "metadata": {},
   "outputs": [
    {
     "data": {
      "text/plain": [
       "82.0"
      ]
     },
     "execution_count": 21,
     "metadata": {},
     "output_type": "execute_result"
    }
   ],
   "source": [
    "#all people in room A with an \n",
    "# overall letter grade of B\n",
    "df[\n",
    "    (df.room == 'A') \n",
    "    & \n",
    "    (df.letter_standing == 'B')\n",
    "].math.mean()"
   ]
  },
  {
   "cell_type": "code",
   "execution_count": 23,
   "id": "19ffe1f8-5676-4e77-8bd7-8cf240ec3712",
   "metadata": {},
   "outputs": [
    {
     "data": {
      "text/html": [
       "<div>\n",
       "<style scoped>\n",
       "    .dataframe tbody tr th:only-of-type {\n",
       "        vertical-align: middle;\n",
       "    }\n",
       "\n",
       "    .dataframe tbody tr th {\n",
       "        vertical-align: top;\n",
       "    }\n",
       "\n",
       "    .dataframe thead th {\n",
       "        text-align: right;\n",
       "    }\n",
       "</style>\n",
       "<table border=\"1\" class=\"dataframe\">\n",
       "  <thead>\n",
       "    <tr style=\"text-align: right;\">\n",
       "      <th>letter_standing</th>\n",
       "      <th>A</th>\n",
       "      <th>B</th>\n",
       "      <th>C</th>\n",
       "    </tr>\n",
       "    <tr>\n",
       "      <th>room</th>\n",
       "      <th></th>\n",
       "      <th></th>\n",
       "      <th></th>\n",
       "    </tr>\n",
       "  </thead>\n",
       "  <tbody>\n",
       "    <tr>\n",
       "      <th>A</th>\n",
       "      <td>97.5</td>\n",
       "      <td>82.0</td>\n",
       "      <td>89.500000</td>\n",
       "    </tr>\n",
       "    <tr>\n",
       "      <th>B</th>\n",
       "      <td>98.0</td>\n",
       "      <td>84.0</td>\n",
       "      <td>74.333333</td>\n",
       "    </tr>\n",
       "  </tbody>\n",
       "</table>\n",
       "</div>"
      ],
      "text/plain": [
       "letter_standing     A     B          C\n",
       "room                                  \n",
       "A                97.5  82.0  89.500000\n",
       "B                98.0  84.0  74.333333"
      ]
     },
     "execution_count": 23,
     "metadata": {},
     "output_type": "execute_result"
    }
   ],
   "source": [
    "pd.pivot_table(\n",
    "    data=df,\n",
    "    index='room',\n",
    "    values='math',\n",
    "    columns='letter_standing')"
   ]
  },
  {
   "cell_type": "markdown",
   "id": "71f29463",
   "metadata": {},
   "source": [
    "#### show the MAX math grade by overall letter grade and room"
   ]
  },
  {
   "cell_type": "code",
   "execution_count": 26,
   "id": "79b32eca",
   "metadata": {},
   "outputs": [
    {
     "data": {
      "text/html": [
       "<div>\n",
       "<style scoped>\n",
       "    .dataframe tbody tr th:only-of-type {\n",
       "        vertical-align: middle;\n",
       "    }\n",
       "\n",
       "    .dataframe tbody tr th {\n",
       "        vertical-align: top;\n",
       "    }\n",
       "\n",
       "    .dataframe thead th {\n",
       "        text-align: right;\n",
       "    }\n",
       "</style>\n",
       "<table border=\"1\" class=\"dataframe\">\n",
       "  <thead>\n",
       "    <tr style=\"text-align: right;\">\n",
       "      <th>letter_standing</th>\n",
       "      <th>A</th>\n",
       "      <th>B</th>\n",
       "      <th>C</th>\n",
       "    </tr>\n",
       "    <tr>\n",
       "      <th>room</th>\n",
       "      <th></th>\n",
       "      <th></th>\n",
       "      <th></th>\n",
       "    </tr>\n",
       "  </thead>\n",
       "  <tbody>\n",
       "    <tr>\n",
       "      <th>A</th>\n",
       "      <td>99</td>\n",
       "      <td>87</td>\n",
       "      <td>95</td>\n",
       "    </tr>\n",
       "    <tr>\n",
       "      <th>B</th>\n",
       "      <td>98</td>\n",
       "      <td>91</td>\n",
       "      <td>83</td>\n",
       "    </tr>\n",
       "  </tbody>\n",
       "</table>\n",
       "</div>"
      ],
      "text/plain": [
       "letter_standing   A   B   C\n",
       "room                       \n",
       "A                99  87  95\n",
       "B                98  91  83"
      ]
     },
     "execution_count": 26,
     "metadata": {},
     "output_type": "execute_result"
    }
   ],
   "source": [
    "pd.pivot_table(\n",
    "    #data: where this is all being calculated from\n",
    "    data=df,\n",
    "    # what we want on the left side of the output\n",
    "    index='room',\n",
    "    #what we want on the right side of the output\n",
    "    columns='letter_standing',\n",
    "    # what values we want to pass a function to in the cells\n",
    "    values='math',\n",
    "    # what function we want to do to those math vals\n",
    "    # (im saying to do max, it does mean by default)\n",
    "    aggfunc='max')    "
   ]
  },
  {
   "cell_type": "markdown",
   "id": "ba4efa3a",
   "metadata": {},
   "source": [
    "> `index` and `columns` should be categorical values, and `values` should be numeric"
   ]
  },
  {
   "cell_type": "markdown",
   "id": "8e8c4b56",
   "metadata": {},
   "source": [
    "### Using `.map`"
   ]
  },
  {
   "cell_type": "markdown",
   "id": "4a5f85a7",
   "metadata": {},
   "source": [
    "Use a dictionary to assign new values based on current values\n",
    "\n",
    "- format: `.map({'old_value':'new_value'})`"
   ]
  },
  {
   "cell_type": "markdown",
   "id": "a2990360",
   "metadata": {},
   "source": [
    "#### create new df of restuarant data"
   ]
  },
  {
   "cell_type": "code",
   "execution_count": 27,
   "id": "451a7f31",
   "metadata": {},
   "outputs": [
    {
     "data": {
      "text/html": [
       "<div>\n",
       "<style scoped>\n",
       "    .dataframe tbody tr th:only-of-type {\n",
       "        vertical-align: middle;\n",
       "    }\n",
       "\n",
       "    .dataframe tbody tr th {\n",
       "        vertical-align: top;\n",
       "    }\n",
       "\n",
       "    .dataframe thead th {\n",
       "        text-align: right;\n",
       "    }\n",
       "</style>\n",
       "<table border=\"1\" class=\"dataframe\">\n",
       "  <thead>\n",
       "    <tr style=\"text-align: right;\">\n",
       "      <th></th>\n",
       "      <th>drink</th>\n",
       "      <th>meal</th>\n",
       "    </tr>\n",
       "  </thead>\n",
       "  <tbody>\n",
       "    <tr>\n",
       "      <th>32</th>\n",
       "      <td>Water</td>\n",
       "      <td>Yakisoba Noodle</td>\n",
       "    </tr>\n",
       "    <tr>\n",
       "      <th>27</th>\n",
       "      <td>Water</td>\n",
       "      <td>Curry</td>\n",
       "    </tr>\n",
       "    <tr>\n",
       "      <th>21</th>\n",
       "      <td>Water</td>\n",
       "      <td>Yakisoba Noodle</td>\n",
       "    </tr>\n",
       "    <tr>\n",
       "      <th>10</th>\n",
       "      <td>Tea</td>\n",
       "      <td>Pad Thai</td>\n",
       "    </tr>\n",
       "    <tr>\n",
       "      <th>38</th>\n",
       "      <td>Water</td>\n",
       "      <td>Pad Thai</td>\n",
       "    </tr>\n",
       "    <tr>\n",
       "      <th>1</th>\n",
       "      <td>Water</td>\n",
       "      <td>Curry</td>\n",
       "    </tr>\n",
       "    <tr>\n",
       "      <th>24</th>\n",
       "      <td>Water</td>\n",
       "      <td>Yakisoba Noodle</td>\n",
       "    </tr>\n",
       "    <tr>\n",
       "      <th>16</th>\n",
       "      <td>Tea</td>\n",
       "      <td>Pad Thai</td>\n",
       "    </tr>\n",
       "    <tr>\n",
       "      <th>34</th>\n",
       "      <td>Water</td>\n",
       "      <td>Yakisoba Noodle</td>\n",
       "    </tr>\n",
       "    <tr>\n",
       "      <th>13</th>\n",
       "      <td>Water</td>\n",
       "      <td>Pad Thai</td>\n",
       "    </tr>\n",
       "  </tbody>\n",
       "</table>\n",
       "</div>"
      ],
      "text/plain": [
       "    drink             meal\n",
       "32  Water  Yakisoba Noodle\n",
       "27  Water            Curry\n",
       "21  Water  Yakisoba Noodle\n",
       "10    Tea         Pad Thai\n",
       "38  Water         Pad Thai\n",
       "1   Water            Curry\n",
       "24  Water  Yakisoba Noodle\n",
       "16    Tea         Pad Thai\n",
       "34  Water  Yakisoba Noodle\n",
       "13  Water         Pad Thai"
      ]
     },
     "execution_count": 27,
     "metadata": {},
     "output_type": "execute_result"
    }
   ],
   "source": [
    "n = 40\n",
    "\n",
    "df = pd.DataFrame({\n",
    "    'drink': np.random.choice(['Tea', 'Water', 'Water'], n),\n",
    "    \n",
    "    'meal': np.random.choice(['Curry', 'Yakisoba Noodle', 'Pad Thai'], n),\n",
    "})\n",
    "\n",
    "df.sample(10)"
   ]
  },
  {
   "cell_type": "markdown",
   "id": "58ac7f94",
   "metadata": {},
   "source": [
    "#### what are all unique drink values"
   ]
  },
  {
   "cell_type": "code",
   "execution_count": 28,
   "id": "94b681b1",
   "metadata": {},
   "outputs": [
    {
     "data": {
      "text/plain": [
       "2"
      ]
     },
     "execution_count": 28,
     "metadata": {},
     "output_type": "execute_result"
    }
   ],
   "source": [
    "df.drink.nunique()"
   ]
  },
  {
   "cell_type": "markdown",
   "id": "fcb77cfe",
   "metadata": {},
   "source": [
    "#### what are all unique meal values"
   ]
  },
  {
   "cell_type": "code",
   "execution_count": 29,
   "id": "1839734a",
   "metadata": {},
   "outputs": [
    {
     "data": {
      "text/plain": [
       "array(['Pad Thai', 'Curry', 'Yakisoba Noodle'], dtype=object)"
      ]
     },
     "execution_count": 29,
     "metadata": {},
     "output_type": "execute_result"
    }
   ],
   "source": [
    "df.meal.unique()"
   ]
  },
  {
   "cell_type": "markdown",
   "id": "25ee831c",
   "metadata": {},
   "source": [
    "#### create dictionary of prices for all current items"
   ]
  },
  {
   "cell_type": "code",
   "execution_count": 30,
   "id": "459f779f",
   "metadata": {},
   "outputs": [],
   "source": [
    "prices = {\n",
    "    'Yakisoba Noodle': 9,\n",
    "    'Curry': 11,\n",
    "    'Pad Thai': 10,\n",
    "    'Tea': 2,\n",
    "    'Water': 0,\n",
    "}"
   ]
  },
  {
   "cell_type": "code",
   "execution_count": 33,
   "id": "f2b4a602-c638-4b5f-b98d-bffb6d575a6f",
   "metadata": {},
   "outputs": [
    {
     "data": {
      "text/html": [
       "<div>\n",
       "<style scoped>\n",
       "    .dataframe tbody tr th:only-of-type {\n",
       "        vertical-align: middle;\n",
       "    }\n",
       "\n",
       "    .dataframe tbody tr th {\n",
       "        vertical-align: top;\n",
       "    }\n",
       "\n",
       "    .dataframe thead th {\n",
       "        text-align: right;\n",
       "    }\n",
       "</style>\n",
       "<table border=\"1\" class=\"dataframe\">\n",
       "  <thead>\n",
       "    <tr style=\"text-align: right;\">\n",
       "      <th></th>\n",
       "      <th>meal</th>\n",
       "      <th>meal</th>\n",
       "    </tr>\n",
       "  </thead>\n",
       "  <tbody>\n",
       "    <tr>\n",
       "      <th>0</th>\n",
       "      <td>Pad Thai</td>\n",
       "      <td>10</td>\n",
       "    </tr>\n",
       "    <tr>\n",
       "      <th>1</th>\n",
       "      <td>Curry</td>\n",
       "      <td>11</td>\n",
       "    </tr>\n",
       "    <tr>\n",
       "      <th>2</th>\n",
       "      <td>Pad Thai</td>\n",
       "      <td>10</td>\n",
       "    </tr>\n",
       "    <tr>\n",
       "      <th>3</th>\n",
       "      <td>Pad Thai</td>\n",
       "      <td>10</td>\n",
       "    </tr>\n",
       "    <tr>\n",
       "      <th>4</th>\n",
       "      <td>Curry</td>\n",
       "      <td>11</td>\n",
       "    </tr>\n",
       "    <tr>\n",
       "      <th>5</th>\n",
       "      <td>Curry</td>\n",
       "      <td>11</td>\n",
       "    </tr>\n",
       "    <tr>\n",
       "      <th>6</th>\n",
       "      <td>Curry</td>\n",
       "      <td>11</td>\n",
       "    </tr>\n",
       "    <tr>\n",
       "      <th>7</th>\n",
       "      <td>Pad Thai</td>\n",
       "      <td>10</td>\n",
       "    </tr>\n",
       "    <tr>\n",
       "      <th>8</th>\n",
       "      <td>Pad Thai</td>\n",
       "      <td>10</td>\n",
       "    </tr>\n",
       "    <tr>\n",
       "      <th>9</th>\n",
       "      <td>Curry</td>\n",
       "      <td>11</td>\n",
       "    </tr>\n",
       "    <tr>\n",
       "      <th>10</th>\n",
       "      <td>Pad Thai</td>\n",
       "      <td>10</td>\n",
       "    </tr>\n",
       "    <tr>\n",
       "      <th>11</th>\n",
       "      <td>Yakisoba Noodle</td>\n",
       "      <td>9</td>\n",
       "    </tr>\n",
       "    <tr>\n",
       "      <th>12</th>\n",
       "      <td>Yakisoba Noodle</td>\n",
       "      <td>9</td>\n",
       "    </tr>\n",
       "    <tr>\n",
       "      <th>13</th>\n",
       "      <td>Pad Thai</td>\n",
       "      <td>10</td>\n",
       "    </tr>\n",
       "    <tr>\n",
       "      <th>14</th>\n",
       "      <td>Yakisoba Noodle</td>\n",
       "      <td>9</td>\n",
       "    </tr>\n",
       "    <tr>\n",
       "      <th>15</th>\n",
       "      <td>Pad Thai</td>\n",
       "      <td>10</td>\n",
       "    </tr>\n",
       "    <tr>\n",
       "      <th>16</th>\n",
       "      <td>Pad Thai</td>\n",
       "      <td>10</td>\n",
       "    </tr>\n",
       "    <tr>\n",
       "      <th>17</th>\n",
       "      <td>Yakisoba Noodle</td>\n",
       "      <td>9</td>\n",
       "    </tr>\n",
       "    <tr>\n",
       "      <th>18</th>\n",
       "      <td>Pad Thai</td>\n",
       "      <td>10</td>\n",
       "    </tr>\n",
       "    <tr>\n",
       "      <th>19</th>\n",
       "      <td>Pad Thai</td>\n",
       "      <td>10</td>\n",
       "    </tr>\n",
       "    <tr>\n",
       "      <th>20</th>\n",
       "      <td>Curry</td>\n",
       "      <td>11</td>\n",
       "    </tr>\n",
       "    <tr>\n",
       "      <th>21</th>\n",
       "      <td>Yakisoba Noodle</td>\n",
       "      <td>9</td>\n",
       "    </tr>\n",
       "    <tr>\n",
       "      <th>22</th>\n",
       "      <td>Curry</td>\n",
       "      <td>11</td>\n",
       "    </tr>\n",
       "    <tr>\n",
       "      <th>23</th>\n",
       "      <td>Yakisoba Noodle</td>\n",
       "      <td>9</td>\n",
       "    </tr>\n",
       "    <tr>\n",
       "      <th>24</th>\n",
       "      <td>Yakisoba Noodle</td>\n",
       "      <td>9</td>\n",
       "    </tr>\n",
       "    <tr>\n",
       "      <th>25</th>\n",
       "      <td>Pad Thai</td>\n",
       "      <td>10</td>\n",
       "    </tr>\n",
       "    <tr>\n",
       "      <th>26</th>\n",
       "      <td>Yakisoba Noodle</td>\n",
       "      <td>9</td>\n",
       "    </tr>\n",
       "    <tr>\n",
       "      <th>27</th>\n",
       "      <td>Curry</td>\n",
       "      <td>11</td>\n",
       "    </tr>\n",
       "    <tr>\n",
       "      <th>28</th>\n",
       "      <td>Pad Thai</td>\n",
       "      <td>10</td>\n",
       "    </tr>\n",
       "    <tr>\n",
       "      <th>29</th>\n",
       "      <td>Yakisoba Noodle</td>\n",
       "      <td>9</td>\n",
       "    </tr>\n",
       "    <tr>\n",
       "      <th>30</th>\n",
       "      <td>Yakisoba Noodle</td>\n",
       "      <td>9</td>\n",
       "    </tr>\n",
       "    <tr>\n",
       "      <th>31</th>\n",
       "      <td>Yakisoba Noodle</td>\n",
       "      <td>9</td>\n",
       "    </tr>\n",
       "    <tr>\n",
       "      <th>32</th>\n",
       "      <td>Yakisoba Noodle</td>\n",
       "      <td>9</td>\n",
       "    </tr>\n",
       "    <tr>\n",
       "      <th>33</th>\n",
       "      <td>Yakisoba Noodle</td>\n",
       "      <td>9</td>\n",
       "    </tr>\n",
       "    <tr>\n",
       "      <th>34</th>\n",
       "      <td>Yakisoba Noodle</td>\n",
       "      <td>9</td>\n",
       "    </tr>\n",
       "    <tr>\n",
       "      <th>35</th>\n",
       "      <td>Pad Thai</td>\n",
       "      <td>10</td>\n",
       "    </tr>\n",
       "    <tr>\n",
       "      <th>36</th>\n",
       "      <td>Pad Thai</td>\n",
       "      <td>10</td>\n",
       "    </tr>\n",
       "    <tr>\n",
       "      <th>37</th>\n",
       "      <td>Pad Thai</td>\n",
       "      <td>10</td>\n",
       "    </tr>\n",
       "    <tr>\n",
       "      <th>38</th>\n",
       "      <td>Pad Thai</td>\n",
       "      <td>10</td>\n",
       "    </tr>\n",
       "    <tr>\n",
       "      <th>39</th>\n",
       "      <td>Curry</td>\n",
       "      <td>11</td>\n",
       "    </tr>\n",
       "  </tbody>\n",
       "</table>\n",
       "</div>"
      ],
      "text/plain": [
       "               meal  meal\n",
       "0          Pad Thai    10\n",
       "1             Curry    11\n",
       "2          Pad Thai    10\n",
       "3          Pad Thai    10\n",
       "4             Curry    11\n",
       "5             Curry    11\n",
       "6             Curry    11\n",
       "7          Pad Thai    10\n",
       "8          Pad Thai    10\n",
       "9             Curry    11\n",
       "10         Pad Thai    10\n",
       "11  Yakisoba Noodle     9\n",
       "12  Yakisoba Noodle     9\n",
       "13         Pad Thai    10\n",
       "14  Yakisoba Noodle     9\n",
       "15         Pad Thai    10\n",
       "16         Pad Thai    10\n",
       "17  Yakisoba Noodle     9\n",
       "18         Pad Thai    10\n",
       "19         Pad Thai    10\n",
       "20            Curry    11\n",
       "21  Yakisoba Noodle     9\n",
       "22            Curry    11\n",
       "23  Yakisoba Noodle     9\n",
       "24  Yakisoba Noodle     9\n",
       "25         Pad Thai    10\n",
       "26  Yakisoba Noodle     9\n",
       "27            Curry    11\n",
       "28         Pad Thai    10\n",
       "29  Yakisoba Noodle     9\n",
       "30  Yakisoba Noodle     9\n",
       "31  Yakisoba Noodle     9\n",
       "32  Yakisoba Noodle     9\n",
       "33  Yakisoba Noodle     9\n",
       "34  Yakisoba Noodle     9\n",
       "35         Pad Thai    10\n",
       "36         Pad Thai    10\n",
       "37         Pad Thai    10\n",
       "38         Pad Thai    10\n",
       "39            Curry    11"
      ]
     },
     "execution_count": 33,
     "metadata": {},
     "output_type": "execute_result"
    }
   ],
   "source": [
    "pd.concat(\n",
    "    [df['meal'],\n",
    "    df.meal.map(prices)],\n",
    "axis=1)"
   ]
  },
  {
   "cell_type": "markdown",
   "id": "bc866288",
   "metadata": {},
   "source": [
    "#### map drink prices and meal prices to create bill"
   ]
  },
  {
   "cell_type": "code",
   "execution_count": 34,
   "id": "dd45af6e",
   "metadata": {},
   "outputs": [],
   "source": [
    "# make a new column called bill\n",
    "# assign it to the added series of:\n",
    "# 1: the mapped prices of the food\n",
    "# 2: the mapped prices of drinks\n",
    "df['bill'] = \\\n",
    "df.meal.map(prices) \\\n",
    "+ \\\n",
    "df.drink.map(prices)"
   ]
  },
  {
   "cell_type": "code",
   "execution_count": 36,
   "id": "0b6b716a",
   "metadata": {},
   "outputs": [
    {
     "data": {
      "text/html": [
       "<div>\n",
       "<style scoped>\n",
       "    .dataframe tbody tr th:only-of-type {\n",
       "        vertical-align: middle;\n",
       "    }\n",
       "\n",
       "    .dataframe tbody tr th {\n",
       "        vertical-align: top;\n",
       "    }\n",
       "\n",
       "    .dataframe thead th {\n",
       "        text-align: right;\n",
       "    }\n",
       "</style>\n",
       "<table border=\"1\" class=\"dataframe\">\n",
       "  <thead>\n",
       "    <tr style=\"text-align: right;\">\n",
       "      <th></th>\n",
       "      <th>drink</th>\n",
       "      <th>meal</th>\n",
       "      <th>bill</th>\n",
       "    </tr>\n",
       "  </thead>\n",
       "  <tbody>\n",
       "    <tr>\n",
       "      <th>35</th>\n",
       "      <td>Tea</td>\n",
       "      <td>Pad Thai</td>\n",
       "      <td>12</td>\n",
       "    </tr>\n",
       "    <tr>\n",
       "      <th>36</th>\n",
       "      <td>Water</td>\n",
       "      <td>Pad Thai</td>\n",
       "      <td>10</td>\n",
       "    </tr>\n",
       "    <tr>\n",
       "      <th>37</th>\n",
       "      <td>Tea</td>\n",
       "      <td>Pad Thai</td>\n",
       "      <td>12</td>\n",
       "    </tr>\n",
       "    <tr>\n",
       "      <th>38</th>\n",
       "      <td>Water</td>\n",
       "      <td>Pad Thai</td>\n",
       "      <td>10</td>\n",
       "    </tr>\n",
       "    <tr>\n",
       "      <th>39</th>\n",
       "      <td>Water</td>\n",
       "      <td>Curry</td>\n",
       "      <td>11</td>\n",
       "    </tr>\n",
       "  </tbody>\n",
       "</table>\n",
       "</div>"
      ],
      "text/plain": [
       "    drink      meal  bill\n",
       "35    Tea  Pad Thai    12\n",
       "36  Water  Pad Thai    10\n",
       "37    Tea  Pad Thai    12\n",
       "38  Water  Pad Thai    10\n",
       "39  Water     Curry    11"
      ]
     },
     "execution_count": 36,
     "metadata": {},
     "output_type": "execute_result"
    }
   ],
   "source": [
    "df.tail()"
   ]
  },
  {
   "cell_type": "code",
   "execution_count": null,
   "id": "dfbefc9d",
   "metadata": {},
   "outputs": [],
   "source": []
  },
  {
   "cell_type": "code",
   "execution_count": null,
   "id": "b6fd40b6",
   "metadata": {},
   "outputs": [],
   "source": []
  },
  {
   "cell_type": "code",
   "execution_count": null,
   "id": "0fd2ed4c",
   "metadata": {},
   "outputs": [],
   "source": []
  },
  {
   "cell_type": "markdown",
   "id": "5eeb2a21",
   "metadata": {},
   "source": [
    "#### how many orders of each combination of meal and drink are there?"
   ]
  },
  {
   "cell_type": "code",
   "execution_count": null,
   "id": "2e9cf346-2b96-4bcf-87c6-1429c2b8a1d0",
   "metadata": {},
   "outputs": [],
   "source": [
    "# if they were lists maybe itertools.product"
   ]
  },
  {
   "cell_type": "code",
   "execution_count": 38,
   "id": "3d702964",
   "metadata": {},
   "outputs": [
    {
     "data": {
      "text/html": [
       "<div>\n",
       "<style scoped>\n",
       "    .dataframe tbody tr th:only-of-type {\n",
       "        vertical-align: middle;\n",
       "    }\n",
       "\n",
       "    .dataframe tbody tr th {\n",
       "        vertical-align: top;\n",
       "    }\n",
       "\n",
       "    .dataframe thead th {\n",
       "        text-align: right;\n",
       "    }\n",
       "</style>\n",
       "<table border=\"1\" class=\"dataframe\">\n",
       "  <thead>\n",
       "    <tr style=\"text-align: right;\">\n",
       "      <th>drink</th>\n",
       "      <th>Tea</th>\n",
       "      <th>Water</th>\n",
       "    </tr>\n",
       "    <tr>\n",
       "      <th>meal</th>\n",
       "      <th></th>\n",
       "      <th></th>\n",
       "    </tr>\n",
       "  </thead>\n",
       "  <tbody>\n",
       "    <tr>\n",
       "      <th>Curry</th>\n",
       "      <td>1</td>\n",
       "      <td>8</td>\n",
       "    </tr>\n",
       "    <tr>\n",
       "      <th>Pad Thai</th>\n",
       "      <td>5</td>\n",
       "      <td>12</td>\n",
       "    </tr>\n",
       "    <tr>\n",
       "      <th>Yakisoba Noodle</th>\n",
       "      <td>6</td>\n",
       "      <td>8</td>\n",
       "    </tr>\n",
       "  </tbody>\n",
       "</table>\n",
       "</div>"
      ],
      "text/plain": [
       "drink            Tea  Water\n",
       "meal                       \n",
       "Curry              1      8\n",
       "Pad Thai           5     12\n",
       "Yakisoba Noodle    6      8"
      ]
     },
     "execution_count": 38,
     "metadata": {},
     "output_type": "execute_result"
    }
   ],
   "source": [
    "# but its pandas!\n",
    "pd.crosstab(df.drink, df.meal).T"
   ]
  },
  {
   "cell_type": "markdown",
   "id": "e14fb7b3",
   "metadata": {},
   "source": [
    "#### what percentage of each?"
   ]
  },
  {
   "cell_type": "code",
   "execution_count": 39,
   "id": "4a091406",
   "metadata": {},
   "outputs": [
    {
     "data": {
      "text/html": [
       "<div>\n",
       "<style scoped>\n",
       "    .dataframe tbody tr th:only-of-type {\n",
       "        vertical-align: middle;\n",
       "    }\n",
       "\n",
       "    .dataframe tbody tr th {\n",
       "        vertical-align: top;\n",
       "    }\n",
       "\n",
       "    .dataframe thead th {\n",
       "        text-align: right;\n",
       "    }\n",
       "</style>\n",
       "<table border=\"1\" class=\"dataframe\">\n",
       "  <thead>\n",
       "    <tr style=\"text-align: right;\">\n",
       "      <th>drink</th>\n",
       "      <th>Tea</th>\n",
       "      <th>Water</th>\n",
       "    </tr>\n",
       "    <tr>\n",
       "      <th>meal</th>\n",
       "      <th></th>\n",
       "      <th></th>\n",
       "    </tr>\n",
       "  </thead>\n",
       "  <tbody>\n",
       "    <tr>\n",
       "      <th>Curry</th>\n",
       "      <td>0.025</td>\n",
       "      <td>0.2</td>\n",
       "    </tr>\n",
       "    <tr>\n",
       "      <th>Pad Thai</th>\n",
       "      <td>0.125</td>\n",
       "      <td>0.3</td>\n",
       "    </tr>\n",
       "    <tr>\n",
       "      <th>Yakisoba Noodle</th>\n",
       "      <td>0.150</td>\n",
       "      <td>0.2</td>\n",
       "    </tr>\n",
       "  </tbody>\n",
       "</table>\n",
       "</div>"
      ],
      "text/plain": [
       "drink              Tea  Water\n",
       "meal                         \n",
       "Curry            0.025    0.2\n",
       "Pad Thai         0.125    0.3\n",
       "Yakisoba Noodle  0.150    0.2"
      ]
     },
     "execution_count": 39,
     "metadata": {},
     "output_type": "execute_result"
    }
   ],
   "source": [
    "pd.crosstab(df.drink,\n",
    "            df.meal,\n",
    "           normalize=True).T"
   ]
  },
  {
   "cell_type": "markdown",
   "id": "556b043c",
   "metadata": {},
   "source": [
    "#### whats the average bill for each combination?"
   ]
  },
  {
   "cell_type": "code",
   "execution_count": 40,
   "id": "e0d989f2",
   "metadata": {},
   "outputs": [
    {
     "data": {
      "text/html": [
       "<div>\n",
       "<style scoped>\n",
       "    .dataframe tbody tr th:only-of-type {\n",
       "        vertical-align: middle;\n",
       "    }\n",
       "\n",
       "    .dataframe tbody tr th {\n",
       "        vertical-align: top;\n",
       "    }\n",
       "\n",
       "    .dataframe thead th {\n",
       "        text-align: right;\n",
       "    }\n",
       "</style>\n",
       "<table border=\"1\" class=\"dataframe\">\n",
       "  <thead>\n",
       "    <tr style=\"text-align: right;\">\n",
       "      <th>meal</th>\n",
       "      <th>Curry</th>\n",
       "      <th>Pad Thai</th>\n",
       "      <th>Yakisoba Noodle</th>\n",
       "    </tr>\n",
       "    <tr>\n",
       "      <th>drink</th>\n",
       "      <th></th>\n",
       "      <th></th>\n",
       "      <th></th>\n",
       "    </tr>\n",
       "  </thead>\n",
       "  <tbody>\n",
       "    <tr>\n",
       "      <th>Tea</th>\n",
       "      <td>13</td>\n",
       "      <td>12</td>\n",
       "      <td>11</td>\n",
       "    </tr>\n",
       "    <tr>\n",
       "      <th>Water</th>\n",
       "      <td>11</td>\n",
       "      <td>10</td>\n",
       "      <td>9</td>\n",
       "    </tr>\n",
       "  </tbody>\n",
       "</table>\n",
       "</div>"
      ],
      "text/plain": [
       "meal   Curry  Pad Thai  Yakisoba Noodle\n",
       "drink                                  \n",
       "Tea       13        12               11\n",
       "Water     11        10                9"
      ]
     },
     "execution_count": 40,
     "metadata": {},
     "output_type": "execute_result"
    }
   ],
   "source": [
    "pd.pivot_table(\n",
    "    data=df,\n",
    "    index='drink',\n",
    "    columns='meal',\n",
    "    values='bill'\n",
    ")"
   ]
  },
  {
   "cell_type": "markdown",
   "id": "f3ccf51e",
   "metadata": {},
   "source": [
    "#### we can also get this by using a groupby"
   ]
  },
  {
   "cell_type": "code",
   "execution_count": 42,
   "id": "9639c9bc",
   "metadata": {},
   "outputs": [
    {
     "data": {
      "text/plain": [
       "drink  meal           \n",
       "Tea    Curry              13.0\n",
       "       Pad Thai           12.0\n",
       "       Yakisoba Noodle    11.0\n",
       "Water  Curry              11.0\n",
       "       Pad Thai           10.0\n",
       "       Yakisoba Noodle     9.0\n",
       "Name: bill, dtype: float64"
      ]
     },
     "execution_count": 42,
     "metadata": {},
     "output_type": "execute_result"
    }
   ],
   "source": [
    "df.groupby(\n",
    "    [\n",
    "    'drink',\n",
    "     'meal'\n",
    "    ]\n",
    ").bill.mean()"
   ]
  },
  {
   "cell_type": "code",
   "execution_count": null,
   "id": "53e607e0",
   "metadata": {},
   "outputs": [],
   "source": []
  }
 ],
 "metadata": {
  "kernelspec": {
   "display_name": "Python 3 (ipykernel)",
   "language": "python",
   "name": "python3"
  },
  "language_info": {
   "codemirror_mode": {
    "name": "ipython",
    "version": 3
   },
   "file_extension": ".py",
   "mimetype": "text/x-python",
   "name": "python",
   "nbconvert_exporter": "python",
   "pygments_lexer": "ipython3",
   "version": "3.11.2"
  }
 },
 "nbformat": 4,
 "nbformat_minor": 5
}
