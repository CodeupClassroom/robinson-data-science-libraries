{
 "cells": [
  {
   "cell_type": "code",
   "execution_count": 5,
   "id": "3266ec83",
   "metadata": {},
   "outputs": [],
   "source": [
    "import pandas as pd\n",
    "\n",
    "df = pd.read_csv('https://gist.githubusercontent.com/armgilles/194bcff35001e7eb53a2a8b441e8b2c6/raw/92200bc0a673d5ce2110aaad4544ed6c4010f687/pokemon.csv')"
   ]
  },
  {
   "cell_type": "markdown",
   "id": "7d7cdbfa",
   "metadata": {},
   "source": [
    "## Discussion \n",
    "\n",
    "\n",
    "1. What is a dataframe?\n",
    "\n",
    "\n",
    "2. What information can we obtain about a dataframe?\n",
    "\n",
    "\n",
    "3. How have we interacted with a dataframe?\n",
    "\n"
   ]
  },
  {
   "cell_type": "markdown",
   "id": "32017d00",
   "metadata": {},
   "source": []
  },
  {
   "cell_type": "markdown",
   "id": "39ce3b34",
   "metadata": {},
   "source": [
    "---\n",
    "\n",
    "### Practice Exercises\n",
    "\n",
    "\n",
    "#### Information about a dataframe\n",
    "\n",
    "1. Obtain the following information:\n",
    "    \n",
    "    - dimensions\n",
    "    - dtypes\n",
    "    - column names\n",
    "    - summary statistics"
   ]
  },
  {
   "cell_type": "code",
   "execution_count": null,
   "id": "545c3521",
   "metadata": {},
   "outputs": [],
   "source": []
  },
  {
   "cell_type": "markdown",
   "id": "4c7140c0",
   "metadata": {},
   "source": [
    "#### Working with dataframes\n",
    "\n",
    "1. What is the highest HP value present?\n",
    "\n",
    "    - Create a function named highest_attack.\n",
    "    - Use the loaded dataframe as an argument. "
   ]
  },
  {
   "cell_type": "code",
   "execution_count": null,
   "id": "745b5c1b",
   "metadata": {},
   "outputs": [],
   "source": []
  },
  {
   "cell_type": "markdown",
   "id": "d57df163",
   "metadata": {},
   "source": [
    "2. Which Pokemon possess(es) the highest HP value?"
   ]
  },
  {
   "cell_type": "code",
   "execution_count": null,
   "id": "60eae031",
   "metadata": {},
   "outputs": [],
   "source": []
  },
  {
   "cell_type": "markdown",
   "id": "a502e6e7",
   "metadata": {},
   "source": [
    " \n",
    "3. How many different types are represented in Type 1?\n",
    "\n",
    "    - Create a function named num_types\n",
    "    - Use the loaded dataframe as an argument\n",
    "    "
   ]
  },
  {
   "cell_type": "code",
   "execution_count": null,
   "id": "6eae9f2e",
   "metadata": {},
   "outputs": [],
   "source": []
  },
  {
   "cell_type": "markdown",
   "id": "779667eb",
   "metadata": {},
   "source": [
    "4. Number of Pokemon whose Type 2 is Ghost"
   ]
  },
  {
   "cell_type": "code",
   "execution_count": null,
   "id": "5ea46890",
   "metadata": {},
   "outputs": [],
   "source": []
  },
  {
   "cell_type": "markdown",
   "id": "f0b5c4b7",
   "metadata": {},
   "source": [
    "5. Percentage of Pokemon whose Type 2 is Ghost\n",
    "\n",
    "    - Create a function named percent_ghost\n",
    "     - Use the loaded dataframe as an argument"
   ]
  },
  {
   "cell_type": "code",
   "execution_count": null,
   "id": "d68e3b29",
   "metadata": {},
   "outputs": [],
   "source": []
  },
  {
   "cell_type": "markdown",
   "id": "65d6de51",
   "metadata": {},
   "source": [
    "6. Number of Pokemon whose Attack is greater than Defense"
   ]
  },
  {
   "cell_type": "code",
   "execution_count": null,
   "id": "f95affbe",
   "metadata": {},
   "outputs": [],
   "source": []
  },
  {
   "cell_type": "markdown",
   "id": "5f470eae",
   "metadata": {},
   "source": [
    "7. Lowest speed for Grass or Rock"
   ]
  },
  {
   "cell_type": "code",
   "execution_count": null,
   "id": "04b80722",
   "metadata": {},
   "outputs": [],
   "source": []
  }
 ],
 "metadata": {
  "kernelspec": {
   "display_name": "Python 3 (ipykernel)",
   "language": "python",
   "name": "python3"
  },
  "language_info": {
   "codemirror_mode": {
    "name": "ipython",
    "version": 3
   },
   "file_extension": ".py",
   "mimetype": "text/x-python",
   "name": "python",
   "nbconvert_exporter": "python",
   "pygments_lexer": "ipython3",
   "version": "3.11.2"
  }
 },
 "nbformat": 4,
 "nbformat_minor": 5
}
