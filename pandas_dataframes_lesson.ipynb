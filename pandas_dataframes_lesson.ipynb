{
 "cells": [
  {
   "cell_type": "markdown",
   "id": "e0faec46",
   "metadata": {},
   "source": [
    "### Working with pandas dataframes\n"
   ]
  },
  {
   "cell_type": "markdown",
   "id": "a8a8ee8d",
   "metadata": {},
   "source": [
    "[Official Documentation](https://pandas.pydata.org/docs/)\n",
    "\n",
    "[Course page](https://ds.codeup.com/python/dataframes/)\n"
   ]
  },
  {
   "cell_type": "markdown",
   "id": "d7a779f1",
   "metadata": {},
   "source": [
    "<div class=\"alert alert-block alert-info\">\n",
    "\n",
    "#### Learning Goals\n",
    "    \n",
    "- Understand the structure of a dataframe\n",
    "- View information about the contents of a dataframe\n",
    "- Determine attributes of the data within the dataframe\n",
    "- Manipulate columns\n",
    "- Sort and filter contents of dataframe\n",
    "- Create, modify, and drop columns\n",
    "- View descriptive statistics for data"
   ]
  },
  {
   "cell_type": "code",
   "execution_count": 1,
   "id": "432d4755",
   "metadata": {},
   "outputs": [],
   "source": [
    "# first things  first:\n",
    "# import pandas!\n",
    "import numpy as np\n",
    "import pandas as pd"
   ]
  },
  {
   "cell_type": "markdown",
   "id": "2c11413a",
   "metadata": {
    "tags": []
   },
   "source": [
    "### Sources of dataframes\n",
    "\n",
    "- Created from dictionaries, lists, or arrays\n",
    "- Imported from Python libraries (e.g. `pydataset`)\n",
    "- Read from `csv`, `tsv`, `xlsx` files\n",
    "- SQL databases"
   ]
  },
  {
   "cell_type": "code",
   "execution_count": 2,
   "id": "670050a6-09c6-46e5-9388-a8e2f35fe9d7",
   "metadata": {},
   "outputs": [],
   "source": [
    "# most common acquisition/wrangling steps:\n",
    "# pd.read_sql()"
   ]
  },
  {
   "cell_type": "code",
   "execution_count": 3,
   "id": "c8792330-da19-4771-8efc-8d4beddb5ae8",
   "metadata": {},
   "outputs": [],
   "source": [
    "# pd.read_csv()"
   ]
  },
  {
   "cell_type": "markdown",
   "id": "944c2dff",
   "metadata": {},
   "source": [
    "---\n",
    "\n",
    "### Import statements\n",
    "\n"
   ]
  },
  {
   "cell_type": "code",
   "execution_count": 4,
   "id": "872ad52a",
   "metadata": {},
   "outputs": [],
   "source": [
    "# Imported libraries\n",
    "import pandas as pd\n",
    "\n",
    "# Numpy to build arrays\n",
    "import numpy as np\n",
    "\n",
    "# Source of datasets\n",
    "from pydataset import data\n",
    "\n",
    "# Set a value to initialize the random integer generation\n",
    "# put in an integer into the seed call\n",
    "# this integer is a set of instructions\n",
    "# that allows random processes to replicate\n",
    "# if we were to re-run this code\n",
    "np.random.seed(1349)"
   ]
  },
  {
   "cell_type": "markdown",
   "id": "5ddf76ec",
   "metadata": {},
   "source": [
    "---\n",
    "\n",
    "## Creating a dataframe\n",
    "\n",
    "- Combine multiple series of equal length.\n"
   ]
  },
  {
   "cell_type": "code",
   "execution_count": 5,
   "id": "44f6c9a5",
   "metadata": {},
   "outputs": [],
   "source": [
    "# Create a list of students\n",
    "students = ['Sally', \n",
    "            'Jane', \n",
    "            'Suzie', \n",
    "            'Billy', \n",
    "            'Ada', \n",
    "            'John', \n",
    "            'Thomas', \n",
    "            'Marie', \n",
    "            'Albert', \n",
    "            'Richard', \n",
    "            'Isaac', \n",
    "            'Alan']\n"
   ]
  },
  {
   "cell_type": "code",
   "execution_count": 6,
   "id": "b41c2192-06cd-4122-9894-41831fad1802",
   "metadata": {},
   "outputs": [
    {
     "data": {
      "text/plain": [
       "list"
      ]
     },
     "execution_count": 6,
     "metadata": {},
     "output_type": "execute_result"
    }
   ],
   "source": [
    "type(students)"
   ]
  },
  {
   "cell_type": "code",
   "execution_count": 7,
   "id": "bcc8df9b-2854-49d1-9053-27b1e1ac439e",
   "metadata": {},
   "outputs": [
    {
     "data": {
      "text/plain": [
       "0       Sally\n",
       "1        Jane\n",
       "2       Suzie\n",
       "3       Billy\n",
       "4         Ada\n",
       "5        John\n",
       "6      Thomas\n",
       "7       Marie\n",
       "8      Albert\n",
       "9     Richard\n",
       "10      Isaac\n",
       "11       Alan\n",
       "Name: my_students, dtype: object"
      ]
     },
     "execution_count": 7,
     "metadata": {},
     "output_type": "execute_result"
    }
   ],
   "source": [
    "pd.Series(students, name='my_students')"
   ]
  },
  {
   "cell_type": "code",
   "execution_count": 8,
   "id": "ec886c5f-962f-4de6-b7f9-610b27296eb4",
   "metadata": {},
   "outputs": [
    {
     "data": {
      "text/plain": [
       "array([78, 77, 96, 62, 98, 95, 87, 99, 91, 84, 77, 83])"
      ]
     },
     "execution_count": 8,
     "metadata": {},
     "output_type": "execute_result"
    }
   ],
   "source": [
    "# np.random.randint call:\n",
    "# min and max values called with kwargs low and high\n",
    "# size kwarg associates with the len(students),\n",
    "# which means we will get the same number of elements\n",
    "\n",
    "np.random.randint(\n",
    "    low=60, \n",
    "    high=100, \n",
    "    size=len(students))"
   ]
  },
  {
   "cell_type": "code",
   "execution_count": 10,
   "id": "8152b8ea",
   "metadata": {},
   "outputs": [],
   "source": [
    "\n",
    "# Randomly generate 12 scores for each subject (1 per student)\n",
    "# Store values as arrays\n",
    "# Note that all the values need to have the same length here\n",
    "\n",
    "math_grades = np.random.randint(\n",
    "    low=60, high=100, size=len(students))\n",
    "\n",
    "english_grades = np.random.randint(\n",
    "    low=60, high=100, size=len(students))\n",
    "\n",
    "reading_grades = np.random.randint(\n",
    "    low=60, high=100, size=len(students))"
   ]
  },
  {
   "cell_type": "code",
   "execution_count": 11,
   "id": "05a9a173",
   "metadata": {},
   "outputs": [],
   "source": [
    "# Create a dictionary with structure:\n",
    "# 'column_name': <array or list>\n",
    "\n",
    "# define a dictionary for the structure of my dataframe\n",
    "# when we think about dataframes, or tabular data in general,\n",
    "# I know that I am going to need a specific structure\n",
    "# to define rows and columns:\n",
    "# columns will be defined my names, just as they were with fields\n",
    "# in sql, which I am defining here as string literal keys in\n",
    "# a dictionary structure\n",
    "# The content for each of these columns\n",
    "# is defined by either a list, or array of content all of the same\n",
    "# length\n",
    "df_dict = {'name': students,\n",
    "                   'math': math_grades,\n",
    "                   'english': english_grades,\n",
    "                   'reading': reading_grades}"
   ]
  },
  {
   "cell_type": "code",
   "execution_count": 12,
   "id": "53afe7d5-a5ec-4d71-82cf-35be3aff7a5e",
   "metadata": {},
   "outputs": [
    {
     "data": {
      "text/plain": [
       "dict"
      ]
     },
     "execution_count": 12,
     "metadata": {},
     "output_type": "execute_result"
    }
   ],
   "source": [
    "# df_dict is still a dictionary\n",
    "type(df_dict)"
   ]
  },
  {
   "cell_type": "code",
   "execution_count": 13,
   "id": "2ff06bd1-591b-4167-bf8b-3197bd21de3d",
   "metadata": {},
   "outputs": [],
   "source": [
    "# defining our first DataFrame:"
   ]
  },
  {
   "cell_type": "code",
   "execution_count": 16,
   "id": "6e4091de-faa3-4864-9584-3397d386434d",
   "metadata": {},
   "outputs": [],
   "source": [
    "students_df = pd.DataFrame(df_dict)"
   ]
  },
  {
   "cell_type": "code",
   "execution_count": 17,
   "id": "0eaad7ef-dd59-47ad-ae32-f0962ee2fa37",
   "metadata": {},
   "outputs": [
    {
     "data": {
      "text/plain": [
       "dict"
      ]
     },
     "execution_count": 17,
     "metadata": {},
     "output_type": "execute_result"
    }
   ],
   "source": [
    "type(df_dict)"
   ]
  },
  {
   "cell_type": "code",
   "execution_count": 18,
   "id": "86344610-4996-4d00-b8c0-cc536ec548e6",
   "metadata": {},
   "outputs": [
    {
     "data": {
      "text/plain": [
       "pandas.core.frame.DataFrame"
      ]
     },
     "execution_count": 18,
     "metadata": {},
     "output_type": "execute_result"
    }
   ],
   "source": [
    "type(students_df)"
   ]
  },
  {
   "cell_type": "markdown",
   "id": "7ba7c85b",
   "metadata": {},
   "source": [
    "### Check data types"
   ]
  },
  {
   "cell_type": "code",
   "execution_count": 20,
   "id": "a90cd3e1-f317-4310-805e-3b11b6f31e04",
   "metadata": {},
   "outputs": [
    {
     "name": "stdout",
     "output_type": "stream",
     "text": [
      "<class 'pandas.core.frame.DataFrame'>\n",
      "RangeIndex: 12 entries, 0 to 11\n",
      "Data columns (total 4 columns):\n",
      " #   Column   Non-Null Count  Dtype \n",
      "---  ------   --------------  ----- \n",
      " 0   name     12 non-null     object\n",
      " 1   math     12 non-null     int64 \n",
      " 2   english  12 non-null     int64 \n",
      " 3   reading  12 non-null     int64 \n",
      "dtypes: int64(3), object(1)\n",
      "memory usage: 516.0+ bytes\n"
     ]
    }
   ],
   "source": [
    "# first things we do when we look at a pandas dataframe for\n",
    "# the first time\n",
    "# (likely steps that you will be doing from this point forward\n",
    "# every time you get your hands on a new data set)\n",
    "# info is a method of the df object, hence the parens\n",
    "students_df.info()"
   ]
  },
  {
   "cell_type": "code",
   "execution_count": 23,
   "id": "6fb6f703-795b-4077-a7ce-d5bbab644a58",
   "metadata": {},
   "outputs": [
    {
     "name": "stdout",
     "output_type": "stream",
     "text": [
      "<class 'pandas.core.frame.DataFrame'>\n",
      "RangeIndex: 12 entries, 0 to 11\n",
      "Data columns (total 4 columns):\n",
      " #   Column   Non-Null Count  Dtype \n",
      "---  ------   --------------  ----- \n",
      " 0   name     12 non-null     object\n",
      " 1   math     12 non-null     int64 \n",
      " 2   english  12 non-null     int64 \n",
      " 3   reading  12 non-null     int64 \n",
      "dtypes: int64(3), object(1)\n",
      "memory usage: 516.0+ bytes\n"
     ]
    },
    {
     "data": {
      "text/plain": [
       "NoneType"
      ]
     },
     "execution_count": 23,
     "metadata": {},
     "output_type": "execute_result"
    }
   ],
   "source": [
    "type(students_df.info())"
   ]
  },
  {
   "cell_type": "code",
   "execution_count": 25,
   "id": "a30a591c-2a5a-4d6c-b214-d51da8cfe9fe",
   "metadata": {},
   "outputs": [
    {
     "data": {
      "text/plain": [
       "name       object\n",
       "math        int64\n",
       "english     int64\n",
       "reading     int64\n",
       "dtype: object"
      ]
     },
     "execution_count": 25,
     "metadata": {},
     "output_type": "execute_result"
    }
   ],
   "source": [
    "# dtypes is a property of the dataframe object, not a method call\n",
    "# so when we invoke it, we are getting data about the df\n",
    "# not acting as a function\n",
    "# *INTERESTINGLY* the output of this property\n",
    "# is still of a pandas datatype\n",
    "students_df.dtypes"
   ]
  },
  {
   "cell_type": "code",
   "execution_count": 22,
   "id": "e141f9e8-a20c-4170-b9dc-3f1218701680",
   "metadata": {},
   "outputs": [],
   "source": [
    "# how do I look at the data type of a single Series?"
   ]
  },
  {
   "cell_type": "code",
   "execution_count": null,
   "id": "361f366f-4d5b-4a77-b57e-716046375cb8",
   "metadata": {},
   "outputs": [],
   "source": [
    "# lets examine the structure a little more before we answer:"
   ]
  },
  {
   "cell_type": "markdown",
   "id": "f52b6d47",
   "metadata": {
    "tags": []
   },
   "source": [
    "### Display a table for the dataframe"
   ]
  },
  {
   "cell_type": "markdown",
   "id": "5fb6fbad-64da-4b16-a4bc-1383f474d0a5",
   "metadata": {
    "tags": []
   },
   "source": [
    "### Descriptive Statistics"
   ]
  },
  {
   "cell_type": "code",
   "execution_count": 27,
   "id": "48dfc25c-e330-4c36-bd5e-02f5ee888c9d",
   "metadata": {},
   "outputs": [
    {
     "data": {
      "text/html": [
       "<div>\n",
       "<style scoped>\n",
       "    .dataframe tbody tr th:only-of-type {\n",
       "        vertical-align: middle;\n",
       "    }\n",
       "\n",
       "    .dataframe tbody tr th {\n",
       "        vertical-align: top;\n",
       "    }\n",
       "\n",
       "    .dataframe thead th {\n",
       "        text-align: right;\n",
       "    }\n",
       "</style>\n",
       "<table border=\"1\" class=\"dataframe\">\n",
       "  <thead>\n",
       "    <tr style=\"text-align: right;\">\n",
       "      <th></th>\n",
       "      <th>math</th>\n",
       "      <th>english</th>\n",
       "      <th>reading</th>\n",
       "    </tr>\n",
       "  </thead>\n",
       "  <tbody>\n",
       "    <tr>\n",
       "      <th>count</th>\n",
       "      <td>12.000000</td>\n",
       "      <td>12.000000</td>\n",
       "      <td>12.000000</td>\n",
       "    </tr>\n",
       "    <tr>\n",
       "      <th>mean</th>\n",
       "      <td>82.000000</td>\n",
       "      <td>83.333333</td>\n",
       "      <td>80.666667</td>\n",
       "    </tr>\n",
       "    <tr>\n",
       "      <th>std</th>\n",
       "      <td>8.696917</td>\n",
       "      <td>12.928709</td>\n",
       "      <td>12.572216</td>\n",
       "    </tr>\n",
       "    <tr>\n",
       "      <th>min</th>\n",
       "      <td>61.000000</td>\n",
       "      <td>60.000000</td>\n",
       "      <td>62.000000</td>\n",
       "    </tr>\n",
       "    <tr>\n",
       "      <th>25%</th>\n",
       "      <td>78.500000</td>\n",
       "      <td>72.750000</td>\n",
       "      <td>73.000000</td>\n",
       "    </tr>\n",
       "    <tr>\n",
       "      <th>50%</th>\n",
       "      <td>84.500000</td>\n",
       "      <td>89.000000</td>\n",
       "      <td>78.500000</td>\n",
       "    </tr>\n",
       "    <tr>\n",
       "      <th>75%</th>\n",
       "      <td>88.000000</td>\n",
       "      <td>93.250000</td>\n",
       "      <td>93.250000</td>\n",
       "    </tr>\n",
       "    <tr>\n",
       "      <th>max</th>\n",
       "      <td>91.000000</td>\n",
       "      <td>98.000000</td>\n",
       "      <td>99.000000</td>\n",
       "    </tr>\n",
       "  </tbody>\n",
       "</table>\n",
       "</div>"
      ],
      "text/plain": [
       "            math    english    reading\n",
       "count  12.000000  12.000000  12.000000\n",
       "mean   82.000000  83.333333  80.666667\n",
       "std     8.696917  12.928709  12.572216\n",
       "min    61.000000  60.000000  62.000000\n",
       "25%    78.500000  72.750000  73.000000\n",
       "50%    84.500000  89.000000  78.500000\n",
       "75%    88.000000  93.250000  93.250000\n",
       "max    91.000000  98.000000  99.000000"
      ]
     },
     "execution_count": 27,
     "metadata": {},
     "output_type": "execute_result"
    }
   ],
   "source": [
    "students_df.describe()"
   ]
  },
  {
   "cell_type": "code",
   "execution_count": 28,
   "id": "7c995403-c5fd-45cb-8bf9-f018b5bf3112",
   "metadata": {},
   "outputs": [
    {
     "data": {
      "text/plain": [
       "pandas.core.frame.DataFrame"
      ]
     },
     "execution_count": 28,
     "metadata": {},
     "output_type": "execute_result"
    }
   ],
   "source": [
    "type(students_df.describe())"
   ]
  },
  {
   "cell_type": "code",
   "execution_count": 30,
   "id": "5ef5496a-cfb6-4997-a746-bf3a4cb27f8f",
   "metadata": {},
   "outputs": [],
   "source": [
    "my_desc = students_df.describe()"
   ]
  },
  {
   "cell_type": "markdown",
   "id": "f41e0f9b",
   "metadata": {},
   "source": [
    "### Dimension of dataframe\n",
    "\n",
    "Format: A tuple with (rows, columns)"
   ]
  },
  {
   "cell_type": "code",
   "execution_count": 33,
   "id": "e8c288e5-6fe7-4654-a118-e6437d4e460c",
   "metadata": {},
   "outputs": [],
   "source": [
    "# reassign students_df into df because fingers dont cooperate\n",
    "df = students_df"
   ]
  },
  {
   "cell_type": "code",
   "execution_count": 34,
   "id": "2503725c-104e-4efb-b568-7332801d11b4",
   "metadata": {},
   "outputs": [
    {
     "data": {
      "text/plain": [
       "(12, 4)"
      ]
     },
     "execution_count": 34,
     "metadata": {},
     "output_type": "execute_result"
    }
   ],
   "source": [
    "df.shape"
   ]
  },
  {
   "cell_type": "code",
   "execution_count": 35,
   "id": "8fb894f3-219c-4941-96fc-0fd5164c826a",
   "metadata": {},
   "outputs": [
    {
     "data": {
      "text/plain": [
       "48"
      ]
     },
     "execution_count": 35,
     "metadata": {},
     "output_type": "execute_result"
    }
   ],
   "source": [
    "df.size"
   ]
  },
  {
   "cell_type": "markdown",
   "id": "ee64f920",
   "metadata": {},
   "source": [
    "### View portions of the dataframe\n",
    "\n",
    "```python\n",
    ".head(n) # first n rows (default = 5 rows)\n",
    ".tail(n) # last n rows (default = 5 rows)\n",
    ".sample(n) # randomly select n rows (default = 1 row)\n",
    "```"
   ]
  },
  {
   "cell_type": "code",
   "execution_count": 37,
   "id": "757ff056-0bec-43b4-812a-f0d0dda70001",
   "metadata": {},
   "outputs": [
    {
     "data": {
      "text/html": [
       "<div>\n",
       "<style scoped>\n",
       "    .dataframe tbody tr th:only-of-type {\n",
       "        vertical-align: middle;\n",
       "    }\n",
       "\n",
       "    .dataframe tbody tr th {\n",
       "        vertical-align: top;\n",
       "    }\n",
       "\n",
       "    .dataframe thead th {\n",
       "        text-align: right;\n",
       "    }\n",
       "</style>\n",
       "<table border=\"1\" class=\"dataframe\">\n",
       "  <thead>\n",
       "    <tr style=\"text-align: right;\">\n",
       "      <th></th>\n",
       "      <th>name</th>\n",
       "      <th>math</th>\n",
       "      <th>english</th>\n",
       "      <th>reading</th>\n",
       "    </tr>\n",
       "  </thead>\n",
       "  <tbody>\n",
       "    <tr>\n",
       "      <th>0</th>\n",
       "      <td>Sally</td>\n",
       "      <td>84</td>\n",
       "      <td>73</td>\n",
       "      <td>95</td>\n",
       "    </tr>\n",
       "    <tr>\n",
       "      <th>1</th>\n",
       "      <td>Jane</td>\n",
       "      <td>79</td>\n",
       "      <td>98</td>\n",
       "      <td>74</td>\n",
       "    </tr>\n",
       "    <tr>\n",
       "      <th>2</th>\n",
       "      <td>Suzie</td>\n",
       "      <td>91</td>\n",
       "      <td>91</td>\n",
       "      <td>62</td>\n",
       "    </tr>\n",
       "    <tr>\n",
       "      <th>3</th>\n",
       "      <td>Billy</td>\n",
       "      <td>88</td>\n",
       "      <td>72</td>\n",
       "      <td>64</td>\n",
       "    </tr>\n",
       "    <tr>\n",
       "      <th>4</th>\n",
       "      <td>Ada</td>\n",
       "      <td>88</td>\n",
       "      <td>92</td>\n",
       "      <td>78</td>\n",
       "    </tr>\n",
       "  </tbody>\n",
       "</table>\n",
       "</div>"
      ],
      "text/plain": [
       "    name  math  english  reading\n",
       "0  Sally    84       73       95\n",
       "1   Jane    79       98       74\n",
       "2  Suzie    91       91       62\n",
       "3  Billy    88       72       64\n",
       "4    Ada    88       92       78"
      ]
     },
     "execution_count": 37,
     "metadata": {},
     "output_type": "execute_result"
    }
   ],
   "source": [
    "# SELECT * FROM df LIMIT 5;\n",
    "df.head()"
   ]
  },
  {
   "cell_type": "code",
   "execution_count": 54,
   "id": "5f326485-e73e-40ae-bbca-b82a52eae340",
   "metadata": {},
   "outputs": [
    {
     "data": {
      "text/html": [
       "<div>\n",
       "<style scoped>\n",
       "    .dataframe tbody tr th:only-of-type {\n",
       "        vertical-align: middle;\n",
       "    }\n",
       "\n",
       "    .dataframe tbody tr th {\n",
       "        vertical-align: top;\n",
       "    }\n",
       "\n",
       "    .dataframe thead th {\n",
       "        text-align: right;\n",
       "    }\n",
       "</style>\n",
       "<table border=\"1\" class=\"dataframe\">\n",
       "  <thead>\n",
       "    <tr style=\"text-align: right;\">\n",
       "      <th></th>\n",
       "      <th>name</th>\n",
       "      <th>math</th>\n",
       "      <th>english</th>\n",
       "      <th>reading</th>\n",
       "    </tr>\n",
       "  </thead>\n",
       "  <tbody>\n",
       "    <tr>\n",
       "      <th>10</th>\n",
       "      <td>Isaac</td>\n",
       "      <td>91</td>\n",
       "      <td>93</td>\n",
       "      <td>93</td>\n",
       "    </tr>\n",
       "    <tr>\n",
       "      <th>11</th>\n",
       "      <td>Alan</td>\n",
       "      <td>87</td>\n",
       "      <td>60</td>\n",
       "      <td>94</td>\n",
       "    </tr>\n",
       "  </tbody>\n",
       "</table>\n",
       "</div>"
      ],
      "text/plain": [
       "     name  math  english  reading\n",
       "10  Isaac    91       93       93\n",
       "11   Alan    87       60       94"
      ]
     },
     "execution_count": 54,
     "metadata": {},
     "output_type": "execute_result"
    }
   ],
   "source": [
    "df.tail(2)"
   ]
  },
  {
   "cell_type": "code",
   "execution_count": 41,
   "id": "57413428-56ed-4c02-8a63-9abfbeb5ba04",
   "metadata": {},
   "outputs": [
    {
     "data": {
      "text/plain": [
       "['Marie', 'Albert', 'Richard', 'Isaac', 'Alan']"
      ]
     },
     "execution_count": 41,
     "metadata": {},
     "output_type": "execute_result"
    }
   ],
   "source": [
    "students[-5:]"
   ]
  },
  {
   "cell_type": "code",
   "execution_count": 42,
   "id": "f4b34a8f-f0a8-48d2-a623-d9ee6511c1be",
   "metadata": {},
   "outputs": [
    {
     "data": {
      "text/html": [
       "<div>\n",
       "<style scoped>\n",
       "    .dataframe tbody tr th:only-of-type {\n",
       "        vertical-align: middle;\n",
       "    }\n",
       "\n",
       "    .dataframe tbody tr th {\n",
       "        vertical-align: top;\n",
       "    }\n",
       "\n",
       "    .dataframe thead th {\n",
       "        text-align: right;\n",
       "    }\n",
       "</style>\n",
       "<table border=\"1\" class=\"dataframe\">\n",
       "  <thead>\n",
       "    <tr style=\"text-align: right;\">\n",
       "      <th></th>\n",
       "      <th>name</th>\n",
       "      <th>math</th>\n",
       "      <th>english</th>\n",
       "      <th>reading</th>\n",
       "    </tr>\n",
       "  </thead>\n",
       "  <tbody>\n",
       "    <tr>\n",
       "      <th>7</th>\n",
       "      <td>Marie</td>\n",
       "      <td>85</td>\n",
       "      <td>94</td>\n",
       "      <td>99</td>\n",
       "    </tr>\n",
       "    <tr>\n",
       "      <th>8</th>\n",
       "      <td>Albert</td>\n",
       "      <td>77</td>\n",
       "      <td>87</td>\n",
       "      <td>79</td>\n",
       "    </tr>\n",
       "    <tr>\n",
       "      <th>9</th>\n",
       "      <td>Richard</td>\n",
       "      <td>61</td>\n",
       "      <td>94</td>\n",
       "      <td>70</td>\n",
       "    </tr>\n",
       "    <tr>\n",
       "      <th>10</th>\n",
       "      <td>Isaac</td>\n",
       "      <td>91</td>\n",
       "      <td>93</td>\n",
       "      <td>93</td>\n",
       "    </tr>\n",
       "    <tr>\n",
       "      <th>11</th>\n",
       "      <td>Alan</td>\n",
       "      <td>87</td>\n",
       "      <td>60</td>\n",
       "      <td>94</td>\n",
       "    </tr>\n",
       "  </tbody>\n",
       "</table>\n",
       "</div>"
      ],
      "text/plain": [
       "       name  math  english  reading\n",
       "7     Marie    85       94       99\n",
       "8    Albert    77       87       79\n",
       "9   Richard    61       94       70\n",
       "10    Isaac    91       93       93\n",
       "11     Alan    87       60       94"
      ]
     },
     "execution_count": 42,
     "metadata": {},
     "output_type": "execute_result"
    }
   ],
   "source": [
    "df[-5:]"
   ]
  },
  {
   "cell_type": "code",
   "execution_count": 55,
   "id": "be8bd002-779c-42d4-9361-9133aba04403",
   "metadata": {},
   "outputs": [],
   "source": [
    "# pd.DataFrame.sample?"
   ]
  },
  {
   "cell_type": "code",
   "execution_count": 56,
   "id": "c56e8383-90ee-4fbc-81c9-bcb08bbe8cd9",
   "metadata": {},
   "outputs": [
    {
     "data": {
      "text/html": [
       "<div>\n",
       "<style scoped>\n",
       "    .dataframe tbody tr th:only-of-type {\n",
       "        vertical-align: middle;\n",
       "    }\n",
       "\n",
       "    .dataframe tbody tr th {\n",
       "        vertical-align: top;\n",
       "    }\n",
       "\n",
       "    .dataframe thead th {\n",
       "        text-align: right;\n",
       "    }\n",
       "</style>\n",
       "<table border=\"1\" class=\"dataframe\">\n",
       "  <thead>\n",
       "    <tr style=\"text-align: right;\">\n",
       "      <th></th>\n",
       "      <th>name</th>\n",
       "      <th>math</th>\n",
       "      <th>english</th>\n",
       "      <th>reading</th>\n",
       "    </tr>\n",
       "  </thead>\n",
       "  <tbody>\n",
       "    <tr>\n",
       "      <th>6</th>\n",
       "      <td>Thomas</td>\n",
       "      <td>80</td>\n",
       "      <td>82</td>\n",
       "      <td>74</td>\n",
       "    </tr>\n",
       "    <tr>\n",
       "      <th>5</th>\n",
       "      <td>John</td>\n",
       "      <td>73</td>\n",
       "      <td>64</td>\n",
       "      <td>86</td>\n",
       "    </tr>\n",
       "    <tr>\n",
       "      <th>10</th>\n",
       "      <td>Isaac</td>\n",
       "      <td>91</td>\n",
       "      <td>93</td>\n",
       "      <td>93</td>\n",
       "    </tr>\n",
       "    <tr>\n",
       "      <th>2</th>\n",
       "      <td>Suzie</td>\n",
       "      <td>91</td>\n",
       "      <td>91</td>\n",
       "      <td>62</td>\n",
       "    </tr>\n",
       "  </tbody>\n",
       "</table>\n",
       "</div>"
      ],
      "text/plain": [
       "      name  math  english  reading\n",
       "6   Thomas    80       82       74\n",
       "5     John    73       64       86\n",
       "10   Isaac    91       93       93\n",
       "2    Suzie    91       91       62"
      ]
     },
     "execution_count": 56,
     "metadata": {},
     "output_type": "execute_result"
    }
   ],
   "source": [
    "df.sample(4)# however many rows you want, (optional))"
   ]
  },
  {
   "cell_type": "markdown",
   "id": "c523ef50",
   "metadata": {},
   "source": [
    "### Information about the dataframe's contents"
   ]
  },
  {
   "cell_type": "markdown",
   "id": "0d504e5f",
   "metadata": {},
   "source": [
    "| Name | Description |\n",
    "| ---:|:------ |\n",
    "|`#`  | The row index|\n",
    "|`Column`| Index/name of column (a string) |\n",
    "|`Non-Null Count` | Number of non-empty values \n",
    "|`Dtype` |    The data type |\n"
   ]
  },
  {
   "cell_type": "code",
   "execution_count": null,
   "id": "07eb49de",
   "metadata": {},
   "outputs": [],
   "source": []
  },
  {
   "cell_type": "markdown",
   "id": "d4ecd3a1",
   "metadata": {},
   "source": [
    "---\n",
    "\n",
    "## Working with Columns\n",
    "\n",
    "- View column information\n",
    "- Rename columns\n",
    "- Drop columns\n"
   ]
  },
  {
   "cell_type": "code",
   "execution_count": 57,
   "id": "eed03e16",
   "metadata": {},
   "outputs": [
    {
     "name": "stdout",
     "output_type": "stream",
     "text": [
      "<class 'pandas.core.frame.DataFrame'>\n",
      "RangeIndex: 12 entries, 0 to 11\n",
      "Data columns (total 4 columns):\n",
      " #   Column   Non-Null Count  Dtype \n",
      "---  ------   --------------  ----- \n",
      " 0   name     12 non-null     object\n",
      " 1   math     12 non-null     int64 \n",
      " 2   english  12 non-null     int64 \n",
      " 3   reading  12 non-null     int64 \n",
      "dtypes: int64(3), object(1)\n",
      "memory usage: 516.0+ bytes\n"
     ]
    }
   ],
   "source": [
    "df.info()"
   ]
  },
  {
   "cell_type": "code",
   "execution_count": 58,
   "id": "9a242683-ad30-4e61-97ce-78c3e7c174de",
   "metadata": {},
   "outputs": [],
   "source": [
    "# how do I look at info for a specific column?\n",
    "# how do I know its a series?"
   ]
  },
  {
   "cell_type": "code",
   "execution_count": 60,
   "id": "7b3334e4-018e-4edb-9525-d9238334c628",
   "metadata": {},
   "outputs": [
    {
     "data": {
      "text/plain": [
       "pandas.core.series.Series"
      ]
     },
     "execution_count": 60,
     "metadata": {},
     "output_type": "execute_result"
    }
   ],
   "source": [
    "type(df['math'])"
   ]
  },
  {
   "cell_type": "code",
   "execution_count": 61,
   "id": "3cf38420-e037-47c1-b0bc-3c635d52c635",
   "metadata": {},
   "outputs": [
    {
     "data": {
      "text/plain": [
       "0    84\n",
       "1    79\n",
       "2    91\n",
       "3    88\n",
       "4    88\n",
       "Name: math, dtype: int64"
      ]
     },
     "execution_count": 61,
     "metadata": {},
     "output_type": "execute_result"
    }
   ],
   "source": [
    "df['math'].head()"
   ]
  },
  {
   "cell_type": "code",
   "execution_count": 63,
   "id": "66941909-85db-4285-9837-31bbcca505f5",
   "metadata": {},
   "outputs": [
    {
     "data": {
      "text/plain": [
       "0    84\n",
       "1    79\n",
       "2    91\n",
       "3    88\n",
       "4    88\n",
       "Name: math, dtype: int64"
      ]
     },
     "execution_count": 63,
     "metadata": {},
     "output_type": "execute_result"
    }
   ],
   "source": [
    "# be careful with dot notation!!!\n",
    "# dot notation and bracket notation are basically\n",
    "# interchangable for ~90 of your pandas interactions\n",
    "# for individual Series.\n",
    "#*HOWEVER* if there is a field that has any duplicate names\n",
    "# or reserved words, there is a high liklihood that you'll confuse\n",
    "# or break python's interpretation of that thing\n",
    "# lets assign a field called \"class\" later on...(hint)\n",
    "df.math.head()"
   ]
  },
  {
   "cell_type": "markdown",
   "id": "061e7256-6fc7-4233-b67e-082cb594c28a",
   "metadata": {},
   "source": [
    "### Data types"
   ]
  },
  {
   "cell_type": "markdown",
   "id": "05eaf5ea-9b4c-4e5e-a148-c18cffed7640",
   "metadata": {
    "tags": []
   },
   "source": [
    "### View Column Information"
   ]
  },
  {
   "cell_type": "code",
   "execution_count": 64,
   "id": "b7813ef2-d93d-4c66-9d33-b6baad89e541",
   "metadata": {},
   "outputs": [],
   "source": [
    "# property two: columns!"
   ]
  },
  {
   "cell_type": "code",
   "execution_count": 72,
   "id": "c4b2ae40-1735-4f0a-8280-d9b661f74e33",
   "metadata": {},
   "outputs": [
    {
     "ename": "AttributeError",
     "evalue": "'DataFrame' object has no attribute 'field_name'",
     "output_type": "error",
     "traceback": [
      "\u001b[0;31m---------------------------------------------------------------------------\u001b[0m",
      "\u001b[0;31mAttributeError\u001b[0m                            Traceback (most recent call last)",
      "Cell \u001b[0;32mIn[72], line 1\u001b[0m\n\u001b[0;32m----> 1\u001b[0m df\u001b[38;5;241m.\u001b[39mfield_name\u001b[38;5;241m.\u001b[39mhead()\n",
      "File \u001b[0;32m~/miniconda3/envs/homebase/lib/python3.11/site-packages/pandas/core/generic.py:5902\u001b[0m, in \u001b[0;36mNDFrame.__getattr__\u001b[0;34m(self, name)\u001b[0m\n\u001b[1;32m   5895\u001b[0m \u001b[38;5;28;01mif\u001b[39;00m (\n\u001b[1;32m   5896\u001b[0m     name \u001b[38;5;129;01mnot\u001b[39;00m \u001b[38;5;129;01min\u001b[39;00m \u001b[38;5;28mself\u001b[39m\u001b[38;5;241m.\u001b[39m_internal_names_set\n\u001b[1;32m   5897\u001b[0m     \u001b[38;5;129;01mand\u001b[39;00m name \u001b[38;5;129;01mnot\u001b[39;00m \u001b[38;5;129;01min\u001b[39;00m \u001b[38;5;28mself\u001b[39m\u001b[38;5;241m.\u001b[39m_metadata\n\u001b[1;32m   5898\u001b[0m     \u001b[38;5;129;01mand\u001b[39;00m name \u001b[38;5;129;01mnot\u001b[39;00m \u001b[38;5;129;01min\u001b[39;00m \u001b[38;5;28mself\u001b[39m\u001b[38;5;241m.\u001b[39m_accessors\n\u001b[1;32m   5899\u001b[0m     \u001b[38;5;129;01mand\u001b[39;00m \u001b[38;5;28mself\u001b[39m\u001b[38;5;241m.\u001b[39m_info_axis\u001b[38;5;241m.\u001b[39m_can_hold_identifiers_and_holds_name(name)\n\u001b[1;32m   5900\u001b[0m ):\n\u001b[1;32m   5901\u001b[0m     \u001b[38;5;28;01mreturn\u001b[39;00m \u001b[38;5;28mself\u001b[39m[name]\n\u001b[0;32m-> 5902\u001b[0m \u001b[38;5;28;01mreturn\u001b[39;00m \u001b[38;5;28mobject\u001b[39m\u001b[38;5;241m.\u001b[39m\u001b[38;5;21m__getattribute__\u001b[39m(\u001b[38;5;28mself\u001b[39m, name)\n",
      "\u001b[0;31mAttributeError\u001b[0m: 'DataFrame' object has no attribute 'field_name'"
     ]
    }
   ],
   "source": [
    "df.field_name.head()"
   ]
  },
  {
   "cell_type": "code",
   "execution_count": 73,
   "id": "67e73adf-4f52-4e34-848e-03f3e448184b",
   "metadata": {},
   "outputs": [
    {
     "name": "stdout",
     "output_type": "stream",
     "text": [
      "name\n",
      "0    Sally\n",
      "1     Jane\n",
      "2    Suzie\n",
      "3    Billy\n",
      "4      Ada\n",
      "Name: name, dtype: object\n",
      "math\n",
      "0    84\n",
      "1    79\n",
      "2    91\n",
      "3    88\n",
      "4    88\n",
      "Name: math, dtype: int64\n",
      "english\n",
      "0    73\n",
      "1    98\n",
      "2    91\n",
      "3    72\n",
      "4    92\n",
      "Name: english, dtype: int64\n",
      "reading\n",
      "0    95\n",
      "1    74\n",
      "2    62\n",
      "3    64\n",
      "4    78\n",
      "Name: reading, dtype: int64\n"
     ]
    }
   ],
   "source": [
    "df.columns\n",
    "# how we might begin to use the columns property\n",
    "# as an iterable variable in a loop\n",
    "for field_name in df.columns:\n",
    "    print(field_name)\n",
    "    #df['name'].head() etc\n",
    "    print(df[field_name].head())\n",
    "    # this wont work: df.field_name.head()\n",
    "    # the field_name after df will only ever interpret as \n",
    "    # field_name and nothing else --> it is not flexible to\n",
    "    # the iterations of the loop"
   ]
  },
  {
   "cell_type": "code",
   "execution_count": 76,
   "id": "b48bddbc-7e7c-4037-ae22-2019768f218a",
   "metadata": {},
   "outputs": [],
   "source": [
    "# we saw df.columns as an iterable, so lets treat it like one"
   ]
  },
  {
   "cell_type": "code",
   "execution_count": 77,
   "id": "190601f2-67ab-480f-a80e-6ba5671cae9e",
   "metadata": {},
   "outputs": [],
   "source": [
    "# length mismatch: df.columns = ['a', 'b', 'c']"
   ]
  },
  {
   "cell_type": "code",
   "execution_count": 79,
   "id": "db51b667-d7cc-4ced-bab5-9e9047d2ec11",
   "metadata": {},
   "outputs": [],
   "source": [
    "# reassign every column name to the uppercase version of itself\n",
    "# using a list comprehension\n",
    "df.columns = [col.upper() for col in df.columns]"
   ]
  },
  {
   "cell_type": "code",
   "execution_count": 80,
   "id": "a74ad399-1148-4bed-b610-3e68d7b2391f",
   "metadata": {},
   "outputs": [
    {
     "data": {
      "text/html": [
       "<div>\n",
       "<style scoped>\n",
       "    .dataframe tbody tr th:only-of-type {\n",
       "        vertical-align: middle;\n",
       "    }\n",
       "\n",
       "    .dataframe tbody tr th {\n",
       "        vertical-align: top;\n",
       "    }\n",
       "\n",
       "    .dataframe thead th {\n",
       "        text-align: right;\n",
       "    }\n",
       "</style>\n",
       "<table border=\"1\" class=\"dataframe\">\n",
       "  <thead>\n",
       "    <tr style=\"text-align: right;\">\n",
       "      <th></th>\n",
       "      <th>NAME</th>\n",
       "      <th>MATH</th>\n",
       "      <th>ENGLISH</th>\n",
       "      <th>READING</th>\n",
       "    </tr>\n",
       "  </thead>\n",
       "  <tbody>\n",
       "    <tr>\n",
       "      <th>0</th>\n",
       "      <td>Sally</td>\n",
       "      <td>84</td>\n",
       "      <td>73</td>\n",
       "      <td>95</td>\n",
       "    </tr>\n",
       "  </tbody>\n",
       "</table>\n",
       "</div>"
      ],
      "text/plain": [
       "    NAME  MATH  ENGLISH  READING\n",
       "0  Sally    84       73       95"
      ]
     },
     "execution_count": 80,
     "metadata": {},
     "output_type": "execute_result"
    }
   ],
   "source": [
    "df.head(1)"
   ]
  },
  {
   "cell_type": "markdown",
   "id": "1c7d28c6",
   "metadata": {},
   "source": [
    "### Check data types"
   ]
  },
  {
   "cell_type": "markdown",
   "id": "903ab515",
   "metadata": {},
   "source": [
    "<div class=\"alert alert-block alert-info\">\n",
    "    \n",
    "### Important Notes\n",
    "    \n",
    "- Keep in mind what data structure you are working with\n",
    "- Recall that methods do not alter the original data structure\n",
    "- Check documentation for what the parameters and results of a pandas function are\n",
    "\n",
    "\n"
   ]
  },
  {
   "cell_type": "code",
   "execution_count": 82,
   "id": "377f8659-7f39-4965-97d0-29b0e540f864",
   "metadata": {},
   "outputs": [],
   "source": [
    "cols = []\n",
    "datatypes = []\n",
    "for col in df.columns:\n",
    "    cols.append(col)\n",
    "    datatypes.append(df[col].dtype)"
   ]
  },
  {
   "cell_type": "code",
   "execution_count": 83,
   "id": "9d04b04a-2118-4327-a621-26a67deb5056",
   "metadata": {},
   "outputs": [
    {
     "data": {
      "text/plain": [
       "['NAME', 'MATH', 'ENGLISH', 'READING']"
      ]
     },
     "execution_count": 83,
     "metadata": {},
     "output_type": "execute_result"
    }
   ],
   "source": [
    "cols"
   ]
  },
  {
   "cell_type": "code",
   "execution_count": 84,
   "id": "f4d0a945-ef63-4eb5-a235-b02f6063c373",
   "metadata": {},
   "outputs": [
    {
     "data": {
      "text/plain": [
       "[dtype('O'), dtype('int64'), dtype('int64'), dtype('int64')]"
      ]
     },
     "execution_count": 84,
     "metadata": {},
     "output_type": "execute_result"
    }
   ],
   "source": [
    "datatypes"
   ]
  },
  {
   "cell_type": "code",
   "execution_count": 85,
   "id": "031ec0b5-3578-47c4-ab70-e0df9d264044",
   "metadata": {},
   "outputs": [
    {
     "data": {
      "text/plain": [
       "NAME       object\n",
       "MATH        int64\n",
       "ENGLISH     int64\n",
       "READING     int64\n",
       "dtype: object"
      ]
     },
     "execution_count": 85,
     "metadata": {},
     "output_type": "execute_result"
    }
   ],
   "source": [
    "pd.Series(datatypes, index=cols)"
   ]
  },
  {
   "cell_type": "code",
   "execution_count": 81,
   "id": "e80979a2",
   "metadata": {},
   "outputs": [
    {
     "name": "stdout",
     "output_type": "stream",
     "text": [
      "NAME\n",
      "object\n",
      "------\n",
      "MATH\n",
      "int64\n",
      "------\n",
      "ENGLISH\n",
      "int64\n",
      "------\n",
      "READING\n",
      "int64\n",
      "------\n"
     ]
    }
   ],
   "source": [
    "for col in df:\n",
    "    print(col)\n",
    "    print(df[col].dtype)\n",
    "    print('------')"
   ]
  },
  {
   "cell_type": "markdown",
   "id": "2c3d4e86",
   "metadata": {
    "tags": []
   },
   "source": [
    "### Dropping columns\n",
    "\n",
    "- Drop all columns except for the student's name and math grade\n",
    "- Assign the results to a new dataframe"
   ]
  },
  {
   "cell_type": "code",
   "execution_count": 86,
   "id": "26a8fb5f-1cf1-4d63-84f4-89e41d907598",
   "metadata": {},
   "outputs": [],
   "source": [
    "# use pandas dataframe methods to not only observe, but actively\n",
    "# do things!"
   ]
  },
  {
   "cell_type": "code",
   "execution_count": 88,
   "id": "bd91da8b-abc6-4fc9-b40b-73975699ef1d",
   "metadata": {},
   "outputs": [],
   "source": [
    "# reassign column names back into the lowercase version\n",
    "df.columns = [col.lower() for col in df.columns]"
   ]
  },
  {
   "cell_type": "code",
   "execution_count": 92,
   "id": "d59ba6eb-b6f1-45e1-97e3-4e648608e610",
   "metadata": {},
   "outputs": [
    {
     "data": {
      "text/html": [
       "<div>\n",
       "<style scoped>\n",
       "    .dataframe tbody tr th:only-of-type {\n",
       "        vertical-align: middle;\n",
       "    }\n",
       "\n",
       "    .dataframe tbody tr th {\n",
       "        vertical-align: top;\n",
       "    }\n",
       "\n",
       "    .dataframe thead th {\n",
       "        text-align: right;\n",
       "    }\n",
       "</style>\n",
       "<table border=\"1\" class=\"dataframe\">\n",
       "  <thead>\n",
       "    <tr style=\"text-align: right;\">\n",
       "      <th></th>\n",
       "      <th>name</th>\n",
       "      <th>reading</th>\n",
       "    </tr>\n",
       "  </thead>\n",
       "  <tbody>\n",
       "    <tr>\n",
       "      <th>0</th>\n",
       "      <td>Sally</td>\n",
       "      <td>95</td>\n",
       "    </tr>\n",
       "    <tr>\n",
       "      <th>1</th>\n",
       "      <td>Jane</td>\n",
       "      <td>74</td>\n",
       "    </tr>\n",
       "    <tr>\n",
       "      <th>2</th>\n",
       "      <td>Suzie</td>\n",
       "      <td>62</td>\n",
       "    </tr>\n",
       "    <tr>\n",
       "      <th>3</th>\n",
       "      <td>Billy</td>\n",
       "      <td>64</td>\n",
       "    </tr>\n",
       "    <tr>\n",
       "      <th>4</th>\n",
       "      <td>Ada</td>\n",
       "      <td>78</td>\n",
       "    </tr>\n",
       "  </tbody>\n",
       "</table>\n",
       "</div>"
      ],
      "text/plain": [
       "    name  reading\n",
       "0  Sally       95\n",
       "1   Jane       74\n",
       "2  Suzie       62\n",
       "3  Billy       64\n",
       "4    Ada       78"
      ]
     },
     "execution_count": 92,
     "metadata": {},
     "output_type": "execute_result"
    }
   ],
   "source": [
    "columns_to_drop = ['english', 'math']\n",
    "df.drop(columns=columns_to_drop).head()\n",
    "# updating these changes and saving them:\n",
    "# df = df.drop(columns=columns_to_drop)"
   ]
  },
  {
   "cell_type": "markdown",
   "id": "5296c230",
   "metadata": {},
   "source": [
    "\n",
    "### Tip\n",
    "\n",
    "- Create a list with the columns you want to drop"
   ]
  },
  {
   "cell_type": "markdown",
   "id": "2c98b8b9",
   "metadata": {},
   "source": [
    "### Renaming columns\n",
    "\n",
    "- Rename the columne `name` to `student`\n",
    "- Use a dictionary structure\n",
    "- Assign to a new dataframe\n",
    "\n",
    "```python\n",
    "{'old_name': 'new_name'}\n",
    "```"
   ]
  },
  {
   "cell_type": "code",
   "execution_count": 96,
   "id": "6bb9dea2-b92a-44db-bec4-670b5c053a39",
   "metadata": {},
   "outputs": [],
   "source": [
    "# pd.DataFrame.rename?"
   ]
  },
  {
   "cell_type": "code",
   "execution_count": 99,
   "id": "9f1b3a97-720e-45e5-a263-6ef59a54f2d3",
   "metadata": {},
   "outputs": [],
   "source": [
    "df = df.rename(columns={\n",
    "    'name':'student'\n",
    "})"
   ]
  },
  {
   "cell_type": "code",
   "execution_count": 100,
   "id": "7b118c19-f759-41f2-8ac7-127aa860e670",
   "metadata": {},
   "outputs": [
    {
     "data": {
      "text/html": [
       "<div>\n",
       "<style scoped>\n",
       "    .dataframe tbody tr th:only-of-type {\n",
       "        vertical-align: middle;\n",
       "    }\n",
       "\n",
       "    .dataframe tbody tr th {\n",
       "        vertical-align: top;\n",
       "    }\n",
       "\n",
       "    .dataframe thead th {\n",
       "        text-align: right;\n",
       "    }\n",
       "</style>\n",
       "<table border=\"1\" class=\"dataframe\">\n",
       "  <thead>\n",
       "    <tr style=\"text-align: right;\">\n",
       "      <th></th>\n",
       "      <th>student</th>\n",
       "      <th>math</th>\n",
       "      <th>english</th>\n",
       "      <th>reading</th>\n",
       "    </tr>\n",
       "  </thead>\n",
       "  <tbody>\n",
       "    <tr>\n",
       "      <th>0</th>\n",
       "      <td>Sally</td>\n",
       "      <td>84</td>\n",
       "      <td>73</td>\n",
       "      <td>95</td>\n",
       "    </tr>\n",
       "    <tr>\n",
       "      <th>1</th>\n",
       "      <td>Jane</td>\n",
       "      <td>79</td>\n",
       "      <td>98</td>\n",
       "      <td>74</td>\n",
       "    </tr>\n",
       "  </tbody>\n",
       "</table>\n",
       "</div>"
      ],
      "text/plain": [
       "  student  math  english  reading\n",
       "0   Sally    84       73       95\n",
       "1    Jane    79       98       74"
      ]
     },
     "execution_count": 100,
     "metadata": {},
     "output_type": "execute_result"
    }
   ],
   "source": [
    "df.head(2)"
   ]
  },
  {
   "cell_type": "markdown",
   "id": "8cef2873",
   "metadata": {},
   "source": [
    "### Selecting a column"
   ]
  },
  {
   "cell_type": "markdown",
   "id": "dba3a16e",
   "metadata": {},
   "source": [
    "### Creating new columns\n",
    "\n",
    "\n",
    "- Use a comparison operator on a column to return Boolean values \n",
    "- Create a new column with these contents\n",
    "- Use assign to set the column values equal to the Boolean values"
   ]
  },
  {
   "cell_type": "code",
   "execution_count": 103,
   "id": "b4aed188",
   "metadata": {},
   "outputs": [],
   "source": [
    "# looking at a column on its own: \n",
    "# df['english'].value_counts()"
   ]
  },
  {
   "cell_type": "code",
   "execution_count": 105,
   "id": "08d7991e",
   "metadata": {},
   "outputs": [
    {
     "data": {
      "text/plain": [
       "0      75\n",
       "1     100\n",
       "2      93\n",
       "3      74\n",
       "4      94\n",
       "5      66\n",
       "6      84\n",
       "7      96\n",
       "8      89\n",
       "9      96\n",
       "10     95\n",
       "11     62\n",
       "Name: english, dtype: int64"
      ]
     },
     "execution_count": 105,
     "metadata": {},
     "output_type": "execute_result"
    }
   ],
   "source": [
    "# vectorized applications from numpy:\n",
    "df['english'] + 2"
   ]
  },
  {
   "cell_type": "code",
   "execution_count": 106,
   "id": "4f79073d-3617-45cd-9b4d-6e8569032208",
   "metadata": {},
   "outputs": [],
   "source": [
    "df['curved_english'] = (df.english + 2)"
   ]
  },
  {
   "cell_type": "code",
   "execution_count": 107,
   "id": "490454fd-e791-40cb-93d8-26c04c79f4a3",
   "metadata": {},
   "outputs": [
    {
     "data": {
      "text/html": [
       "<div>\n",
       "<style scoped>\n",
       "    .dataframe tbody tr th:only-of-type {\n",
       "        vertical-align: middle;\n",
       "    }\n",
       "\n",
       "    .dataframe tbody tr th {\n",
       "        vertical-align: top;\n",
       "    }\n",
       "\n",
       "    .dataframe thead th {\n",
       "        text-align: right;\n",
       "    }\n",
       "</style>\n",
       "<table border=\"1\" class=\"dataframe\">\n",
       "  <thead>\n",
       "    <tr style=\"text-align: right;\">\n",
       "      <th></th>\n",
       "      <th>student</th>\n",
       "      <th>math</th>\n",
       "      <th>english</th>\n",
       "      <th>reading</th>\n",
       "      <th>curved_english</th>\n",
       "    </tr>\n",
       "  </thead>\n",
       "  <tbody>\n",
       "    <tr>\n",
       "      <th>0</th>\n",
       "      <td>Sally</td>\n",
       "      <td>84</td>\n",
       "      <td>73</td>\n",
       "      <td>95</td>\n",
       "      <td>75</td>\n",
       "    </tr>\n",
       "    <tr>\n",
       "      <th>1</th>\n",
       "      <td>Jane</td>\n",
       "      <td>79</td>\n",
       "      <td>98</td>\n",
       "      <td>74</td>\n",
       "      <td>100</td>\n",
       "    </tr>\n",
       "  </tbody>\n",
       "</table>\n",
       "</div>"
      ],
      "text/plain": [
       "  student  math  english  reading  curved_english\n",
       "0   Sally    84       73       95              75\n",
       "1    Jane    79       98       74             100"
      ]
     },
     "execution_count": 107,
     "metadata": {},
     "output_type": "execute_result"
    }
   ],
   "source": [
    "df.head(2)"
   ]
  },
  {
   "cell_type": "code",
   "execution_count": 108,
   "id": "1f58040b-7291-4f4e-a975-d5d89ea0b022",
   "metadata": {},
   "outputs": [],
   "source": [
    "# what if I just want to look at english and curved english?"
   ]
  },
  {
   "cell_type": "code",
   "execution_count": 111,
   "id": "89727e79-9058-4bf7-a244-737a92d718a2",
   "metadata": {},
   "outputs": [
    {
     "data": {
      "text/html": [
       "<div>\n",
       "<style scoped>\n",
       "    .dataframe tbody tr th:only-of-type {\n",
       "        vertical-align: middle;\n",
       "    }\n",
       "\n",
       "    .dataframe tbody tr th {\n",
       "        vertical-align: top;\n",
       "    }\n",
       "\n",
       "    .dataframe thead th {\n",
       "        text-align: right;\n",
       "    }\n",
       "</style>\n",
       "<table border=\"1\" class=\"dataframe\">\n",
       "  <thead>\n",
       "    <tr style=\"text-align: right;\">\n",
       "      <th></th>\n",
       "      <th>english</th>\n",
       "      <th>curved_english</th>\n",
       "    </tr>\n",
       "  </thead>\n",
       "  <tbody>\n",
       "    <tr>\n",
       "      <th>0</th>\n",
       "      <td>73</td>\n",
       "      <td>75</td>\n",
       "    </tr>\n",
       "    <tr>\n",
       "      <th>1</th>\n",
       "      <td>98</td>\n",
       "      <td>100</td>\n",
       "    </tr>\n",
       "    <tr>\n",
       "      <th>2</th>\n",
       "      <td>91</td>\n",
       "      <td>93</td>\n",
       "    </tr>\n",
       "    <tr>\n",
       "      <th>3</th>\n",
       "      <td>72</td>\n",
       "      <td>74</td>\n",
       "    </tr>\n",
       "    <tr>\n",
       "      <th>4</th>\n",
       "      <td>92</td>\n",
       "      <td>94</td>\n",
       "    </tr>\n",
       "  </tbody>\n",
       "</table>\n",
       "</div>"
      ],
      "text/plain": [
       "   english  curved_english\n",
       "0       73              75\n",
       "1       98             100\n",
       "2       91              93\n",
       "3       72              74\n",
       "4       92              94"
      ]
     },
     "execution_count": 111,
     "metadata": {},
     "output_type": "execute_result"
    }
   ],
   "source": [
    "df[['english', 'curved_english']].head()"
   ]
  },
  {
   "cell_type": "code",
   "execution_count": 113,
   "id": "f0e38d86-4c8a-47d2-9e88-afe069ade20e",
   "metadata": {},
   "outputs": [
    {
     "data": {
      "text/html": [
       "<div>\n",
       "<style scoped>\n",
       "    .dataframe tbody tr th:only-of-type {\n",
       "        vertical-align: middle;\n",
       "    }\n",
       "\n",
       "    .dataframe tbody tr th {\n",
       "        vertical-align: top;\n",
       "    }\n",
       "\n",
       "    .dataframe thead th {\n",
       "        text-align: right;\n",
       "    }\n",
       "</style>\n",
       "<table border=\"1\" class=\"dataframe\">\n",
       "  <thead>\n",
       "    <tr style=\"text-align: right;\">\n",
       "      <th></th>\n",
       "      <th>english</th>\n",
       "      <th>curved_english</th>\n",
       "    </tr>\n",
       "  </thead>\n",
       "  <tbody>\n",
       "    <tr>\n",
       "      <th>0</th>\n",
       "      <td>73</td>\n",
       "      <td>75</td>\n",
       "    </tr>\n",
       "    <tr>\n",
       "      <th>1</th>\n",
       "      <td>98</td>\n",
       "      <td>100</td>\n",
       "    </tr>\n",
       "    <tr>\n",
       "      <th>2</th>\n",
       "      <td>91</td>\n",
       "      <td>93</td>\n",
       "    </tr>\n",
       "    <tr>\n",
       "      <th>3</th>\n",
       "      <td>72</td>\n",
       "      <td>74</td>\n",
       "    </tr>\n",
       "    <tr>\n",
       "      <th>4</th>\n",
       "      <td>92</td>\n",
       "      <td>94</td>\n",
       "    </tr>\n",
       "    <tr>\n",
       "      <th>5</th>\n",
       "      <td>64</td>\n",
       "      <td>66</td>\n",
       "    </tr>\n",
       "    <tr>\n",
       "      <th>6</th>\n",
       "      <td>82</td>\n",
       "      <td>84</td>\n",
       "    </tr>\n",
       "    <tr>\n",
       "      <th>7</th>\n",
       "      <td>94</td>\n",
       "      <td>96</td>\n",
       "    </tr>\n",
       "    <tr>\n",
       "      <th>8</th>\n",
       "      <td>87</td>\n",
       "      <td>89</td>\n",
       "    </tr>\n",
       "    <tr>\n",
       "      <th>9</th>\n",
       "      <td>94</td>\n",
       "      <td>96</td>\n",
       "    </tr>\n",
       "    <tr>\n",
       "      <th>10</th>\n",
       "      <td>93</td>\n",
       "      <td>95</td>\n",
       "    </tr>\n",
       "    <tr>\n",
       "      <th>11</th>\n",
       "      <td>60</td>\n",
       "      <td>62</td>\n",
       "    </tr>\n",
       "  </tbody>\n",
       "</table>\n",
       "</div>"
      ],
      "text/plain": [
       "    english  curved_english\n",
       "0        73              75\n",
       "1        98             100\n",
       "2        91              93\n",
       "3        72              74\n",
       "4        92              94\n",
       "5        64              66\n",
       "6        82              84\n",
       "7        94              96\n",
       "8        87              89\n",
       "9        94              96\n",
       "10       93              95\n",
       "11       60              62"
      ]
     },
     "execution_count": 113,
     "metadata": {},
     "output_type": "execute_result"
    }
   ],
   "source": [
    "# also:\n",
    "my_fields_to_select =  ['english', 'curved_english']\n",
    "df[my_fields_to_select]\n"
   ]
  },
  {
   "cell_type": "code",
   "execution_count": 114,
   "id": "97d29900-f5f2-4bee-812f-7e5274a2410d",
   "metadata": {},
   "outputs": [
    {
     "data": {
      "text/html": [
       "<div>\n",
       "<style scoped>\n",
       "    .dataframe tbody tr th:only-of-type {\n",
       "        vertical-align: middle;\n",
       "    }\n",
       "\n",
       "    .dataframe tbody tr th {\n",
       "        vertical-align: top;\n",
       "    }\n",
       "\n",
       "    .dataframe thead th {\n",
       "        text-align: right;\n",
       "    }\n",
       "</style>\n",
       "<table border=\"1\" class=\"dataframe\">\n",
       "  <thead>\n",
       "    <tr style=\"text-align: right;\">\n",
       "      <th></th>\n",
       "      <th>student</th>\n",
       "      <th>math</th>\n",
       "      <th>english</th>\n",
       "      <th>reading</th>\n",
       "      <th>curved_english</th>\n",
       "    </tr>\n",
       "  </thead>\n",
       "  <tbody>\n",
       "    <tr>\n",
       "      <th>9</th>\n",
       "      <td>Richard</td>\n",
       "      <td>61</td>\n",
       "      <td>94</td>\n",
       "      <td>70</td>\n",
       "      <td>96</td>\n",
       "    </tr>\n",
       "  </tbody>\n",
       "</table>\n",
       "</div>"
      ],
      "text/plain": [
       "   student  math  english  reading  curved_english\n",
       "9  Richard    61       94       70              96"
      ]
     },
     "execution_count": 114,
     "metadata": {},
     "output_type": "execute_result"
    }
   ],
   "source": [
    "# speaking of masks:\n",
    "# df, where df math grades are below 70:\n",
    "df[df['math'] < 70]"
   ]
  },
  {
   "cell_type": "code",
   "execution_count": 116,
   "id": "39837201-c5e5-44cc-b1be-f1b8f4ae7552",
   "metadata": {},
   "outputs": [],
   "source": [
    "boolean_mask = df['math'] < 70"
   ]
  },
  {
   "cell_type": "code",
   "execution_count": 117,
   "id": "0370b7e1-ee61-4150-a373-b625445eed22",
   "metadata": {},
   "outputs": [
    {
     "data": {
      "text/html": [
       "<div>\n",
       "<style scoped>\n",
       "    .dataframe tbody tr th:only-of-type {\n",
       "        vertical-align: middle;\n",
       "    }\n",
       "\n",
       "    .dataframe tbody tr th {\n",
       "        vertical-align: top;\n",
       "    }\n",
       "\n",
       "    .dataframe thead th {\n",
       "        text-align: right;\n",
       "    }\n",
       "</style>\n",
       "<table border=\"1\" class=\"dataframe\">\n",
       "  <thead>\n",
       "    <tr style=\"text-align: right;\">\n",
       "      <th></th>\n",
       "      <th>student</th>\n",
       "      <th>math</th>\n",
       "      <th>english</th>\n",
       "      <th>reading</th>\n",
       "      <th>curved_english</th>\n",
       "    </tr>\n",
       "  </thead>\n",
       "  <tbody>\n",
       "    <tr>\n",
       "      <th>9</th>\n",
       "      <td>Richard</td>\n",
       "      <td>61</td>\n",
       "      <td>94</td>\n",
       "      <td>70</td>\n",
       "      <td>96</td>\n",
       "    </tr>\n",
       "  </tbody>\n",
       "</table>\n",
       "</div>"
      ],
      "text/plain": [
       "   student  math  english  reading  curved_english\n",
       "9  Richard    61       94       70              96"
      ]
     },
     "execution_count": 117,
     "metadata": {},
     "output_type": "execute_result"
    }
   ],
   "source": [
    "df[boolean_mask]"
   ]
  },
  {
   "cell_type": "code",
   "execution_count": 118,
   "id": "ea2b8660-e28e-4cab-821f-0fa63f0fccf2",
   "metadata": {},
   "outputs": [
    {
     "data": {
      "text/plain": [
       "0     False\n",
       "1     False\n",
       "2     False\n",
       "3     False\n",
       "4     False\n",
       "5     False\n",
       "6     False\n",
       "7     False\n",
       "8     False\n",
       "9      True\n",
       "10    False\n",
       "11    False\n",
       "Name: math, dtype: bool"
      ]
     },
     "execution_count": 118,
     "metadata": {},
     "output_type": "execute_result"
    }
   ],
   "source": [
    "df.math < 70"
   ]
  },
  {
   "cell_type": "markdown",
   "id": "1584a649",
   "metadata": {},
   "source": [
    "---\n",
    "\n",
    "### Sorting dataframes\n",
    "\n",
    "- Use `.sort_values`\n",
    "- set which column to sort by\n",
    "- Set ascending or descending"
   ]
  },
  {
   "cell_type": "code",
   "execution_count": 120,
   "id": "7226456f-c8cf-42af-8238-76db5c56174c",
   "metadata": {},
   "outputs": [],
   "source": [
    "# pd.DataFrame.sort_values?"
   ]
  },
  {
   "cell_type": "code",
   "execution_count": 122,
   "id": "39745799",
   "metadata": {},
   "outputs": [
    {
     "data": {
      "text/html": [
       "<div>\n",
       "<style scoped>\n",
       "    .dataframe tbody tr th:only-of-type {\n",
       "        vertical-align: middle;\n",
       "    }\n",
       "\n",
       "    .dataframe tbody tr th {\n",
       "        vertical-align: top;\n",
       "    }\n",
       "\n",
       "    .dataframe thead th {\n",
       "        text-align: right;\n",
       "    }\n",
       "</style>\n",
       "<table border=\"1\" class=\"dataframe\">\n",
       "  <thead>\n",
       "    <tr style=\"text-align: right;\">\n",
       "      <th></th>\n",
       "      <th>student</th>\n",
       "      <th>math</th>\n",
       "      <th>english</th>\n",
       "      <th>reading</th>\n",
       "      <th>curved_english</th>\n",
       "    </tr>\n",
       "  </thead>\n",
       "  <tbody>\n",
       "    <tr>\n",
       "      <th>1</th>\n",
       "      <td>Jane</td>\n",
       "      <td>79</td>\n",
       "      <td>98</td>\n",
       "      <td>74</td>\n",
       "      <td>100</td>\n",
       "    </tr>\n",
       "    <tr>\n",
       "      <th>7</th>\n",
       "      <td>Marie</td>\n",
       "      <td>85</td>\n",
       "      <td>94</td>\n",
       "      <td>99</td>\n",
       "      <td>96</td>\n",
       "    </tr>\n",
       "    <tr>\n",
       "      <th>9</th>\n",
       "      <td>Richard</td>\n",
       "      <td>61</td>\n",
       "      <td>94</td>\n",
       "      <td>70</td>\n",
       "      <td>96</td>\n",
       "    </tr>\n",
       "    <tr>\n",
       "      <th>10</th>\n",
       "      <td>Isaac</td>\n",
       "      <td>91</td>\n",
       "      <td>93</td>\n",
       "      <td>93</td>\n",
       "      <td>95</td>\n",
       "    </tr>\n",
       "    <tr>\n",
       "      <th>4</th>\n",
       "      <td>Ada</td>\n",
       "      <td>88</td>\n",
       "      <td>92</td>\n",
       "      <td>78</td>\n",
       "      <td>94</td>\n",
       "    </tr>\n",
       "    <tr>\n",
       "      <th>2</th>\n",
       "      <td>Suzie</td>\n",
       "      <td>91</td>\n",
       "      <td>91</td>\n",
       "      <td>62</td>\n",
       "      <td>93</td>\n",
       "    </tr>\n",
       "    <tr>\n",
       "      <th>8</th>\n",
       "      <td>Albert</td>\n",
       "      <td>77</td>\n",
       "      <td>87</td>\n",
       "      <td>79</td>\n",
       "      <td>89</td>\n",
       "    </tr>\n",
       "    <tr>\n",
       "      <th>6</th>\n",
       "      <td>Thomas</td>\n",
       "      <td>80</td>\n",
       "      <td>82</td>\n",
       "      <td>74</td>\n",
       "      <td>84</td>\n",
       "    </tr>\n",
       "    <tr>\n",
       "      <th>0</th>\n",
       "      <td>Sally</td>\n",
       "      <td>84</td>\n",
       "      <td>73</td>\n",
       "      <td>95</td>\n",
       "      <td>75</td>\n",
       "    </tr>\n",
       "    <tr>\n",
       "      <th>3</th>\n",
       "      <td>Billy</td>\n",
       "      <td>88</td>\n",
       "      <td>72</td>\n",
       "      <td>64</td>\n",
       "      <td>74</td>\n",
       "    </tr>\n",
       "    <tr>\n",
       "      <th>5</th>\n",
       "      <td>John</td>\n",
       "      <td>73</td>\n",
       "      <td>64</td>\n",
       "      <td>86</td>\n",
       "      <td>66</td>\n",
       "    </tr>\n",
       "    <tr>\n",
       "      <th>11</th>\n",
       "      <td>Alan</td>\n",
       "      <td>87</td>\n",
       "      <td>60</td>\n",
       "      <td>94</td>\n",
       "      <td>62</td>\n",
       "    </tr>\n",
       "  </tbody>\n",
       "</table>\n",
       "</div>"
      ],
      "text/plain": [
       "    student  math  english  reading  curved_english\n",
       "1      Jane    79       98       74             100\n",
       "7     Marie    85       94       99              96\n",
       "9   Richard    61       94       70              96\n",
       "10    Isaac    91       93       93              95\n",
       "4       Ada    88       92       78              94\n",
       "2     Suzie    91       91       62              93\n",
       "8    Albert    77       87       79              89\n",
       "6    Thomas    80       82       74              84\n",
       "0     Sally    84       73       95              75\n",
       "3     Billy    88       72       64              74\n",
       "5      John    73       64       86              66\n",
       "11     Alan    87       60       94              62"
      ]
     },
     "execution_count": 122,
     "metadata": {},
     "output_type": "execute_result"
    }
   ],
   "source": [
    "df.sort_values('english', ascending=False)"
   ]
  },
  {
   "cell_type": "code",
   "execution_count": 126,
   "id": "80c0cbfc-fb97-4f0c-b789-8424a9ea55da",
   "metadata": {},
   "outputs": [
    {
     "data": {
      "text/html": [
       "<div>\n",
       "<style scoped>\n",
       "    .dataframe tbody tr th:only-of-type {\n",
       "        vertical-align: middle;\n",
       "    }\n",
       "\n",
       "    .dataframe tbody tr th {\n",
       "        vertical-align: top;\n",
       "    }\n",
       "\n",
       "    .dataframe thead th {\n",
       "        text-align: right;\n",
       "    }\n",
       "</style>\n",
       "<table border=\"1\" class=\"dataframe\">\n",
       "  <thead>\n",
       "    <tr style=\"text-align: right;\">\n",
       "      <th></th>\n",
       "      <th>student</th>\n",
       "      <th>math</th>\n",
       "      <th>english</th>\n",
       "      <th>reading</th>\n",
       "      <th>curved_english</th>\n",
       "    </tr>\n",
       "  </thead>\n",
       "  <tbody>\n",
       "    <tr>\n",
       "      <th>11</th>\n",
       "      <td>Alan</td>\n",
       "      <td>87</td>\n",
       "      <td>60</td>\n",
       "      <td>94</td>\n",
       "      <td>62</td>\n",
       "    </tr>\n",
       "    <tr>\n",
       "      <th>5</th>\n",
       "      <td>John</td>\n",
       "      <td>73</td>\n",
       "      <td>64</td>\n",
       "      <td>86</td>\n",
       "      <td>66</td>\n",
       "    </tr>\n",
       "    <tr>\n",
       "      <th>3</th>\n",
       "      <td>Billy</td>\n",
       "      <td>88</td>\n",
       "      <td>72</td>\n",
       "      <td>64</td>\n",
       "      <td>74</td>\n",
       "    </tr>\n",
       "    <tr>\n",
       "      <th>0</th>\n",
       "      <td>Sally</td>\n",
       "      <td>84</td>\n",
       "      <td>73</td>\n",
       "      <td>95</td>\n",
       "      <td>75</td>\n",
       "    </tr>\n",
       "    <tr>\n",
       "      <th>6</th>\n",
       "      <td>Thomas</td>\n",
       "      <td>80</td>\n",
       "      <td>82</td>\n",
       "      <td>74</td>\n",
       "      <td>84</td>\n",
       "    </tr>\n",
       "  </tbody>\n",
       "</table>\n",
       "</div>"
      ],
      "text/plain": [
       "   student  math  english  reading  curved_english\n",
       "11    Alan    87       60       94              62\n",
       "5     John    73       64       86              66\n",
       "3    Billy    88       72       64              74\n",
       "0    Sally    84       73       95              75\n",
       "6   Thomas    80       82       74              84"
      ]
     },
     "execution_count": 126,
     "metadata": {},
     "output_type": "execute_result"
    }
   ],
   "source": [
    "df.sort_values(['english', 'math'], ascending=[True,False]).head()"
   ]
  },
  {
   "cell_type": "markdown",
   "id": "144632b3",
   "metadata": {
    "tags": []
   },
   "source": [
    "### Chaining Operations"
   ]
  },
  {
   "cell_type": "code",
   "execution_count": 127,
   "id": "44df8f79-1a53-4046-8fff-eaf80786a53f",
   "metadata": {},
   "outputs": [
    {
     "name": "stderr",
     "output_type": "stream",
     "text": [
      "/var/folders/64/db_n95vn5jbbj1ysbq4cwd_r0000gn/T/ipykernel_1558/2993757515.py:1: UserWarning: Boolean Series key will be reindexed to match DataFrame index.\n",
      "  df.sort_values('curved_english', ascending=False)[df['math'] < 80].head()\n"
     ]
    },
    {
     "data": {
      "text/html": [
       "<div>\n",
       "<style scoped>\n",
       "    .dataframe tbody tr th:only-of-type {\n",
       "        vertical-align: middle;\n",
       "    }\n",
       "\n",
       "    .dataframe tbody tr th {\n",
       "        vertical-align: top;\n",
       "    }\n",
       "\n",
       "    .dataframe thead th {\n",
       "        text-align: right;\n",
       "    }\n",
       "</style>\n",
       "<table border=\"1\" class=\"dataframe\">\n",
       "  <thead>\n",
       "    <tr style=\"text-align: right;\">\n",
       "      <th></th>\n",
       "      <th>student</th>\n",
       "      <th>math</th>\n",
       "      <th>english</th>\n",
       "      <th>reading</th>\n",
       "      <th>curved_english</th>\n",
       "    </tr>\n",
       "  </thead>\n",
       "  <tbody>\n",
       "    <tr>\n",
       "      <th>1</th>\n",
       "      <td>Jane</td>\n",
       "      <td>79</td>\n",
       "      <td>98</td>\n",
       "      <td>74</td>\n",
       "      <td>100</td>\n",
       "    </tr>\n",
       "    <tr>\n",
       "      <th>9</th>\n",
       "      <td>Richard</td>\n",
       "      <td>61</td>\n",
       "      <td>94</td>\n",
       "      <td>70</td>\n",
       "      <td>96</td>\n",
       "    </tr>\n",
       "    <tr>\n",
       "      <th>8</th>\n",
       "      <td>Albert</td>\n",
       "      <td>77</td>\n",
       "      <td>87</td>\n",
       "      <td>79</td>\n",
       "      <td>89</td>\n",
       "    </tr>\n",
       "    <tr>\n",
       "      <th>5</th>\n",
       "      <td>John</td>\n",
       "      <td>73</td>\n",
       "      <td>64</td>\n",
       "      <td>86</td>\n",
       "      <td>66</td>\n",
       "    </tr>\n",
       "  </tbody>\n",
       "</table>\n",
       "</div>"
      ],
      "text/plain": [
       "   student  math  english  reading  curved_english\n",
       "1     Jane    79       98       74             100\n",
       "9  Richard    61       94       70              96\n",
       "8   Albert    77       87       79              89\n",
       "5     John    73       64       86              66"
      ]
     },
     "execution_count": 127,
     "metadata": {},
     "output_type": "execute_result"
    }
   ],
   "source": [
    "df.sort_values(\n",
    "    'curved_english', ascending=False\n",
    ")[df['math'] < 80].head()"
   ]
  },
  {
   "cell_type": "code",
   "execution_count": 130,
   "id": "3e36867c-0377-4b34-829d-cdccfd003386",
   "metadata": {},
   "outputs": [],
   "source": [
    "# pd.DataFrame.assign?"
   ]
  },
  {
   "cell_type": "code",
   "execution_count": null,
   "id": "e27ce6ae-a5a1-4db6-baf9-ff2f4a349333",
   "metadata": {},
   "outputs": [],
   "source": []
  },
  {
   "cell_type": "code",
   "execution_count": 135,
   "id": "3b4dd8e0-942a-45d0-9fa4-aef9076a2635",
   "metadata": {},
   "outputs": [],
   "source": [
    "# previous way of making a dataframe column:\n",
    "# df['newcol'] = [some values]\n",
    "# rename:\n",
    "# df.rename({'old_name': 'new_name'})\n",
    "# df.assign(class = 'robinson')\n",
    "df['class'] = 'robinson'"
   ]
  },
  {
   "cell_type": "code",
   "execution_count": 136,
   "id": "b35fd025-ca3f-4822-a2fc-7d24ebc2eee8",
   "metadata": {},
   "outputs": [
    {
     "data": {
      "text/plain": [
       "0     robinson\n",
       "1     robinson\n",
       "2     robinson\n",
       "3     robinson\n",
       "4     robinson\n",
       "5     robinson\n",
       "6     robinson\n",
       "7     robinson\n",
       "8     robinson\n",
       "9     robinson\n",
       "10    robinson\n",
       "11    robinson\n",
       "Name: class, dtype: object"
      ]
     },
     "execution_count": 136,
     "metadata": {},
     "output_type": "execute_result"
    }
   ],
   "source": [
    "df['class']"
   ]
  },
  {
   "cell_type": "code",
   "execution_count": 139,
   "id": "42f7baf7-5682-4004-8e39-a3941e4646a4",
   "metadata": {},
   "outputs": [],
   "source": [
    "df.rename(columns={'class': 'cohort'}, inplace=True)"
   ]
  },
  {
   "cell_type": "code",
   "execution_count": 140,
   "id": "0878a0af-c2d4-4805-a133-335d38b2475d",
   "metadata": {},
   "outputs": [],
   "source": [
    "my_updated_df = df.drop(columns='curved_english', inplace=True)"
   ]
  },
  {
   "cell_type": "code",
   "execution_count": 142,
   "id": "95305851-751f-4699-ab13-0a728c942a17",
   "metadata": {},
   "outputs": [
    {
     "data": {
      "text/plain": [
       "NoneType"
      ]
     },
     "execution_count": 142,
     "metadata": {},
     "output_type": "execute_result"
    }
   ],
   "source": [
    "type(my_updated_df)"
   ]
  },
  {
   "cell_type": "code",
   "execution_count": 143,
   "id": "7fc3a31d-cdd2-4b45-b518-5c17691a91d7",
   "metadata": {},
   "outputs": [
    {
     "data": {
      "text/html": [
       "<div>\n",
       "<style scoped>\n",
       "    .dataframe tbody tr th:only-of-type {\n",
       "        vertical-align: middle;\n",
       "    }\n",
       "\n",
       "    .dataframe tbody tr th {\n",
       "        vertical-align: top;\n",
       "    }\n",
       "\n",
       "    .dataframe thead th {\n",
       "        text-align: right;\n",
       "    }\n",
       "</style>\n",
       "<table border=\"1\" class=\"dataframe\">\n",
       "  <thead>\n",
       "    <tr style=\"text-align: right;\">\n",
       "      <th></th>\n",
       "      <th>student</th>\n",
       "      <th>math</th>\n",
       "      <th>english</th>\n",
       "      <th>reading</th>\n",
       "      <th>cohort</th>\n",
       "    </tr>\n",
       "  </thead>\n",
       "  <tbody>\n",
       "    <tr>\n",
       "      <th>0</th>\n",
       "      <td>Sally</td>\n",
       "      <td>84</td>\n",
       "      <td>73</td>\n",
       "      <td>95</td>\n",
       "      <td>robinson</td>\n",
       "    </tr>\n",
       "    <tr>\n",
       "      <th>1</th>\n",
       "      <td>Jane</td>\n",
       "      <td>79</td>\n",
       "      <td>98</td>\n",
       "      <td>74</td>\n",
       "      <td>robinson</td>\n",
       "    </tr>\n",
       "    <tr>\n",
       "      <th>2</th>\n",
       "      <td>Suzie</td>\n",
       "      <td>91</td>\n",
       "      <td>91</td>\n",
       "      <td>62</td>\n",
       "      <td>robinson</td>\n",
       "    </tr>\n",
       "    <tr>\n",
       "      <th>3</th>\n",
       "      <td>Billy</td>\n",
       "      <td>88</td>\n",
       "      <td>72</td>\n",
       "      <td>64</td>\n",
       "      <td>robinson</td>\n",
       "    </tr>\n",
       "    <tr>\n",
       "      <th>4</th>\n",
       "      <td>Ada</td>\n",
       "      <td>88</td>\n",
       "      <td>92</td>\n",
       "      <td>78</td>\n",
       "      <td>robinson</td>\n",
       "    </tr>\n",
       "  </tbody>\n",
       "</table>\n",
       "</div>"
      ],
      "text/plain": [
       "  student  math  english  reading    cohort\n",
       "0   Sally    84       73       95  robinson\n",
       "1    Jane    79       98       74  robinson\n",
       "2   Suzie    91       91       62  robinson\n",
       "3   Billy    88       72       64  robinson\n",
       "4     Ada    88       92       78  robinson"
      ]
     },
     "execution_count": 143,
     "metadata": {},
     "output_type": "execute_result"
    }
   ],
   "source": [
    "df.head()"
   ]
  },
  {
   "cell_type": "markdown",
   "id": "6b396c65",
   "metadata": {
    "tags": []
   },
   "source": [
    "---\n",
    "\n",
    "## Importing datasets"
   ]
  },
  {
   "cell_type": "code",
   "execution_count": 144,
   "id": "2931ad79",
   "metadata": {},
   "outputs": [],
   "source": [
    "from pydataset import data"
   ]
  },
  {
   "cell_type": "code",
   "execution_count": 145,
   "id": "274c68d9",
   "metadata": {},
   "outputs": [
    {
     "data": {
      "text/plain": [
       "function"
      ]
     },
     "execution_count": 145,
     "metadata": {},
     "output_type": "execute_result"
    }
   ],
   "source": [
    "type(data)"
   ]
  },
  {
   "cell_type": "code",
   "execution_count": 147,
   "id": "67b83701",
   "metadata": {},
   "outputs": [],
   "source": [
    "# data?"
   ]
  },
  {
   "cell_type": "code",
   "execution_count": 149,
   "id": "9ee654e2",
   "metadata": {},
   "outputs": [
    {
     "data": {
      "text/plain": [
       "pandas.core.frame.DataFrame"
      ]
     },
     "execution_count": 149,
     "metadata": {},
     "output_type": "execute_result"
    }
   ],
   "source": [
    "type(data('iris'))"
   ]
  },
  {
   "cell_type": "code",
   "execution_count": 150,
   "id": "9a8f82f0-2281-4792-b217-5a85c792d781",
   "metadata": {},
   "outputs": [
    {
     "name": "stdout",
     "output_type": "stream",
     "text": [
      "Did you mean:\n",
      "datasets\n"
     ]
    }
   ],
   "source": [
    "data('some_other_dataset')"
   ]
  },
  {
   "cell_type": "code",
   "execution_count": 152,
   "id": "47adc522-221a-45e9-bba7-540f99414c32",
   "metadata": {},
   "outputs": [
    {
     "data": {
      "text/html": [
       "<div>\n",
       "<style scoped>\n",
       "    .dataframe tbody tr th:only-of-type {\n",
       "        vertical-align: middle;\n",
       "    }\n",
       "\n",
       "    .dataframe tbody tr th {\n",
       "        vertical-align: top;\n",
       "    }\n",
       "\n",
       "    .dataframe thead th {\n",
       "        text-align: right;\n",
       "    }\n",
       "</style>\n",
       "<table border=\"1\" class=\"dataframe\">\n",
       "  <thead>\n",
       "    <tr style=\"text-align: right;\">\n",
       "      <th></th>\n",
       "      <th>Item</th>\n",
       "      <th>Title</th>\n",
       "      <th>csv</th>\n",
       "      <th>doc</th>\n",
       "    </tr>\n",
       "    <tr>\n",
       "      <th>Package</th>\n",
       "      <th></th>\n",
       "      <th></th>\n",
       "      <th></th>\n",
       "      <th></th>\n",
       "    </tr>\n",
       "  </thead>\n",
       "  <tbody>\n",
       "    <tr>\n",
       "      <th>datasets</th>\n",
       "      <td>AirPassengers</td>\n",
       "      <td>Monthly Airline Passenger Numbers 1949-1960</td>\n",
       "      <td>https://raw.github.com/vincentarelbundock/Rdatasets/master/csv/datasets/AirPassengers.csv</td>\n",
       "      <td>https://raw.github.com/vincentarelbundock/Rdatasets/master/doc/datasets/AirPassengers....</td>\n",
       "    </tr>\n",
       "    <tr>\n",
       "      <th>datasets</th>\n",
       "      <td>BJsales</td>\n",
       "      <td>Sales Data with Leading Indicator</td>\n",
       "      <td>https://raw.github.com/vincentarelbundock/Rdatasets/master/csv/datasets/BJsales.csv</td>\n",
       "      <td>https://raw.github.com/vincentarelbundock/Rdatasets/master/doc/datasets/BJsales.html</td>\n",
       "    </tr>\n",
       "    <tr>\n",
       "      <th>datasets</th>\n",
       "      <td>BOD</td>\n",
       "      <td>Biochemical Oxygen Demand</td>\n",
       "      <td>https://raw.github.com/vincentarelbundock/Rdatasets/master/csv/datasets/BOD.csv</td>\n",
       "      <td>https://raw.github.com/vincentarelbundock/Rdatasets/master/doc/datasets/BOD.html</td>\n",
       "    </tr>\n",
       "    <tr>\n",
       "      <th>datasets</th>\n",
       "      <td>Formaldehyde</td>\n",
       "      <td>Determination of Formaldehyde</td>\n",
       "      <td>https://raw.github.com/vincentarelbundock/Rdatasets/master/csv/datasets/Formaldehyde.csv</td>\n",
       "      <td>https://raw.github.com/vincentarelbundock/Rdatasets/master/doc/datasets/Formaldehyde.html</td>\n",
       "    </tr>\n",
       "    <tr>\n",
       "      <th>datasets</th>\n",
       "      <td>HairEyeColor</td>\n",
       "      <td>Hair and Eye Color of Statistics Students</td>\n",
       "      <td>https://raw.github.com/vincentarelbundock/Rdatasets/master/csv/datasets/HairEyeColor.csv</td>\n",
       "      <td>https://raw.github.com/vincentarelbundock/Rdatasets/master/doc/datasets/HairEyeColor.html</td>\n",
       "    </tr>\n",
       "    <tr>\n",
       "      <th>...</th>\n",
       "      <td>...</td>\n",
       "      <td>...</td>\n",
       "      <td>...</td>\n",
       "      <td>...</td>\n",
       "    </tr>\n",
       "    <tr>\n",
       "      <th>lme4</th>\n",
       "      <td>VerbAgg</td>\n",
       "      <td>Verbal Aggression item responses</td>\n",
       "      <td>https://raw.github.com/vincentarelbundock/Rdatasets/master/csv/lme4/VerbAgg.csv</td>\n",
       "      <td>https://raw.github.com/vincentarelbundock/Rdatasets/master/doc/lme4/VerbAgg.html</td>\n",
       "    </tr>\n",
       "    <tr>\n",
       "      <th>lme4</th>\n",
       "      <td>cake</td>\n",
       "      <td>Breakage Angle of Chocolate Cakes</td>\n",
       "      <td>https://raw.github.com/vincentarelbundock/Rdatasets/master/csv/lme4/cake.csv</td>\n",
       "      <td>https://raw.github.com/vincentarelbundock/Rdatasets/master/doc/lme4/cake.html</td>\n",
       "    </tr>\n",
       "    <tr>\n",
       "      <th>lme4</th>\n",
       "      <td>cbpp</td>\n",
       "      <td>Contagious bovine pleuropneumonia</td>\n",
       "      <td>https://raw.github.com/vincentarelbundock/Rdatasets/master/csv/lme4/cbpp.csv</td>\n",
       "      <td>https://raw.github.com/vincentarelbundock/Rdatasets/master/doc/lme4/cbpp.html</td>\n",
       "    </tr>\n",
       "    <tr>\n",
       "      <th>lme4</th>\n",
       "      <td>grouseticks</td>\n",
       "      <td>Data on red grouse ticks from Elston et al. 2001</td>\n",
       "      <td>https://raw.github.com/vincentarelbundock/Rdatasets/master/csv/lme4/grouseticks.csv</td>\n",
       "      <td>https://raw.github.com/vincentarelbundock/Rdatasets/master/doc/lme4/grouseticks.html</td>\n",
       "    </tr>\n",
       "    <tr>\n",
       "      <th>lme4</th>\n",
       "      <td>sleepstudy</td>\n",
       "      <td>Reaction times in a sleep deprivation study</td>\n",
       "      <td>https://raw.github.com/vincentarelbundock/Rdatasets/master/csv/lme4/sleepstudy.csv</td>\n",
       "      <td>https://raw.github.com/vincentarelbundock/Rdatasets/master/doc/lme4/sleepstudy.html</td>\n",
       "    </tr>\n",
       "  </tbody>\n",
       "</table>\n",
       "<p>757 rows × 4 columns</p>\n",
       "</div>"
      ],
      "text/plain": [
       "                   Item                                             Title  \\\n",
       "Package                                                                     \n",
       "datasets  AirPassengers       Monthly Airline Passenger Numbers 1949-1960   \n",
       "datasets        BJsales                 Sales Data with Leading Indicator   \n",
       "datasets            BOD                         Biochemical Oxygen Demand   \n",
       "datasets   Formaldehyde                     Determination of Formaldehyde   \n",
       "datasets   HairEyeColor         Hair and Eye Color of Statistics Students   \n",
       "...                 ...                                               ...   \n",
       "lme4            VerbAgg                  Verbal Aggression item responses   \n",
       "lme4               cake                 Breakage Angle of Chocolate Cakes   \n",
       "lme4               cbpp                 Contagious bovine pleuropneumonia   \n",
       "lme4        grouseticks  Data on red grouse ticks from Elston et al. 2001   \n",
       "lme4         sleepstudy       Reaction times in a sleep deprivation study   \n",
       "\n",
       "                                                                                                csv  \\\n",
       "Package                                                                                               \n",
       "datasets  https://raw.github.com/vincentarelbundock/Rdatasets/master/csv/datasets/AirPassengers.csv   \n",
       "datasets        https://raw.github.com/vincentarelbundock/Rdatasets/master/csv/datasets/BJsales.csv   \n",
       "datasets            https://raw.github.com/vincentarelbundock/Rdatasets/master/csv/datasets/BOD.csv   \n",
       "datasets   https://raw.github.com/vincentarelbundock/Rdatasets/master/csv/datasets/Formaldehyde.csv   \n",
       "datasets   https://raw.github.com/vincentarelbundock/Rdatasets/master/csv/datasets/HairEyeColor.csv   \n",
       "...                                                                                             ...   \n",
       "lme4                https://raw.github.com/vincentarelbundock/Rdatasets/master/csv/lme4/VerbAgg.csv   \n",
       "lme4                   https://raw.github.com/vincentarelbundock/Rdatasets/master/csv/lme4/cake.csv   \n",
       "lme4                   https://raw.github.com/vincentarelbundock/Rdatasets/master/csv/lme4/cbpp.csv   \n",
       "lme4            https://raw.github.com/vincentarelbundock/Rdatasets/master/csv/lme4/grouseticks.csv   \n",
       "lme4             https://raw.github.com/vincentarelbundock/Rdatasets/master/csv/lme4/sleepstudy.csv   \n",
       "\n",
       "                                                                                                doc  \n",
       "Package                                                                                              \n",
       "datasets  https://raw.github.com/vincentarelbundock/Rdatasets/master/doc/datasets/AirPassengers....  \n",
       "datasets       https://raw.github.com/vincentarelbundock/Rdatasets/master/doc/datasets/BJsales.html  \n",
       "datasets           https://raw.github.com/vincentarelbundock/Rdatasets/master/doc/datasets/BOD.html  \n",
       "datasets  https://raw.github.com/vincentarelbundock/Rdatasets/master/doc/datasets/Formaldehyde.html  \n",
       "datasets  https://raw.github.com/vincentarelbundock/Rdatasets/master/doc/datasets/HairEyeColor.html  \n",
       "...                                                                                             ...  \n",
       "lme4               https://raw.github.com/vincentarelbundock/Rdatasets/master/doc/lme4/VerbAgg.html  \n",
       "lme4                  https://raw.github.com/vincentarelbundock/Rdatasets/master/doc/lme4/cake.html  \n",
       "lme4                  https://raw.github.com/vincentarelbundock/Rdatasets/master/doc/lme4/cbpp.html  \n",
       "lme4           https://raw.github.com/vincentarelbundock/Rdatasets/master/doc/lme4/grouseticks.html  \n",
       "lme4            https://raw.github.com/vincentarelbundock/Rdatasets/master/doc/lme4/sleepstudy.html  \n",
       "\n",
       "[757 rows x 4 columns]"
      ]
     },
     "execution_count": 152,
     "metadata": {},
     "output_type": "execute_result"
    }
   ],
   "source": [
    "# looking at all the datasets:\n",
    "data('datasets')"
   ]
  },
  {
   "cell_type": "code",
   "execution_count": 172,
   "id": "c51b0fb0-1f0d-4d49-8c35-740514805b40",
   "metadata": {},
   "outputs": [
    {
     "data": {
      "text/plain": [
       "['AirPassengers',\n",
       " 'BJsales',\n",
       " 'BOD',\n",
       " 'Formaldehyde',\n",
       " 'HairEyeColor',\n",
       " 'InsectSprays',\n",
       " 'JohnsonJohnson',\n",
       " 'LakeHuron',\n",
       " 'LifeCycleSavings',\n",
       " 'Nile',\n",
       " 'OrchardSprays',\n",
       " 'PlantGrowth',\n",
       " 'Puromycin',\n",
       " 'Titanic',\n",
       " 'ToothGrowth',\n",
       " 'UCBAdmissions',\n",
       " 'UKDriverDeaths',\n",
       " 'UKgas',\n",
       " 'USAccDeaths',\n",
       " 'USArrests',\n",
       " 'USJudgeRatings',\n",
       " 'USPersonalExpenditure',\n",
       " 'VADeaths',\n",
       " 'WWWusage',\n",
       " 'WorldPhones',\n",
       " 'airmiles',\n",
       " 'airquality',\n",
       " 'anscombe',\n",
       " 'attenu',\n",
       " 'attitude',\n",
       " 'austres',\n",
       " 'cars',\n",
       " 'chickwts',\n",
       " 'co2',\n",
       " 'crimtab',\n",
       " 'discoveries',\n",
       " 'esoph',\n",
       " 'euro',\n",
       " 'faithful',\n",
       " 'freeny',\n",
       " 'infert',\n",
       " 'iris',\n",
       " 'islands',\n",
       " 'lh',\n",
       " 'longley',\n",
       " 'lynx',\n",
       " 'morley',\n",
       " 'mtcars',\n",
       " 'nhtemp',\n",
       " 'nottem',\n",
       " 'npk',\n",
       " 'occupationalStatus',\n",
       " 'precip',\n",
       " 'presidents',\n",
       " 'pressure',\n",
       " 'quakes',\n",
       " 'randu',\n",
       " 'rivers',\n",
       " 'rock',\n",
       " 'sleep',\n",
       " 'stackloss',\n",
       " 'sunspot.month',\n",
       " 'sunspot.year',\n",
       " 'sunspots',\n",
       " 'swiss',\n",
       " 'treering',\n",
       " 'trees',\n",
       " 'uspop',\n",
       " 'volcano',\n",
       " 'warpbreaks',\n",
       " 'women',\n",
       " 'acme',\n",
       " 'aids',\n",
       " 'aircondit',\n",
       " 'aircondit7',\n",
       " 'amis',\n",
       " 'aml',\n",
       " 'bigcity',\n",
       " 'brambles',\n",
       " 'breslow',\n",
       " 'calcium',\n",
       " 'cane',\n",
       " 'capability',\n",
       " 'catsM',\n",
       " 'cav',\n",
       " 'cd4',\n",
       " 'channing',\n",
       " 'city',\n",
       " 'claridge',\n",
       " 'cloth',\n",
       " 'co.transfer',\n",
       " 'coal',\n",
       " 'darwin',\n",
       " 'dogs',\n",
       " 'downs.bc',\n",
       " 'ducks',\n",
       " 'fir',\n",
       " 'frets',\n",
       " 'grav',\n",
       " 'gravity',\n",
       " 'hirose',\n",
       " 'islay',\n",
       " 'manaus',\n",
       " 'melanoma',\n",
       " 'motor',\n",
       " 'neuro',\n",
       " 'nitrofen',\n",
       " 'nodal',\n",
       " 'nuclear',\n",
       " 'paulsen',\n",
       " 'poisons',\n",
       " 'polar',\n",
       " 'remission',\n",
       " 'salinity',\n",
       " 'survival',\n",
       " 'tau',\n",
       " 'tuna',\n",
       " 'urine',\n",
       " 'wool',\n",
       " 'aids',\n",
       " 'alloauto',\n",
       " 'allograft',\n",
       " 'azt',\n",
       " 'baboon',\n",
       " 'bcdeter',\n",
       " 'bfeed',\n",
       " 'bmt',\n",
       " 'bnct',\n",
       " 'btrial',\n",
       " 'burn',\n",
       " 'channing',\n",
       " 'drug6mp',\n",
       " 'drughiv',\n",
       " 'hodg',\n",
       " 'kidney',\n",
       " 'kidrecurr',\n",
       " 'kidtran',\n",
       " 'larynx',\n",
       " 'lung',\n",
       " 'pneumon',\n",
       " 'psych',\n",
       " 'rats',\n",
       " 'std',\n",
       " 'stddiag',\n",
       " 'tongue',\n",
       " 'twins',\n",
       " 'Animals2',\n",
       " 'CrohnD',\n",
       " 'NOxEmissions',\n",
       " 'SiegelsEx',\n",
       " 'aircraft',\n",
       " 'airmay',\n",
       " 'alcohol',\n",
       " 'ambientNOxCH',\n",
       " 'bushfire',\n",
       " 'carrots',\n",
       " 'cloud',\n",
       " 'coleman',\n",
       " 'condroz',\n",
       " 'cushny',\n",
       " 'delivery',\n",
       " 'education',\n",
       " 'epilepsy',\n",
       " 'exAM',\n",
       " 'foodstamp',\n",
       " 'hbk',\n",
       " 'heart',\n",
       " 'kootenay',\n",
       " 'lactic',\n",
       " 'milk',\n",
       " 'pension',\n",
       " 'phosphor',\n",
       " 'pilot',\n",
       " 'possumDiv',\n",
       " 'pulpfiber',\n",
       " 'radarImage',\n",
       " 'salinity',\n",
       " 'starsCYG',\n",
       " 'telef',\n",
       " 'toxicity',\n",
       " 'vaso',\n",
       " 'wagnerGrowth',\n",
       " 'wood',\n",
       " 'AMSsurvey',\n",
       " 'Adler',\n",
       " 'Angell',\n",
       " 'Anscombe',\n",
       " 'Baumann',\n",
       " 'Bfox',\n",
       " 'Blackmoor',\n",
       " 'Burt',\n",
       " 'CanPop',\n",
       " 'Chile',\n",
       " 'Chirot',\n",
       " 'Cowles',\n",
       " 'Davis',\n",
       " 'DavisThin',\n",
       " 'Depredations',\n",
       " 'Duncan',\n",
       " 'Ericksen',\n",
       " 'Florida',\n",
       " 'Freedman',\n",
       " 'Friendly',\n",
       " 'Ginzberg',\n",
       " 'Greene',\n",
       " 'Guyer',\n",
       " 'Hartnagel',\n",
       " 'Highway1',\n",
       " 'Leinhardt',\n",
       " 'Mandel',\n",
       " 'Migration',\n",
       " 'Moore',\n",
       " 'Mroz',\n",
       " 'OBrienKaiser',\n",
       " 'Ornstein',\n",
       " 'Pottery',\n",
       " 'Prestige',\n",
       " 'Quartet',\n",
       " 'Robey',\n",
       " 'SLID',\n",
       " 'Sahlins',\n",
       " 'Salaries',\n",
       " 'Soils',\n",
       " 'States',\n",
       " 'Transact',\n",
       " 'UN',\n",
       " 'USPop',\n",
       " 'Vocab',\n",
       " 'WeightLoss',\n",
       " 'Womenlf',\n",
       " 'Wool',\n",
       " 'agriculture',\n",
       " 'animals',\n",
       " 'chorSub',\n",
       " 'flower',\n",
       " 'plantTraits',\n",
       " 'pluton',\n",
       " 'ruspini',\n",
       " 'votes.repub',\n",
       " 'xclara',\n",
       " 'affairs',\n",
       " 'azcabgptca',\n",
       " 'azdrg112',\n",
       " 'azpro',\n",
       " 'azprocedure',\n",
       " 'badhealth',\n",
       " 'fasttrakg',\n",
       " 'fishing',\n",
       " 'lbw',\n",
       " 'lbwgrp',\n",
       " 'loomis',\n",
       " 'mdvis',\n",
       " 'medpar',\n",
       " 'nuts',\n",
       " 'rwm',\n",
       " 'rwm1984',\n",
       " 'rwm5yr',\n",
       " 'ships',\n",
       " 'smoking',\n",
       " 'titanic',\n",
       " 'titanicgrp',\n",
       " 'Accident',\n",
       " 'Airline',\n",
       " 'Airq',\n",
       " 'Benefits',\n",
       " 'Bids',\n",
       " 'BudgetFood',\n",
       " 'BudgetItaly',\n",
       " 'BudgetUK',\n",
       " 'Bwages',\n",
       " 'CPSch3',\n",
       " 'CRANpackages',\n",
       " 'Capm',\n",
       " 'Car',\n",
       " 'Caschool',\n",
       " 'Catsup',\n",
       " 'Cigar',\n",
       " 'Cigarette',\n",
       " 'Clothing',\n",
       " 'Computers',\n",
       " 'Cracker',\n",
       " 'Crime',\n",
       " 'DM',\n",
       " 'Diamond',\n",
       " 'Doctor',\n",
       " 'DoctorAUS',\n",
       " 'DoctorContacts',\n",
       " 'Earnings',\n",
       " 'Electricity',\n",
       " 'Fair',\n",
       " 'Fatality',\n",
       " 'Fishing',\n",
       " 'Forward',\n",
       " 'FriendFoe',\n",
       " 'Garch',\n",
       " 'Gasoline',\n",
       " 'Griliches',\n",
       " 'Grunfeld',\n",
       " 'HC',\n",
       " 'HI',\n",
       " 'Hdma',\n",
       " 'Heating',\n",
       " 'Hedonic',\n",
       " 'Housing',\n",
       " 'Icecream',\n",
       " 'Journals',\n",
       " 'Kakadu',\n",
       " 'Ketchup',\n",
       " 'Klein',\n",
       " 'LaborSupply',\n",
       " 'Labour',\n",
       " 'MCAS',\n",
       " 'Males',\n",
       " 'Mathlevel',\n",
       " 'MedExp',\n",
       " 'Metal',\n",
       " 'Mode',\n",
       " 'ModeChoice',\n",
       " 'Mofa',\n",
       " 'Mroz',\n",
       " 'MunExp',\n",
       " 'NaturalPark',\n",
       " 'Nerlove',\n",
       " 'OFP',\n",
       " 'Oil',\n",
       " 'PSID',\n",
       " 'Participation',\n",
       " 'PatentsHGH',\n",
       " 'PatentsRD',\n",
       " 'Pound',\n",
       " 'Produc',\n",
       " 'RetSchool',\n",
       " 'SP500',\n",
       " 'Schooling',\n",
       " 'Somerville',\n",
       " 'Star',\n",
       " 'Strike',\n",
       " 'StrikeDur',\n",
       " 'StrikeNb',\n",
       " 'SumHes',\n",
       " 'Tobacco',\n",
       " 'Train',\n",
       " 'TranspEq',\n",
       " 'Treatment',\n",
       " 'Tuna',\n",
       " 'USFinanceIndustry',\n",
       " 'USclassifiedDocuments',\n",
       " 'USstateAbbreviations',\n",
       " 'UStaxWords',\n",
       " 'UnempDur',\n",
       " 'Unemployment',\n",
       " 'University',\n",
       " 'VietNamH',\n",
       " 'VietNamI',\n",
       " 'Wages',\n",
       " 'Wages1',\n",
       " 'Workinghours',\n",
       " 'Yen',\n",
       " 'Yogurt',\n",
       " 'bankingCrises',\n",
       " 'incomeInequality',\n",
       " 'nonEnglishNames',\n",
       " 'politicalKnowledge',\n",
       " 'PD',\n",
       " 'aldh2',\n",
       " 'apoeapoc',\n",
       " 'cf',\n",
       " 'crohn',\n",
       " 'fa',\n",
       " 'fsnps',\n",
       " 'hla',\n",
       " 'hr1420',\n",
       " 'l51',\n",
       " 'lukas',\n",
       " 'mao',\n",
       " 'mfblong',\n",
       " 'mhtdata',\n",
       " 'nep499',\n",
       " 'diamonds',\n",
       " 'economics',\n",
       " 'midwest',\n",
       " 'movies',\n",
       " 'mpg',\n",
       " 'msleep',\n",
       " 'presidential',\n",
       " 'seals',\n",
       " 'Arbuthnot',\n",
       " 'Bowley',\n",
       " 'Cavendish',\n",
       " 'ChestSizes',\n",
       " 'CushnyPeebles',\n",
       " 'CushnyPeeblesN',\n",
       " 'Dactyl',\n",
       " 'DrinksWages',\n",
       " 'Fingerprints',\n",
       " 'Galton',\n",
       " 'GaltonFamilies',\n",
       " 'Guerry',\n",
       " 'Jevons',\n",
       " 'Langren.all',\n",
       " 'Langren1644',\n",
       " 'Macdonell',\n",
       " 'MacdonellDF',\n",
       " 'Michelson',\n",
       " 'MichelsonSets',\n",
       " 'Minard.cities',\n",
       " 'Minard.temp',\n",
       " 'Minard.troops',\n",
       " 'Nightingale',\n",
       " 'OldMaps',\n",
       " 'PearsonLee',\n",
       " 'PolioTrials',\n",
       " 'Prostitutes',\n",
       " 'Pyx',\n",
       " 'Quarrels',\n",
       " 'Snow.deaths',\n",
       " 'Snow.polygons',\n",
       " 'Snow.pumps',\n",
       " 'Snow.streets',\n",
       " 'Wheat',\n",
       " 'Wheat.monarchs',\n",
       " 'Yeast',\n",
       " 'YeastD.mat',\n",
       " 'ZeaMays',\n",
       " 'barley',\n",
       " 'environmental',\n",
       " 'ethanol',\n",
       " 'melanoma',\n",
       " 'singer',\n",
       " 'Aids2',\n",
       " 'Animals',\n",
       " 'Boston',\n",
       " 'Cars93',\n",
       " 'Cushings',\n",
       " 'DDT',\n",
       " 'GAGurine',\n",
       " 'Insurance',\n",
       " 'Melanoma',\n",
       " 'OME',\n",
       " 'Pima.te',\n",
       " 'Pima.tr',\n",
       " 'Pima.tr2',\n",
       " 'Rabbit',\n",
       " 'Rubber',\n",
       " 'SP500',\n",
       " 'Sitka',\n",
       " 'Sitka89',\n",
       " 'Skye',\n",
       " 'Traffic',\n",
       " 'UScereal',\n",
       " 'UScrime',\n",
       " 'VA',\n",
       " 'abbey',\n",
       " 'accdeaths',\n",
       " 'anorexia',\n",
       " 'bacteria',\n",
       " 'beav1',\n",
       " 'beav2',\n",
       " 'biopsy',\n",
       " 'birthwt',\n",
       " 'cabbages',\n",
       " 'caith',\n",
       " 'cats',\n",
       " 'cement',\n",
       " 'chem',\n",
       " 'coop',\n",
       " 'cpus',\n",
       " 'crabs',\n",
       " 'deaths',\n",
       " 'drivers',\n",
       " 'eagles',\n",
       " 'epil',\n",
       " 'farms',\n",
       " 'fgl',\n",
       " 'forbes',\n",
       " 'galaxies',\n",
       " 'gehan',\n",
       " 'genotype',\n",
       " 'geyser',\n",
       " 'gilgais',\n",
       " 'hills',\n",
       " 'housing',\n",
       " 'immer',\n",
       " 'leuk',\n",
       " 'mammals',\n",
       " 'mcycle',\n",
       " 'menarche',\n",
       " 'michelson',\n",
       " 'minn38',\n",
       " 'motors',\n",
       " 'muscle',\n",
       " 'newcomb',\n",
       " 'nlschools',\n",
       " 'npk',\n",
       " 'npr1',\n",
       " 'oats',\n",
       " 'painters',\n",
       " 'petrol',\n",
       " 'quine',\n",
       " 'road',\n",
       " 'rotifer',\n",
       " 'ships',\n",
       " 'shrimp',\n",
       " 'shuttle',\n",
       " 'snails',\n",
       " 'steam',\n",
       " 'stormer',\n",
       " 'survey',\n",
       " 'synth.te',\n",
       " 'synth.tr',\n",
       " 'topo',\n",
       " 'waders',\n",
       " 'whiteside',\n",
       " 'wtloss',\n",
       " 'Cigar',\n",
       " 'Crime',\n",
       " 'EmplUK',\n",
       " 'Gasoline',\n",
       " 'Grunfeld',\n",
       " 'Hedonic',\n",
       " 'LaborSupply',\n",
       " 'Males',\n",
       " 'Produc',\n",
       " 'Snmesp',\n",
       " 'SumHes',\n",
       " 'Wages',\n",
       " 'baseball',\n",
       " 'AustralianElectionPolling',\n",
       " 'AustralianElections',\n",
       " 'EfronMorris',\n",
       " 'RockTheVote',\n",
       " 'UKHouseOfCommons',\n",
       " 'absentee',\n",
       " 'admit',\n",
       " 'bioChemists',\n",
       " 'ca2006',\n",
       " 'iraqVote',\n",
       " 'politicalInformation',\n",
       " 'presidentialElections',\n",
       " 'prussian',\n",
       " 'unionDensity',\n",
       " 'vote92',\n",
       " 'french_fries',\n",
       " 'smiths',\n",
       " 'tips',\n",
       " 'car.test.frame',\n",
       " 'car90',\n",
       " 'cu.summary',\n",
       " 'kyphosis',\n",
       " 'solder',\n",
       " 'stagec',\n",
       " 'PublicSchools',\n",
       " 'Bollen',\n",
       " 'CNES',\n",
       " 'Klein',\n",
       " 'Kmenta',\n",
       " 'Tests',\n",
       " 'bladder',\n",
       " 'cancer',\n",
       " 'cgd',\n",
       " 'colon',\n",
       " 'flchain',\n",
       " 'heart',\n",
       " 'kidney',\n",
       " 'leukemia',\n",
       " 'logan',\n",
       " 'lung',\n",
       " 'mgus',\n",
       " 'nwtco',\n",
       " 'ovarian',\n",
       " 'pbc',\n",
       " 'rats',\n",
       " 'stanford2',\n",
       " 'tobin',\n",
       " 'veteran',\n",
       " 'Arthritis',\n",
       " 'Baseball',\n",
       " 'BrokenMarriage',\n",
       " 'Bundesliga',\n",
       " 'Bundestag2005',\n",
       " 'Butterfly',\n",
       " 'CoalMiners',\n",
       " 'DanishWelfare',\n",
       " 'Employment',\n",
       " 'Federalist',\n",
       " 'Hitters',\n",
       " 'HorseKicks',\n",
       " 'Hospital',\n",
       " 'JobSatisfaction',\n",
       " 'JointSports',\n",
       " 'Lifeboats',\n",
       " 'NonResponse',\n",
       " 'OvaryCancer',\n",
       " 'PreSex',\n",
       " 'Punishment',\n",
       " 'RepVict',\n",
       " 'Saxony',\n",
       " 'SexualFun',\n",
       " 'SpaceShuttle',\n",
       " 'Suicide',\n",
       " 'Trucks',\n",
       " 'UKSoccer',\n",
       " 'VisualAcuity',\n",
       " 'VonBort',\n",
       " 'WeldonDice',\n",
       " 'WomenQueue',\n",
       " 'MatchIt.url',\n",
       " 'PErisk',\n",
       " 'SupremeCourt',\n",
       " 'Weimar',\n",
       " 'Zelig.url',\n",
       " 'approval',\n",
       " 'bivariate',\n",
       " 'coalition',\n",
       " 'coalition2',\n",
       " 'eidat',\n",
       " 'free1',\n",
       " 'free2',\n",
       " 'friendship',\n",
       " 'grunfeld',\n",
       " 'hoff',\n",
       " 'homerun',\n",
       " 'immi1',\n",
       " 'immi2',\n",
       " 'immi3',\n",
       " 'immi4',\n",
       " 'immi5',\n",
       " 'immigration',\n",
       " 'klein',\n",
       " 'kmenta',\n",
       " 'macro',\n",
       " 'mexico',\n",
       " 'mid',\n",
       " 'newpainters',\n",
       " 'sanction',\n",
       " 'sna.ex',\n",
       " 'swiss',\n",
       " 'tobin',\n",
       " 'turnout',\n",
       " 'voteincome',\n",
       " 'BCG',\n",
       " 'BtheB',\n",
       " 'CYGOB1',\n",
       " 'Forbes2000',\n",
       " 'GHQ',\n",
       " 'Lanza',\n",
       " 'agefat',\n",
       " 'aspirin',\n",
       " 'birthdeathrates',\n",
       " 'bladdercancer',\n",
       " 'clouds',\n",
       " 'epilepsy',\n",
       " 'foster',\n",
       " 'heptathlon',\n",
       " 'mastectomy',\n",
       " 'meteo',\n",
       " 'orallesions',\n",
       " 'phosphate',\n",
       " 'pistonrings',\n",
       " 'planets',\n",
       " 'plasma',\n",
       " 'polyps',\n",
       " 'polyps3',\n",
       " 'pottery',\n",
       " 'rearrests',\n",
       " 'respiratory',\n",
       " 'roomwidth',\n",
       " 'schizophrenia',\n",
       " 'schizophrenia2',\n",
       " 'schooldays',\n",
       " 'skulls',\n",
       " 'smoking',\n",
       " 'students',\n",
       " 'suicides',\n",
       " 'toothpaste',\n",
       " 'voting',\n",
       " 'water',\n",
       " 'watervoles',\n",
       " 'waves',\n",
       " 'weightgain',\n",
       " 'womensrole',\n",
       " 'Bechtoldt',\n",
       " 'Bechtoldt.1',\n",
       " 'Bechtoldt.2',\n",
       " 'Dwyer',\n",
       " 'Gleser',\n",
       " 'Gorsuch',\n",
       " 'Harman.5',\n",
       " 'Harman.8',\n",
       " 'Harman.political',\n",
       " 'Holzinger',\n",
       " 'Holzinger.9',\n",
       " 'Reise',\n",
       " 'Schmid',\n",
       " 'Thurstone',\n",
       " 'Thurstone.33',\n",
       " 'Tucker',\n",
       " 'ability',\n",
       " 'affect',\n",
       " 'bfi',\n",
       " 'bfi.dictionary',\n",
       " 'blot',\n",
       " 'burt',\n",
       " 'cities',\n",
       " 'cubits',\n",
       " 'cushny',\n",
       " 'epi',\n",
       " 'epi.bfi',\n",
       " 'epi.dictionary',\n",
       " 'galton',\n",
       " 'heights',\n",
       " 'income',\n",
       " 'iqitems',\n",
       " 'msq',\n",
       " 'neo',\n",
       " 'peas',\n",
       " 'sat.act',\n",
       " 'withinBetween',\n",
       " 'Bosco',\n",
       " 'CobarOre',\n",
       " 'Mammals',\n",
       " 'barro',\n",
       " 'engel',\n",
       " 'uis',\n",
       " 'dietox',\n",
       " 'koch',\n",
       " 'ohio',\n",
       " 'respdis',\n",
       " 'respiratory',\n",
       " 'seizure',\n",
       " 'sitka89',\n",
       " 'spruce',\n",
       " 'liver',\n",
       " 'portpirie',\n",
       " 'rain',\n",
       " 'summer',\n",
       " 'wavesurge',\n",
       " 'winter',\n",
       " 'arthritis',\n",
       " 'housing',\n",
       " 'bmw',\n",
       " 'danish',\n",
       " 'nidd.annual',\n",
       " 'nidd.thresh',\n",
       " 'siemens',\n",
       " 'sp.raw',\n",
       " 'spto87',\n",
       " 'Dyestuff',\n",
       " 'Dyestuff2',\n",
       " 'InstEval',\n",
       " 'Pastes',\n",
       " 'Penicillin',\n",
       " 'VerbAgg',\n",
       " 'cake',\n",
       " 'cbpp',\n",
       " 'grouseticks',\n",
       " 'sleepstudy']"
      ]
     },
     "execution_count": 172,
     "metadata": {},
     "output_type": "execute_result"
    }
   ],
   "source": [
    "data('datasets')['Item'].to_list()"
   ]
  },
  {
   "cell_type": "code",
   "execution_count": 153,
   "id": "99d05524-1c82-4f0c-9011-2fa8cdb96023",
   "metadata": {},
   "outputs": [
    {
     "data": {
      "text/html": [
       "<div>\n",
       "<style scoped>\n",
       "    .dataframe tbody tr th:only-of-type {\n",
       "        vertical-align: middle;\n",
       "    }\n",
       "\n",
       "    .dataframe tbody tr th {\n",
       "        vertical-align: top;\n",
       "    }\n",
       "\n",
       "    .dataframe thead th {\n",
       "        text-align: right;\n",
       "    }\n",
       "</style>\n",
       "<table border=\"1\" class=\"dataframe\">\n",
       "  <thead>\n",
       "    <tr style=\"text-align: right;\">\n",
       "      <th></th>\n",
       "      <th>INDEX</th>\n",
       "      <th>TICKS</th>\n",
       "      <th>BROOD</th>\n",
       "      <th>HEIGHT</th>\n",
       "      <th>YEAR</th>\n",
       "      <th>LOCATION</th>\n",
       "      <th>cHEIGHT</th>\n",
       "    </tr>\n",
       "  </thead>\n",
       "  <tbody>\n",
       "    <tr>\n",
       "      <th>1</th>\n",
       "      <td>1</td>\n",
       "      <td>0</td>\n",
       "      <td>501</td>\n",
       "      <td>465</td>\n",
       "      <td>95</td>\n",
       "      <td>32</td>\n",
       "      <td>2.759305</td>\n",
       "    </tr>\n",
       "    <tr>\n",
       "      <th>2</th>\n",
       "      <td>2</td>\n",
       "      <td>0</td>\n",
       "      <td>501</td>\n",
       "      <td>465</td>\n",
       "      <td>95</td>\n",
       "      <td>32</td>\n",
       "      <td>2.759305</td>\n",
       "    </tr>\n",
       "    <tr>\n",
       "      <th>3</th>\n",
       "      <td>3</td>\n",
       "      <td>0</td>\n",
       "      <td>502</td>\n",
       "      <td>472</td>\n",
       "      <td>95</td>\n",
       "      <td>36</td>\n",
       "      <td>9.759305</td>\n",
       "    </tr>\n",
       "    <tr>\n",
       "      <th>4</th>\n",
       "      <td>4</td>\n",
       "      <td>0</td>\n",
       "      <td>503</td>\n",
       "      <td>475</td>\n",
       "      <td>95</td>\n",
       "      <td>37</td>\n",
       "      <td>12.759305</td>\n",
       "    </tr>\n",
       "    <tr>\n",
       "      <th>5</th>\n",
       "      <td>5</td>\n",
       "      <td>0</td>\n",
       "      <td>503</td>\n",
       "      <td>475</td>\n",
       "      <td>95</td>\n",
       "      <td>37</td>\n",
       "      <td>12.759305</td>\n",
       "    </tr>\n",
       "    <tr>\n",
       "      <th>...</th>\n",
       "      <td>...</td>\n",
       "      <td>...</td>\n",
       "      <td>...</td>\n",
       "      <td>...</td>\n",
       "      <td>...</td>\n",
       "      <td>...</td>\n",
       "      <td>...</td>\n",
       "    </tr>\n",
       "    <tr>\n",
       "      <th>399</th>\n",
       "      <td>399</td>\n",
       "      <td>0</td>\n",
       "      <td>741</td>\n",
       "      <td>433</td>\n",
       "      <td>97</td>\n",
       "      <td>15</td>\n",
       "      <td>-29.240695</td>\n",
       "    </tr>\n",
       "    <tr>\n",
       "      <th>400</th>\n",
       "      <td>400</td>\n",
       "      <td>0</td>\n",
       "      <td>742</td>\n",
       "      <td>430</td>\n",
       "      <td>97</td>\n",
       "      <td>14</td>\n",
       "      <td>-32.240695</td>\n",
       "    </tr>\n",
       "    <tr>\n",
       "      <th>401</th>\n",
       "      <td>401</td>\n",
       "      <td>0</td>\n",
       "      <td>742</td>\n",
       "      <td>430</td>\n",
       "      <td>97</td>\n",
       "      <td>14</td>\n",
       "      <td>-32.240695</td>\n",
       "    </tr>\n",
       "    <tr>\n",
       "      <th>402</th>\n",
       "      <td>402</td>\n",
       "      <td>2</td>\n",
       "      <td>743</td>\n",
       "      <td>450</td>\n",
       "      <td>97</td>\n",
       "      <td>25</td>\n",
       "      <td>-12.240695</td>\n",
       "    </tr>\n",
       "    <tr>\n",
       "      <th>403</th>\n",
       "      <td>403</td>\n",
       "      <td>0</td>\n",
       "      <td>743</td>\n",
       "      <td>450</td>\n",
       "      <td>97</td>\n",
       "      <td>25</td>\n",
       "      <td>-12.240695</td>\n",
       "    </tr>\n",
       "  </tbody>\n",
       "</table>\n",
       "<p>403 rows × 7 columns</p>\n",
       "</div>"
      ],
      "text/plain": [
       "     INDEX  TICKS  BROOD  HEIGHT  YEAR  LOCATION    cHEIGHT\n",
       "1        1      0    501     465    95        32   2.759305\n",
       "2        2      0    501     465    95        32   2.759305\n",
       "3        3      0    502     472    95        36   9.759305\n",
       "4        4      0    503     475    95        37  12.759305\n",
       "5        5      0    503     475    95        37  12.759305\n",
       "..     ...    ...    ...     ...   ...       ...        ...\n",
       "399    399      0    741     433    97        15 -29.240695\n",
       "400    400      0    742     430    97        14 -32.240695\n",
       "401    401      0    742     430    97        14 -32.240695\n",
       "402    402      2    743     450    97        25 -12.240695\n",
       "403    403      0    743     450    97        25 -12.240695\n",
       "\n",
       "[403 rows x 7 columns]"
      ]
     },
     "execution_count": 153,
     "metadata": {},
     "output_type": "execute_result"
    }
   ],
   "source": [
    "data('grouseticks')"
   ]
  },
  {
   "cell_type": "code",
   "execution_count": 155,
   "id": "858ee6aa-9eb0-46ee-b033-28b05ed508d3",
   "metadata": {},
   "outputs": [
    {
     "name": "stdout",
     "output_type": "stream",
     "text": [
      "grouseticks\n",
      "\n",
      "PyDataset Documentation (adopted from R Documentation. The displayed examples are in R)\n",
      "\n",
      "##  Data on red grouse ticks from Elston et al. 2001\n",
      "\n",
      "### Description\n",
      "\n",
      "Number of ticks on the heads of red grouse chicks sampled in the field\n",
      "(`grouseticks`) and an aggregated version (`grouseticks_agg`); see original\n",
      "source for more details\n",
      "\n",
      "### Usage\n",
      "\n",
      "    data(grouseticks)\n",
      "\n",
      "### Format\n",
      "\n",
      "`INDEX`\n",
      "\n",
      "(factor) chick number (observation level)\n",
      "\n",
      "`TICKS`\n",
      "\n",
      "number of ticks sampled\n",
      "\n",
      "`BROOD`\n",
      "\n",
      "(factor) brood number\n",
      "\n",
      "`HEIGHT`\n",
      "\n",
      "height above sea level (meters)\n",
      "\n",
      "`YEAR`\n",
      "\n",
      "year (-1900)\n",
      "\n",
      "`LOCATION`\n",
      "\n",
      "(factor) geographic location code\n",
      "\n",
      "`cHEIGHT`\n",
      "\n",
      "centered height, derived from `HEIGHT`\n",
      "\n",
      "`meanTICKS`\n",
      "\n",
      "mean number of ticks by brood\n",
      "\n",
      "`varTICKS`\n",
      "\n",
      "variance of number of ticks by brood\n",
      "\n",
      "### Details\n",
      "\n",
      "`grouseticks_agg` is just a brood-level aggregation of the data\n",
      "\n",
      "### Source\n",
      "\n",
      "Robert Moss, via David Elston\n",
      "\n",
      "### References\n",
      "\n",
      "Elston, D. A., R. Moss, T. Boulinier, C. Arrowsmith, and X. Lambin. 2001.\n",
      "\"Analysis of Aggregation, a Worked Example: Numbers of Ticks on Red Grouse\n",
      "Chicks.\" Parasitology 122 (05): 563-569. doi:10.1017/S0031182001007740. http:/\n",
      "/journals.cambridge.org/action/displayAbstract?fromPage=online&aid=82701.\n",
      "\n",
      "### Examples\n",
      "\n",
      "    data(grouseticks)\n",
      "    ## Figure 1a from Elston et al\n",
      "    par(las=1,bty=\"l\")\n",
      "    tvec <- c(0,1,2,5,20,40,80)\n",
      "    pvec <- c(4,1,3)\n",
      "    with(grouseticks_agg,plot(1+meanTICKS~HEIGHT,\n",
      "                      pch=pvec[factor(YEAR)],\n",
      "                      log=\"y\",axes=FALSE,\n",
      "                      xlab=\"Altitude (m)\",\n",
      "                      ylab=\"Brood mean ticks\"))\n",
      "    axis(side=1)\n",
      "    axis(side=2,at=tvec+1,label=tvec)\n",
      "    box()\n",
      "    abline(v=405,lty=2)\n",
      "    ## Figure 1b\n",
      "    with(grouseticks_agg,plot(varTICKS~meanTICKS,\n",
      "                      pch=4,\n",
      "                      xlab=\"Brood mean ticks\",\n",
      "                      ylab=\"Within-brood variance\"))\n",
      "    curve(1*x,from=0,to=70,add=TRUE)\n",
      "    ## Model fitting\n",
      "    form <- TICKS~YEAR+HEIGHT+(1|BROOD)+(1|INDEX)+(1|LOCATION)\n",
      "    (full_mod1  <- glmer(form, family=\"poisson\",data=grouseticks))\n",
      "\n",
      "\n"
     ]
    },
    {
     "data": {
      "text/plain": [
       "NoneType"
      ]
     },
     "execution_count": 155,
     "metadata": {},
     "output_type": "execute_result"
    }
   ],
   "source": [
    "type(data('grouseticks', show_doc=True))"
   ]
  },
  {
   "cell_type": "code",
   "execution_count": 156,
   "id": "fc88886d-13b4-45a9-84c9-27ac73ef9f23",
   "metadata": {},
   "outputs": [],
   "source": [
    "df = data('grouseticks')"
   ]
  },
  {
   "cell_type": "code",
   "execution_count": 157,
   "id": "c9951848-1dfc-4598-9b03-86e044e8ccdb",
   "metadata": {},
   "outputs": [
    {
     "data": {
      "text/html": [
       "<div>\n",
       "<style scoped>\n",
       "    .dataframe tbody tr th:only-of-type {\n",
       "        vertical-align: middle;\n",
       "    }\n",
       "\n",
       "    .dataframe tbody tr th {\n",
       "        vertical-align: top;\n",
       "    }\n",
       "\n",
       "    .dataframe thead th {\n",
       "        text-align: right;\n",
       "    }\n",
       "</style>\n",
       "<table border=\"1\" class=\"dataframe\">\n",
       "  <thead>\n",
       "    <tr style=\"text-align: right;\">\n",
       "      <th></th>\n",
       "      <th>INDEX</th>\n",
       "      <th>TICKS</th>\n",
       "      <th>BROOD</th>\n",
       "      <th>HEIGHT</th>\n",
       "      <th>YEAR</th>\n",
       "      <th>LOCATION</th>\n",
       "      <th>cHEIGHT</th>\n",
       "    </tr>\n",
       "  </thead>\n",
       "  <tbody>\n",
       "    <tr>\n",
       "      <th>1</th>\n",
       "      <td>1</td>\n",
       "      <td>0</td>\n",
       "      <td>501</td>\n",
       "      <td>465</td>\n",
       "      <td>95</td>\n",
       "      <td>32</td>\n",
       "      <td>2.759305</td>\n",
       "    </tr>\n",
       "    <tr>\n",
       "      <th>2</th>\n",
       "      <td>2</td>\n",
       "      <td>0</td>\n",
       "      <td>501</td>\n",
       "      <td>465</td>\n",
       "      <td>95</td>\n",
       "      <td>32</td>\n",
       "      <td>2.759305</td>\n",
       "    </tr>\n",
       "    <tr>\n",
       "      <th>3</th>\n",
       "      <td>3</td>\n",
       "      <td>0</td>\n",
       "      <td>502</td>\n",
       "      <td>472</td>\n",
       "      <td>95</td>\n",
       "      <td>36</td>\n",
       "      <td>9.759305</td>\n",
       "    </tr>\n",
       "    <tr>\n",
       "      <th>4</th>\n",
       "      <td>4</td>\n",
       "      <td>0</td>\n",
       "      <td>503</td>\n",
       "      <td>475</td>\n",
       "      <td>95</td>\n",
       "      <td>37</td>\n",
       "      <td>12.759305</td>\n",
       "    </tr>\n",
       "    <tr>\n",
       "      <th>5</th>\n",
       "      <td>5</td>\n",
       "      <td>0</td>\n",
       "      <td>503</td>\n",
       "      <td>475</td>\n",
       "      <td>95</td>\n",
       "      <td>37</td>\n",
       "      <td>12.759305</td>\n",
       "    </tr>\n",
       "  </tbody>\n",
       "</table>\n",
       "</div>"
      ],
      "text/plain": [
       "   INDEX  TICKS  BROOD  HEIGHT  YEAR  LOCATION    cHEIGHT\n",
       "1      1      0    501     465    95        32   2.759305\n",
       "2      2      0    501     465    95        32   2.759305\n",
       "3      3      0    502     472    95        36   9.759305\n",
       "4      4      0    503     475    95        37  12.759305\n",
       "5      5      0    503     475    95        37  12.759305"
      ]
     },
     "execution_count": 157,
     "metadata": {},
     "output_type": "execute_result"
    }
   ],
   "source": [
    "df.head()"
   ]
  },
  {
   "cell_type": "markdown",
   "id": "72e0a520",
   "metadata": {
    "tags": []
   },
   "source": [
    "\n",
    "---\n",
    "\n",
    "### Logical Operators\n",
    "\n",
    "\n",
    " `&`    and \n",
    " \n",
    " `|`    or\n",
    " \n",
    " `~`  not"
   ]
  },
  {
   "cell_type": "code",
   "execution_count": 168,
   "id": "c97f3b0b-b5c4-4fa8-9bbf-e39cb18016a7",
   "metadata": {},
   "outputs": [
    {
     "data": {
      "text/plain": [
       "457.0"
      ]
     },
     "execution_count": 168,
     "metadata": {},
     "output_type": "execute_result"
    }
   ],
   "source": [
    "df.describe()['HEIGHT']['50%']"
   ]
  },
  {
   "cell_type": "code",
   "execution_count": 165,
   "id": "1e891841-7943-4657-ae53-e5d384064406",
   "metadata": {},
   "outputs": [
    {
     "data": {
      "text/plain": [
       "457.0"
      ]
     },
     "execution_count": 165,
     "metadata": {},
     "output_type": "execute_result"
    }
   ],
   "source": [
    "df.describe()['HEIGHT']['50%']"
   ]
  },
  {
   "cell_type": "code",
   "execution_count": 170,
   "id": "7866af63-9763-4dc5-901c-2f8cfd9c5b2f",
   "metadata": {},
   "outputs": [
    {
     "data": {
      "text/html": [
       "<div>\n",
       "<style scoped>\n",
       "    .dataframe tbody tr th:only-of-type {\n",
       "        vertical-align: middle;\n",
       "    }\n",
       "\n",
       "    .dataframe tbody tr th {\n",
       "        vertical-align: top;\n",
       "    }\n",
       "\n",
       "    .dataframe thead th {\n",
       "        text-align: right;\n",
       "    }\n",
       "</style>\n",
       "<table border=\"1\" class=\"dataframe\">\n",
       "  <thead>\n",
       "    <tr style=\"text-align: right;\">\n",
       "      <th></th>\n",
       "      <th>INDEX</th>\n",
       "      <th>TICKS</th>\n",
       "      <th>BROOD</th>\n",
       "      <th>HEIGHT</th>\n",
       "      <th>YEAR</th>\n",
       "      <th>LOCATION</th>\n",
       "      <th>cHEIGHT</th>\n",
       "    </tr>\n",
       "  </thead>\n",
       "  <tbody>\n",
       "    <tr>\n",
       "      <th>1</th>\n",
       "      <td>1</td>\n",
       "      <td>0</td>\n",
       "      <td>501</td>\n",
       "      <td>465</td>\n",
       "      <td>95</td>\n",
       "      <td>32</td>\n",
       "      <td>2.759305</td>\n",
       "    </tr>\n",
       "    <tr>\n",
       "      <th>2</th>\n",
       "      <td>2</td>\n",
       "      <td>0</td>\n",
       "      <td>501</td>\n",
       "      <td>465</td>\n",
       "      <td>95</td>\n",
       "      <td>32</td>\n",
       "      <td>2.759305</td>\n",
       "    </tr>\n",
       "    <tr>\n",
       "      <th>3</th>\n",
       "      <td>3</td>\n",
       "      <td>0</td>\n",
       "      <td>502</td>\n",
       "      <td>472</td>\n",
       "      <td>95</td>\n",
       "      <td>36</td>\n",
       "      <td>9.759305</td>\n",
       "    </tr>\n",
       "    <tr>\n",
       "      <th>4</th>\n",
       "      <td>4</td>\n",
       "      <td>0</td>\n",
       "      <td>503</td>\n",
       "      <td>475</td>\n",
       "      <td>95</td>\n",
       "      <td>37</td>\n",
       "      <td>12.759305</td>\n",
       "    </tr>\n",
       "    <tr>\n",
       "      <th>5</th>\n",
       "      <td>5</td>\n",
       "      <td>0</td>\n",
       "      <td>503</td>\n",
       "      <td>475</td>\n",
       "      <td>95</td>\n",
       "      <td>37</td>\n",
       "      <td>12.759305</td>\n",
       "    </tr>\n",
       "    <tr>\n",
       "      <th>6</th>\n",
       "      <td>6</td>\n",
       "      <td>3</td>\n",
       "      <td>503</td>\n",
       "      <td>475</td>\n",
       "      <td>95</td>\n",
       "      <td>37</td>\n",
       "      <td>12.759305</td>\n",
       "    </tr>\n",
       "    <tr>\n",
       "      <th>7</th>\n",
       "      <td>7</td>\n",
       "      <td>2</td>\n",
       "      <td>503</td>\n",
       "      <td>475</td>\n",
       "      <td>95</td>\n",
       "      <td>37</td>\n",
       "      <td>12.759305</td>\n",
       "    </tr>\n",
       "    <tr>\n",
       "      <th>8</th>\n",
       "      <td>8</td>\n",
       "      <td>0</td>\n",
       "      <td>504</td>\n",
       "      <td>488</td>\n",
       "      <td>95</td>\n",
       "      <td>44</td>\n",
       "      <td>25.759305</td>\n",
       "    </tr>\n",
       "    <tr>\n",
       "      <th>9</th>\n",
       "      <td>9</td>\n",
       "      <td>0</td>\n",
       "      <td>504</td>\n",
       "      <td>488</td>\n",
       "      <td>95</td>\n",
       "      <td>44</td>\n",
       "      <td>25.759305</td>\n",
       "    </tr>\n",
       "    <tr>\n",
       "      <th>10</th>\n",
       "      <td>10</td>\n",
       "      <td>2</td>\n",
       "      <td>504</td>\n",
       "      <td>488</td>\n",
       "      <td>95</td>\n",
       "      <td>44</td>\n",
       "      <td>25.759305</td>\n",
       "    </tr>\n",
       "  </tbody>\n",
       "</table>\n",
       "</div>"
      ],
      "text/plain": [
       "    INDEX  TICKS  BROOD  HEIGHT  YEAR  LOCATION    cHEIGHT\n",
       "1       1      0    501     465    95        32   2.759305\n",
       "2       2      0    501     465    95        32   2.759305\n",
       "3       3      0    502     472    95        36   9.759305\n",
       "4       4      0    503     475    95        37  12.759305\n",
       "5       5      0    503     475    95        37  12.759305\n",
       "6       6      3    503     475    95        37  12.759305\n",
       "7       7      2    503     475    95        37  12.759305\n",
       "8       8      0    504     488    95        44  25.759305\n",
       "9       9      0    504     488    95        44  25.759305\n",
       "10     10      2    504     488    95        44  25.759305"
      ]
     },
     "execution_count": 170,
     "metadata": {},
     "output_type": "execute_result"
    }
   ],
   "source": [
    "# df,\n",
    "# where brood is less than 505 ==> boolean Series\n",
    "# where height is greater than 457 ==> boolean Series\n",
    "# use & as an and operator to compare row by row\n",
    "# the rendering of each boolean series\n",
    "# ==> TRUE and TRUE ==> TRUE\n",
    "df[\n",
    "    (df['BROOD'] < 505) \n",
    "    & \n",
    "    (df.HEIGHT > 457)\n",
    "]"
   ]
  },
  {
   "cell_type": "code",
   "execution_count": null,
   "id": "b87cf6b7",
   "metadata": {},
   "outputs": [],
   "source": []
  },
  {
   "cell_type": "markdown",
   "id": "80ebe367",
   "metadata": {},
   "source": [
    "### Find students who are eligible for:\n",
    "\n",
    "- High-performer award (At least 80 in Math and English and Reading)\n",
    "- Subject award (at least 90 in a subject)\n",
    "- Exemplary award (at least 90 in all subjects)"
   ]
  },
  {
   "cell_type": "code",
   "execution_count": null,
   "id": "ad9dc3d3",
   "metadata": {},
   "outputs": [],
   "source": []
  },
  {
   "cell_type": "code",
   "execution_count": null,
   "id": "32f23618",
   "metadata": {},
   "outputs": [],
   "source": []
  },
  {
   "cell_type": "code",
   "execution_count": null,
   "id": "974e97be",
   "metadata": {},
   "outputs": [],
   "source": []
  }
 ],
 "metadata": {
  "kernelspec": {
   "display_name": "Python 3 (ipykernel)",
   "language": "python",
   "name": "python3"
  },
  "language_info": {
   "codemirror_mode": {
    "name": "ipython",
    "version": 3
   },
   "file_extension": ".py",
   "mimetype": "text/x-python",
   "name": "python",
   "nbconvert_exporter": "python",
   "pygments_lexer": "ipython3",
   "version": "3.11.2"
  }
 },
 "nbformat": 4,
 "nbformat_minor": 5
}
