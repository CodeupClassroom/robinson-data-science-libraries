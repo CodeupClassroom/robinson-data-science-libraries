{
 "cells": [
  {
   "cell_type": "code",
   "execution_count": 2,
   "id": "df83a951-55d4-448a-8c59-92fe1530aae6",
   "metadata": {},
   "outputs": [],
   "source": [
    "import numpy as np"
   ]
  },
  {
   "cell_type": "code",
   "execution_count": 3,
   "id": "3544695a-1824-4103-96d2-9043fcabef4c",
   "metadata": {},
   "outputs": [],
   "source": [
    "a = np.array([4, 10, 12, 23, -2, -1, 0, 0, 0, -6, 3, -7])"
   ]
  },
  {
   "cell_type": "markdown",
   "id": "694393a4-b8b2-4eb5-8482-48bb1386b885",
   "metadata": {},
   "source": [
    "    How many negative numbers are there?"
   ]
  },
  {
   "cell_type": "code",
   "execution_count": 5,
   "id": "c3e26cda-28b2-4a59-a07a-7da8760450c0",
   "metadata": {},
   "outputs": [
    {
     "data": {
      "text/plain": [
       "4"
      ]
     },
     "execution_count": 5,
     "metadata": {},
     "output_type": "execute_result"
    }
   ],
   "source": [
    "(a < 0).sum()"
   ]
  },
  {
   "cell_type": "code",
   "execution_count": 6,
   "id": "266d2764-8480-427d-81b5-2c9114cb0f10",
   "metadata": {},
   "outputs": [
    {
     "data": {
      "text/plain": [
       "4"
      ]
     },
     "execution_count": 6,
     "metadata": {},
     "output_type": "execute_result"
    }
   ],
   "source": [
    "len(a[a < 0])"
   ]
  },
  {
   "cell_type": "markdown",
   "id": "10069e87-9241-47ce-843d-924fa5b31a09",
   "metadata": {},
   "source": [
    "    How many positive numbers are there?"
   ]
  },
  {
   "cell_type": "code",
   "execution_count": 7,
   "id": "eb5f00bb-535f-4c27-9738-1b4b9e3534f6",
   "metadata": {},
   "outputs": [
    {
     "data": {
      "text/plain": [
       "5"
      ]
     },
     "execution_count": 7,
     "metadata": {},
     "output_type": "execute_result"
    }
   ],
   "source": [
    "(a > 0).sum()"
   ]
  },
  {
   "cell_type": "code",
   "execution_count": 8,
   "id": "c391d36b-3c14-4d9e-af1b-9d678eaf5864",
   "metadata": {},
   "outputs": [
    {
     "data": {
      "text/plain": [
       "(12,)"
      ]
     },
     "execution_count": 8,
     "metadata": {},
     "output_type": "execute_result"
    }
   ],
   "source": [
    "a.shape"
   ]
  },
  {
   "cell_type": "code",
   "execution_count": 9,
   "id": "5059dfb0-f3b5-4cc5-b2fd-ed3b94c86d91",
   "metadata": {},
   "outputs": [
    {
     "data": {
      "text/plain": [
       "array([ 4, 10, 12, 23, -2, -1,  0,  0,  0, -6,  3, -7])"
      ]
     },
     "execution_count": 9,
     "metadata": {},
     "output_type": "execute_result"
    }
   ],
   "source": [
    "a"
   ]
  },
  {
   "cell_type": "markdown",
   "id": "a2516870-bda5-4fb4-afd9-cc2f18ed909b",
   "metadata": {},
   "source": [
    "    How many even positive numbers are there?"
   ]
  },
  {
   "cell_type": "code",
   "execution_count": 12,
   "id": "23047b41-6172-4910-b693-3843ee3a14ce",
   "metadata": {},
   "outputs": [
    {
     "data": {
      "text/plain": [
       "3"
      ]
     },
     "execution_count": 12,
     "metadata": {},
     "output_type": "execute_result"
    }
   ],
   "source": [
    "# two conditions:\n",
    "# even numbers: a, where a % 2 == 0\n",
    "# positive numbers: a, where a > 0\n",
    "# cond 1: a[a%2==0], condition2: a[a>0]\n",
    "# link these two things: \n",
    "# i need to use the special and: &\n",
    "len(a[(a > 0) & (a % 2 == 0)])"
   ]
  },
  {
   "cell_type": "code",
   "execution_count": 14,
   "id": "7c3d079a-267a-4c26-aac1-9b3447046897",
   "metadata": {},
   "outputs": [
    {
     "data": {
      "text/plain": [
       "3"
      ]
     },
     "execution_count": 14,
     "metadata": {},
     "output_type": "execute_result"
    }
   ],
   "source": [
    "# i can still depend on boolean values rendering\n",
    "# as 1's and 0's,\n",
    "# i just need to wrap the whole thing in parenthesis\n",
    "# to call a sum on the numpy array of bools\n",
    "((a > 0) & (a % 2 == 0)).sum()"
   ]
  },
  {
   "cell_type": "markdown",
   "id": "68a896bc-8e34-4c1c-b108-f33c6bf4b9cb",
   "metadata": {},
   "source": [
    "    If you were to add 3 to each data point, how many positive numbers would there be?"
   ]
  },
  {
   "cell_type": "code",
   "execution_count": 15,
   "id": "d5c93df4-9aff-428c-8811-d4bec3c0a9a5",
   "metadata": {},
   "outputs": [
    {
     "data": {
      "text/plain": [
       "array([ 7, 13, 15, 26,  1,  2,  3,  3,  3, -3,  6, -4])"
      ]
     },
     "execution_count": 15,
     "metadata": {},
     "output_type": "execute_result"
    }
   ],
   "source": [
    "# adding 3 to a:\n",
    "a + 3"
   ]
  },
  {
   "cell_type": "code",
   "execution_count": 17,
   "id": "a0f9ae51-a0dd-4614-9127-c7fca52c8fb1",
   "metadata": {},
   "outputs": [
    {
     "data": {
      "text/plain": [
       "10"
      ]
     },
     "execution_count": 17,
     "metadata": {},
     "output_type": "execute_result"
    }
   ],
   "source": [
    "((a + 3) > 0).sum()"
   ]
  },
  {
   "cell_type": "markdown",
   "id": "27a54a47-3390-4cad-acba-eee1dccb2100",
   "metadata": {},
   "source": [
    "    If you squared each number, what would the new mean and standard deviation be?"
   ]
  },
  {
   "cell_type": "code",
   "execution_count": 20,
   "id": "da108113-eecb-4714-a092-0b97c9f67291",
   "metadata": {},
   "outputs": [
    {
     "data": {
      "text/plain": [
       "74.0"
      ]
     },
     "execution_count": 20,
     "metadata": {},
     "output_type": "execute_result"
    }
   ],
   "source": [
    "# getting mean: np.array.mean(), std: np.array.std()\n",
    "(a ** 2).mean()"
   ]
  },
  {
   "cell_type": "code",
   "execution_count": 21,
   "id": "d71dca78-a90f-45db-812c-fbd47ebd1679",
   "metadata": {},
   "outputs": [
    {
     "data": {
      "text/plain": [
       "144.0243035046516"
      ]
     },
     "execution_count": 21,
     "metadata": {},
     "output_type": "execute_result"
    }
   ],
   "source": [
    "(a ** 2).std()"
   ]
  },
  {
   "cell_type": "markdown",
   "id": "80db3147-d62d-4bad-af47-ebf98d518553",
   "metadata": {},
   "source": [
    "A common statistical operation on a dataset is centering. This means to adjust the data such that the mean of the data is 0. This is done by subtracting the mean from each data point. Center the data set. See this link for more on centering."
   ]
  },
  {
   "cell_type": "code",
   "execution_count": 22,
   "id": "b0ed01b4-aa44-41c5-8644-07a438bdb060",
   "metadata": {},
   "outputs": [
    {
     "data": {
      "text/plain": [
       "3.0"
      ]
     },
     "execution_count": 22,
     "metadata": {},
     "output_type": "execute_result"
    }
   ],
   "source": [
    "# mean: a.mean()\n",
    "a.mean()"
   ]
  },
  {
   "cell_type": "code",
   "execution_count": 23,
   "id": "226dfe06-d6b4-415c-b356-6db01316aa59",
   "metadata": {},
   "outputs": [
    {
     "data": {
      "text/plain": [
       "array([  1.,   7.,   9.,  20.,  -5.,  -4.,  -3.,  -3.,  -3.,  -9.,   0.,\n",
       "       -10.])"
      ]
     },
     "execution_count": 23,
     "metadata": {},
     "output_type": "execute_result"
    }
   ],
   "source": [
    "# centered:\n",
    "a - a.mean()"
   ]
  },
  {
   "cell_type": "markdown",
   "id": "43d2444e-b393-4ee4-b326-46280050bb8e",
   "metadata": {},
   "source": [
    "    Calculate the z-score for each data point. Recall that the z-score is given by:\n",
    "    Z=(x−μ)/σ"
   ]
  },
  {
   "cell_type": "code",
   "execution_count": 24,
   "id": "d44bea00-184b-433c-a233-a1fda8b21d33",
   "metadata": {},
   "outputs": [
    {
     "data": {
      "text/plain": [
       "array([ 0.12403473,  0.86824314,  1.11631261,  2.48069469, -0.62017367,\n",
       "       -0.49613894, -0.3721042 , -0.3721042 , -0.3721042 , -1.11631261,\n",
       "        0.        , -1.24034735])"
      ]
     },
     "execution_count": 24,
     "metadata": {},
     "output_type": "execute_result"
    }
   ],
   "source": [
    "# data point - mean of data points / std of data points\n",
    "(a - a.mean()) / a.std()"
   ]
  },
  {
   "cell_type": "markdown",
   "id": "2bf4b909-18e6-4bef-8481-621d0b710718",
   "metadata": {},
   "source": [
    "## Setup 1"
   ]
  },
  {
   "cell_type": "code",
   "execution_count": 25,
   "id": "ed7c6948-9ec5-4494-a90d-5f271ac3134b",
   "metadata": {},
   "outputs": [],
   "source": [
    "a = [1, 2, 3, 4, 5, 6, 7, 8, 9, 10]"
   ]
  },
  {
   "cell_type": "markdown",
   "id": "adc5a214-c9bb-4ba3-8a7e-4f09a3d6c3c9",
   "metadata": {},
   "source": [
    "# Use python's built in functionality/operators to determine the following:"
   ]
  },
  {
   "cell_type": "markdown",
   "id": "79514b45-d4f5-4109-966e-4062eff45465",
   "metadata": {},
   "source": [
    "Exercise 1 - Make a variable called sum_of_a to hold the sum of all the numbers in above list"
   ]
  },
  {
   "cell_type": "code",
   "execution_count": 26,
   "id": "bd3891b9-2c39-4a2c-b897-56766dfd9ec5",
   "metadata": {},
   "outputs": [
    {
     "data": {
      "text/plain": [
       "55"
      ]
     },
     "execution_count": 26,
     "metadata": {},
     "output_type": "execute_result"
    }
   ],
   "source": [
    "sum(a)"
   ]
  },
  {
   "cell_type": "code",
   "execution_count": 27,
   "id": "10e86343-be76-41f3-a5a7-582ff7207500",
   "metadata": {},
   "outputs": [
    {
     "data": {
      "text/plain": [
       "55"
      ]
     },
     "execution_count": 27,
     "metadata": {},
     "output_type": "execute_result"
    }
   ],
   "source": [
    "sum_of_a = 0\n",
    "for i in a:\n",
    "    sum_of_a += i\n",
    "    \n",
    "sum_of_a"
   ]
  },
  {
   "cell_type": "markdown",
   "id": "c3faf73c-2cdb-4e98-85ff-93b7fd96baec",
   "metadata": {},
   "source": [
    "Exercise 2 - Make a variable named min_of_a to hold the minimum of all the numbers in the above list"
   ]
  },
  {
   "cell_type": "code",
   "execution_count": 28,
   "id": "f4110143-9e11-4d7c-bc98-8ef460c330db",
   "metadata": {},
   "outputs": [
    {
     "data": {
      "text/plain": [
       "1"
      ]
     },
     "execution_count": 28,
     "metadata": {},
     "output_type": "execute_result"
    }
   ],
   "source": [
    "min(a)"
   ]
  },
  {
   "cell_type": "code",
   "execution_count": 29,
   "id": "c10f351b-5f69-4e58-a0d1-e6ce70712f32",
   "metadata": {},
   "outputs": [
    {
     "data": {
      "text/plain": [
       "1"
      ]
     },
     "execution_count": 29,
     "metadata": {},
     "output_type": "execute_result"
    }
   ],
   "source": [
    "for i, elm in enumerate(a):\n",
    "    if i == 0:\n",
    "        min_value = elm\n",
    "    else:\n",
    "        if elm < min_value:\n",
    "            min_value = elm\n",
    "\n",
    "min_value"
   ]
  },
  {
   "cell_type": "markdown",
   "id": "a0474727-333e-498f-8e6a-8aebf89038b0",
   "metadata": {},
   "source": [
    "Exercise 3 - Make a variable named max_of_a to hold the max number of all the numbers in the above list"
   ]
  },
  {
   "cell_type": "code",
   "execution_count": 31,
   "id": "cdd1c20e-ce00-46f7-9cd6-0d3944a33904",
   "metadata": {},
   "outputs": [
    {
     "data": {
      "text/plain": [
       "10"
      ]
     },
     "execution_count": 31,
     "metadata": {},
     "output_type": "execute_result"
    }
   ],
   "source": [
    "for i, elm in enumerate(a):\n",
    "    if i == 0:\n",
    "        max_value = elm\n",
    "    else:\n",
    "        if elm > max_value:\n",
    "            max_value = elm\n",
    "\n",
    "max_value"
   ]
  },
  {
   "cell_type": "code",
   "execution_count": 32,
   "id": "48360e89-404a-4ac2-b1f1-5252da97ac2a",
   "metadata": {},
   "outputs": [
    {
     "data": {
      "text/plain": [
       "True"
      ]
     },
     "execution_count": 32,
     "metadata": {},
     "output_type": "execute_result"
    }
   ],
   "source": [
    "max_value == max(a)"
   ]
  },
  {
   "cell_type": "markdown",
   "id": "8134360a-d39f-48ab-8af3-55a9c171024b",
   "metadata": {},
   "source": [
    "Exercise 4 - Make a variable named mean_of_a to hold the average of all the numbers in the above list"
   ]
  },
  {
   "cell_type": "code",
   "execution_count": 36,
   "id": "5d24545c-db98-458c-80b4-73d53f84ee7c",
   "metadata": {},
   "outputs": [],
   "source": [
    "mean_of_a = sum(a) / len(a)"
   ]
  },
  {
   "cell_type": "code",
   "execution_count": 37,
   "id": "3e71f867-7d5a-4579-b0e3-423716ee151f",
   "metadata": {},
   "outputs": [
    {
     "data": {
      "text/plain": [
       "5.5"
      ]
     },
     "execution_count": 37,
     "metadata": {},
     "output_type": "execute_result"
    }
   ],
   "source": [
    "mean_of_a"
   ]
  },
  {
   "cell_type": "markdown",
   "id": "aa599e11-b5bf-4707-b0e6-01b338574a15",
   "metadata": {},
   "source": [
    "Exercise 5 - Make a variable named product_of_a to hold the product of multiplying all the numbers in the above list together"
   ]
  },
  {
   "cell_type": "code",
   "execution_count": 39,
   "id": "1028498a-0ec8-4e55-b82b-dd1c9773ae81",
   "metadata": {},
   "outputs": [
    {
     "data": {
      "text/plain": [
       "3628800"
      ]
     },
     "execution_count": 39,
     "metadata": {},
     "output_type": "execute_result"
    }
   ],
   "source": [
    "# initialize at 1:\n",
    "prod_of_a = 1\n",
    "for i in a:\n",
    "    # prod_of_a = prod_of_a * i\n",
    "    prod_of_a *= i\n",
    "prod_of_a"
   ]
  },
  {
   "cell_type": "markdown",
   "id": "6d867fa0-a27c-484d-bb4d-605ba91e6378",
   "metadata": {},
   "source": [
    "Exercise 6 - Make a variable named squares_of_a. It should hold each number in a squared like [1, 4, 9, 16, 25...]"
   ]
  },
  {
   "cell_type": "code",
   "execution_count": 40,
   "id": "5a85c1db-713c-446a-aab0-bb5508644825",
   "metadata": {},
   "outputs": [
    {
     "data": {
      "text/plain": [
       "[1, 4, 9, 16, 25, 36, 49, 64, 81, 100]"
      ]
     },
     "execution_count": 40,
     "metadata": {},
     "output_type": "execute_result"
    }
   ],
   "source": [
    "squares_of_a = []\n",
    "# for loops:\n",
    "# for element in iterable:\n",
    "#     do this action\n",
    "for i in a:\n",
    "    squares_of_a.append(i**2)\n",
    "squares_of_a"
   ]
  },
  {
   "cell_type": "code",
   "execution_count": 41,
   "id": "941911da-220c-4363-87b0-80fe27f1fed4",
   "metadata": {},
   "outputs": [
    {
     "data": {
      "text/plain": [
       "[1, 4, 9, 16, 25, 36, 49, 64, 81, 100]"
      ]
     },
     "execution_count": 41,
     "metadata": {},
     "output_type": "execute_result"
    }
   ],
   "source": [
    "# with a list comprehension:\n",
    "# do the action on the element for every element in this iterable\n",
    "[i**2 for i in a]"
   ]
  },
  {
   "cell_type": "markdown",
   "id": "f4a000a1-72a3-4721-8221-d6e020e8c9e5",
   "metadata": {},
   "source": [
    "Exercise 7 - Make a variable named odds_in_a. It should hold only the odd numbers"
   ]
  },
  {
   "cell_type": "code",
   "execution_count": 43,
   "id": "27cb6357-28a0-41c7-b59d-856a13381918",
   "metadata": {},
   "outputs": [],
   "source": [
    "odds_in_a = []\n",
    "for num in a:\n",
    "    if num % 2 == 1:\n",
    "        odds_in_a.append(num)"
   ]
  },
  {
   "cell_type": "code",
   "execution_count": 44,
   "id": "926985ac-7056-4ad2-8328-a2847e07ba85",
   "metadata": {},
   "outputs": [
    {
     "data": {
      "text/plain": [
       "[1, 3, 5, 7, 9]"
      ]
     },
     "execution_count": 44,
     "metadata": {},
     "output_type": "execute_result"
    }
   ],
   "source": [
    "odds_in_a"
   ]
  },
  {
   "cell_type": "code",
   "execution_count": 46,
   "id": "1f363015-5201-492b-8c68-7a37359196d2",
   "metadata": {},
   "outputs": [
    {
     "data": {
      "text/plain": [
       "[1, 3, 5, 7, 9]"
      ]
     },
     "execution_count": 46,
     "metadata": {},
     "output_type": "execute_result"
    }
   ],
   "source": [
    "[number for number in a if number % 2 == 1]"
   ]
  },
  {
   "cell_type": "markdown",
   "id": "31d5e692-599e-4097-8770-2f707af9542b",
   "metadata": {},
   "source": [
    "Exercise 8 - Make a variable named evens_in_a. It should hold only the evens."
   ]
  },
  {
   "cell_type": "code",
   "execution_count": 47,
   "id": "957e9349-5fec-4f2c-b925-0c1ce27f0a9e",
   "metadata": {},
   "outputs": [
    {
     "data": {
      "text/plain": [
       "[2, 4, 6, 8, 10]"
      ]
     },
     "execution_count": 47,
     "metadata": {},
     "output_type": "execute_result"
    }
   ],
   "source": [
    "[number for number in a if number % 2 == 0]"
   ]
  },
  {
   "cell_type": "markdown",
   "id": "218abb33-ad4f-48d4-a24f-a14bf9e9e7fb",
   "metadata": {},
   "source": [
    "What about life in two dimensions? A list of lists is matrix, a table, a spreadsheet, a chessboard..."
   ]
  },
  {
   "cell_type": "markdown",
   "id": "219b6a57-48f4-44a9-b40e-3ea6f23c5c13",
   "metadata": {},
   "source": [
    "Setup 2: Consider what it would take to find the sum, min, max, average, sum, product, and list of squares for this list of two lists."
   ]
  },
  {
   "cell_type": "code",
   "execution_count": 48,
   "id": "a22b0e53-4a3b-4cd5-8d9e-f0aaf7067917",
   "metadata": {},
   "outputs": [],
   "source": [
    "b = [\n",
    "    [3, 4, 5],\n",
    "    [6, 7, 8]\n",
    "]"
   ]
  },
  {
   "cell_type": "code",
   "execution_count": 49,
   "id": "1a48e5a3-a4f5-4107-8005-82059f4d618b",
   "metadata": {},
   "outputs": [
    {
     "data": {
      "text/plain": [
       "33"
      ]
     },
     "execution_count": 49,
     "metadata": {},
     "output_type": "execute_result"
    }
   ],
   "source": [
    "overall_sum = 0\n",
    "for i in b:\n",
    "    overall_sum += sum(i)\n",
    "overall_sum"
   ]
  },
  {
   "cell_type": "markdown",
   "id": "4f471cf4-aeb9-4e12-9051-6fb7310286fd",
   "metadata": {},
   "source": [
    "Exercise 1 - refactor the following to use numpy. Use sum_of_b as the variable. **Hint, you'll first need to make sure that the \"b\" variable is a numpy array**\n",
    "sum_of_b = 0\n",
    "for row in b:\n",
    "    sum_of_b += sum(row)"
   ]
  },
  {
   "cell_type": "code",
   "execution_count": 50,
   "id": "32ab1134-3863-430a-8e31-b46e63a524b1",
   "metadata": {},
   "outputs": [],
   "source": [
    "# convert b to a numpy array:\n",
    "b = np.array(b)"
   ]
  },
  {
   "cell_type": "code",
   "execution_count": 51,
   "id": "7dd9b085-9d7a-4bc5-b49d-6bd863f70669",
   "metadata": {},
   "outputs": [
    {
     "data": {
      "text/plain": [
       "array([[3, 4, 5],\n",
       "       [6, 7, 8]])"
      ]
     },
     "execution_count": 51,
     "metadata": {},
     "output_type": "execute_result"
    }
   ],
   "source": [
    "b"
   ]
  },
  {
   "cell_type": "code",
   "execution_count": 52,
   "id": "2a738c11-276b-4d5b-bb9c-20be7690c9d1",
   "metadata": {},
   "outputs": [],
   "source": [
    "sum_of_b = b.sum()"
   ]
  },
  {
   "cell_type": "code",
   "execution_count": 53,
   "id": "fda59f5e-653c-4c87-9dcd-f062862208fc",
   "metadata": {},
   "outputs": [
    {
     "data": {
      "text/plain": [
       "33"
      ]
     },
     "execution_count": 53,
     "metadata": {},
     "output_type": "execute_result"
    }
   ],
   "source": [
    "sum_of_b"
   ]
  },
  {
   "cell_type": "markdown",
   "id": "69d2317b-5bb1-4995-ab9b-b151e4e2ea93",
   "metadata": {},
   "source": [
    "Exercise 2 - refactor the following to use numpy. \n",
    "\n",
    "min_of_b = min(b[0]) if min(b[0]) <= min(b[1]) else min(b[1])  "
   ]
  },
  {
   "cell_type": "code",
   "execution_count": 54,
   "id": "bb2d5073-bec7-4e2d-8441-14634eb51c66",
   "metadata": {},
   "outputs": [
    {
     "data": {
      "text/plain": [
       "3"
      ]
     },
     "execution_count": 54,
     "metadata": {},
     "output_type": "execute_result"
    }
   ],
   "source": [
    "b.min()"
   ]
  },
  {
   "cell_type": "markdown",
   "id": "3ffc49f0-3a58-4888-8d89-c5f7424d62d9",
   "metadata": {},
   "source": [
    "Exercise 3 - refactor the following maximum calculation to find the answer with numpy.\n",
    "max_of_b = max(b[0]) if max(b[0]) >= max(b[1]) else max(b[1])"
   ]
  },
  {
   "cell_type": "code",
   "execution_count": 55,
   "id": "588a6e1a-36e1-4aff-bc6b-8cc84e95d4a2",
   "metadata": {},
   "outputs": [
    {
     "data": {
      "text/plain": [
       "8"
      ]
     },
     "execution_count": 55,
     "metadata": {},
     "output_type": "execute_result"
    }
   ],
   "source": [
    "max_of_b = b.max()\n",
    "max_of_b"
   ]
  },
  {
   "cell_type": "markdown",
   "id": "2d37c7a2-614c-4cd1-86b1-37d89263cdb7",
   "metadata": {},
   "source": [
    "# Exercise 4 - refactor the following using numpy to find the mean of b\n",
    "mean_of_b = (sum(b[0]) + sum(b[1])) / (len(b[0]) + len(b[1]))"
   ]
  },
  {
   "cell_type": "code",
   "execution_count": 57,
   "id": "8b094c16-8ef8-4b3d-8fd3-3346ef1a040c",
   "metadata": {},
   "outputs": [
    {
     "data": {
      "text/plain": [
       "5.5"
      ]
     },
     "execution_count": 57,
     "metadata": {},
     "output_type": "execute_result"
    }
   ],
   "source": [
    "mean_of_b = b.mean()\n",
    "mean_of_b"
   ]
  },
  {
   "cell_type": "code",
   "execution_count": 58,
   "id": "1d7abbd7-e066-49bb-adbd-529562e8ad59",
   "metadata": {},
   "outputs": [],
   "source": [
    "# to get the docstring inside a notebook:\n",
    "# start typing the thing\n",
    "# once you're at the opening paren:\n",
    "# hit shift+tab\n",
    "# i.e.: np.array(*shift+tab*"
   ]
  },
  {
   "cell_type": "markdown",
   "id": "ca39bb43-8cb8-44b2-b8c8-66e5d3953fe1",
   "metadata": {
    "jp-MarkdownHeadingCollapsed": true,
    "tags": []
   },
   "source": [
    "Exercise 5 - refactor the following to use numpy for calculating the product of all numbers multiplied together."
   ]
  },
  {
   "cell_type": "markdown",
   "id": "fece20f4-6d2c-4794-8c06-f1cae9ed0be4",
   "metadata": {
    "tags": []
   },
   "source": [
    "#### easy way: doing it with an array"
   ]
  },
  {
   "cell_type": "markdown",
   "id": "a0a25775-5a01-4a4b-a878-1bb7b5b1b934",
   "metadata": {},
   "source": [
    "product_of_b = 1\n",
    "for row in b:\n",
    "    for number in row:\n",
    "        product_of_b *= number"
   ]
  },
  {
   "cell_type": "code",
   "execution_count": 60,
   "id": "ce1f7260-a408-49cf-8e04-66ba908d47ae",
   "metadata": {},
   "outputs": [
    {
     "data": {
      "text/plain": [
       "20160"
      ]
     },
     "execution_count": 60,
     "metadata": {},
     "output_type": "execute_result"
    }
   ],
   "source": [
    "product_of_b = np.prod(b)\n",
    "product_of_b"
   ]
  },
  {
   "cell_type": "markdown",
   "id": "6e60890c-6bbc-4a64-9ac5-d1a2432ed03c",
   "metadata": {
    "tags": []
   },
   "source": [
    "Exercise 6 - refactor the following to use numpy to find the list of squares \n",
    "squares_of_b = []\n",
    "for row in b:\n",
    "    for number in row:\n",
    "        squares_of_b.append(number**2)"
   ]
  },
  {
   "cell_type": "code",
   "execution_count": 61,
   "id": "df330489-ff9c-4acd-a3e0-10a0a92c937f",
   "metadata": {},
   "outputs": [
    {
     "data": {
      "text/plain": [
       "array([[ 9, 16, 25],\n",
       "       [36, 49, 64]])"
      ]
     },
     "execution_count": 61,
     "metadata": {},
     "output_type": "execute_result"
    }
   ],
   "source": [
    "# [i**2 for i in b]\n",
    "#yay vectorization!\n",
    "squares_of_b = b ** 2\n",
    "squares_of_b"
   ]
  },
  {
   "cell_type": "code",
   "execution_count": 62,
   "id": "f8146096-63de-4e62-b614-a3ec9cbd1ee9",
   "metadata": {},
   "outputs": [
    {
     "data": {
      "text/plain": [
       "33"
      ]
     },
     "execution_count": 62,
     "metadata": {},
     "output_type": "execute_result"
    }
   ],
   "source": [
    "np.sum(b)"
   ]
  },
  {
   "cell_type": "code",
   "execution_count": 63,
   "id": "c8c0dfdd-95d7-4079-919a-cf05ff4bfe36",
   "metadata": {},
   "outputs": [
    {
     "data": {
      "text/plain": [
       "33"
      ]
     },
     "execution_count": 63,
     "metadata": {},
     "output_type": "execute_result"
    }
   ],
   "source": [
    "b.sum()"
   ]
  },
  {
   "cell_type": "code",
   "execution_count": 65,
   "id": "50ab922a-82bc-435a-b892-e630d3020855",
   "metadata": {},
   "outputs": [
    {
     "data": {
      "text/plain": [
       "33"
      ]
     },
     "execution_count": 65,
     "metadata": {},
     "output_type": "execute_result"
    }
   ],
   "source": [
    "sum(sum(b))"
   ]
  },
  {
   "cell_type": "markdown",
   "id": "5be58146-26bc-495e-b375-c6014481504e",
   "metadata": {
    "jp-MarkdownHeadingCollapsed": true,
    "tags": []
   },
   "source": [
    "Exercise 7 - refactor using numpy to determine the odds_in_b\n",
    "odds_in_b = []\n",
    "for row in b:\n",
    "    for number in row:\n",
    "        if(number % 2 != 0):\n",
    "            odds_in_b.append(number)"
   ]
  },
  {
   "cell_type": "code",
   "execution_count": 68,
   "id": "e3d5ff16-ecd3-44dd-8bb2-b6df2a76a521",
   "metadata": {},
   "outputs": [
    {
     "data": {
      "text/plain": [
       "array([3, 5, 7])"
      ]
     },
     "execution_count": 68,
     "metadata": {},
     "output_type": "execute_result"
    }
   ],
   "source": [
    "# checking if the elements are odd:\n",
    "#  % 2 == 1\n",
    "odds_in_b = b[b % 2 == 1]\n",
    "odds_in_b"
   ]
  },
  {
   "cell_type": "markdown",
   "id": "4beb3d13-725d-4e1c-981b-edf26519817f",
   "metadata": {
    "jp-MarkdownHeadingCollapsed": true,
    "tags": []
   },
   "source": [
    "Exercise 8 - refactor the following to use numpy to filter only the even numbers\n",
    "evens_in_b = []\n",
    "for row in b:\n",
    "    for number in row:\n",
    "        if(number % 2 == 0):\n",
    "            evens_in_b.append(number)"
   ]
  },
  {
   "cell_type": "code",
   "execution_count": 69,
   "id": "c2b3bbc9-1e46-4f98-b863-faeeedc8dd11",
   "metadata": {},
   "outputs": [
    {
     "data": {
      "text/plain": [
       "array([4, 6, 8])"
      ]
     },
     "execution_count": 69,
     "metadata": {},
     "output_type": "execute_result"
    }
   ],
   "source": [
    "evens_in_b = b[b % 2 == 0] #b, where b mod 2 is 0\n",
    "evens_in_b"
   ]
  },
  {
   "cell_type": "markdown",
   "id": "975214f7-de67-490e-9874-3f492ae5243c",
   "metadata": {
    "jp-MarkdownHeadingCollapsed": true,
    "tags": []
   },
   "source": [
    "Exercise 9 - print out the shape of the array b."
   ]
  },
  {
   "cell_type": "code",
   "execution_count": 70,
   "id": "c7503dea-0d5a-467c-80a3-08f543eacd1b",
   "metadata": {},
   "outputs": [
    {
     "data": {
      "text/plain": [
       "(2, 3)"
      ]
     },
     "execution_count": 70,
     "metadata": {},
     "output_type": "execute_result"
    }
   ],
   "source": [
    "b.shape"
   ]
  },
  {
   "cell_type": "markdown",
   "id": "935feaa3-4dbe-4c1f-be27-da6ad25eaeb5",
   "metadata": {
    "jp-MarkdownHeadingCollapsed": true,
    "tags": []
   },
   "source": [
    "Exercise 10 - transpose the array b."
   ]
  },
  {
   "cell_type": "code",
   "execution_count": 72,
   "id": "4769c44c-3c75-4d94-b20d-13150a1eb0ae",
   "metadata": {},
   "outputs": [
    {
     "data": {
      "text/plain": [
       "array([[3, 4, 5],\n",
       "       [6, 7, 8]])"
      ]
     },
     "execution_count": 72,
     "metadata": {},
     "output_type": "execute_result"
    }
   ],
   "source": [
    "b"
   ]
  },
  {
   "cell_type": "code",
   "execution_count": 71,
   "id": "4a5ccb39-4d40-4019-a44d-b5d4ffdc3f0e",
   "metadata": {},
   "outputs": [
    {
     "data": {
      "text/plain": [
       "array([[3, 6],\n",
       "       [4, 7],\n",
       "       [5, 8]])"
      ]
     },
     "execution_count": 71,
     "metadata": {},
     "output_type": "execute_result"
    }
   ],
   "source": [
    "np.transpose(b)"
   ]
  },
  {
   "cell_type": "code",
   "execution_count": 73,
   "id": "f15fccc4-18be-42a0-820a-3ffbe44803c3",
   "metadata": {},
   "outputs": [
    {
     "data": {
      "text/plain": [
       "array([[3, 6],\n",
       "       [4, 7],\n",
       "       [5, 8]])"
      ]
     },
     "execution_count": 73,
     "metadata": {},
     "output_type": "execute_result"
    }
   ],
   "source": [
    "b.T"
   ]
  },
  {
   "cell_type": "markdown",
   "id": "8a711163-0ed8-4f9d-8299-3abe14ad92a9",
   "metadata": {
    "jp-MarkdownHeadingCollapsed": true,
    "tags": []
   },
   "source": [
    "Exercise 11 - reshape the array b to be a single list of 6 numbers. (1 x 6)"
   ]
  },
  {
   "cell_type": "code",
   "execution_count": 76,
   "id": "14f6efdd-abb9-4404-b093-0fdb5b4bf588",
   "metadata": {},
   "outputs": [
    {
     "data": {
      "text/plain": [
       "array([3, 4, 5, 6, 7, 8])"
      ]
     },
     "execution_count": 76,
     "metadata": {},
     "output_type": "execute_result"
    }
   ],
   "source": [
    "np.reshape(b, (6,))"
   ]
  },
  {
   "cell_type": "code",
   "execution_count": 77,
   "id": "d881d29f-7913-4bac-96e0-798090d81eab",
   "metadata": {},
   "outputs": [
    {
     "data": {
      "text/plain": [
       "[[3, 4, 5], [6, 7, 8]]"
      ]
     },
     "execution_count": 77,
     "metadata": {},
     "output_type": "execute_result"
    }
   ],
   "source": [
    "b.tolist()"
   ]
  },
  {
   "cell_type": "code",
   "execution_count": 78,
   "id": "d361900b-f85e-4025-a348-916a0e9267c6",
   "metadata": {},
   "outputs": [
    {
     "data": {
      "text/plain": [
       "array([3, 4, 5, 6, 7, 8])"
      ]
     },
     "execution_count": 78,
     "metadata": {},
     "output_type": "execute_result"
    }
   ],
   "source": [
    "b.flatten()"
   ]
  },
  {
   "cell_type": "markdown",
   "id": "f4380fdc-6467-461b-ae53-cf418c13037a",
   "metadata": {
    "tags": []
   },
   "source": [
    "Exercise 12 - reshape the array b to be a list of 6 lists, each containing only 1 number (6 x 1)"
   ]
  },
  {
   "cell_type": "code",
   "execution_count": 83,
   "id": "4d11a3ad-8047-45c8-bbb3-752c4d453ccd",
   "metadata": {},
   "outputs": [
    {
     "data": {
      "text/plain": [
       "[[3], [4], [5], [6], [7], [8]]"
      ]
     },
     "execution_count": 83,
     "metadata": {},
     "output_type": "execute_result"
    }
   ],
   "source": [
    "# 6 rows of 1 element: (6,1)\n",
    "np.reshape(b, (6,1)).tolist()"
   ]
  },
  {
   "cell_type": "code",
   "execution_count": 84,
   "id": "9c651645-5f77-4e9e-8258-8cdfb6c1df6b",
   "metadata": {
    "jp-MarkdownHeadingCollapsed": true,
    "tags": []
   },
   "outputs": [],
   "source": [
    "## Setup 3\n",
    "c = [\n",
    "    [1, 2, 3],\n",
    "    [4, 5, 6],\n",
    "    [7, 8, 9]\n",
    "]"
   ]
  },
  {
   "cell_type": "code",
   "execution_count": 85,
   "id": "6c1c206e-deff-4674-8081-1e434df51e10",
   "metadata": {},
   "outputs": [
    {
     "data": {
      "text/plain": [
       "[[1, 2, 3], [4, 5, 6], [7, 8, 9]]"
      ]
     },
     "execution_count": 85,
     "metadata": {},
     "output_type": "execute_result"
    }
   ],
   "source": [
    "c"
   ]
  },
  {
   "cell_type": "code",
   "execution_count": 86,
   "id": "56fb436d-0718-4844-a513-be19b5ae62e3",
   "metadata": {},
   "outputs": [],
   "source": [
    "c = np.array(c)"
   ]
  },
  {
   "cell_type": "markdown",
   "id": "ce6cb066-ecf5-40d7-bb22-9f25ac8730da",
   "metadata": {
    "jp-MarkdownHeadingCollapsed": true,
    "tags": []
   },
   "source": [
    "HINT, you'll first need to make sure that the \"c\" variable is a numpy array prior to using numpy array methods.\n",
    "Exercise 1 - Find the min, max, sum, and product of c."
   ]
  },
  {
   "cell_type": "code",
   "execution_count": 88,
   "id": "aac04897-66f6-4f60-971d-85c001859502",
   "metadata": {},
   "outputs": [],
   "source": [
    "labels = ['max', 'min', 'sum', 'prod']\n",
    "outputs = c.max(), c.min(), c.sum(), np.prod(c)"
   ]
  },
  {
   "cell_type": "code",
   "execution_count": 89,
   "id": "fb1b60d4-8c2a-4417-a998-52710f9c5c9d",
   "metadata": {},
   "outputs": [
    {
     "data": {
      "text/plain": [
       "(9, 1, 45, 362880)"
      ]
     },
     "execution_count": 89,
     "metadata": {},
     "output_type": "execute_result"
    }
   ],
   "source": [
    "outputs"
   ]
  },
  {
   "cell_type": "code",
   "execution_count": 90,
   "id": "6b1352c7-aea9-4f03-b69a-d0ba70f20744",
   "metadata": {},
   "outputs": [
    {
     "data": {
      "text/plain": [
       "['max', 'min', 'sum', 'prod']"
      ]
     },
     "execution_count": 90,
     "metadata": {},
     "output_type": "execute_result"
    }
   ],
   "source": [
    "labels"
   ]
  },
  {
   "cell_type": "code",
   "execution_count": 96,
   "id": "a4285b10-318b-4ae2-917c-27d2d7bc0243",
   "metadata": {},
   "outputs": [],
   "source": [
    "c_stats = dict(zip(labels, outputs))"
   ]
  },
  {
   "cell_type": "code",
   "execution_count": 97,
   "id": "9e81ed76-9122-4cb4-8007-2f7de9035fe0",
   "metadata": {},
   "outputs": [
    {
     "data": {
      "text/plain": [
       "{'max': 9, 'min': 1, 'sum': 45, 'prod': 362880}"
      ]
     },
     "execution_count": 97,
     "metadata": {},
     "output_type": "execute_result"
    }
   ],
   "source": [
    "c_stats"
   ]
  },
  {
   "cell_type": "markdown",
   "id": "c484c96e-1f16-43bd-a037-b436ed433666",
   "metadata": {
    "jp-MarkdownHeadingCollapsed": true,
    "tags": []
   },
   "source": [
    "Exercise 2 - Determine the standard deviation of c."
   ]
  },
  {
   "cell_type": "code",
   "execution_count": 94,
   "id": "8e69bfaa-ae56-4337-bd66-1fd7c811dd30",
   "metadata": {},
   "outputs": [],
   "source": [
    "my_arrays = {\n",
    "    'a': a,\n",
    "    'b': b,\n",
    "    'c': c} "
   ]
  },
  {
   "cell_type": "code",
   "execution_count": 95,
   "id": "a04eda4a-e751-46db-8506-f16958c35f77",
   "metadata": {},
   "outputs": [
    {
     "data": {
      "text/plain": [
       "array([[3, 4, 5],\n",
       "       [6, 7, 8]])"
      ]
     },
     "execution_count": 95,
     "metadata": {},
     "output_type": "execute_result"
    }
   ],
   "source": [
    "my_arrays['b']"
   ]
  },
  {
   "cell_type": "code",
   "execution_count": 98,
   "id": "34f27474-0221-462c-9320-957f14a762c1",
   "metadata": {},
   "outputs": [],
   "source": [
    "c_stats['std'] = my_arrays['c'].std()"
   ]
  },
  {
   "cell_type": "code",
   "execution_count": 99,
   "id": "04fb6529-3c46-4612-b139-c9c507861eb3",
   "metadata": {},
   "outputs": [
    {
     "data": {
      "text/plain": [
       "{'max': 9, 'min': 1, 'sum': 45, 'prod': 362880, 'std': 2.581988897471611}"
      ]
     },
     "execution_count": 99,
     "metadata": {},
     "output_type": "execute_result"
    }
   ],
   "source": [
    "c_stats"
   ]
  },
  {
   "cell_type": "code",
   "execution_count": 100,
   "id": "8182c66d-4c15-45dd-adf4-d3567ab8ebd7",
   "metadata": {},
   "outputs": [
    {
     "data": {
      "text/plain": [
       "array([[1, 2, 3],\n",
       "       [4, 5, 6],\n",
       "       [7, 8, 9]])"
      ]
     },
     "execution_count": 100,
     "metadata": {},
     "output_type": "execute_result"
    }
   ],
   "source": [
    "my_arrays['c']"
   ]
  },
  {
   "cell_type": "markdown",
   "id": "cc668f72-7887-48d8-ac1d-9870b27ddfae",
   "metadata": {
    "tags": []
   },
   "source": [
    "Exercise 3 - Determine the variance of c."
   ]
  },
  {
   "cell_type": "code",
   "execution_count": 101,
   "id": "9bc9ab55-75b2-466a-9408-70a110642ccd",
   "metadata": {},
   "outputs": [],
   "source": [
    "c_stats['var'] = my_arrays['c'].var()"
   ]
  },
  {
   "cell_type": "code",
   "execution_count": 102,
   "id": "fd9cb18c-aa56-44ed-af55-b07baef44b18",
   "metadata": {},
   "outputs": [
    {
     "data": {
      "text/plain": [
       "(6.666666666666667, 2.581988897471611)"
      ]
     },
     "execution_count": 102,
     "metadata": {},
     "output_type": "execute_result"
    }
   ],
   "source": [
    "c_stats['var'], c_stats['std']"
   ]
  },
  {
   "cell_type": "code",
   "execution_count": 103,
   "id": "0bfe73a1-aa83-4440-a3e7-62283b3675a4",
   "metadata": {},
   "outputs": [
    {
     "data": {
      "text/plain": [
       "6.666666666666666"
      ]
     },
     "execution_count": 103,
     "metadata": {},
     "output_type": "execute_result"
    }
   ],
   "source": [
    "c_stats['std'] ** 2"
   ]
  },
  {
   "cell_type": "markdown",
   "id": "5039eddb-57f3-41c3-aedb-a9dbb8fe77ed",
   "metadata": {
    "tags": []
   },
   "source": [
    "Exercise 4 - Print out the shape of the array c"
   ]
  },
  {
   "cell_type": "code",
   "execution_count": 104,
   "id": "7349896a-c022-4fbd-8e97-dd2f6e09e4a7",
   "metadata": {},
   "outputs": [
    {
     "data": {
      "text/plain": [
       "{'max': 9,\n",
       " 'min': 1,\n",
       " 'sum': 45,\n",
       " 'prod': 362880,\n",
       " 'std': 2.581988897471611,\n",
       " 'var': 6.666666666666667}"
      ]
     },
     "execution_count": 104,
     "metadata": {},
     "output_type": "execute_result"
    }
   ],
   "source": [
    "c_stats"
   ]
  },
  {
   "cell_type": "code",
   "execution_count": 106,
   "id": "353321a7-40bf-44af-91e7-e48a678fb1f7",
   "metadata": {},
   "outputs": [],
   "source": [
    "a_stats, b_stats = {}, {}\n",
    "my_content = {\n",
    "    'a': {'array':a, 'stats': a_stats},\n",
    "    'b': {'array': b, 'stats': b_stats},\n",
    "    'c': {'array': c, 'stats': c_stats}\n",
    "}"
   ]
  },
  {
   "cell_type": "code",
   "execution_count": 107,
   "id": "c039af92-9b08-4730-8ecd-ed8f608672b5",
   "metadata": {},
   "outputs": [
    {
     "data": {
      "text/plain": [
       "array([[1, 2, 3],\n",
       "       [4, 5, 6],\n",
       "       [7, 8, 9]])"
      ]
     },
     "execution_count": 107,
     "metadata": {},
     "output_type": "execute_result"
    }
   ],
   "source": [
    "my_content['c']['array']"
   ]
  },
  {
   "cell_type": "code",
   "execution_count": 108,
   "id": "69c457e0-e527-4dba-8178-7cbdf5ca0e05",
   "metadata": {},
   "outputs": [
    {
     "data": {
      "text/plain": [
       "{'max': 9,\n",
       " 'min': 1,\n",
       " 'sum': 45,\n",
       " 'prod': 362880,\n",
       " 'std': 2.581988897471611,\n",
       " 'var': 6.666666666666667}"
      ]
     },
     "execution_count": 108,
     "metadata": {},
     "output_type": "execute_result"
    }
   ],
   "source": [
    "my_content['c']['stats']"
   ]
  },
  {
   "cell_type": "markdown",
   "id": "6ed8aa00-f7b6-4b55-af2a-8b1c9fa753b3",
   "metadata": {
    "jp-MarkdownHeadingCollapsed": true,
    "tags": []
   },
   "source": [
    "Exercise 5 - Transpose c and print out transposed result."
   ]
  },
  {
   "cell_type": "code",
   "execution_count": 109,
   "id": "b796341f-3707-44e0-a467-4169067e820d",
   "metadata": {},
   "outputs": [
    {
     "data": {
      "text/plain": [
       "array([[1, 4, 7],\n",
       "       [2, 5, 8],\n",
       "       [3, 6, 9]])"
      ]
     },
     "execution_count": 109,
     "metadata": {},
     "output_type": "execute_result"
    }
   ],
   "source": [
    "my_content['c']['array'].T"
   ]
  },
  {
   "cell_type": "code",
   "execution_count": 110,
   "id": "bf9de3ab-de3c-4022-b292-1b3e477f4601",
   "metadata": {},
   "outputs": [
    {
     "data": {
      "text/plain": [
       "array([[1, 4, 7],\n",
       "       [2, 5, 8],\n",
       "       [3, 6, 9]])"
      ]
     },
     "execution_count": 110,
     "metadata": {},
     "output_type": "execute_result"
    }
   ],
   "source": [
    "c.T"
   ]
  },
  {
   "cell_type": "markdown",
   "id": "280152b2-5fbc-4fdd-a175-385fb591d2d5",
   "metadata": {
    "jp-MarkdownHeadingCollapsed": true,
    "tags": []
   },
   "source": [
    "Exercise 6 - Get the dot product of the array c with c. "
   ]
  },
  {
   "cell_type": "code",
   "execution_count": 111,
   "id": "aab6df0f-50ba-466b-bc97-8a19c9b4e5cc",
   "metadata": {},
   "outputs": [
    {
     "data": {
      "text/plain": [
       "array([[ 30,  36,  42],\n",
       "       [ 66,  81,  96],\n",
       "       [102, 126, 150]])"
      ]
     },
     "execution_count": 111,
     "metadata": {},
     "output_type": "execute_result"
    }
   ],
   "source": [
    "np.dot(c,c)"
   ]
  },
  {
   "cell_type": "markdown",
   "id": "f3bdc742-dd28-4be2-8989-84b3b7af307e",
   "metadata": {
    "jp-MarkdownHeadingCollapsed": true,
    "tags": []
   },
   "source": [
    "Exercise 7 - Write the code necessary to sum up the result of c times c transposed. Answer should be 261"
   ]
  },
  {
   "cell_type": "code",
   "execution_count": 113,
   "id": "2ca609de-09e9-4036-84bc-66e02e645a0e",
   "metadata": {},
   "outputs": [
    {
     "data": {
      "text/plain": [
       "261"
      ]
     },
     "execution_count": 113,
     "metadata": {},
     "output_type": "execute_result"
    }
   ],
   "source": [
    "(c * c.T).sum()"
   ]
  },
  {
   "cell_type": "markdown",
   "id": "7a6d0253-3cb8-4e27-80d6-dce92be8116a",
   "metadata": {
    "tags": []
   },
   "source": [
    "Exercise 8 - Write the code necessary to determine the product of c times c transposed. Answer should be 131681894400."
   ]
  },
  {
   "cell_type": "code",
   "execution_count": 115,
   "id": "9821b7de-3dd8-4361-b4e0-0a04b345bd20",
   "metadata": {},
   "outputs": [
    {
     "data": {
      "text/plain": [
       "131681894400"
      ]
     },
     "execution_count": 115,
     "metadata": {},
     "output_type": "execute_result"
    }
   ],
   "source": [
    "np.prod(c * c.T)"
   ]
  },
  {
   "cell_type": "code",
   "execution_count": 117,
   "id": "37266fdd-8b49-43c3-a82e-797af21010f3",
   "metadata": {
    "jp-MarkdownHeadingCollapsed": true,
    "tags": []
   },
   "outputs": [],
   "source": [
    "## Setup 4\n",
    "my_content['d'] = {'array': \n",
    "[\n",
    "    [90, 30, 45, 0, 120, 180],\n",
    "    [45, -90, -30, 270, 90, 0],\n",
    "    [60, 45, -45, 90, -45, 180]\n",
    "]}"
   ]
  },
  {
   "cell_type": "code",
   "execution_count": 118,
   "id": "f562360a-b037-426a-8703-6b9ddc5c13b2",
   "metadata": {},
   "outputs": [
    {
     "data": {
      "text/plain": [
       "[[90, 30, 45, 0, 120, 180],\n",
       " [45, -90, -30, 270, 90, 0],\n",
       " [60, 45, -45, 90, -45, 180]]"
      ]
     },
     "execution_count": 118,
     "metadata": {},
     "output_type": "execute_result"
    }
   ],
   "source": [
    "my_content['d']['array']"
   ]
  },
  {
   "cell_type": "code",
   "execution_count": 119,
   "id": "700705ed-05ab-4e8b-97dc-b899af7627fe",
   "metadata": {},
   "outputs": [],
   "source": [
    "# initialize a dictionary to hold the stats\n",
    "my_content['d']['stats'] = {}"
   ]
  },
  {
   "cell_type": "markdown",
   "id": "bcf03b15-6c5e-45d4-a1a5-c73c4d6c8138",
   "metadata": {
    "tags": []
   },
   "source": [
    "Exercise 1 - Find the sine of all the numbers in d"
   ]
  },
  {
   "cell_type": "code",
   "execution_count": 121,
   "id": "4bd0cee4-9e17-4fa9-affc-7e38afccc0f3",
   "metadata": {},
   "outputs": [],
   "source": [
    "my_content['d']['stats']['sin'] = np.sin(\n",
    "    my_content['d']['array'])"
   ]
  },
  {
   "cell_type": "code",
   "execution_count": 122,
   "id": "defe6b35-baef-4a03-b8a2-5d8f38fa3353",
   "metadata": {},
   "outputs": [
    {
     "data": {
      "text/plain": [
       "array([[ 0.89399666, -0.98803162,  0.85090352,  0.        ,  0.58061118,\n",
       "        -0.80115264],\n",
       "       [ 0.85090352, -0.89399666,  0.98803162, -0.17604595,  0.89399666,\n",
       "         0.        ],\n",
       "       [-0.30481062,  0.85090352, -0.85090352,  0.89399666, -0.85090352,\n",
       "        -0.80115264]])"
      ]
     },
     "execution_count": 122,
     "metadata": {},
     "output_type": "execute_result"
    }
   ],
   "source": [
    "my_content['d']['stats']['sin']"
   ]
  },
  {
   "cell_type": "markdown",
   "id": "5d8ad852-2fe4-41f5-a5bc-e541ee507d2f",
   "metadata": {
    "jp-MarkdownHeadingCollapsed": true,
    "tags": []
   },
   "source": [
    "Exercise 2 - Find the cosine of all the numbers in d"
   ]
  },
  {
   "cell_type": "code",
   "execution_count": 123,
   "id": "31d554ec-4cde-4364-bbe8-9227ca0126c9",
   "metadata": {},
   "outputs": [],
   "source": [
    "my_content['d']['stats']['cos'] = np.cos(\n",
    "    my_content['d']['array'])"
   ]
  },
  {
   "cell_type": "markdown",
   "id": "626e4152-438d-468e-8c0d-52f50b1c3d76",
   "metadata": {
    "jp-MarkdownHeadingCollapsed": true,
    "tags": []
   },
   "source": [
    "Exercise 3 - Find the tangent of all the numbers in d"
   ]
  },
  {
   "cell_type": "code",
   "execution_count": 124,
   "id": "d228b40e-fdcc-41d1-bd51-d179127eb5ae",
   "metadata": {},
   "outputs": [],
   "source": [
    "my_content['d']['stats']['tan'] = np.tan(\n",
    "    my_content['d']['array'])"
   ]
  },
  {
   "cell_type": "markdown",
   "id": "83036387-1fd9-4012-9544-fadda8b956a7",
   "metadata": {
    "jp-MarkdownHeadingCollapsed": true,
    "tags": []
   },
   "source": [
    "Exercise 4 - Find all the negative numbers in d"
   ]
  },
  {
   "cell_type": "code",
   "execution_count": 127,
   "id": "121a1f3c-9ff7-4171-a35b-ebdca85137d5",
   "metadata": {},
   "outputs": [
    {
     "data": {
      "text/plain": [
       "list"
      ]
     },
     "execution_count": 127,
     "metadata": {},
     "output_type": "execute_result"
    }
   ],
   "source": [
    "type(d)"
   ]
  },
  {
   "cell_type": "code",
   "execution_count": 128,
   "id": "e7ae51c8-1892-4ab1-aee5-70e57a78150a",
   "metadata": {},
   "outputs": [],
   "source": [
    "# lets convert that to an array"
   ]
  },
  {
   "cell_type": "code",
   "execution_count": 129,
   "id": "f86c8e9f-a48e-4d08-927c-511e0bd36972",
   "metadata": {},
   "outputs": [
    {
     "data": {
      "text/plain": [
       "array([-90, -30, -45, -45])"
      ]
     },
     "execution_count": 129,
     "metadata": {},
     "output_type": "execute_result"
    }
   ],
   "source": [
    "d = np.array(d)\n",
    "d[d < 0]"
   ]
  },
  {
   "cell_type": "code",
   "execution_count": 130,
   "id": "7949fba8-1049-4340-96b7-74b0e9b2228a",
   "metadata": {},
   "outputs": [
    {
     "data": {
      "text/plain": [
       "list"
      ]
     },
     "execution_count": 130,
     "metadata": {},
     "output_type": "execute_result"
    }
   ],
   "source": [
    "type(my_content['d']['array'])"
   ]
  },
  {
   "cell_type": "code",
   "execution_count": 131,
   "id": "85a068f3-2927-47e8-a327-22408c85f113",
   "metadata": {},
   "outputs": [],
   "source": [
    "my_content['d']['array'] = np.array(d)"
   ]
  },
  {
   "cell_type": "markdown",
   "id": "c915dafa-5abe-4b81-8f88-4484665307af",
   "metadata": {
    "jp-MarkdownHeadingCollapsed": true,
    "tags": []
   },
   "source": [
    "Exercise 5 - Find all the positive numbers in d"
   ]
  },
  {
   "cell_type": "code",
   "execution_count": 134,
   "id": "5fb073ec-e4ed-4e66-a6c5-c3357c89c986",
   "metadata": {},
   "outputs": [
    {
     "data": {
      "text/plain": [
       "array([[ 90,  30,  45,   0, 120, 180],\n",
       "       [ 45, -90, -30, 270,  90,   0],\n",
       "       [ 60,  45, -45,  90, -45, 180]])"
      ]
     },
     "execution_count": 134,
     "metadata": {},
     "output_type": "execute_result"
    }
   ],
   "source": [
    "d"
   ]
  },
  {
   "cell_type": "code",
   "execution_count": 133,
   "id": "c44cf6f2-ccb7-4dc4-9bbf-c481202881cf",
   "metadata": {},
   "outputs": [
    {
     "data": {
      "text/plain": [
       "[array([[ True,  True,  True, False,  True,  True],\n",
       "        [ True, False, False,  True,  True, False],\n",
       "        [ True,  True, False,  True, False,  True]])]"
      ]
     },
     "execution_count": 133,
     "metadata": {},
     "output_type": "execute_result"
    }
   ],
   "source": [
    "my_positive_mask"
   ]
  },
  {
   "cell_type": "code",
   "execution_count": 135,
   "id": "47ad22fc-61bf-4a02-ae3c-6fba6b3bb4d1",
   "metadata": {},
   "outputs": [
    {
     "data": {
      "text/plain": [
       "array([ 90,  30,  45, 120, 180,  45, 270,  90,  60,  45,  90, 180])"
      ]
     },
     "execution_count": 135,
     "metadata": {},
     "output_type": "execute_result"
    }
   ],
   "source": [
    "d[d > 0]"
   ]
  },
  {
   "cell_type": "code",
   "execution_count": 137,
   "id": "f443f099-325d-423c-a680-842f2f641961",
   "metadata": {},
   "outputs": [
    {
     "data": {
      "text/plain": [
       "array([[ True,  True,  True, False,  True,  True],\n",
       "       [ True, False, False,  True,  True, False],\n",
       "       [ True,  True, False,  True, False,  True]])"
      ]
     },
     "execution_count": 137,
     "metadata": {},
     "output_type": "execute_result"
    }
   ],
   "source": [
    "d > 0"
   ]
  },
  {
   "cell_type": "code",
   "execution_count": 140,
   "id": "b4a0b875-1d90-4d06-b5e5-6a36fca03464",
   "metadata": {},
   "outputs": [
    {
     "data": {
      "text/plain": [
       "list"
      ]
     },
     "execution_count": 140,
     "metadata": {},
     "output_type": "execute_result"
    }
   ],
   "source": [
    "type([d > 0])"
   ]
  },
  {
   "cell_type": "code",
   "execution_count": 136,
   "id": "2e1b8619-15c9-4b7f-b2e1-b9edb38697bd",
   "metadata": {},
   "outputs": [
    {
     "data": {
      "text/plain": [
       "array([ 90,  30,  45, 120, 180,  45, 270,  90,  60,  45,  90, 180])"
      ]
     },
     "execution_count": 136,
     "metadata": {},
     "output_type": "execute_result"
    }
   ],
   "source": [
    "# my positive mask exists just as the boolean\n",
    "# assessment which already outputs an array\n",
    "# if we put brackets in the assignment,\n",
    "# we create a layer of unintended nesting\n",
    "# which will not work for when we try to apply the mask,\n",
    "# which would be like saying to python d[[d > 0]] compared to d[d > 0]\n",
    "my_positive_mask = d > 0\n",
    "d[my_positive_mask]"
   ]
  },
  {
   "cell_type": "markdown",
   "id": "131ea307-4eec-4de7-9f35-da185675b726",
   "metadata": {
    "jp-MarkdownHeadingCollapsed": true,
    "tags": []
   },
   "source": [
    "Exercise 6 - Return an array of only the unique numbers in d."
   ]
  },
  {
   "cell_type": "code",
   "execution_count": 142,
   "id": "41a4b04b-53f8-48e9-8c6b-2acd4a80ca9e",
   "metadata": {},
   "outputs": [
    {
     "data": {
      "text/plain": [
       "array([-90, -45, -30,   0,  30,  45,  60,  90, 120, 180, 270])"
      ]
     },
     "execution_count": 142,
     "metadata": {},
     "output_type": "execute_result"
    }
   ],
   "source": [
    "np.unique(d)"
   ]
  },
  {
   "cell_type": "markdown",
   "id": "90d94b09-ec79-4b42-a83c-d615a0dfc9a1",
   "metadata": {
    "jp-MarkdownHeadingCollapsed": true,
    "tags": []
   },
   "source": [
    "Exercise 7 - Determine how many unique numbers there are in d."
   ]
  },
  {
   "cell_type": "code",
   "execution_count": 143,
   "id": "a6535cb4-56a7-4d2c-bcc9-59ea1b9b7a5c",
   "metadata": {},
   "outputs": [],
   "source": [
    "# the last one output an array,\n",
    "# lets get the shape of that thing"
   ]
  },
  {
   "cell_type": "code",
   "execution_count": 148,
   "id": "af09c06f-6a18-4f81-850a-3a131f0d6605",
   "metadata": {},
   "outputs": [
    {
     "data": {
      "text/plain": [
       "(3, 6)"
      ]
     },
     "execution_count": 148,
     "metadata": {},
     "output_type": "execute_result"
    }
   ],
   "source": [
    "d.shape"
   ]
  },
  {
   "cell_type": "code",
   "execution_count": 149,
   "id": "2d877b42-bb7f-4ae1-8547-d6202fecc04c",
   "metadata": {},
   "outputs": [
    {
     "data": {
      "text/plain": [
       "18"
      ]
     },
     "execution_count": 149,
     "metadata": {},
     "output_type": "execute_result"
    }
   ],
   "source": [
    "d.size"
   ]
  },
  {
   "cell_type": "code",
   "execution_count": 151,
   "id": "f7529d2c-fccf-453c-ac9e-aa94268711b9",
   "metadata": {},
   "outputs": [
    {
     "data": {
      "text/plain": [
       "3"
      ]
     },
     "execution_count": 151,
     "metadata": {},
     "output_type": "execute_result"
    }
   ],
   "source": [
    "len(d)"
   ]
  },
  {
   "cell_type": "code",
   "execution_count": 147,
   "id": "b843abd9-af03-4140-8b76-cdff7050563f",
   "metadata": {},
   "outputs": [
    {
     "data": {
      "text/plain": [
       "11"
      ]
     },
     "execution_count": 147,
     "metadata": {},
     "output_type": "execute_result"
    }
   ],
   "source": [
    "np.unique(d).size"
   ]
  },
  {
   "cell_type": "code",
   "execution_count": 150,
   "id": "447ac54e-bb61-41cf-ba70-01f1b1c4594c",
   "metadata": {},
   "outputs": [
    {
     "data": {
      "text/plain": [
       "11"
      ]
     },
     "execution_count": 150,
     "metadata": {},
     "output_type": "execute_result"
    }
   ],
   "source": [
    "len(np.unique(d))"
   ]
  },
  {
   "cell_type": "markdown",
   "id": "543c5179-479f-421f-ba17-d900ff79aba5",
   "metadata": {
    "jp-MarkdownHeadingCollapsed": true,
    "tags": []
   },
   "source": [
    "Exercise 8 - Print out the shape of d."
   ]
  },
  {
   "cell_type": "code",
   "execution_count": 152,
   "id": "2b0039a9-7e5a-483d-9e7b-bcff50711ef6",
   "metadata": {},
   "outputs": [
    {
     "data": {
      "text/plain": [
       "(3, 6)"
      ]
     },
     "execution_count": 152,
     "metadata": {},
     "output_type": "execute_result"
    }
   ],
   "source": [
    "d.shape"
   ]
  },
  {
   "cell_type": "markdown",
   "id": "a6a92be2-23fe-41e6-88f8-e1c4313a7e03",
   "metadata": {
    "tags": []
   },
   "source": [
    "Exercise 9 - Transpose and then print out the shape of d."
   ]
  },
  {
   "cell_type": "code",
   "execution_count": 153,
   "id": "c1476587-a533-4c68-a6dc-4fdd837e952e",
   "metadata": {},
   "outputs": [],
   "source": [
    "d_transpose = d.T"
   ]
  },
  {
   "cell_type": "code",
   "execution_count": 154,
   "id": "c63c8400-aa9e-4592-b5df-1be01438dba0",
   "metadata": {},
   "outputs": [
    {
     "data": {
      "text/plain": [
       "(6, 3)"
      ]
     },
     "execution_count": 154,
     "metadata": {},
     "output_type": "execute_result"
    }
   ],
   "source": [
    "d_transpose.shape"
   ]
  },
  {
   "cell_type": "code",
   "execution_count": 155,
   "id": "9ccf2ac0-fb10-456a-8992-2671f476bd3e",
   "metadata": {},
   "outputs": [
    {
     "data": {
      "text/plain": [
       "(6, 3)"
      ]
     },
     "execution_count": 155,
     "metadata": {},
     "output_type": "execute_result"
    }
   ],
   "source": [
    "d.T.shape"
   ]
  },
  {
   "cell_type": "markdown",
   "id": "1413134f-2f84-4295-84d1-6d8dd6a07cee",
   "metadata": {},
   "source": [
    "Exercise 10 - Reshape d into an array of 9 x 2"
   ]
  },
  {
   "cell_type": "code",
   "execution_count": 157,
   "id": "f3a15087-fe1a-4dc7-a8af-7d4ca0b4b813",
   "metadata": {},
   "outputs": [
    {
     "data": {
      "text/plain": [
       "array([[ 90,  30],\n",
       "       [ 45,   0],\n",
       "       [120, 180],\n",
       "       [ 45, -90],\n",
       "       [-30, 270],\n",
       "       [ 90,   0],\n",
       "       [ 60,  45],\n",
       "       [-45,  90],\n",
       "       [-45, 180]])"
      ]
     },
     "execution_count": 157,
     "metadata": {},
     "output_type": "execute_result"
    }
   ],
   "source": [
    "d.reshape(9,2)"
   ]
  },
  {
   "cell_type": "code",
   "execution_count": null,
   "id": "e3845479-c8bc-4449-b861-ab6efac6a363",
   "metadata": {},
   "outputs": [],
   "source": []
  }
 ],
 "metadata": {
  "kernelspec": {
   "display_name": "Python 3 (ipykernel)",
   "language": "python",
   "name": "python3"
  },
  "language_info": {
   "codemirror_mode": {
    "name": "ipython",
    "version": 3
   },
   "file_extension": ".py",
   "mimetype": "text/x-python",
   "name": "python",
   "nbconvert_exporter": "python",
   "pygments_lexer": "ipython3",
   "version": "3.11.2"
  }
 },
 "nbformat": 4,
 "nbformat_minor": 5
}
