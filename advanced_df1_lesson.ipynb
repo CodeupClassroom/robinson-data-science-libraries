{
 "cells": [
  {
   "cell_type": "markdown",
   "id": "66955324",
   "metadata": {},
   "source": [
    "# Advanced Dataframes"
   ]
  },
  {
   "cell_type": "markdown",
   "id": "bf7007a0",
   "metadata": {},
   "source": [
    "## Part 1 - Creating Dataframes\n",
    "\n",
    "format: `pd.DataFrame(data)`\n",
    "\n",
    "- from lists\n",
    "- from dictionaries\n",
    "- from sql"
   ]
  },
  {
   "cell_type": "code",
   "execution_count": 1,
   "id": "e26e613d",
   "metadata": {},
   "outputs": [],
   "source": [
    "#standard imports\n",
    "import pandas as pd\n",
    "import numpy as np"
   ]
  },
  {
   "cell_type": "markdown",
   "id": "1c9a4d6e",
   "metadata": {},
   "source": [
    "### From lists"
   ]
  },
  {
   "cell_type": "code",
   "execution_count": 2,
   "id": "2c3df5a6",
   "metadata": {},
   "outputs": [
    {
     "data": {
      "text/plain": [
       "[[1, 2, 3], [2, 3, 55], [6, 7, 8]]"
      ]
     },
     "execution_count": 2,
     "metadata": {},
     "output_type": "execute_result"
    }
   ],
   "source": [
    "#build a matrix (list of lists)\n",
    "matrix = [[1,2,3], [2,3,55],[6,7,8]]\n",
    "matrix"
   ]
  },
  {
   "cell_type": "code",
   "execution_count": 3,
   "id": "a58c8e72",
   "metadata": {},
   "outputs": [
    {
     "data": {
      "text/html": [
       "<div>\n",
       "<style scoped>\n",
       "    .dataframe tbody tr th:only-of-type {\n",
       "        vertical-align: middle;\n",
       "    }\n",
       "\n",
       "    .dataframe tbody tr th {\n",
       "        vertical-align: top;\n",
       "    }\n",
       "\n",
       "    .dataframe thead th {\n",
       "        text-align: right;\n",
       "    }\n",
       "</style>\n",
       "<table border=\"1\" class=\"dataframe\">\n",
       "  <thead>\n",
       "    <tr style=\"text-align: right;\">\n",
       "      <th></th>\n",
       "      <th>0</th>\n",
       "      <th>1</th>\n",
       "      <th>2</th>\n",
       "    </tr>\n",
       "  </thead>\n",
       "  <tbody>\n",
       "    <tr>\n",
       "      <th>0</th>\n",
       "      <td>1</td>\n",
       "      <td>2</td>\n",
       "      <td>3</td>\n",
       "    </tr>\n",
       "    <tr>\n",
       "      <th>1</th>\n",
       "      <td>2</td>\n",
       "      <td>3</td>\n",
       "      <td>55</td>\n",
       "    </tr>\n",
       "    <tr>\n",
       "      <th>2</th>\n",
       "      <td>6</td>\n",
       "      <td>7</td>\n",
       "      <td>8</td>\n",
       "    </tr>\n",
       "  </tbody>\n",
       "</table>\n",
       "</div>"
      ],
      "text/plain": [
       "   0  1   2\n",
       "0  1  2   3\n",
       "1  2  3  55\n",
       "2  6  7   8"
      ]
     },
     "execution_count": 3,
     "metadata": {},
     "output_type": "execute_result"
    }
   ],
   "source": [
    "#pd.DataFrame(data)\n",
    "pd.DataFrame(matrix)"
   ]
  },
  {
   "cell_type": "code",
   "execution_count": 8,
   "id": "b90ea760-d74a-4dc3-ab98-e24d1ab9e300",
   "metadata": {},
   "outputs": [
    {
     "data": {
      "text/plain": [
       "False"
      ]
     },
     "execution_count": 8,
     "metadata": {},
     "output_type": "execute_result"
    }
   ],
   "source": [
    "'1' in pd.DataFrame(matrix).columns"
   ]
  },
  {
   "cell_type": "code",
   "execution_count": 9,
   "id": "1006580e-7655-451a-a4c3-908041332d16",
   "metadata": {},
   "outputs": [
    {
     "data": {
      "text/html": [
       "<div>\n",
       "<style scoped>\n",
       "    .dataframe tbody tr th:only-of-type {\n",
       "        vertical-align: middle;\n",
       "    }\n",
       "\n",
       "    .dataframe tbody tr th {\n",
       "        vertical-align: top;\n",
       "    }\n",
       "\n",
       "    .dataframe thead th {\n",
       "        text-align: right;\n",
       "    }\n",
       "</style>\n",
       "<table border=\"1\" class=\"dataframe\">\n",
       "  <thead>\n",
       "    <tr style=\"text-align: right;\">\n",
       "      <th></th>\n",
       "      <th>0</th>\n",
       "      <th>2</th>\n",
       "    </tr>\n",
       "  </thead>\n",
       "  <tbody>\n",
       "    <tr>\n",
       "      <th>0</th>\n",
       "      <td>1</td>\n",
       "      <td>3</td>\n",
       "    </tr>\n",
       "    <tr>\n",
       "      <th>1</th>\n",
       "      <td>2</td>\n",
       "      <td>55</td>\n",
       "    </tr>\n",
       "    <tr>\n",
       "      <th>2</th>\n",
       "      <td>6</td>\n",
       "      <td>8</td>\n",
       "    </tr>\n",
       "  </tbody>\n",
       "</table>\n",
       "</div>"
      ],
      "text/plain": [
       "   0   2\n",
       "0  1   3\n",
       "1  2  55\n",
       "2  6   8"
      ]
     },
     "execution_count": 9,
     "metadata": {},
     "output_type": "execute_result"
    }
   ],
   "source": [
    "pd.DataFrame(matrix)[[0,2]]"
   ]
  },
  {
   "cell_type": "markdown",
   "id": "2c6d8fe6",
   "metadata": {},
   "source": [
    "> column names default to integers"
   ]
  },
  {
   "cell_type": "code",
   "execution_count": 10,
   "id": "e4ad5abe",
   "metadata": {},
   "outputs": [
    {
     "data": {
      "text/plain": [
       "['first', 'second', 'third']"
      ]
     },
     "execution_count": 10,
     "metadata": {},
     "output_type": "execute_result"
    }
   ],
   "source": [
    "#define column names\n",
    "column_names = ['first','second','third'] \n",
    "column_names"
   ]
  },
  {
   "cell_type": "markdown",
   "id": "40679c4c",
   "metadata": {},
   "source": [
    "> the number of column names that i create should match the number of columns I actually have"
   ]
  },
  {
   "cell_type": "code",
   "execution_count": 11,
   "id": "f24a3f91",
   "metadata": {},
   "outputs": [
    {
     "data": {
      "text/html": [
       "<div>\n",
       "<style scoped>\n",
       "    .dataframe tbody tr th:only-of-type {\n",
       "        vertical-align: middle;\n",
       "    }\n",
       "\n",
       "    .dataframe tbody tr th {\n",
       "        vertical-align: top;\n",
       "    }\n",
       "\n",
       "    .dataframe thead th {\n",
       "        text-align: right;\n",
       "    }\n",
       "</style>\n",
       "<table border=\"1\" class=\"dataframe\">\n",
       "  <thead>\n",
       "    <tr style=\"text-align: right;\">\n",
       "      <th></th>\n",
       "      <th>first</th>\n",
       "      <th>second</th>\n",
       "      <th>third</th>\n",
       "    </tr>\n",
       "  </thead>\n",
       "  <tbody>\n",
       "    <tr>\n",
       "      <th>0</th>\n",
       "      <td>1</td>\n",
       "      <td>2</td>\n",
       "      <td>3</td>\n",
       "    </tr>\n",
       "    <tr>\n",
       "      <th>1</th>\n",
       "      <td>2</td>\n",
       "      <td>3</td>\n",
       "      <td>55</td>\n",
       "    </tr>\n",
       "    <tr>\n",
       "      <th>2</th>\n",
       "      <td>6</td>\n",
       "      <td>7</td>\n",
       "      <td>8</td>\n",
       "    </tr>\n",
       "  </tbody>\n",
       "</table>\n",
       "</div>"
      ],
      "text/plain": [
       "   first  second  third\n",
       "0      1       2      3\n",
       "1      2       3     55\n",
       "2      6       7      8"
      ]
     },
     "execution_count": 11,
     "metadata": {},
     "output_type": "execute_result"
    }
   ],
   "source": [
    "#pd.DataFrame(data)\n",
    "pd.DataFrame(matrix, columns=column_names)\n",
    "# alternatively, redefine the column names a couple different ways\n",
    "# after initializing the df:\n",
    "# df.rename(columns={0: 'first', 1: 'second', 2: 'third'})\n",
    "# df.columns = column_names"
   ]
  },
  {
   "cell_type": "code",
   "execution_count": 12,
   "id": "c66b39c6",
   "metadata": {},
   "outputs": [
    {
     "data": {
      "text/plain": [
       "array([[ 1,  2,  3],\n",
       "       [ 2,  3, 55],\n",
       "       [ 6,  7,  8]])"
      ]
     },
     "execution_count": 12,
     "metadata": {},
     "output_type": "execute_result"
    }
   ],
   "source": [
    "#make the matrix an array\n",
    "matrix_array = np.array(matrix)\n",
    "matrix_array"
   ]
  },
  {
   "cell_type": "code",
   "execution_count": 13,
   "id": "4a5275aa",
   "metadata": {},
   "outputs": [
    {
     "data": {
      "text/html": [
       "<div>\n",
       "<style scoped>\n",
       "    .dataframe tbody tr th:only-of-type {\n",
       "        vertical-align: middle;\n",
       "    }\n",
       "\n",
       "    .dataframe tbody tr th {\n",
       "        vertical-align: top;\n",
       "    }\n",
       "\n",
       "    .dataframe thead th {\n",
       "        text-align: right;\n",
       "    }\n",
       "</style>\n",
       "<table border=\"1\" class=\"dataframe\">\n",
       "  <thead>\n",
       "    <tr style=\"text-align: right;\">\n",
       "      <th></th>\n",
       "      <th>first</th>\n",
       "      <th>second</th>\n",
       "      <th>third</th>\n",
       "    </tr>\n",
       "  </thead>\n",
       "  <tbody>\n",
       "    <tr>\n",
       "      <th>0</th>\n",
       "      <td>1</td>\n",
       "      <td>2</td>\n",
       "      <td>3</td>\n",
       "    </tr>\n",
       "    <tr>\n",
       "      <th>1</th>\n",
       "      <td>2</td>\n",
       "      <td>3</td>\n",
       "      <td>55</td>\n",
       "    </tr>\n",
       "    <tr>\n",
       "      <th>2</th>\n",
       "      <td>6</td>\n",
       "      <td>7</td>\n",
       "      <td>8</td>\n",
       "    </tr>\n",
       "  </tbody>\n",
       "</table>\n",
       "</div>"
      ],
      "text/plain": [
       "   first  second  third\n",
       "0      1       2      3\n",
       "1      2       3     55\n",
       "2      6       7      8"
      ]
     },
     "execution_count": 13,
     "metadata": {},
     "output_type": "execute_result"
    }
   ],
   "source": [
    "#pd.DataFrame(data)\n",
    "pd.DataFrame(matrix_array, columns=column_names)"
   ]
  },
  {
   "cell_type": "markdown",
   "id": "d84ac401",
   "metadata": {},
   "source": [
    "### From dictionaries"
   ]
  },
  {
   "cell_type": "code",
   "execution_count": 14,
   "id": "72b32979",
   "metadata": {},
   "outputs": [
    {
     "data": {
      "text/plain": [
       "{'A': [1, 3, 4], 'B': [2, 355, 5]}"
      ]
     },
     "execution_count": 14,
     "metadata": {},
     "output_type": "execute_result"
    }
   ],
   "source": [
    "#create a dictionary with a list as keys\n",
    "#dictionary format: {key:value}\n",
    "new_dt = {'A':[1,3,4], 'B':[2,355,5]}\n",
    "new_dt"
   ]
  },
  {
   "cell_type": "code",
   "execution_count": 15,
   "id": "b4636b50",
   "metadata": {},
   "outputs": [
    {
     "data": {
      "text/html": [
       "<div>\n",
       "<style scoped>\n",
       "    .dataframe tbody tr th:only-of-type {\n",
       "        vertical-align: middle;\n",
       "    }\n",
       "\n",
       "    .dataframe tbody tr th {\n",
       "        vertical-align: top;\n",
       "    }\n",
       "\n",
       "    .dataframe thead th {\n",
       "        text-align: right;\n",
       "    }\n",
       "</style>\n",
       "<table border=\"1\" class=\"dataframe\">\n",
       "  <thead>\n",
       "    <tr style=\"text-align: right;\">\n",
       "      <th></th>\n",
       "      <th>A</th>\n",
       "      <th>B</th>\n",
       "    </tr>\n",
       "  </thead>\n",
       "  <tbody>\n",
       "    <tr>\n",
       "      <th>0</th>\n",
       "      <td>1</td>\n",
       "      <td>2</td>\n",
       "    </tr>\n",
       "    <tr>\n",
       "      <th>1</th>\n",
       "      <td>3</td>\n",
       "      <td>355</td>\n",
       "    </tr>\n",
       "    <tr>\n",
       "      <th>2</th>\n",
       "      <td>4</td>\n",
       "      <td>5</td>\n",
       "    </tr>\n",
       "  </tbody>\n",
       "</table>\n",
       "</div>"
      ],
      "text/plain": [
       "   A    B\n",
       "0  1    2\n",
       "1  3  355\n",
       "2  4    5"
      ]
     },
     "execution_count": 15,
     "metadata": {},
     "output_type": "execute_result"
    }
   ],
   "source": [
    "#create!\n",
    "pd.DataFrame(new_dt)"
   ]
  },
  {
   "cell_type": "markdown",
   "id": "76c5e6db",
   "metadata": {},
   "source": [
    "#### make it more complex"
   ]
  },
  {
   "cell_type": "code",
   "execution_count": 16,
   "id": "88fcdab4",
   "metadata": {},
   "outputs": [],
   "source": [
    "np.random.seed(123)"
   ]
  },
  {
   "cell_type": "code",
   "execution_count": 17,
   "id": "153ccb3b",
   "metadata": {},
   "outputs": [
    {
     "data": {
      "text/plain": [
       "['Sally',\n",
       " 'Jane',\n",
       " 'Suzie',\n",
       " 'Billy',\n",
       " 'Ada',\n",
       " 'John',\n",
       " 'Thomas',\n",
       " 'Marie',\n",
       " 'Albert',\n",
       " 'Richard',\n",
       " 'Isaac',\n",
       " 'Alan']"
      ]
     },
     "execution_count": 17,
     "metadata": {},
     "output_type": "execute_result"
    }
   ],
   "source": [
    "# Create list of values for names column\n",
    "students = ['Sally', 'Jane', 'Suzie', 'Billy', 'Ada', 'John', 'Thomas',\n",
    "            'Marie', 'Albert', 'Richard', 'Isaac', 'Alan']\n",
    "students"
   ]
  },
  {
   "cell_type": "code",
   "execution_count": 18,
   "id": "33525ff2",
   "metadata": {},
   "outputs": [],
   "source": [
    "# Randomly generate arrays of scores for each student for each subject.\n",
    "# Note that all the values need to have the same length here.\n",
    "math_grades = np.random.randint(low=60, high=100, size=len(students))\n",
    "english_grades = np.random.randint(low=60, high=100, size=len(students))\n",
    "reading_grades = np.random.randint(low=60, high=100, size=len(students))"
   ]
  },
  {
   "cell_type": "code",
   "execution_count": 19,
   "id": "d7c6f62c",
   "metadata": {},
   "outputs": [
    {
     "data": {
      "text/plain": [
       "array([62, 88, 94, 98, 77, 79, 82, 93, 92, 69, 92, 92])"
      ]
     },
     "execution_count": 19,
     "metadata": {},
     "output_type": "execute_result"
    }
   ],
   "source": [
    "math_grades"
   ]
  },
  {
   "cell_type": "code",
   "execution_count": 20,
   "id": "748e6af7",
   "metadata": {},
   "outputs": [
    {
     "data": {
      "text/plain": [
       "array([85, 79, 74, 96, 92, 76, 64, 63, 62, 80, 99, 62])"
      ]
     },
     "execution_count": 20,
     "metadata": {},
     "output_type": "execute_result"
    }
   ],
   "source": [
    "english_grades"
   ]
  },
  {
   "cell_type": "code",
   "execution_count": 21,
   "id": "098f4f77",
   "metadata": {},
   "outputs": [
    {
     "data": {
      "text/plain": [
       "array([80, 67, 95, 88, 98, 93, 81, 90, 87, 94, 93, 72])"
      ]
     },
     "execution_count": 21,
     "metadata": {},
     "output_type": "execute_result"
    }
   ],
   "source": [
    "reading_grades"
   ]
  },
  {
   "cell_type": "code",
   "execution_count": 24,
   "id": "59b163ac",
   "metadata": {},
   "outputs": [],
   "source": [
    "# Randomly generate if a student is in classroom A or classroom B\n",
    "classroom = np.random.choice(['A', 'B'], len(students))"
   ]
  },
  {
   "cell_type": "code",
   "execution_count": 25,
   "id": "a49baf07-3ea9-449b-9d8a-3675c48dbc3a",
   "metadata": {},
   "outputs": [
    {
     "data": {
      "text/plain": [
       "array(['A', 'B', 'A', 'B', 'A', 'B', 'A', 'A', 'A', 'A', 'B', 'A'],\n",
       "      dtype='<U1')"
      ]
     },
     "execution_count": 25,
     "metadata": {},
     "output_type": "execute_result"
    }
   ],
   "source": [
    "classroom"
   ]
  },
  {
   "cell_type": "code",
   "execution_count": null,
   "id": "5b66eb2e",
   "metadata": {},
   "outputs": [],
   "source": [
    "# np.random.choice(['A','B'], size=len(students))"
   ]
  },
  {
   "cell_type": "code",
   "execution_count": 26,
   "id": "bbb7d873",
   "metadata": {},
   "outputs": [
    {
     "data": {
      "text/plain": [
       "array(['A', 'B', 'A', 'B', 'A', 'B', 'A', 'A', 'A', 'A', 'B', 'A'],\n",
       "      dtype='<U1')"
      ]
     },
     "execution_count": 26,
     "metadata": {},
     "output_type": "execute_result"
    }
   ],
   "source": [
    "classroom"
   ]
  },
  {
   "cell_type": "code",
   "execution_count": 22,
   "id": "a8aaea5a",
   "metadata": {},
   "outputs": [
    {
     "data": {
      "text/plain": [
       "{'students': ['Sally',\n",
       "  'Jane',\n",
       "  'Suzie',\n",
       "  'Billy',\n",
       "  'Ada',\n",
       "  'John',\n",
       "  'Thomas',\n",
       "  'Marie',\n",
       "  'Albert',\n",
       "  'Richard',\n",
       "  'Isaac',\n",
       "  'Alan'],\n",
       " 'math': array([62, 88, 94, 98, 77, 79, 82, 93, 92, 69, 92, 92]),\n",
       " 'english': array([85, 79, 74, 96, 92, 76, 64, 63, 62, 80, 99, 62]),\n",
       " 'reading': array([80, 67, 95, 88, 98, 93, 81, 90, 87, 94, 93, 72]),\n",
       " 'room': array(['A', 'B', 'A', 'B', 'A', 'B', 'A', 'A', 'A', 'A', 'B', 'A'],\n",
       "       dtype='<U1')}"
      ]
     },
     "execution_count": 27,
     "metadata": {},
     "output_type": "execute_result"
    }
   ],
   "source": [
    "#combine all values into a dictionary\n",
    "student_dict = {\n",
    "    'students': students,\n",
    "    'math':math_grades,\n",
    "    'english':english_grades,\n",
    "    'reading':reading_grades,\n",
    "    'room':classroom\n",
    "}\n",
    "student_dict"
   ]
  },
  {
   "cell_type": "code",
   "execution_count": null,
   "id": "af12d6bc",
   "metadata": {},
   "outputs": [
    {
     "data": {
      "text/html": [
       "<div>\n",
       "<style scoped>\n",
       "    .dataframe tbody tr th:only-of-type {\n",
       "        vertical-align: middle;\n",
       "    }\n",
       "\n",
       "    .dataframe tbody tr th {\n",
       "        vertical-align: top;\n",
       "    }\n",
       "\n",
       "    .dataframe thead th {\n",
       "        text-align: right;\n",
       "    }\n",
       "</style>\n",
       "<table border=\"1\" class=\"dataframe\">\n",
       "  <thead>\n",
       "    <tr style=\"text-align: right;\">\n",
       "      <th></th>\n",
       "      <th>students</th>\n",
       "      <th>math</th>\n",
       "      <th>english</th>\n",
       "      <th>reading</th>\n",
       "      <th>room</th>\n",
       "    </tr>\n",
       "  </thead>\n",
       "  <tbody>\n",
       "    <tr>\n",
       "      <th>0</th>\n",
       "      <td>Sally</td>\n",
       "      <td>62</td>\n",
       "      <td>85</td>\n",
       "      <td>80</td>\n",
       "      <td>A</td>\n",
       "    </tr>\n",
       "    <tr>\n",
       "      <th>1</th>\n",
       "      <td>Jane</td>\n",
       "      <td>88</td>\n",
       "      <td>79</td>\n",
       "      <td>67</td>\n",
       "      <td>B</td>\n",
       "    </tr>\n",
       "    <tr>\n",
       "      <th>2</th>\n",
       "      <td>Suzie</td>\n",
       "      <td>94</td>\n",
       "      <td>74</td>\n",
       "      <td>95</td>\n",
       "      <td>A</td>\n",
       "    </tr>\n",
       "    <tr>\n",
       "      <th>3</th>\n",
       "      <td>Billy</td>\n",
       "      <td>98</td>\n",
       "      <td>96</td>\n",
       "      <td>88</td>\n",
       "      <td>B</td>\n",
       "    </tr>\n",
       "    <tr>\n",
       "      <th>4</th>\n",
       "      <td>Ada</td>\n",
       "      <td>77</td>\n",
       "      <td>92</td>\n",
       "      <td>98</td>\n",
       "      <td>A</td>\n",
       "    </tr>\n",
       "    <tr>\n",
       "      <th>5</th>\n",
       "      <td>John</td>\n",
       "      <td>79</td>\n",
       "      <td>76</td>\n",
       "      <td>93</td>\n",
       "      <td>B</td>\n",
       "    </tr>\n",
       "    <tr>\n",
       "      <th>6</th>\n",
       "      <td>Thomas</td>\n",
       "      <td>82</td>\n",
       "      <td>64</td>\n",
       "      <td>81</td>\n",
       "      <td>A</td>\n",
       "    </tr>\n",
       "    <tr>\n",
       "      <th>7</th>\n",
       "      <td>Marie</td>\n",
       "      <td>93</td>\n",
       "      <td>63</td>\n",
       "      <td>90</td>\n",
       "      <td>A</td>\n",
       "    </tr>\n",
       "    <tr>\n",
       "      <th>8</th>\n",
       "      <td>Albert</td>\n",
       "      <td>92</td>\n",
       "      <td>62</td>\n",
       "      <td>87</td>\n",
       "      <td>A</td>\n",
       "    </tr>\n",
       "    <tr>\n",
       "      <th>9</th>\n",
       "      <td>Richard</td>\n",
       "      <td>69</td>\n",
       "      <td>80</td>\n",
       "      <td>94</td>\n",
       "      <td>A</td>\n",
       "    </tr>\n",
       "    <tr>\n",
       "      <th>10</th>\n",
       "      <td>Isaac</td>\n",
       "      <td>92</td>\n",
       "      <td>99</td>\n",
       "      <td>93</td>\n",
       "      <td>B</td>\n",
       "    </tr>\n",
       "    <tr>\n",
       "      <th>11</th>\n",
       "      <td>Alan</td>\n",
       "      <td>92</td>\n",
       "      <td>62</td>\n",
       "      <td>72</td>\n",
       "      <td>A</td>\n",
       "    </tr>\n",
       "  </tbody>\n",
       "</table>\n",
       "</div>"
      ],
      "text/plain": [
       "   students  math  english  reading room\n",
       "0     Sally    62       85       80    A\n",
       "1      Jane    88       79       67    B\n",
       "2     Suzie    94       74       95    A\n",
       "3     Billy    98       96       88    B\n",
       "4       Ada    77       92       98    A\n",
       "5      John    79       76       93    B\n",
       "6    Thomas    82       64       81    A\n",
       "7     Marie    93       63       90    A\n",
       "8    Albert    92       62       87    A\n",
       "9   Richard    69       80       94    A\n",
       "10    Isaac    92       99       93    B\n",
       "11     Alan    92       62       72    A"
      ]
     },
     "execution_count": 28,
     "metadata": {},
     "output_type": "execute_result"
    }
   ],
   "source": [
    "pd.DataFrame(student_dict)"
   ]
  },
  {
   "cell_type": "markdown",
   "id": "d07e78bb",
   "metadata": {},
   "source": [
    "### From SQL"
   ]
  },
  {
   "cell_type": "markdown",
   "id": "d24d6296",
   "metadata": {},
   "source": [
    "We can connect to sql to create a dataframe!! yay!"
   ]
  },
  {
   "cell_type": "markdown",
   "id": "77e7951f",
   "metadata": {},
   "source": [
    "To do this we will use a driver to connect the database to our python code using pymysql driver packages"
   ]
  },
  {
   "cell_type": "markdown",
   "id": "9ff233b8",
   "metadata": {},
   "source": [
    "`python -m pip install pymysql`"
   ]
  },
  {
   "cell_type": "markdown",
   "id": "2e4f2e13",
   "metadata": {},
   "source": [
    "Now that this is installed, we will create a **CONNECTION STRING**"
   ]
  },
  {
   "cell_type": "markdown",
   "id": "107e8e6a",
   "metadata": {},
   "source": [
    "This is a what a **CONNECTION STRING** looks like: "
   ]
  },
  {
   "cell_type": "markdown",
   "id": "102ee04e",
   "metadata": {},
   "source": [
    "`[protocol]://[user]:[password]@[host]/[database_name]`"
   ]
  },
  {
   "cell_type": "markdown",
   "id": "52251f81",
   "metadata": {},
   "source": [
    "example of the **CONNECTION STRING**:"
   ]
  },
  {
   "cell_type": "markdown",
   "id": "1c97932c",
   "metadata": {},
   "source": [
    "`mysql+pymysql://codeup:p@assw0rd@123.123.123.123/some_db`"
   ]
  },
  {
   "cell_type": "markdown",
   "id": "b565ddb7",
   "metadata": {},
   "source": [
    "In this example:"
   ]
  },
  {
   "cell_type": "markdown",
   "id": "8ed5a973",
   "metadata": {},
   "source": [
    "- protocol = 'mysql+pymysql'\n",
    "- user = 'codeup'\n",
    "- password = 'p@assw0rd'\n",
    "- host = '123.123.123.123'\n",
    "- database_name = 'some_db'"
   ]
  },
  {
   "cell_type": "markdown",
   "id": "0950fa4b",
   "metadata": {},
   "source": [
    "You will each make a unique **CONNECTION STRING** with your credentials"
   ]
  },
  {
   "cell_type": "code",
   "execution_count": null,
   "id": "bfeb9cac",
   "metadata": {},
   "outputs": [],
   "source": [
    "#example\n",
    "url = 'mysql+pymysql://codeup:p@assw0rd@123.123.123.123/some_db'\n",
    "url"
   ]
  },
  {
   "cell_type": "markdown",
   "id": "5b1a6ec3",
   "metadata": {},
   "source": [
    "<div class=\"alert alert-block alert-warning\">\n",
    "    Should you type your username and password in your .py or .ipynb? Why or why not?\n",
    "</div>"
   ]
  },
  {
   "cell_type": "markdown",
   "id": "ca5b1736",
   "metadata": {},
   "source": [
    "answer: \n",
    "\n",
    "<div class=\"alert alert-block alert-danger\">\n",
    "    NO! \n",
    "</div>"
   ]
  },
  {
   "cell_type": "markdown",
   "id": "29f425e8",
   "metadata": {},
   "source": [
    "How to avoid this? "
   ]
  },
  {
   "cell_type": "markdown",
   "id": "c0f6020b",
   "metadata": {},
   "source": [
    "1. Create a separate file called env.py\n",
    "2. Enter in your credentials\n",
    "3. Put your env.py in the same folder as your working file\n",
    "4. Import your env\n",
    "5. Create your connection string from imported variables"
   ]
  },
  {
   "cell_type": "markdown",
   "id": "3a99ca11",
   "metadata": {},
   "source": [
    "<div class=\"alert alert-block alert-warning\">\n",
    "    Should you push your env.py file to github?\n",
    "</div>"
   ]
  },
  {
   "cell_type": "markdown",
   "id": "3e57b7c1",
   "metadata": {},
   "source": [
    "answer: \n",
    "<div class=\"alert alert-block alert-danger\">\n",
    "     NO! \n",
    "</div>"
   ]
  },
  {
   "cell_type": "markdown",
   "id": "e6f3d94a",
   "metadata": {},
   "source": [
    "**We will not push our username and password to github**\n",
    "\n",
    "**We will add our env file to our gitignore**\n",
    "\n",
    "**We will not rely on our global gitignore to ignore our env file**\n",
    "\n",
    "**We will add env.py to our gitignore in every repository that we use our env credentials**"
   ]
  },
  {
   "cell_type": "code",
   "execution_count": 2,
   "id": "43442da1",
   "metadata": {},
   "outputs": [],
   "source": [
    "import env\n",
    "import fake_env"
   ]
  },
  {
   "cell_type": "code",
   "execution_count": 3,
   "id": "3df81afb",
   "metadata": {},
   "outputs": [
    {
     "data": {
      "text/plain": [
       "'my_server'"
      ]
     },
     "execution_count": 3,
     "metadata": {},
     "output_type": "execute_result"
    }
   ],
   "source": [
    "#pull in the hostname\n",
    "fake_env.host"
   ]
  },
  {
   "cell_type": "code",
   "execution_count": 4,
   "id": "a0df52dc-9818-4916-98f1-16d649940f21",
   "metadata": {},
   "outputs": [],
   "source": [
    "# if I want to hide that, then I want to put it\n",
    "# in a variable that does not\n",
    "# go to my output and does not print"
   ]
  },
  {
   "cell_type": "code",
   "execution_count": 5,
   "id": "127fc825-8c1e-419a-bbcf-1ce53a0d75e3",
   "metadata": {},
   "outputs": [],
   "source": [
    "my_host = fake_env.host"
   ]
  },
  {
   "cell_type": "code",
   "execution_count": 6,
   "id": "e3553a2e-2624-4a4d-90fe-fdfb23a10908",
   "metadata": {},
   "outputs": [],
   "source": [
    "my_fake_url = fake_env.create_url(\n",
    "    fake_env.user,\n",
    "    fake_env.host,\n",
    "    fake_env.password,\n",
    "    'fruits_db')"
   ]
  },
  {
   "cell_type": "code",
   "execution_count": 7,
   "id": "05611fe4-2504-4b5b-a62d-489b8870a96b",
   "metadata": {},
   "outputs": [
    {
     "data": {
      "text/plain": [
       "'sql+pymysql://my_username:my_secrets@my_server/fruits_db'"
      ]
     },
     "execution_count": 7,
     "metadata": {},
     "output_type": "execute_result"
    }
   ],
   "source": [
    "# dont output your url here,\n",
    "# but if you did,\n",
    "# it would look like this:\n",
    "my_fake_url"
   ]
  },
  {
   "cell_type": "code",
   "execution_count": null,
   "id": "b48d17ae",
   "metadata": {},
   "outputs": [],
   "source": [
    "#pull in the username\n",
    "# env.user"
   ]
  },
  {
   "cell_type": "code",
   "execution_count": null,
   "id": "91f7cdcb",
   "metadata": {},
   "outputs": [],
   "source": [
    "#pull in the password\n",
    "# env.password"
   ]
  },
  {
   "cell_type": "markdown",
   "id": "d6b65b9c",
   "metadata": {},
   "source": [
    "<div class=\"alert alert-block alert-warning\">\n",
    "    Should you leave your username and password printed out on your .ipynb?\n",
    "</div>"
   ]
  },
  {
   "cell_type": "markdown",
   "id": "e6227d46",
   "metadata": {},
   "source": [
    "answer:\n",
    "\n",
    "<div class=\"alert alert-block alert-danger\">\n",
    "    NO! \n",
    "</div>"
   ]
  },
  {
   "cell_type": "markdown",
   "id": "82827aaa",
   "metadata": {},
   "source": [
    "lets create our **CONNECTION STRING** saved into a variable called url"
   ]
  },
  {
   "cell_type": "code",
   "execution_count": 8,
   "id": "de458224",
   "metadata": {},
   "outputs": [],
   "source": [
    "#create connection string\n",
    "url = f'mysql+pymysql://{env.user}:{env.password}@{env.host}/some_db'"
   ]
  },
  {
   "cell_type": "markdown",
   "id": "96988f13",
   "metadata": {},
   "source": [
    "<div class=\"alert alert-block alert-warning\">\n",
    "    Should you print out on your connection string?\n",
    "</div>"
   ]
  },
  {
   "cell_type": "markdown",
   "id": "ffdd1e2c",
   "metadata": {},
   "source": [
    "answer:\n",
    "\n",
    "<div class=\"alert alert-block alert-danger\">\n",
    "    NO! \n",
    "</div>"
   ]
  },
  {
   "cell_type": "markdown",
   "id": "35d9582d",
   "metadata": {},
   "source": [
    "**We will not type our username and password in our working file**\n",
    "\n",
    "**We will not print out our username and password after importing them**\n",
    "\n",
    "**We will not print out our url that contains our username and password**"
   ]
  },
  {
   "cell_type": "markdown",
   "id": "304f89f0",
   "metadata": {},
   "source": [
    "Now that we have created our **CONNECTION STRING**, we can connect to SQL"
   ]
  },
  {
   "cell_type": "markdown",
   "id": "ed616657",
   "metadata": {},
   "source": [
    "#### Let's connect to the employees database and pull the first 5 rows"
   ]
  },
  {
   "cell_type": "markdown",
   "id": "5e2354cc",
   "metadata": {},
   "source": [
    "format: `pd.read_sql('literal sql syntax to pull query', connection_string)`"
   ]
  },
  {
   "cell_type": "markdown",
   "id": "c604ae98",
   "metadata": {},
   "source": [
    " - What do you notice about our current connection string?\n",
    "     - Needed to update to employees db"
   ]
  },
  {
   "cell_type": "code",
   "execution_count": 9,
   "id": "e054d124-b80e-4a72-8004-4573f0fb06cc",
   "metadata": {},
   "outputs": [],
   "source": [
    "import pandas as pd"
   ]
  },
  {
   "cell_type": "code",
   "execution_count": 10,
   "id": "3510e81a-063a-4b8b-8a0a-4287f35dc9ef",
   "metadata": {},
   "outputs": [],
   "source": [
    "import env"
   ]
  },
  {
   "cell_type": "code",
   "execution_count": 11,
   "id": "4663d49c",
   "metadata": {},
   "outputs": [],
   "source": [
    "#url\n",
    "url = f'mysql+pymysql://{env.user}:{env.password}@{env.host}/employees'"
   ]
  },
  {
   "cell_type": "code",
   "execution_count": 12,
   "id": "2b105514-660d-4a40-9d98-a1c684be1013",
   "metadata": {},
   "outputs": [],
   "source": [
    "query = 'select * from employees limit 5'"
   ]
  },
  {
   "cell_type": "code",
   "execution_count": 13,
   "id": "e9c74752",
   "metadata": {},
   "outputs": [
    {
     "data": {
      "text/html": [
       "<div>\n",
       "<style scoped>\n",
       "    .dataframe tbody tr th:only-of-type {\n",
       "        vertical-align: middle;\n",
       "    }\n",
       "\n",
       "    .dataframe tbody tr th {\n",
       "        vertical-align: top;\n",
       "    }\n",
       "\n",
       "    .dataframe thead th {\n",
       "        text-align: right;\n",
       "    }\n",
       "</style>\n",
       "<table border=\"1\" class=\"dataframe\">\n",
       "  <thead>\n",
       "    <tr style=\"text-align: right;\">\n",
       "      <th></th>\n",
       "      <th>emp_no</th>\n",
       "      <th>birth_date</th>\n",
       "      <th>first_name</th>\n",
       "      <th>last_name</th>\n",
       "      <th>gender</th>\n",
       "      <th>hire_date</th>\n",
       "    </tr>\n",
       "  </thead>\n",
       "  <tbody>\n",
       "    <tr>\n",
       "      <th>0</th>\n",
       "      <td>10001</td>\n",
       "      <td>1953-09-02</td>\n",
       "      <td>Georgi</td>\n",
       "      <td>Facello</td>\n",
       "      <td>M</td>\n",
       "      <td>1986-06-26</td>\n",
       "    </tr>\n",
       "    <tr>\n",
       "      <th>1</th>\n",
       "      <td>10002</td>\n",
       "      <td>1964-06-02</td>\n",
       "      <td>Bezalel</td>\n",
       "      <td>Simmel</td>\n",
       "      <td>F</td>\n",
       "      <td>1985-11-21</td>\n",
       "    </tr>\n",
       "    <tr>\n",
       "      <th>2</th>\n",
       "      <td>10003</td>\n",
       "      <td>1959-12-03</td>\n",
       "      <td>Parto</td>\n",
       "      <td>Bamford</td>\n",
       "      <td>M</td>\n",
       "      <td>1986-08-28</td>\n",
       "    </tr>\n",
       "    <tr>\n",
       "      <th>3</th>\n",
       "      <td>10004</td>\n",
       "      <td>1954-05-01</td>\n",
       "      <td>Chirstian</td>\n",
       "      <td>Koblick</td>\n",
       "      <td>M</td>\n",
       "      <td>1986-12-01</td>\n",
       "    </tr>\n",
       "    <tr>\n",
       "      <th>4</th>\n",
       "      <td>10005</td>\n",
       "      <td>1955-01-21</td>\n",
       "      <td>Kyoichi</td>\n",
       "      <td>Maliniak</td>\n",
       "      <td>M</td>\n",
       "      <td>1989-09-12</td>\n",
       "    </tr>\n",
       "  </tbody>\n",
       "</table>\n",
       "</div>"
      ],
      "text/plain": [
       "   emp_no  birth_date first_name last_name gender   hire_date\n",
       "0   10001  1953-09-02     Georgi   Facello      M  1986-06-26\n",
       "1   10002  1964-06-02    Bezalel    Simmel      F  1985-11-21\n",
       "2   10003  1959-12-03      Parto   Bamford      M  1986-08-28\n",
       "3   10004  1954-05-01  Chirstian   Koblick      M  1986-12-01\n",
       "4   10005  1955-01-21    Kyoichi  Maliniak      M  1989-09-12"
      ]
     },
     "execution_count": 13,
     "metadata": {},
     "output_type": "execute_result"
    }
   ],
   "source": [
    "#connect to sql and pull query into df\n",
    "df = pd.read_sql(query, url)\n",
    "df"
   ]
  },
  {
   "cell_type": "markdown",
   "id": "a8b53004",
   "metadata": {},
   "source": [
    "#### I like my sql querys formatted with line breaks (also if you need to use a single quote or double quote you can format that appropriately with triples)"
   ]
  },
  {
   "cell_type": "code",
   "execution_count": null,
   "id": "92a8df31",
   "metadata": {},
   "outputs": [],
   "source": [
    "pd.read_sql('''\n",
    "        select * \n",
    "        from employees\n",
    "        limit 5\n",
    "        ''', url\n",
    "        )"
   ]
  },
  {
   "cell_type": "markdown",
   "id": "efc162e0",
   "metadata": {},
   "source": [
    "#### Let's make a bigger query:"
   ]
  },
  {
   "cell_type": "markdown",
   "id": "9f7f32c4",
   "metadata": {},
   "source": [
    "- I want a dataframe with emp_no, first_name, last_name, and dept_name\n",
    "- I want it only for women and their current department\n",
    "- Only pull back the first 10 employees"
   ]
  },
  {
   "cell_type": "code",
   "execution_count": 14,
   "id": "3ff08a5c",
   "metadata": {},
   "outputs": [
    {
     "data": {
      "text/plain": [
       "\"\\nselect emp_no, first_name, last_name, dept_name\\nfrom employees\\n    join dept_emp\\n        using (emp_no)\\n    join departments\\n        using (dept_no)\\nwhere gender = 'F'\\nlimit 10\\n;\\n\""
      ]
     },
     "execution_count": 14,
     "metadata": {},
     "output_type": "execute_result"
    }
   ],
   "source": [
    "#query\n",
    "query = '''\n",
    "select emp_no, first_name, last_name, dept_name\n",
    "from employees\n",
    "    join dept_emp\n",
    "        using (emp_no)\n",
    "    join departments\n",
    "        using (dept_no)\n",
    "where gender = 'F'\n",
    "limit 10\n",
    ";\n",
    "'''\n",
    "query"
   ]
  },
  {
   "cell_type": "code",
   "execution_count": 15,
   "id": "ef54c444",
   "metadata": {},
   "outputs": [
    {
     "data": {
      "text/html": [
       "<div>\n",
       "<style scoped>\n",
       "    .dataframe tbody tr th:only-of-type {\n",
       "        vertical-align: middle;\n",
       "    }\n",
       "\n",
       "    .dataframe tbody tr th {\n",
       "        vertical-align: top;\n",
       "    }\n",
       "\n",
       "    .dataframe thead th {\n",
       "        text-align: right;\n",
       "    }\n",
       "</style>\n",
       "<table border=\"1\" class=\"dataframe\">\n",
       "  <thead>\n",
       "    <tr style=\"text-align: right;\">\n",
       "      <th></th>\n",
       "      <th>emp_no</th>\n",
       "      <th>first_name</th>\n",
       "      <th>last_name</th>\n",
       "      <th>dept_name</th>\n",
       "    </tr>\n",
       "  </thead>\n",
       "  <tbody>\n",
       "    <tr>\n",
       "      <th>0</th>\n",
       "      <td>10002</td>\n",
       "      <td>Bezalel</td>\n",
       "      <td>Simmel</td>\n",
       "      <td>Sales</td>\n",
       "    </tr>\n",
       "    <tr>\n",
       "      <th>1</th>\n",
       "      <td>10006</td>\n",
       "      <td>Anneke</td>\n",
       "      <td>Preusig</td>\n",
       "      <td>Development</td>\n",
       "    </tr>\n",
       "    <tr>\n",
       "      <th>2</th>\n",
       "      <td>10007</td>\n",
       "      <td>Tzvetan</td>\n",
       "      <td>Zielinski</td>\n",
       "      <td>Research</td>\n",
       "    </tr>\n",
       "    <tr>\n",
       "      <th>3</th>\n",
       "      <td>10009</td>\n",
       "      <td>Sumant</td>\n",
       "      <td>Peac</td>\n",
       "      <td>Quality Management</td>\n",
       "    </tr>\n",
       "    <tr>\n",
       "      <th>4</th>\n",
       "      <td>10010</td>\n",
       "      <td>Duangkaew</td>\n",
       "      <td>Piveteau</td>\n",
       "      <td>Production</td>\n",
       "    </tr>\n",
       "    <tr>\n",
       "      <th>5</th>\n",
       "      <td>10010</td>\n",
       "      <td>Duangkaew</td>\n",
       "      <td>Piveteau</td>\n",
       "      <td>Quality Management</td>\n",
       "    </tr>\n",
       "    <tr>\n",
       "      <th>6</th>\n",
       "      <td>10011</td>\n",
       "      <td>Mary</td>\n",
       "      <td>Sluis</td>\n",
       "      <td>Customer Service</td>\n",
       "    </tr>\n",
       "    <tr>\n",
       "      <th>7</th>\n",
       "      <td>10017</td>\n",
       "      <td>Cristinel</td>\n",
       "      <td>Bouloucos</td>\n",
       "      <td>Marketing</td>\n",
       "    </tr>\n",
       "    <tr>\n",
       "      <th>8</th>\n",
       "      <td>10018</td>\n",
       "      <td>Kazuhide</td>\n",
       "      <td>Peha</td>\n",
       "      <td>Production</td>\n",
       "    </tr>\n",
       "    <tr>\n",
       "      <th>9</th>\n",
       "      <td>10018</td>\n",
       "      <td>Kazuhide</td>\n",
       "      <td>Peha</td>\n",
       "      <td>Development</td>\n",
       "    </tr>\n",
       "  </tbody>\n",
       "</table>\n",
       "</div>"
      ],
      "text/plain": [
       "   emp_no first_name  last_name           dept_name\n",
       "0   10002    Bezalel     Simmel               Sales\n",
       "1   10006     Anneke    Preusig         Development\n",
       "2   10007    Tzvetan  Zielinski            Research\n",
       "3   10009     Sumant       Peac  Quality Management\n",
       "4   10010  Duangkaew   Piveteau          Production\n",
       "5   10010  Duangkaew   Piveteau  Quality Management\n",
       "6   10011       Mary      Sluis    Customer Service\n",
       "7   10017  Cristinel  Bouloucos           Marketing\n",
       "8   10018   Kazuhide       Peha          Production\n",
       "9   10018   Kazuhide       Peha         Development"
      ]
     },
     "execution_count": 15,
     "metadata": {},
     "output_type": "execute_result"
    }
   ],
   "source": [
    "#connect to sql and pull query into df\n",
    "pd.read_sql(query, url)"
   ]
  },
  {
   "cell_type": "markdown",
   "id": "ceea894f",
   "metadata": {},
   "source": [
    "# Don't push your passwords!"
   ]
  },
  {
   "cell_type": "markdown",
   "id": "fdfdef64",
   "metadata": {},
   "source": [
    "Note: \n",
    "- host = 'data.codeup.com'\n",
    "- your personal username and password are saved in the google classroom under cloud credentials"
   ]
  },
  {
   "cell_type": "code",
   "execution_count": null,
   "id": "e507d053",
   "metadata": {},
   "outputs": [],
   "source": []
  }
 ],
 "metadata": {
  "kernelspec": {
   "display_name": "Python 3 (ipykernel)",
   "language": "python",
   "name": "python3"
  },
  "language_info": {
   "codemirror_mode": {
    "name": "ipython",
    "version": 3
   },
   "file_extension": ".py",
   "mimetype": "text/x-python",
   "name": "python",
   "nbconvert_exporter": "python",
   "pygments_lexer": "ipython3",
   "version": "3.11.2"
  }
 },
 "nbformat": 4,
 "nbformat_minor": 5
}
