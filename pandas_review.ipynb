{
 "cells": [
  {
   "cell_type": "code",
   "execution_count": 34,
   "id": "3266ec83",
   "metadata": {},
   "outputs": [],
   "source": [
    "import pandas as pd\n",
    "\n",
    "df = pd.read_csv('https://gist.githubusercontent.com/armgilles/194bcff35001e7eb53a2a8b441e8b2c6/raw/92200bc0a673d5ce2110aaad4544ed6c4010f687/pokemon.csv')"
   ]
  },
  {
   "cell_type": "markdown",
   "id": "7d7cdbfa",
   "metadata": {},
   "source": [
    "## Discussion \n",
    "\n",
    "\n",
    "1. What is a dataframe?\n",
    "\n",
    "\n",
    "2. What information can we obtain about a dataframe?\n",
    "\n",
    "\n",
    "3. How have we interacted with a dataframe?\n",
    "\n"
   ]
  },
  {
   "cell_type": "code",
   "execution_count": 35,
   "id": "f5df70ae-d53a-4f4e-8578-6d75830e80c0",
   "metadata": {},
   "outputs": [],
   "source": [
    "# 1. What is a df?\n",
    "\n",
    "# Tabular data object format specific to the pandas library in python\n",
    "\n",
    "# What info can we obtain about a dataframe?\n",
    "# its tabular data,\n",
    "# which means it has properties like shape (rows, cols), data types, field names, cell values\n",
    "\n",
    "# 3. How have we interacted with a dataframe?\n",
    "# we have looked at dataframes largely sourced either through our ETL methodology of using mysql to call a \n",
    "# table of information from a schema, but have noted that we can also grab data from other sources\n",
    "# once in a dataframe, we use this object and strategy in order to hold tabular data in memory \n",
    "# and manipulate it and filter it at our leisure for the sake of visualization, exploratory analysis,\n",
    "# stats testing, and machine learning"
   ]
  },
  {
   "cell_type": "markdown",
   "id": "54649b39",
   "metadata": {},
   "source": [
    "---\n",
    "\n",
    "### Practice Exercises\n",
    "\n",
    "\n",
    "#### Information about a dataframe\n",
    "\n",
    "1. Obtain the following information:\n",
    "    \n",
    "    - dimensions\n",
    "    - dtypes\n",
    "    - column names\n",
    "    - summary statistics"
   ]
  },
  {
   "cell_type": "code",
   "execution_count": 36,
   "id": "2ab5d937-2a42-4ec1-a49c-0fd82a8115f5",
   "metadata": {},
   "outputs": [
    {
     "data": {
      "text/plain": [
       "(800, 13)"
      ]
     },
     "execution_count": 36,
     "metadata": {},
     "output_type": "execute_result"
    }
   ],
   "source": [
    "# our dataframe: the variable df, which points to the dataframe object\n",
    "# dimensions: code for shape df.shape()? df.shape?\n",
    "df.shape"
   ]
  },
  {
   "cell_type": "code",
   "execution_count": 38,
   "id": "c1d58f25-3ea2-4af3-b217-9171d8a51d4d",
   "metadata": {},
   "outputs": [
    {
     "data": {
      "text/plain": [
       "#              int64\n",
       "Name          object\n",
       "Type 1        object\n",
       "Type 2        object\n",
       "Total          int64\n",
       "HP             int64\n",
       "Attack         int64\n",
       "Defense        int64\n",
       "Sp. Atk        int64\n",
       "Sp. Def        int64\n",
       "Speed          int64\n",
       "Generation     int64\n",
       "Legendary       bool\n",
       "dtype: object"
      ]
     },
     "execution_count": 38,
     "metadata": {},
     "output_type": "execute_result"
    }
   ],
   "source": [
    "# dtypes: datatypes: df.dtypes\n",
    "df.dtypes"
   ]
  },
  {
   "cell_type": "code",
   "execution_count": 39,
   "id": "9e7cadcd-3fff-48b8-b1fb-f6671afa68cc",
   "metadata": {},
   "outputs": [
    {
     "data": {
      "text/plain": [
       "Index(['#', 'Name', 'Type 1', 'Type 2', 'Total', 'HP', 'Attack', 'Defense',\n",
       "       'Sp. Atk', 'Sp. Def', 'Speed', 'Generation', 'Legendary'],\n",
       "      dtype='object')"
      ]
     },
     "execution_count": 39,
     "metadata": {},
     "output_type": "execute_result"
    }
   ],
   "source": [
    "# column names:\n",
    "# \n",
    "df.columns"
   ]
  },
  {
   "cell_type": "code",
   "execution_count": 40,
   "id": "15daa42d-f75e-42ab-8d01-d70ebf8d067c",
   "metadata": {},
   "outputs": [
    {
     "data": {
      "text/html": [
       "<div>\n",
       "<style scoped>\n",
       "    .dataframe tbody tr th:only-of-type {\n",
       "        vertical-align: middle;\n",
       "    }\n",
       "\n",
       "    .dataframe tbody tr th {\n",
       "        vertical-align: top;\n",
       "    }\n",
       "\n",
       "    .dataframe thead th {\n",
       "        text-align: right;\n",
       "    }\n",
       "</style>\n",
       "<table border=\"1\" class=\"dataframe\">\n",
       "  <thead>\n",
       "    <tr style=\"text-align: right;\">\n",
       "      <th></th>\n",
       "      <th>#</th>\n",
       "      <th>Total</th>\n",
       "      <th>HP</th>\n",
       "      <th>Attack</th>\n",
       "      <th>Defense</th>\n",
       "      <th>Sp. Atk</th>\n",
       "      <th>Sp. Def</th>\n",
       "      <th>Speed</th>\n",
       "      <th>Generation</th>\n",
       "    </tr>\n",
       "  </thead>\n",
       "  <tbody>\n",
       "    <tr>\n",
       "      <th>count</th>\n",
       "      <td>800.000000</td>\n",
       "      <td>800.00000</td>\n",
       "      <td>800.000000</td>\n",
       "      <td>800.000000</td>\n",
       "      <td>800.000000</td>\n",
       "      <td>800.000000</td>\n",
       "      <td>800.000000</td>\n",
       "      <td>800.000000</td>\n",
       "      <td>800.00000</td>\n",
       "    </tr>\n",
       "    <tr>\n",
       "      <th>mean</th>\n",
       "      <td>362.813750</td>\n",
       "      <td>435.10250</td>\n",
       "      <td>69.258750</td>\n",
       "      <td>79.001250</td>\n",
       "      <td>73.842500</td>\n",
       "      <td>72.820000</td>\n",
       "      <td>71.902500</td>\n",
       "      <td>68.277500</td>\n",
       "      <td>3.32375</td>\n",
       "    </tr>\n",
       "    <tr>\n",
       "      <th>std</th>\n",
       "      <td>208.343798</td>\n",
       "      <td>119.96304</td>\n",
       "      <td>25.534669</td>\n",
       "      <td>32.457366</td>\n",
       "      <td>31.183501</td>\n",
       "      <td>32.722294</td>\n",
       "      <td>27.828916</td>\n",
       "      <td>29.060474</td>\n",
       "      <td>1.66129</td>\n",
       "    </tr>\n",
       "    <tr>\n",
       "      <th>min</th>\n",
       "      <td>1.000000</td>\n",
       "      <td>180.00000</td>\n",
       "      <td>1.000000</td>\n",
       "      <td>5.000000</td>\n",
       "      <td>5.000000</td>\n",
       "      <td>10.000000</td>\n",
       "      <td>20.000000</td>\n",
       "      <td>5.000000</td>\n",
       "      <td>1.00000</td>\n",
       "    </tr>\n",
       "    <tr>\n",
       "      <th>25%</th>\n",
       "      <td>184.750000</td>\n",
       "      <td>330.00000</td>\n",
       "      <td>50.000000</td>\n",
       "      <td>55.000000</td>\n",
       "      <td>50.000000</td>\n",
       "      <td>49.750000</td>\n",
       "      <td>50.000000</td>\n",
       "      <td>45.000000</td>\n",
       "      <td>2.00000</td>\n",
       "    </tr>\n",
       "    <tr>\n",
       "      <th>50%</th>\n",
       "      <td>364.500000</td>\n",
       "      <td>450.00000</td>\n",
       "      <td>65.000000</td>\n",
       "      <td>75.000000</td>\n",
       "      <td>70.000000</td>\n",
       "      <td>65.000000</td>\n",
       "      <td>70.000000</td>\n",
       "      <td>65.000000</td>\n",
       "      <td>3.00000</td>\n",
       "    </tr>\n",
       "    <tr>\n",
       "      <th>75%</th>\n",
       "      <td>539.250000</td>\n",
       "      <td>515.00000</td>\n",
       "      <td>80.000000</td>\n",
       "      <td>100.000000</td>\n",
       "      <td>90.000000</td>\n",
       "      <td>95.000000</td>\n",
       "      <td>90.000000</td>\n",
       "      <td>90.000000</td>\n",
       "      <td>5.00000</td>\n",
       "    </tr>\n",
       "    <tr>\n",
       "      <th>max</th>\n",
       "      <td>721.000000</td>\n",
       "      <td>780.00000</td>\n",
       "      <td>255.000000</td>\n",
       "      <td>190.000000</td>\n",
       "      <td>230.000000</td>\n",
       "      <td>194.000000</td>\n",
       "      <td>230.000000</td>\n",
       "      <td>180.000000</td>\n",
       "      <td>6.00000</td>\n",
       "    </tr>\n",
       "  </tbody>\n",
       "</table>\n",
       "</div>"
      ],
      "text/plain": [
       "                #      Total          HP      Attack     Defense     Sp. Atk  \\\n",
       "count  800.000000  800.00000  800.000000  800.000000  800.000000  800.000000   \n",
       "mean   362.813750  435.10250   69.258750   79.001250   73.842500   72.820000   \n",
       "std    208.343798  119.96304   25.534669   32.457366   31.183501   32.722294   \n",
       "min      1.000000  180.00000    1.000000    5.000000    5.000000   10.000000   \n",
       "25%    184.750000  330.00000   50.000000   55.000000   50.000000   49.750000   \n",
       "50%    364.500000  450.00000   65.000000   75.000000   70.000000   65.000000   \n",
       "75%    539.250000  515.00000   80.000000  100.000000   90.000000   95.000000   \n",
       "max    721.000000  780.00000  255.000000  190.000000  230.000000  194.000000   \n",
       "\n",
       "          Sp. Def       Speed  Generation  \n",
       "count  800.000000  800.000000   800.00000  \n",
       "mean    71.902500   68.277500     3.32375  \n",
       "std     27.828916   29.060474     1.66129  \n",
       "min     20.000000    5.000000     1.00000  \n",
       "25%     50.000000   45.000000     2.00000  \n",
       "50%     70.000000   65.000000     3.00000  \n",
       "75%     90.000000   90.000000     5.00000  \n",
       "max    230.000000  180.000000     6.00000  "
      ]
     },
     "execution_count": 40,
     "metadata": {},
     "output_type": "execute_result"
    }
   ],
   "source": [
    "df.describe()"
   ]
  },
  {
   "cell_type": "code",
   "execution_count": 45,
   "id": "77b3b19a-0354-4d53-8ed9-8de2af2380b9",
   "metadata": {},
   "outputs": [
    {
     "data": {
      "text/html": [
       "<div>\n",
       "<style scoped>\n",
       "    .dataframe tbody tr th:only-of-type {\n",
       "        vertical-align: middle;\n",
       "    }\n",
       "\n",
       "    .dataframe tbody tr th {\n",
       "        vertical-align: top;\n",
       "    }\n",
       "\n",
       "    .dataframe thead th {\n",
       "        text-align: right;\n",
       "    }\n",
       "</style>\n",
       "<table border=\"1\" class=\"dataframe\">\n",
       "  <thead>\n",
       "    <tr style=\"text-align: right;\">\n",
       "      <th></th>\n",
       "      <th>Name</th>\n",
       "      <th>Type 1</th>\n",
       "      <th>Type 2</th>\n",
       "    </tr>\n",
       "  </thead>\n",
       "  <tbody>\n",
       "    <tr>\n",
       "      <th>count</th>\n",
       "      <td>800</td>\n",
       "      <td>800</td>\n",
       "      <td>414</td>\n",
       "    </tr>\n",
       "    <tr>\n",
       "      <th>unique</th>\n",
       "      <td>800</td>\n",
       "      <td>18</td>\n",
       "      <td>18</td>\n",
       "    </tr>\n",
       "    <tr>\n",
       "      <th>top</th>\n",
       "      <td>Bulbasaur</td>\n",
       "      <td>Water</td>\n",
       "      <td>Flying</td>\n",
       "    </tr>\n",
       "    <tr>\n",
       "      <th>freq</th>\n",
       "      <td>1</td>\n",
       "      <td>112</td>\n",
       "      <td>97</td>\n",
       "    </tr>\n",
       "  </tbody>\n",
       "</table>\n",
       "</div>"
      ],
      "text/plain": [
       "             Name Type 1  Type 2\n",
       "count         800    800     414\n",
       "unique        800     18      18\n",
       "top     Bulbasaur  Water  Flying\n",
       "freq            1    112      97"
      ]
     },
     "execution_count": 45,
     "metadata": {},
     "output_type": "execute_result"
    }
   ],
   "source": [
    "# for the columns that are only objects (string types primarily)\n",
    "df.loc[:,df.dtypes == 'O'].describe()"
   ]
  },
  {
   "cell_type": "code",
   "execution_count": 41,
   "id": "7f84fd94-4534-4323-be62-fe39700a3091",
   "metadata": {},
   "outputs": [
    {
     "name": "stdout",
     "output_type": "stream",
     "text": [
      "<class 'pandas.core.frame.DataFrame'>\n",
      "RangeIndex: 800 entries, 0 to 799\n",
      "Data columns (total 13 columns):\n",
      " #   Column      Non-Null Count  Dtype \n",
      "---  ------      --------------  ----- \n",
      " 0   #           800 non-null    int64 \n",
      " 1   Name        800 non-null    object\n",
      " 2   Type 1      800 non-null    object\n",
      " 3   Type 2      414 non-null    object\n",
      " 4   Total       800 non-null    int64 \n",
      " 5   HP          800 non-null    int64 \n",
      " 6   Attack      800 non-null    int64 \n",
      " 7   Defense     800 non-null    int64 \n",
      " 8   Sp. Atk     800 non-null    int64 \n",
      " 9   Sp. Def     800 non-null    int64 \n",
      " 10  Speed       800 non-null    int64 \n",
      " 11  Generation  800 non-null    int64 \n",
      " 12  Legendary   800 non-null    bool  \n",
      "dtypes: bool(1), int64(9), object(3)\n",
      "memory usage: 75.9+ KB\n"
     ]
    }
   ],
   "source": [
    "df.info()"
   ]
  },
  {
   "cell_type": "code",
   "execution_count": 47,
   "id": "c5275276-b72a-4276-a29e-66df218b83f5",
   "metadata": {},
   "outputs": [
    {
     "data": {
      "text/plain": [
       "#             False\n",
       "Name          False\n",
       "Type 1        False\n",
       "Type 2         True\n",
       "Total         False\n",
       "HP            False\n",
       "Attack        False\n",
       "Defense       False\n",
       "Sp. Atk       False\n",
       "Sp. Def       False\n",
       "Speed         False\n",
       "Generation    False\n",
       "Legendary     False\n",
       "dtype: bool"
      ]
     },
     "execution_count": 48,
     "metadata": {},
     "output_type": "execute_result"
    }
   ],
   "source": [
    "df.isna().sum() > 0"
   ]
  },
  {
   "cell_type": "markdown",
   "id": "99945349",
   "metadata": {
    "tags": []
   },
   "source": [
    "---\n",
    "\n",
    "#### Working with dataframes\n",
    "\n",
    "1. What is the highest HP value present?\n",
    "\n",
    "    - Create a function named highest_attack.\n",
    "    - Use the loaded dataframe as an argument. "
   ]
  },
  {
   "cell_type": "code",
   "execution_count": 49,
   "id": "1c7a62de-d4d1-4698-851d-3748de6f62e5",
   "metadata": {},
   "outputs": [],
   "source": [
    "# I want to look at this dataframe in a specific way:\n",
    "# the HP is a field/column in df,\n",
    "# i want to get the highest one\n",
    "# once I do that, I want to put it in a function that returns that value"
   ]
  },
  {
   "cell_type": "code",
   "execution_count": 50,
   "id": "b444338a-4c9a-4560-9bb0-8ebbaa37b9fc",
   "metadata": {},
   "outputs": [
    {
     "data": {
      "text/plain": [
       "255"
      ]
     },
     "execution_count": 50,
     "metadata": {},
     "output_type": "execute_result"
    }
   ],
   "source": [
    "# to get the max hp, we can use the max method on the Series that HP lives in\n",
    "df.HP.max()"
   ]
  },
  {
   "cell_type": "code",
   "execution_count": 51,
   "id": "50c47bb3-8ed4-462a-802a-65e8d0d1eea1",
   "metadata": {},
   "outputs": [],
   "source": [
    "def highest_attack(df, field='HP'):\n",
    "    return df[field].max()\n",
    "    "
   ]
  },
  {
   "cell_type": "code",
   "execution_count": 54,
   "id": "3b80961f-a87a-4b16-94f8-c6d295cf7bca",
   "metadata": {},
   "outputs": [
    {
     "data": {
      "text/plain": [
       "190"
      ]
     },
     "execution_count": 54,
     "metadata": {},
     "output_type": "execute_result"
    }
   ],
   "source": [
    "highest_attack(df, 'Attack')"
   ]
  },
  {
   "cell_type": "markdown",
   "id": "7c5494bd",
   "metadata": {},
   "source": [
    "2. Which Pokemon possess(es) the highest HP value?"
   ]
  },
  {
   "cell_type": "code",
   "execution_count": 57,
   "id": "330d9503-74d9-423d-ac6b-e78e362455ba",
   "metadata": {},
   "outputs": [
    {
     "data": {
      "text/plain": [
       "261    Blissey\n",
       "Name: Name, dtype: object"
      ]
     },
     "execution_count": 57,
     "metadata": {},
     "output_type": "execute_result"
    }
   ],
   "source": [
    "\n",
    "df.sort_values(by='HP', ascending=False)['Name'].head(1)"
   ]
  },
  {
   "cell_type": "code",
   "execution_count": 61,
   "id": "21485634-c065-4e54-8a7c-4c8257f49b68",
   "metadata": {},
   "outputs": [
    {
     "data": {
      "text/plain": [
       "261    Blissey\n",
       "Name: Name, dtype: object"
      ]
     },
     "execution_count": 61,
     "metadata": {},
     "output_type": "execute_result"
    }
   ],
   "source": [
    "df[df.HP == highest_attack(df,'HP')]['Name']"
   ]
  },
  {
   "cell_type": "code",
   "execution_count": 65,
   "id": "d7b79286-15fb-4809-a1ce-369d28011395",
   "metadata": {},
   "outputs": [
    {
     "data": {
      "text/plain": [
       "'Blissey'"
      ]
     },
     "execution_count": 65,
     "metadata": {},
     "output_type": "execute_result"
    }
   ],
   "source": [
    "pd.Series(df.HP.values, index=df['Name']).idxmax()"
   ]
  },
  {
   "cell_type": "markdown",
   "id": "7d2a5d5e",
   "metadata": {},
   "source": [
    " \n",
    "3. How many different types are represented in Type 1?\n",
    "\n",
    "    - Create a function named num_types\n",
    "    - Use the loaded dataframe as an argument\n",
    "    "
   ]
  },
  {
   "cell_type": "code",
   "execution_count": 66,
   "id": "8e5e653d-51e1-4086-9af8-5b0cf6ad2e48",
   "metadata": {},
   "outputs": [
    {
     "data": {
      "text/plain": [
       "dtype('O')"
      ]
     },
     "execution_count": 66,
     "metadata": {},
     "output_type": "execute_result"
    }
   ],
   "source": [
    "df['Type 1'].dtype"
   ]
  },
  {
   "cell_type": "code",
   "execution_count": 67,
   "id": "30707377-c4e0-4959-8b8a-58f6e411e466",
   "metadata": {},
   "outputs": [
    {
     "data": {
      "text/plain": [
       "18"
      ]
     },
     "execution_count": 67,
     "metadata": {},
     "output_type": "execute_result"
    }
   ],
   "source": [
    "df['Type 1'].nunique()"
   ]
  },
  {
   "cell_type": "code",
   "execution_count": 69,
   "id": "6043a45a-15bf-4729-b1a6-64a3167aeaf8",
   "metadata": {},
   "outputs": [
    {
     "data": {
      "text/plain": [
       "18"
      ]
     },
     "execution_count": 69,
     "metadata": {},
     "output_type": "execute_result"
    }
   ],
   "source": [
    "len(df['Type 1'].value_counts())"
   ]
  },
  {
   "cell_type": "code",
   "execution_count": 71,
   "id": "0abdd2c1-7261-413f-8ecd-afd3cf3a105c",
   "metadata": {},
   "outputs": [
    {
     "data": {
      "text/plain": [
       "18"
      ]
     },
     "execution_count": 71,
     "metadata": {},
     "output_type": "execute_result"
    }
   ],
   "source": [
    "len(df.groupby('Type 1').count().Name)"
   ]
  },
  {
   "cell_type": "code",
   "execution_count": 72,
   "id": "c279a21a-a20b-4fac-a886-0937b63fdbe7",
   "metadata": {},
   "outputs": [
    {
     "data": {
      "text/plain": [
       "18"
      ]
     },
     "execution_count": 72,
     "metadata": {},
     "output_type": "execute_result"
    }
   ],
   "source": [
    "len(df['Type 1'].unique())"
   ]
  },
  {
   "cell_type": "code",
   "execution_count": 73,
   "id": "87d154db-d5f9-42f8-ac1e-a846ba6ef55e",
   "metadata": {},
   "outputs": [],
   "source": [
    "def num_types(df, field_name='Type 1'):\n",
    "    '''\n",
    "    takes in a positional argument df, a pandas dataframe\n",
    "    and an optional keyword argument or kwarg called field_name\n",
    "    \n",
    "    returns num_uniqs, the number of unique elements in said field\n",
    "    '''\n",
    "    num_uniqs = df[field_name].nunique()\n",
    "    return num_uniqs"
   ]
  },
  {
   "cell_type": "code",
   "execution_count": 74,
   "id": "93565ade-267c-47fd-a133-84b3b1415902",
   "metadata": {},
   "outputs": [
    {
     "data": {
      "text/plain": [
       "18"
      ]
     },
     "execution_count": 74,
     "metadata": {},
     "output_type": "execute_result"
    }
   ],
   "source": [
    "num_types(df)"
   ]
  },
  {
   "cell_type": "markdown",
   "id": "4923d848",
   "metadata": {},
   "source": [
    "4. Number of Pokemon whose Type 2 is Ghost"
   ]
  },
  {
   "cell_type": "code",
   "execution_count": null,
   "id": "7489afdc-cbc7-4f68-8cfe-dfcea61fd35f",
   "metadata": {},
   "outputs": [],
   "source": [
    "# type 2 has less entries than other fields\n",
    "# we want to filter down to rows in the df\n",
    "# specifically where the value of Type 2 is 'Ghost'\n",
    "# aka df['Type 2'] == 'Ghost'"
   ]
  },
  {
   "cell_type": "code",
   "execution_count": 76,
   "id": "469c4df7-4762-4968-9494-21c7a5ab5d98",
   "metadata": {},
   "outputs": [
    {
     "data": {
      "text/plain": [
       "0"
      ]
     },
     "execution_count": 76,
     "metadata": {},
     "output_type": "execute_result"
    }
   ],
   "source": [
    "# sanity check:\n",
    "(df['Type 2'] == 'Ghosts').sum()"
   ]
  },
  {
   "cell_type": "code",
   "execution_count": 77,
   "id": "ca4706ee-d72c-45e8-a850-d0e828e959d2",
   "metadata": {},
   "outputs": [
    {
     "data": {
      "text/plain": [
       "array(['Poison', nan, 'Flying', 'Dragon', 'Ground', 'Fairy', 'Grass',\n",
       "       'Fighting', 'Psychic', 'Steel', 'Ice', 'Rock', 'Dark', 'Water',\n",
       "       'Electric', 'Fire', 'Ghost', 'Bug', 'Normal'], dtype=object)"
      ]
     },
     "execution_count": 77,
     "metadata": {},
     "output_type": "execute_result"
    }
   ],
   "source": [
    "df['Type 2'].unique()"
   ]
  },
  {
   "cell_type": "code",
   "execution_count": 78,
   "id": "6cee3ac9-dc9b-4888-a051-03e1d96d74c6",
   "metadata": {},
   "outputs": [
    {
     "data": {
      "text/plain": [
       "14"
      ]
     },
     "execution_count": 78,
     "metadata": {},
     "output_type": "execute_result"
    }
   ],
   "source": [
    "# way 1: sum of a boolean series\n",
    "(df['Type 2'] == 'Ghost').sum()"
   ]
  },
  {
   "cell_type": "code",
   "execution_count": 80,
   "id": "0163094e-65d6-4019-b06d-e14a4d2b18f4",
   "metadata": {},
   "outputs": [
    {
     "data": {
      "text/plain": [
       "14"
      ]
     },
     "execution_count": 80,
     "metadata": {},
     "output_type": "execute_result"
    }
   ],
   "source": [
    "# way 2: filter the df and take the length\n",
    "len(df[df['Type 2'] == 'Ghost'])"
   ]
  },
  {
   "cell_type": "markdown",
   "id": "9675d318",
   "metadata": {},
   "source": [
    "5. Percentage of Pokemon whose Type 2 is Ghost\n",
    "\n",
    "    - Create a function named percent_ghost\n",
    "     - Use the loaded dataframe as an argument"
   ]
  },
  {
   "cell_type": "code",
   "execution_count": 82,
   "id": "272c975c-25f9-42be-bfa1-3af53d6d41f1",
   "metadata": {},
   "outputs": [
    {
     "data": {
      "text/plain": [
       "800"
      ]
     },
     "execution_count": 82,
     "metadata": {},
     "output_type": "execute_result"
    }
   ],
   "source": [
    "# percentage is just a ratio:\n",
    "# hits of pokemanz that are type ghost over total pikimanz population * 100\n",
    "# length/num rows in the entire df:\n",
    "df.shape[0]"
   ]
  },
  {
   "cell_type": "code",
   "execution_count": 83,
   "id": "5c393445-0e95-4940-8247-22b89170e3a7",
   "metadata": {},
   "outputs": [
    {
     "data": {
      "text/plain": [
       "800"
      ]
     },
     "execution_count": 83,
     "metadata": {},
     "output_type": "execute_result"
    }
   ],
   "source": [
    "len(df)"
   ]
  },
  {
   "cell_type": "code",
   "execution_count": 85,
   "id": "f366454f-7565-4257-94c9-1cc9d77eeda7",
   "metadata": {},
   "outputs": [
    {
     "data": {
      "text/plain": [
       "1.75"
      ]
     },
     "execution_count": 85,
     "metadata": {},
     "output_type": "execute_result"
    }
   ],
   "source": [
    "round(\n",
    "    (\n",
    "        (df['Type 2'] == 'Ghost').sum() / df.shape[0]\n",
    "    )  * 100, 2\n",
    ")"
   ]
  },
  {
   "cell_type": "code",
   "execution_count": 86,
   "id": "c4601c39-a310-4056-b146-98c7ff957acc",
   "metadata": {},
   "outputs": [],
   "source": [
    "def percent_ghost(df):\n",
    "    return round(\n",
    "    (\n",
    "        (df['Type 2'] == 'Ghost').sum() / df.shape[0]\n",
    "    )  * 100, 2\n",
    ")"
   ]
  },
  {
   "cell_type": "code",
   "execution_count": 87,
   "id": "fbde2911-1fbe-4176-8bc1-d0cc7ace4140",
   "metadata": {},
   "outputs": [
    {
     "data": {
      "text/plain": [
       "1.75"
      ]
     },
     "execution_count": 87,
     "metadata": {},
     "output_type": "execute_result"
    }
   ],
   "source": [
    "percent_ghost(df)"
   ]
  },
  {
   "cell_type": "markdown",
   "id": "f2aa415a",
   "metadata": {},
   "source": [
    "6. Number of Pokemon whose Attack is greater than Defense"
   ]
  },
  {
   "cell_type": "code",
   "execution_count": 89,
   "id": "f9a369c1-1d51-4f42-a718-c00b5b4ba3a6",
   "metadata": {},
   "outputs": [
    {
     "data": {
      "text/plain": [
       "433"
      ]
     },
     "execution_count": 89,
     "metadata": {},
     "output_type": "execute_result"
    }
   ],
   "source": [
    "# single comparison operator between two series\n",
    "# value in field 1 greater than value in field 2:\n",
    "(df.Attack > df.Defense).sum()"
   ]
  },
  {
   "cell_type": "markdown",
   "id": "b9d49706",
   "metadata": {},
   "source": [
    "8. Lowest speed for Grass or Rock"
   ]
  },
  {
   "cell_type": "code",
   "execution_count": 95,
   "id": "e0c3643f-6979-44f0-8338-18cc7c954e1f",
   "metadata": {},
   "outputs": [
    {
     "data": {
      "text/plain": [
       "Name     Abomasnow\n",
       "Speed           10\n",
       "dtype: object"
      ]
     },
     "execution_count": 95,
     "metadata": {},
     "output_type": "execute_result"
    }
   ],
   "source": [
    "# objective: lowest speed\n",
    "# filter: grass or rock type\n",
    "# df, where my type is in grass or rock\n",
    "# get the min speed under those conditions\n",
    "#  filter ==> min()\n",
    "# mask or filter:\n",
    "grass_rock_mask = (df['Type 1'] == 'Grass') |(df['Type 1'] == 'Rock')\n",
    "df[grass_rock_mask][['Name','Speed']].min()"
   ]
  },
  {
   "cell_type": "markdown",
   "id": "dd8babb2-065a-4ea1-8ed7-d4bce2e88757",
   "metadata": {},
   "source": [
    "10. Change all the column names\n",
    "\n",
    "      - lowercase letters\n",
    "      - remove whitespace"
   ]
  },
  {
   "cell_type": "code",
   "execution_count": 96,
   "id": "8d40b798-1878-4d7a-928e-13119ca397eb",
   "metadata": {},
   "outputs": [
    {
     "data": {
      "text/plain": [
       "'this_specific_thing'"
      ]
     },
     "execution_count": 96,
     "metadata": {},
     "output_type": "execute_result"
    }
   ],
   "source": [
    "# remove whitespace:\n",
    "# leading and tailing whitespace on a string:\n",
    "# we know we can remove that with .strip()\n",
    "# otherwise, we may want to replace whitespace with an underscore .replace(' ', '_')\n",
    "# and we want to lowercase the string: .lower()\n",
    "'this Specific thing  '.strip().replace(' ', '_').lower()"
   ]
  },
  {
   "cell_type": "code",
   "execution_count": 98,
   "id": "07f276d9-73e2-4b29-a48c-9f0e294fee43",
   "metadata": {},
   "outputs": [],
   "source": [
    "# throw that in a list comprehension:\n",
    "df.columns = [thing.strip().replace(' ', '_').lower() for thing in df.columns]"
   ]
  },
  {
   "cell_type": "markdown",
   "id": "b66ea4d3-19c5-4804-8c4c-c184f40c7572",
   "metadata": {},
   "source": [
    "11. Rename Sp. Attack to special-attack"
   ]
  },
  {
   "cell_type": "code",
   "execution_count": 101,
   "id": "95b7b5e2-01ae-4511-a522-3c6321a7f4c4",
   "metadata": {},
   "outputs": [],
   "source": [
    "df = df.rename(columns={'sp._atk': 'special-attack', 'sp._def': 'special-defense'})"
   ]
  },
  {
   "cell_type": "markdown",
   "id": "6a10f09a-ab25-4aea-af89-0990c984158d",
   "metadata": {},
   "source": [
    "12. Rename Sp. Def to special-defense"
   ]
  },
  {
   "cell_type": "code",
   "execution_count": 102,
   "id": "5fc98b4d-4345-43e9-ac7c-7fa9f6c86149",
   "metadata": {},
   "outputs": [],
   "source": [
    "# see above"
   ]
  },
  {
   "cell_type": "markdown",
   "id": "e4c1f5f1-914b-4fdb-b4d9-4676b20689aa",
   "metadata": {},
   "source": [
    "    \n",
    "13. Which Pokemon has/have the greatest difference in: \n",
    "\n",
    "    - Attack and Defense points\n",
    "    - Special Attack and Special Defense\n",
    "  "
   ]
  },
  {
   "cell_type": "code",
   "execution_count": 106,
   "id": "24a471da-99fd-43e2-ac8c-45f382da3937",
   "metadata": {},
   "outputs": [],
   "source": [
    "# a condition: (df.attack - df.defense).abs().max()"
   ]
  },
  {
   "cell_type": "code",
   "execution_count": 107,
   "id": "1083726b-4f44-49f3-8ec6-a6dd144c2df4",
   "metadata": {},
   "outputs": [],
   "source": [
    "df['ad_diff'] = (df.attack - df.defense).abs()"
   ]
  },
  {
   "cell_type": "code",
   "execution_count": 108,
   "id": "22e53dfb-24f1-44f0-b866-ea9e2313ecc0",
   "metadata": {},
   "outputs": [
    {
     "data": {
      "text/html": [
       "<div>\n",
       "<style scoped>\n",
       "    .dataframe tbody tr th:only-of-type {\n",
       "        vertical-align: middle;\n",
       "    }\n",
       "\n",
       "    .dataframe tbody tr th {\n",
       "        vertical-align: top;\n",
       "    }\n",
       "\n",
       "    .dataframe thead th {\n",
       "        text-align: right;\n",
       "    }\n",
       "</style>\n",
       "<table border=\"1\" class=\"dataframe\">\n",
       "  <thead>\n",
       "    <tr style=\"text-align: right;\">\n",
       "      <th></th>\n",
       "      <th>name</th>\n",
       "    </tr>\n",
       "  </thead>\n",
       "  <tbody>\n",
       "    <tr>\n",
       "      <th>230</th>\n",
       "      <td>Shuckle</td>\n",
       "    </tr>\n",
       "  </tbody>\n",
       "</table>\n",
       "</div>"
      ],
      "text/plain": [
       "        name\n",
       "230  Shuckle"
      ]
     },
     "execution_count": 108,
     "metadata": {},
     "output_type": "execute_result"
    }
   ],
   "source": [
    "df[df['ad_diff'] == df['ad_diff'].max()][['name']]"
   ]
  },
  {
   "cell_type": "markdown",
   "id": "6b219229-6009-49b9-a45e-f45f6eeedb6d",
   "metadata": {},
   "source": [
    "14. How many Pokemon are of Type 1 Rock and Type 2 Fairy?"
   ]
  },
  {
   "cell_type": "code",
   "execution_count": 111,
   "id": "8900ddb8-816d-43f1-ad73-b576db086564",
   "metadata": {},
   "outputs": [
    {
     "data": {
      "text/plain": [
       "3"
      ]
     },
     "execution_count": 111,
     "metadata": {},
     "output_type": "execute_result"
    }
   ],
   "source": [
    "((df.type_1 == 'Rock') & (df.type_2 == 'Fairy')).sum()"
   ]
  },
  {
   "cell_type": "markdown",
   "id": "392d3e18-4528-48e3-94d0-282f7af3822e",
   "metadata": {},
   "source": [
    "15. Which Fire Pokemon appears last alphabetically?\n",
    "\n",
    "    - Create a function named last_pokemon\n",
    "    - Use the loaded dataframe as an argument"
   ]
  },
  {
   "cell_type": "code",
   "execution_count": null,
   "id": "ca41d687-92be-434a-909f-ebd373dbcb9a",
   "metadata": {},
   "outputs": [],
   "source": [
    "# filter df to just fire picklemans\n",
    "# once just fire, make it sort (sort_values) based on name"
   ]
  },
  {
   "cell_type": "code",
   "execution_count": 112,
   "id": "f248a1ae",
   "metadata": {},
   "outputs": [],
   "source": [
    "def last_pokemon(df, type_condition='Fire'):\n",
    "    return df[df.type_1 == type_condition].sort_values(by='name', ascending=False).head(1)"
   ]
  },
  {
   "cell_type": "code",
   "execution_count": 113,
   "id": "ab095051-e5ec-45b2-a49e-447763a05069",
   "metadata": {},
   "outputs": [
    {
     "data": {
      "text/html": [
       "<div>\n",
       "<style scoped>\n",
       "    .dataframe tbody tr th:only-of-type {\n",
       "        vertical-align: middle;\n",
       "    }\n",
       "\n",
       "    .dataframe tbody tr th {\n",
       "        vertical-align: top;\n",
       "    }\n",
       "\n",
       "    .dataframe thead th {\n",
       "        text-align: right;\n",
       "    }\n",
       "</style>\n",
       "<table border=\"1\" class=\"dataframe\">\n",
       "  <thead>\n",
       "    <tr style=\"text-align: right;\">\n",
       "      <th></th>\n",
       "      <th>#</th>\n",
       "      <th>name</th>\n",
       "      <th>type_1</th>\n",
       "      <th>type_2</th>\n",
       "      <th>total</th>\n",
       "      <th>hp</th>\n",
       "      <th>attack</th>\n",
       "      <th>defense</th>\n",
       "      <th>special-attack</th>\n",
       "      <th>special-defense</th>\n",
       "      <th>speed</th>\n",
       "      <th>generation</th>\n",
       "      <th>legendary</th>\n",
       "      <th>ad_diff</th>\n",
       "    </tr>\n",
       "  </thead>\n",
       "  <tbody>\n",
       "    <tr>\n",
       "      <th>42</th>\n",
       "      <td>37</td>\n",
       "      <td>Vulpix</td>\n",
       "      <td>Fire</td>\n",
       "      <td>NaN</td>\n",
       "      <td>299</td>\n",
       "      <td>38</td>\n",
       "      <td>41</td>\n",
       "      <td>40</td>\n",
       "      <td>50</td>\n",
       "      <td>65</td>\n",
       "      <td>65</td>\n",
       "      <td>1</td>\n",
       "      <td>False</td>\n",
       "      <td>1</td>\n",
       "    </tr>\n",
       "  </tbody>\n",
       "</table>\n",
       "</div>"
      ],
      "text/plain": [
       "     #    name type_1 type_2  total  hp  attack  defense  special-attack  \\\n",
       "42  37  Vulpix   Fire    NaN    299  38      41       40              50   \n",
       "\n",
       "    special-defense  speed  generation  legendary  ad_diff  \n",
       "42               65     65           1      False        1  "
      ]
     },
     "execution_count": 113,
     "metadata": {},
     "output_type": "execute_result"
    }
   ],
   "source": [
    "last_pokemon(df)"
   ]
  },
  {
   "cell_type": "code",
   "execution_count": null,
   "id": "492297fe-b511-429d-adbc-990f102df84a",
   "metadata": {},
   "outputs": [],
   "source": []
  }
 ],
 "metadata": {
  "kernelspec": {
   "display_name": "Python 3 (ipykernel)",
   "language": "python",
   "name": "python3"
  },
  "language_info": {
   "codemirror_mode": {
    "name": "ipython",
    "version": 3
   },
   "file_extension": ".py",
   "mimetype": "text/x-python",
   "name": "python",
   "nbconvert_exporter": "python",
   "pygments_lexer": "ipython3",
   "version": "3.11.2"
  }
 },
 "nbformat": 4,
 "nbformat_minor": 5
}
